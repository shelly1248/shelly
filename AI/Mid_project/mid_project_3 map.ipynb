{
 "cells": [
  {
   "cell_type": "code",
   "execution_count": null,
   "metadata": {},
   "outputs": [],
   "source": [
    "import pandas as pd\n",
    "\n",
    "filename = r'C:\\\\sqlite\\\\mysql\\\\code\\\\AI\\\\Mid_project\\\\data\\\\all.xlsx'\n",
    "\n",
    "df = pd.read_excel(filename)\n",
    "df"
   ]
  },
  {
   "cell_type": "code",
   "execution_count": null,
   "metadata": {},
   "outputs": [],
   "source": [
    "df.isnull().sum()"
   ]
  },
  {
   "cell_type": "code",
   "execution_count": null,
   "metadata": {},
   "outputs": [],
   "source": [
    "df['사고일시'] = pd.to_datetime(df['사고일시'], format='%Y년 %m월 %d일 %H시')"
   ]
  },
  {
   "cell_type": "code",
   "execution_count": null,
   "metadata": {},
   "outputs": [],
   "source": [
    "df['연'] = df['사고일시'].dt.year\n",
    "df['월'] = df['사고일시'].dt.month\n",
    "df['일'] = df['사고일시'].dt.day\n",
    "df['시간'] = df['사고일시'].dt.hour"
   ]
  },
  {
   "cell_type": "code",
   "execution_count": null,
   "metadata": {},
   "outputs": [],
   "source": [
    "df.drop(['Unnamed: 0'], axis=1, inplace=True)"
   ]
  },
  {
   "cell_type": "code",
   "execution_count": null,
   "metadata": {},
   "outputs": [],
   "source": [
    "# df.drop(['Unnamed: 0','사고내용','사망자수', '중상자수', '경상자수','부상신고자수'], axis=1, inplace=True)"
   ]
  },
  {
   "cell_type": "code",
   "execution_count": null,
   "metadata": {},
   "outputs": [],
   "source": [
    "df['월'] = df['월'].shift()"
   ]
  },
  {
   "cell_type": "code",
   "execution_count": null,
   "metadata": {},
   "outputs": [],
   "source": [
    "df[['시', '구', '동']] = df['시군구'].str.split(' ', expand=True).iloc[:, :3]"
   ]
  },
  {
   "cell_type": "code",
   "execution_count": null,
   "metadata": {},
   "outputs": [],
   "source": [
    "# df['구'] = df['동'].str.split(' ').str[0]\n",
    "# df['동'] = df['동'].str.split(' ').str[1]"
   ]
  },
  {
   "cell_type": "code",
   "execution_count": null,
   "metadata": {},
   "outputs": [],
   "source": [
    "df['피해운전자 연령'].astype(int)"
   ]
  },
  {
   "cell_type": "code",
   "execution_count": null,
   "metadata": {},
   "outputs": [],
   "source": [
    "# df.to_excel('C:\\\\sqlite\\\\mysql\\\\code\\\\AI\\\\num.xlsx', index=False)"
   ]
  },
  {
   "cell_type": "code",
   "execution_count": null,
   "metadata": {},
   "outputs": [],
   "source": [
    "data = df[~df['피해운전자 상해정도'].str.contains('상해없음')]"
   ]
  },
  {
   "cell_type": "code",
   "execution_count": null,
   "metadata": {},
   "outputs": [],
   "source": [
    "columns_sum = data.groupby(['시간', '피해운전자 상해정도', '시']).size().reset_index(name='counts')"
   ]
  },
  {
   "cell_type": "code",
   "execution_count": null,
   "metadata": {},
   "outputs": [],
   "source": [
    "# columns_sum"
   ]
  },
  {
   "cell_type": "code",
   "execution_count": null,
   "metadata": {},
   "outputs": [],
   "source": [
    "import seaborn as sns\n",
    "import matplotlib.pyplot as plt\n",
    "\n",
    "plt.figure(figsize=(17, 7))\n",
    "sns.lineplot(x='시간', y='counts', hue='피해운전자 상해정도', data=columns_sum, palette='colorblind', linewidth=2,marker='o')\n",
    "\n",
    "plt.rc('font', family='Malgun Gothic')\n",
    "plt.title('시간대별 피해어린이 상해정도', fontsize=20) \n",
    "plt.xlabel('시간', fontsize=15)\n",
    "plt.xticks(range(0, 25, 1),rotation = 30)\n",
    "plt.ylabel('피해어린이 수', fontsize=15)\n",
    "\n",
    "handles, labels = plt.gca().get_legend_handles_labels()\n",
    "new_labels = ['경상', '중상','부상신고', '사망'] \n",
    "plt.legend(handles, new_labels)\n",
    "\n",
    "plt.show()"
   ]
  },
  {
   "cell_type": "code",
   "execution_count": null,
   "metadata": {},
   "outputs": [],
   "source": [
    "import plotly.express as px\n",
    "fig = px.bar(df, x='요일',y='피해운전자 연령',color='피해운전자 성별', height=1000, width=1000)\n",
    "fig.show()"
   ]
  },
  {
   "cell_type": "code",
   "execution_count": null,
   "metadata": {},
   "outputs": [],
   "source": [
    "columns_sum_2 = df.groupby(['구', '피해운전자 상해정도', '시']).size().reset_index(name='counts')"
   ]
  },
  {
   "cell_type": "code",
   "execution_count": null,
   "metadata": {},
   "outputs": [],
   "source": [
    "fig = plt.subplots(figsize=(17, 7))\n",
    "\n",
    "# color_dict = {'경상': 'skyblue', '중상': 'gray', '부상신고': 'gray', '상해없음': 'gray', '사망': 'gray'}\n",
    "\n",
    "sns.barplot(x='구', y='counts', hue='피해운전자 상해정도', data=columns_sum_2, palette='colorblind')\n",
    "\n",
    "plt.rc('font', family='Malgun Gothic')\n",
    "plt.title('주소별 피해운전자 상해정도', fontsize=20)\n",
    "plt.xlabel('주소', fontsize=15)\n",
    "plt.xticks(rotation = 30)\n",
    "plt.ylabel('상해 건', fontsize=15)\n",
    "\n",
    "plt.show()"
   ]
  },
  {
   "cell_type": "code",
   "execution_count": null,
   "metadata": {},
   "outputs": [],
   "source": []
  },
  {
   "cell_type": "code",
   "execution_count": null,
   "metadata": {},
   "outputs": [],
   "source": []
  },
  {
   "cell_type": "code",
   "execution_count": null,
   "metadata": {},
   "outputs": [],
   "source": []
  },
  {
   "cell_type": "code",
   "execution_count": null,
   "metadata": {},
   "outputs": [],
   "source": []
  },
  {
   "cell_type": "code",
   "execution_count": null,
   "metadata": {},
   "outputs": [],
   "source": []
  },
  {
   "cell_type": "code",
   "execution_count": null,
   "metadata": {},
   "outputs": [],
   "source": []
  },
  {
   "cell_type": "code",
   "execution_count": null,
   "metadata": {},
   "outputs": [],
   "source": []
  }
 ],
 "metadata": {
  "kernelspec": {
   "display_name": "Python 3",
   "language": "python",
   "name": "python3"
  },
  "language_info": {
   "codemirror_mode": {
    "name": "ipython",
    "version": 3
   },
   "file_extension": ".py",
   "mimetype": "text/x-python",
   "name": "python",
   "nbconvert_exporter": "python",
   "pygments_lexer": "ipython3",
   "version": "3.11.6"
  }
 },
 "nbformat": 4,
 "nbformat_minor": 2
}
