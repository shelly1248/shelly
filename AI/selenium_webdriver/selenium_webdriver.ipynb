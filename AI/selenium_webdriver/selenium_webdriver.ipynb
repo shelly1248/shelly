{
 "cells": [
  {
   "cell_type": "code",
   "execution_count": 5,
   "metadata": {},
   "outputs": [],
   "source": [
    "from csv import writer\n",
    "from selenium import webdriver\n",
    "from selenium.webdriver.common.by import By\n",
    "import time\n",
    "import pandas as pd\n",
    "from selenium.common.exceptions import NoSuchElementException"
   ]
  },
  {
   "cell_type": "code",
   "execution_count": 6,
   "metadata": {},
   "outputs": [],
   "source": [
    "url='http://www.cgv.co.kr/movies/detail-view/?midx=87433'"
   ]
  },
  {
   "cell_type": "code",
   "execution_count": 7,
   "metadata": {},
   "outputs": [],
   "source": [
    "option = webdriver.ChromeOptions()\n",
    "option.headless = True\n",
    "option.add_argument('window-size=1920x1080')"
   ]
  },
  {
   "cell_type": "code",
   "execution_count": 11,
   "metadata": {},
   "outputs": [],
   "source": [
    "def get_movie_reviews(urs, page_num=10):\n",
    "    wd = webdriver.Chrome(options=option)\n",
    "    wd.get(url)\n",
    "    writer_list = []\n",
    "    review_list = []\n",
    "    date_list = []\n",
    "\n",
    "    for page_no in range(1, page_num + 1):\n",
    "        try:\n",
    "            page_ul = wd.find_element(By.ID, 'paging_point') \n",
    "            page_a = page_ul.find_element(By.LINK_TEXT, str(page_no))# 페이지 숫자\n",
    "            page_a.click()\n",
    "            time.sleep(1)\n",
    "\n",
    "            writers = wd.find_elements(By.CLASS_NAME, 'writer-name')\n",
    "            writer_list += [writer.text for writer in writers]\n",
    "\n",
    "            reviews = wd.find_elements(By.CLASS_NAME, 'box-comment')\n",
    "            review_list += [review.text for review in reviews]\n",
    "\n",
    "            dates = wd.find_elements(By.CLASS_NAME, 'day')\n",
    "            date_list += [date.text for date in dates]\n",
    "\n",
    "            if page_no % 10 == 0:\n",
    "                next_button = page_ul.find_element(\n",
    "                    By.CLASS_NAME, 'btn-paging.next')\n",
    "                next_button.click()\n",
    "                time.sleep(1)\n",
    "        except NoSuchElementException:\n",
    "            break\n",
    "\n",
    "    movie_review_df = pd.DataFrame({'Writer': writer_list,\n",
    "                                    'Review': review_list,\n",
    "                                    'Date':date_list})\n",
    "    return movie_review_df\n",
    "movie_review_df = get_movie_reviews(url, 100)\n",
    "movie_review_df\n",
    "\n",
    "movie_review_df.to_csv('C:\\\\sqlite\\\\mysql\\\\code\\\\AI\\\\selenium_webdriver\\\\selenium_webdriver.csv', encoding='utf-8-sig', index=False)\n",
    "            "
   ]
  },
  {
   "cell_type": "code",
   "execution_count": null,
   "metadata": {},
   "outputs": [],
   "source": []
  },
  {
   "cell_type": "code",
   "execution_count": null,
   "metadata": {},
   "outputs": [],
   "source": []
  },
  {
   "cell_type": "code",
   "execution_count": null,
   "metadata": {},
   "outputs": [],
   "source": []
  }
 ],
 "metadata": {
  "kernelspec": {
   "display_name": "Python 3",
   "language": "python",
   "name": "python3"
  },
  "language_info": {
   "codemirror_mode": {
    "name": "ipython",
    "version": 3
   },
   "file_extension": ".py",
   "mimetype": "text/x-python",
   "name": "python",
   "nbconvert_exporter": "python",
   "pygments_lexer": "ipython3",
   "version": "3.11.6"
  }
 },
 "nbformat": 4,
 "nbformat_minor": 2
}
