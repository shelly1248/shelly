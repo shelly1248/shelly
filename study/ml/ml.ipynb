{
 "cells": [
  {
   "cell_type": "code",
   "execution_count": null,
   "metadata": {},
   "outputs": [],
   "source": [
    "import pandas as  pd\n",
    "import requests\n",
    "\n",
    "# 페이지 번호를 제외한 주소 저장\n",
    "new_url = 'https://finance.naver.com/item/sise_day.naver?code=086520&page='\n",
    "\n",
    "# 헤더 정보 설정하기\n",
    "my_headers = {'user-agent': 'Mozilla/5.0'}\n",
    "# 데이터를 축적할 데이터프레임 생성\n",
    "all_tables_year = pd.DataFrame()\n",
    "\n",
    "# 페이지 번호 증가용 반복문\n",
    "for page_number in range(1, 100):\n",
    "\n",
    "# 페이지 번호 추가한 주소 완성\n",
    "    full_url = new_url + str(page_number)\n",
    "\n",
    "# 주소 확인하기\n",
    "    print(f'{page_number} 번째 페이지 읽어오기({full_url})')\n",
    "\n",
    "# HTTP 요청 전송 후 응답 받아오기\n",
    "    page = requests.get(full_url, headers=my_headers)\n",
    "\n",
    "# 테이블 추출\n",
    "    table = pd.read_html(page.text)[0]\n",
    "\n",
    "# 수행할 내용 확인\n",
    "    # print(f'전체 {len(all_tables_year.index)} 줄에 {len(table.index)} 줄 추가')\n",
    "\n",
    "# 데이터 축적용 데이터프레임에 테이블 추가\n",
    "    all_tables_year = pd.concat([all_tables_year, table])\n",
    "    print(all_tables_year)"
   ]
  },
  {
   "cell_type": "code",
   "execution_count": null,
   "metadata": {},
   "outputs": [],
   "source": [
    "from prophet import Prophet"
   ]
  },
  {
   "cell_type": "code",
   "execution_count": null,
   "metadata": {},
   "outputs": [],
   "source": [
    "all_tables_year.dropna(inplace=True)"
   ]
  },
  {
   "cell_type": "code",
   "execution_count": null,
   "metadata": {},
   "outputs": [],
   "source": [
    "# 열 이름 영문으로 변경\n",
    "all_tables_year.rename(columns={'날짜':'ds'}\n",
    "                       , inplace=True)\n",
    "# 중위값 열 추가\n",
    "all_tables_year['y'] = all_tables_year['고가'] - ((all_tables_year['고가'] - all_tables_year['저가']) / 2)\n",
    "\n",
    "all_tables_year.head()"
   ]
  },
  {
   "cell_type": "code",
   "execution_count": null,
   "metadata": {},
   "outputs": [],
   "source": [
    "df = pd.DataFrame()\n",
    "#필요한 열만 추출\n",
    "df = all_tables_year[['ds', 'y']]\n",
    "df.info()"
   ]
  },
  {
   "cell_type": "code",
   "execution_count": null,
   "metadata": {},
   "outputs": [],
   "source": [
    "# 프로핏 모델 객체 만들기\n",
    "m = Prophet()\n",
    "# 데이터프레임 학습\n",
    "m.fit(df)"
   ]
  },
  {
   "cell_type": "code",
   "execution_count": null,
   "metadata": {},
   "outputs": [],
   "source": [
    "# 예측 데이터프레임 준비하기\n",
    "future = m.make_future_dataframe(periods=1000)\n",
    "\n",
    "# 끝부분 확인하기\n",
    "future.tail()"
   ]
  },
  {
   "cell_type": "code",
   "execution_count": null,
   "metadata": {},
   "outputs": [],
   "source": [
    "# 예측하기\n",
    "forecast = m.predict(future)\n",
    "# 예측결과 끝부분 확인하기\n",
    "forecast[['ds', 'yhat', 'yhat_lower', 'yhat_upper']].tail()"
   ]
  },
  {
   "cell_type": "code",
   "execution_count": null,
   "metadata": {},
   "outputs": [],
   "source": [
    "fig1 = m.plot(forecast)"
   ]
  },
  {
   "cell_type": "code",
   "execution_count": null,
   "metadata": {},
   "outputs": [],
   "source": [
    "# 2차 예측을 위한 프로핏 객체 만들기\n",
    "m2 = Prophet()\n",
    "\n",
    "# 2021년 1월 1일 이후 데이터만 준비\n",
    "df2 = df[df['ds'] > '2021-01-01']\n",
    "\n",
    "# 데이터 끝 부분 확인하기\n",
    "df2.tail()"
   ]
  },
  {
   "cell_type": "code",
   "execution_count": null,
   "metadata": {},
   "outputs": [],
   "source": [
    "# 데이터 학습하기\n",
    "m2.fit(df2)\n",
    "\n",
    "# 예측 데이터프레임 만들기\n",
    "future2 = m2.make_future_dataframe(periods=1000)\n",
    "\n",
    "# 예측하기\n",
    "forecast2 = m2.predict(future2)\n",
    "\n",
    "# 예측 결과 끝부분 확인하기\n",
    "forecast2[['ds', 'yhat', 'yhat_lower', 'yhat_upper']].tail()\n",
    "\n",
    "# 시각화하기\n",
    "fig3 = m2.plot(forecast2)\n",
    "# 2차 예측 컴포넌트 확인하기\n",
    "fig4 = m2.plot_components(forecast2)"
   ]
  },
  {
   "cell_type": "code",
   "execution_count": null,
   "metadata": {},
   "outputs": [],
   "source": [
    "# plot 모듈 탑재\n",
    "from prophet.plot import plot_plotly, ipywidgets\n",
    "m2 = Prophet()\n",
    "# 대화형 예측 그래프 그리기\n",
    "plot_plotly(m2, forecast2)"
   ]
  },
  {
   "cell_type": "code",
   "execution_count": null,
   "metadata": {},
   "outputs": [],
   "source": []
  }
 ],
 "metadata": {
  "kernelspec": {
   "display_name": "Python 3",
   "language": "python",
   "name": "python3"
  },
  "language_info": {
   "codemirror_mode": {
    "name": "ipython",
    "version": 3
   },
   "file_extension": ".py",
   "mimetype": "text/x-python",
   "name": "python",
   "nbconvert_exporter": "python",
   "pygments_lexer": "ipython3",
   "version": "3.11.6"
  }
 },
 "nbformat": 4,
 "nbformat_minor": 2
}
