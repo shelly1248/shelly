{
 "cells": [
  {
   "cell_type": "code",
   "execution_count": 11,
   "metadata": {},
   "outputs": [],
   "source": [
    "import pandas as pd\n",
    "import re\n",
    "from functools import reduce\n",
    "\n",
    "from nltk.tokenize import word_tokenize\n",
    "from nltk.corpus import stopwords\n",
    "from nltk.stem import WordNetLemmatizer\n",
    "\n",
    "from collections import Counter\n",
    "\n",
    "import matplotlib.pyplot as plt\n",
    "from wordcloud import WordCloud, STOPWORDS"
   ]
  },
  {
   "cell_type": "code",
   "execution_count": 12,
   "metadata": {},
   "outputs": [
    {
     "data": {
      "text/html": [
       "<div>\n",
       "<style scoped>\n",
       "    .dataframe tbody tr th:only-of-type {\n",
       "        vertical-align: middle;\n",
       "    }\n",
       "\n",
       "    .dataframe tbody tr th {\n",
       "        vertical-align: top;\n",
       "    }\n",
       "\n",
       "    .dataframe thead th {\n",
       "        text-align: right;\n",
       "    }\n",
       "</style>\n",
       "<table border=\"1\" class=\"dataframe\">\n",
       "  <thead>\n",
       "    <tr style=\"text-align: right;\">\n",
       "      <th></th>\n",
       "      <th>The One Where Monica Gets a New Roommate (The Pilot-The Uncut Version)</th>\n",
       "    </tr>\n",
       "  </thead>\n",
       "  <tbody>\n",
       "    <tr>\n",
       "      <th>0</th>\n",
       "      <td>Written by: Marta Kauffman &amp; David Crane</td>\n",
       "    </tr>\n",
       "    <tr>\n",
       "      <th>1</th>\n",
       "      <td>Transcribed by: guineapig</td>\n",
       "    </tr>\n",
       "    <tr>\n",
       "      <th>2</th>\n",
       "      <td>Additional transcribing by: Eric Aasen</td>\n",
       "    </tr>\n",
       "    <tr>\n",
       "      <th>3</th>\n",
       "      <td>(Note: The previously unseen parts of this epi...</td>\n",
       "    </tr>\n",
       "    <tr>\n",
       "      <th>4</th>\n",
       "      <td>[Scene: Central Perk, Chandler, Joey, Phoebe, ...</td>\n",
       "    </tr>\n",
       "    <tr>\n",
       "      <th>...</th>\n",
       "      <td>...</td>\n",
       "    </tr>\n",
       "    <tr>\n",
       "      <th>338</th>\n",
       "      <td>Chandler: Kids, new dream... I'm in Las Vegas....</td>\n",
       "    </tr>\n",
       "    <tr>\n",
       "      <th>339</th>\n",
       "      <td>Customer: (To Rachel) Ahh, miss?   More coffee?</td>\n",
       "    </tr>\n",
       "    <tr>\n",
       "      <th>340</th>\n",
       "      <td>Rachel: Ugh. (To another customer that's leavi...</td>\n",
       "    </tr>\n",
       "    <tr>\n",
       "      <th>341</th>\n",
       "      <td>Chandler: Okay, so, I'm in Las Vegas... I'm Li...</td>\n",
       "    </tr>\n",
       "    <tr>\n",
       "      <th>342</th>\n",
       "      <td>End</td>\n",
       "    </tr>\n",
       "  </tbody>\n",
       "</table>\n",
       "<p>343 rows × 1 columns</p>\n",
       "</div>"
      ],
      "text/plain": [
       "    The One Where Monica Gets a New Roommate (The Pilot-The Uncut Version)\n",
       "0             Written by: Marta Kauffman & David Crane                    \n",
       "1                            Transcribed by: guineapig                    \n",
       "2               Additional transcribing by: Eric Aasen                    \n",
       "3    (Note: The previously unseen parts of this epi...                    \n",
       "4    [Scene: Central Perk, Chandler, Joey, Phoebe, ...                    \n",
       "..                                                 ...                    \n",
       "338  Chandler: Kids, new dream... I'm in Las Vegas....                    \n",
       "339    Customer: (To Rachel) Ahh, miss?   More coffee?                    \n",
       "340  Rachel: Ugh. (To another customer that's leavi...                    \n",
       "341  Chandler: Okay, so, I'm in Las Vegas... I'm Li...                    \n",
       "342                                                End                    \n",
       "\n",
       "[343 rows x 1 columns]"
      ]
     },
     "execution_count": 12,
     "metadata": {},
     "output_type": "execute_result"
    }
   ],
   "source": [
    "import pandas as pd\n",
    "filename = r'C:\\\\sqlite\\\\mysql\\\\code\\\\수업\\\\2023_11_09\\\\customers\\\\data\\\\friends101.txt'\n",
    "df = pd.read_table(filename)\n",
    "df"
   ]
  },
  {
   "cell_type": "code",
   "execution_count": 13,
   "metadata": {},
   "outputs": [],
   "source": [
    "stopWords = set(stopwords.words(\"english\")) # 불용어처리방법\n",
    "lemma = WordNetLemmatizer() # 표제어 추출"
   ]
  },
  {
   "cell_type": "code",
   "execution_count": 14,
   "metadata": {},
   "outputs": [],
   "source": [
    "words = []  \n",
    "\n",
    "for title in df:\n",
    "    EnWords = re.sub(r\"[^a-zA-Z]+\", \" \", str(title))   #  a-zA-Z 아닌경우 공백으로 대체 ^not\n",
    "    EnWordsToken = word_tokenize(EnWords.lower()) # EnWords를 소문자로 변환\n",
    "    EnWordsTokenStop = [w for w in EnWordsToken if w not in stopWords]\n",
    "    EnWordsTokenStopLemma = [lemma.lemmatize(w) for w in EnWordsTokenStop]\n",
    "    words.append(EnWordsTokenStopLemma)"
   ]
  },
  {
   "cell_type": "code",
   "execution_count": 15,
   "metadata": {},
   "outputs": [
    {
     "name": "stdout",
     "output_type": "stream",
     "text": [
      "[['one', 'monica', 'get', 'new', 'roommate', 'pilot', 'uncut', 'version']]\n"
     ]
    }
   ],
   "source": [
    "print(words)  #출력하여 내용 확인"
   ]
  },
  {
   "cell_type": "code",
   "execution_count": 16,
   "metadata": {},
   "outputs": [
    {
     "name": "stdout",
     "output_type": "stream",
     "text": [
      "['one', 'monica', 'get', 'new', 'roommate', 'pilot', 'uncut', 'version']\n"
     ]
    }
   ],
   "source": [
    "from functools import reduce\n",
    "\n",
    "words2 = list(reduce(lambda x, y: x+y,words)) # 합쳐서 리스트로 리턴\n",
    "print(words2)  #작업 내용 확인"
   ]
  },
  {
   "cell_type": "code",
   "execution_count": 17,
   "metadata": {},
   "outputs": [
    {
     "data": {
      "text/plain": [
       "Counter({'one': 1,\n",
       "         'monica': 1,\n",
       "         'get': 1,\n",
       "         'new': 1,\n",
       "         'roommate': 1,\n",
       "         'pilot': 1,\n",
       "         'uncut': 1,\n",
       "         'version': 1})"
      ]
     },
     "execution_count": 17,
     "metadata": {},
     "output_type": "execute_result"
    }
   ],
   "source": [
    "count = Counter(words2)\n",
    "\n",
    "count   #출력하여 내용 확인"
   ]
  }
 ],
 "metadata": {
  "kernelspec": {
   "display_name": "Python 3",
   "language": "python",
   "name": "python3"
  },
  "language_info": {
   "codemirror_mode": {
    "name": "ipython",
    "version": 3
   },
   "file_extension": ".py",
   "mimetype": "text/x-python",
   "name": "python",
   "nbconvert_exporter": "python",
   "pygments_lexer": "ipython3",
   "version": "3.11.6"
  }
 },
 "nbformat": 4,
 "nbformat_minor": 2
}
