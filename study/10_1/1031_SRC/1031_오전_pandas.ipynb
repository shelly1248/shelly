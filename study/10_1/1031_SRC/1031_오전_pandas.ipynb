{
  "cells": [
    {
      "cell_type": "code",
      "execution_count": null,
      "metadata": {
        "colab": {
          "base_uri": "https://localhost:8080/"
        },
        "id": "pxzUQPG9G3Da",
        "outputId": "519799a7-124e-4ce7-c05f-b9450b90defd"
      },
      "outputs": [
        {
          "name": "stdout",
          "output_type": "stream",
          "text": [
            "<class 'pandas.core.frame.DataFrame'>\n",
            "RangeIndex: 3 entries, 0 to 2\n",
            "Data columns (total 3 columns):\n",
            " #   Column  Non-Null Count  Dtype\n",
            "---  ------  --------------  -----\n",
            " 0   A       3 non-null      int64\n",
            " 1   B       3 non-null      int64\n",
            " 2   C       3 non-null      int64\n",
            "dtypes: int64(3)\n",
            "memory usage: 200.0 bytes\n",
            "None\n"
          ]
        }
      ],
      "source": [
        "import pandas as pd\n",
        "\n",
        "# 예시 데이터 프레임 생성\n",
        "data = pd.DataFrame({'A': ['1', '2', '3'], 'B': ['4', '5', '6'], 'C': ['7', '8', '9']})\n",
        "\n",
        "# A, B, C 열의 데이터 타입을 int로 변경\n",
        "data[['A', 'B', 'C']] = data[['A', 'B', 'C']].apply(pd.to_numeric)\n",
        "\n",
        "# 변경된 데이터 프레임 정보 출력\n",
        "print(data.info())"
      ]
    },
    {
      "cell_type": "code",
      "execution_count": null,
      "metadata": {
        "colab": {
          "base_uri": "https://localhost:8080/"
        },
        "id": "2Dj8Dg6CHLZ8",
        "outputId": "1b699974-2e4d-4fd3-dd4a-99cf0bee563a"
      },
      "outputs": [
        {
          "name": "stdout",
          "output_type": "stream",
          "text": [
            "     A    B    C\n",
            "2  3.0  6.0  9.0\n"
          ]
        }
      ],
      "source": [
        "import pandas as pd\n",
        "\n",
        "# 예시 데이터 프레임 생성\n",
        "data = pd.DataFrame({'A': [1, 2, 3, None], 'B': [4, None, 6, 7], 'C': [None, 8, 9, 10]})\n",
        "\n",
        "# 결측값이 있는 행을 제거한 데이터 프레임\n",
        "data_dropna = data.dropna()\n",
        "\n",
        "# 결과 출력\n",
        "print(data_dropna)"
      ]
    },
    {
      "cell_type": "code",
      "execution_count": null,
      "metadata": {
        "colab": {
          "base_uri": "https://localhost:8080/"
        },
        "id": "NPOU2P-IHNxX",
        "outputId": "a7e4c168-6138-416f-dec1-606908a02c48"
      },
      "outputs": [
        {
          "name": "stdout",
          "output_type": "stream",
          "text": [
            "     A    B     C\n",
            "0  1.0  4.0   0.0\n",
            "1  2.0  0.0   8.0\n",
            "2  3.0  6.0   9.0\n",
            "3  0.0  7.0  10.0\n"
          ]
        }
      ],
      "source": [
        "import pandas as pd\n",
        "\n",
        "# 예시 데이터 프레임 생성\n",
        "data = pd.DataFrame({'A': [1, 2, 3, None], 'B': [4, None, 6, 7], 'C': [None, 8, 9, 10]})\n",
        "\n",
        "# 결측값을 0으로 채운 데이터 프레임\n",
        "data_fillna = data.fillna(0)\n",
        "\n",
        "# 결과 출력\n",
        "print(data_fillna)"
      ]
    },
    {
      "cell_type": "code",
      "execution_count": null,
      "metadata": {
        "colab": {
          "base_uri": "https://localhost:8080/"
        },
        "id": "KE2rOb1XHb2D",
        "outputId": "927556f0-59e5-4e51-df9c-776dab14876d"
      },
      "outputs": [
        {
          "name": "stdout",
          "output_type": "stream",
          "text": [
            "     A         B     C\n",
            "0  1.0  4.000000   9.0\n",
            "1  2.0  5.666667   8.0\n",
            "2  3.0  6.000000   9.0\n",
            "3  2.0  7.000000  10.0\n"
          ]
        }
      ],
      "source": [
        "import pandas as pd\n",
        "\n",
        "# 예시 데이터프레임 생성\n",
        "data = pd.DataFrame({'A': [1, 2, 3, None], 'B': [4, None, 6, 7], 'C': [None, 8, 9, 10]})\n",
        "\n",
        "# 결측값을 평균으로 채운 데이터프레임\n",
        "data_fillna = data.fillna(data.mean())\n",
        "\n",
        "# 결과 출력\n",
        "print(data_fillna)"
      ]
    },
    {
      "cell_type": "code",
      "execution_count": null,
      "metadata": {
        "colab": {
          "base_uri": "https://localhost:8080/"
        },
        "id": "At-NiJFeHk87",
        "outputId": "a9ee6ca6-f631-4703-d5f6-9992b103a931"
      },
      "outputs": [
        {
          "name": "stdout",
          "output_type": "stream",
          "text": [
            "   A  B  C\n",
            "0  a  d  i\n",
            "1  b  d  h\n",
            "2  c  f  i\n",
            "3  a  g  i\n"
          ]
        }
      ],
      "source": [
        "import pandas as pd\n",
        "\n",
        "# 예시 데이터프레임 생성\n",
        "data = pd.DataFrame({'A': ['a', 'b', 'c', None], 'B': ['d', None, 'f', 'g'], 'C': [None, 'h', 'i', 'i']})\n",
        "\n",
        "# 각 열의 결측값을 해당 열의 최빈값으로 채운 데이터프레임\n",
        "data_fillna = data.apply(lambda x: x.fillna(x.mode()[0]))\n",
        "\n",
        "# 결과 출력\n",
        "print(data_fillna)"
      ]
    },
    {
      "cell_type": "code",
      "execution_count": null,
      "metadata": {
        "colab": {
          "base_uri": "https://localhost:8080/"
        },
        "id": "ILz3G20MHs1P",
        "outputId": "20329f07-c692-4e3c-e3a0-23fd12ba8bee"
      },
      "outputs": [
        {
          "name": "stdout",
          "output_type": "stream",
          "text": [
            "     A    B    C\n",
            "0  1.0  4.0  9.0\n",
            "1  2.0  4.0  8.0\n",
            "2  3.0  6.0  9.0\n",
            "3  1.0  7.0  9.0\n"
          ]
        }
      ],
      "source": [
        "import pandas as pd\n",
        "\n",
        "# 예시 데이터프레임 생성\n",
        "data = pd.DataFrame({'A': [1, 2, 3, None], 'B': [4, None, 6, 7], 'C': [None, 8, 9, 9]})\n",
        "\n",
        "# 결측값을 최빈값으로 채운 데이터프레임\n",
        "data_fillna = data.fillna(data.mode().iloc[0])\n",
        "\n",
        "# 결과 출력\n",
        "print(data_fillna)"
      ]
    },
    {
      "cell_type": "code",
      "execution_count": null,
      "metadata": {
        "colab": {
          "base_uri": "https://localhost:8080/"
        },
        "id": "TuGgRJtvH0mc",
        "outputId": "5398c24c-bc79-4bc9-ab37-1d655138c176"
      },
      "outputs": [
        {
          "name": "stdout",
          "output_type": "stream",
          "text": [
            "   A  B  C\n",
            "0  a  d  i\n",
            "1  b  d  h\n",
            "2  c  f  i\n",
            "3  a  g  i\n"
          ]
        }
      ],
      "source": [
        "import pandas as pd\n",
        "\n",
        "# 예시 데이터프레임 생성\n",
        "data = pd.DataFrame({'A': ['a', 'b', 'c', None], 'B': ['d', None, 'f', 'g'], 'C': [None, 'h', 'i', 'i']})\n",
        "\n",
        "# 'NaN' 값을 다른 컬럼값으로 대체한 데이터프레임\n",
        "data_fillna = data.fillna({'A': 'a', 'B': 'd', 'C': 'i'})\n",
        "\n",
        "# 결과 출력\n",
        "print(data_fillna)"
      ]
    },
    {
      "cell_type": "code",
      "execution_count": null,
      "metadata": {
        "colab": {
          "base_uri": "https://localhost:8080/",
          "height": 542
        },
        "id": "zrS-WcvzH64L",
        "outputId": "9b05e337-a71d-4010-d4c8-02e8a8010f71"
      },
      "outputs": [
        {
          "data": {
            "text/plain": [
              "{'whiskers': [<matplotlib.lines.Line2D at 0x7f2728ac8fd0>,\n",
              "  <matplotlib.lines.Line2D at 0x7f2728ae82e0>,\n",
              "  <matplotlib.lines.Line2D at 0x7f2728af5430>,\n",
              "  <matplotlib.lines.Line2D at 0x7f2728af5700>],\n",
              " 'caps': [<matplotlib.lines.Line2D at 0x7f2728ae85b0>,\n",
              "  <matplotlib.lines.Line2D at 0x7f2728ae8880>,\n",
              "  <matplotlib.lines.Line2D at 0x7f2728af59d0>,\n",
              "  <matplotlib.lines.Line2D at 0x7f2728af5ca0>],\n",
              " 'boxes': [<matplotlib.lines.Line2D at 0x7f2728ac8d00>,\n",
              "  <matplotlib.lines.Line2D at 0x7f2728af5160>],\n",
              " 'medians': [<matplotlib.lines.Line2D at 0x7f2728ae8b50>,\n",
              "  <matplotlib.lines.Line2D at 0x7f2728af5f70>],\n",
              " 'fliers': [<matplotlib.lines.Line2D at 0x7f2728ae8e20>,\n",
              "  <matplotlib.lines.Line2D at 0x7f2728a83280>],\n",
              " 'means': []}"
            ]
          },
          "execution_count": 8,
          "metadata": {},
          "output_type": "execute_result"
        },
        {
          "data": {
            "image/png": "[encoded data removed]",
            "text/plain": [
              "<Figure size 432x288 with 1 Axes>"
            ]
          },
          "metadata": {
            "needs_background": "light"
          },
          "output_type": "display_data"
        }
      ],
      "source": [
        "import pandas as pd\n",
        "import numpy as np\n",
        "import matplotlib.pyplot as plt\n",
        "\n",
        "# 예시 데이터프레임 생성\n",
        "df = pd.DataFrame(np.random.randn(8, 3),columns=['C1', 'C2', 'C3'])\n",
        "df.loc[1,'C1']=11\n",
        "df.loc[3,'C3']=-10\n",
        "#박스플롯으로 시각화\n",
        "plt.boxplot([df['C1'],df['C3']])"
      ]
    },
    {
      "cell_type": "code",
      "execution_count": null,
      "metadata": {
        "colab": {
          "base_uri": "https://localhost:8080/",
          "height": 287
        },
        "id": "yNx_FDBrH_al",
        "outputId": "0e774f06-ae45-4668-8a64-33cb6b84c554"
      },
      "outputs": [
        {
          "data": {
            "text/plain": [
              "<AxesSubplot:>"
            ]
          },
          "execution_count": 9,
          "metadata": {},
          "output_type": "execute_result"
        },
        {
          "data": {
            "image/png": "[encoded data removed]",
            "text/plain": [
              "<Figure size 432x288 with 2 Axes>"
            ]
          },
          "metadata": {
            "needs_background": "light"
          },
          "output_type": "display_data"
        }
      ],
      "source": [
        "import pandas as pd\n",
        "import numpy as np\n",
        "import matplotlib.pyplot as plt\n",
        "import seaborn as sns\n",
        "\n",
        "df = pd.DataFrame(np.random.randn(8, 3),columns=['C1', 'C2', 'C3'])\n",
        "df.loc[1,'C1']=11\n",
        "df.loc[3,'C3']=-10\n",
        "plt.boxplot([df['C1'],df['C3']])\n",
        "sns.heatmap(df.corr(), annot=True)"
      ]
    }
  ],
  "metadata": {
    "colab": {
      "provenance": []
    },
    "kernelspec": {
      "display_name": "Python 3",
      "name": "python3"
    },
    "language_info": {
      "name": "python"
    }
  },
  "nbformat": 4,
  "nbformat_minor": 0
}
