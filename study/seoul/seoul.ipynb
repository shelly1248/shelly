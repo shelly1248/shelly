{
 "cells": [
  {
   "cell_type": "code",
   "execution_count": null,
   "metadata": {},
   "outputs": [],
   "source": [
    "import folium\n",
    "\n",
    "seoul = folium.Map(location=[37.33910, 126.7359], zoom_strat = 12)\n",
    "seoul"
   ]
  },
  {
   "cell_type": "code",
   "execution_count": null,
   "metadata": {},
   "outputs": [],
   "source": [
    "import pandas as pd\n",
    "# 승하차 인원 파악\n",
    "data = pd.read_csv(r'C:\\\\sqlite\\\\mysql\\\\code\\\\seoul\\\\seoul-metro-2021\\\\seoul-metro-2021.logs.csv')\n",
    "\n",
    "data"
   ]
  },
  {
   "cell_type": "code",
   "execution_count": null,
   "metadata": {},
   "outputs": [],
   "source": [
    "# 지하철역정보 파악\n",
    "station_info = pd.read_csv(r'C:\\\\sqlite\\\\mysql\\\\code\\\\seoul\\\\seoul-metro-2021\\\\seoul-metro-station-info.csv')\n",
    "\n",
    "station_info"
   ]
  },
  {
   "cell_type": "code",
   "execution_count": null,
   "metadata": {},
   "outputs": [],
   "source": [
    "data.info()"
   ]
  },
  {
   "cell_type": "code",
   "execution_count": null,
   "metadata": {},
   "outputs": [],
   "source": [
    "station_info.info()"
   ]
  },
  {
   "cell_type": "code",
   "execution_count": null,
   "metadata": {},
   "outputs": [],
   "source": [
    "data[['people_in','people_out']].info()"
   ]
  },
  {
   "cell_type": "code",
   "execution_count": null,
   "metadata": {},
   "outputs": [],
   "source": [
    "# 승하차 인원 그룹화하여 더하기\n",
    "station_sum = data.groupby(data['station_code']).sum()"
   ]
  },
  {
   "cell_type": "code",
   "execution_count": null,
   "metadata": {},
   "outputs": [],
   "source": [
    "station_sum"
   ]
  },
  {
   "cell_type": "code",
   "execution_count": null,
   "metadata": {},
   "outputs": [],
   "source": [
    "station_info = station_info[['station.code','geo.latitude','geo.longitude']]"
   ]
  },
  {
   "cell_type": "code",
   "execution_count": null,
   "metadata": {},
   "outputs": [],
   "source": [
    "# 색인 변경 하기\n",
    "station_info = station_info.set_index('station.code')\n",
    "station_info"
   ]
  },
  {
   "cell_type": "code",
   "execution_count": null,
   "metadata": {},
   "outputs": [],
   "source": [
    "# 승하차인원 데이터와 지하철역 데이터 합치기\n",
    "joined_data = station_sum.join(station_info)\n",
    "joined_data"
   ]
  },
  {
   "cell_type": "code",
   "execution_count": null,
   "metadata": {},
   "outputs": [],
   "source": [
    "# 승차용 서울 지도 만들기\n",
    "seoul_in = folium.Map(location=[37.55, 126.98], zoom_start= 12)\n",
    "\n",
    "seoul_in"
   ]
  },
  {
   "cell_type": "code",
   "execution_count": null,
   "metadata": {},
   "outputs": [],
   "source": [
    "from folium.plugins import HeatMap\n",
    "\n",
    "# 히트맵 플러그인 지도에 추가하기\n",
    "HeatMap(data = joined_data[['geo.latitude', 'geo.longitude', 'people_in']]).add_to(seoul_in)\n",
    "\n",
    "seoul_in"
   ]
  },
  {
   "cell_type": "code",
   "execution_count": null,
   "metadata": {},
   "outputs": [],
   "source": [
    "# 하차용 지도 생성\n",
    "seoul_out = folium.Map(location=[37.55, 126.98], zoom_start=12)\n",
    "\n",
    "# 히트맵 지도에 추가하기\n",
    "HeatMap(data = joined_data[['geo.latitude', 'geo.longitude', 'people_out']]).add_to(seoul_out)\n",
    "\n",
    "seoul_out"
   ]
  },
  {
   "cell_type": "code",
   "execution_count": null,
   "metadata": {},
   "outputs": [],
   "source": [
    "#출근용 데이터 추출\n",
    "morning_data = data[pd.to_datetime(data.timestamp).dt.hour < 9]\n",
    "morning_data"
   ]
  },
  {
   "cell_type": "code",
   "execution_count": null,
   "metadata": {},
   "outputs": [],
   "source": [
    "# 퇴근용 데이터 추출\n",
    "evening_data = data[pd.to_datetime(data.timestamp).dt.hour > 17]\n",
    "evening_data"
   ]
  },
  {
   "cell_type": "code",
   "execution_count": null,
   "metadata": {},
   "outputs": [],
   "source": [
    "# 역 기준으로 그룹화하여 데이터 더하기\n",
    "morning_station_sum = morning_data.groupby(\"station_code\").sum()\n",
    "evening_station_sum = evening_data.groupby(\"station_code\").sum()"
   ]
  },
  {
   "cell_type": "code",
   "execution_count": null,
   "metadata": {},
   "outputs": [],
   "source": [
    "# 역 정보 합치기\n",
    "morning_joined_data = morning_station_sum.join(station_info)\n",
    "evening_joined_data = evening_station_sum.join(station_info)"
   ]
  },
  {
   "cell_type": "code",
   "execution_count": null,
   "metadata": {},
   "outputs": [],
   "source": [
    "morning_seoul_in = folium.Map(location=[37.55, 126.98], zoom_start = 12)\n",
    "HeatMap(data = morning_joined_data[['geo.latitude', 'geo.longitude', 'people_in']]).add_to(morning_seoul_in)\n",
    "morning_seoul_in"
   ]
  },
  {
   "cell_type": "code",
   "execution_count": null,
   "metadata": {},
   "outputs": [],
   "source": [
    "morning_seoul_out = folium.Map(location=[37.55, 126.98], zoom_start = 12)\n",
    "HeatMap(data = morning_joined_data[['geo.latitude', 'geo.longitude', 'people_out']]).add_to(morning_seoul_out)\n",
    "morning_seoul_out"
   ]
  },
  {
   "cell_type": "code",
   "execution_count": null,
   "metadata": {},
   "outputs": [],
   "source": [
    "evening_seoul_in = folium.Map(location=[37.55, 126.98], zoom_start = 12)\n",
    "HeatMap(data = evening_joined_data[['geo.latitude', 'geo.longitude', 'people_in']]).add_to(evening_seoul_in)\n",
    "evening_seoul_in"
   ]
  },
  {
   "cell_type": "code",
   "execution_count": null,
   "metadata": {},
   "outputs": [],
   "source": [
    "evening_seoul_out = folium.Map(location=[37.55, 126.98], zoom_start = 12)\n",
    "HeatMap(data = evening_joined_data[['geo.latitude', 'geo.longitude', 'people_out']]).add_to(evening_seoul_out)\n",
    "evening_seoul_out"
   ]
  },
  {
   "cell_type": "code",
   "execution_count": null,
   "metadata": {},
   "outputs": [],
   "source": []
  },
  {
   "cell_type": "code",
   "execution_count": null,
   "metadata": {},
   "outputs": [],
   "source": []
  }
 ],
 "metadata": {
  "kernelspec": {
   "display_name": "Python 3",
   "language": "python",
   "name": "python3"
  },
  "language_info": {
   "codemirror_mode": {
    "name": "ipython",
    "version": 3
   },
   "file_extension": ".py",
   "mimetype": "text/x-python",
   "name": "python",
   "nbconvert_exporter": "python",
   "pygments_lexer": "ipython3",
   "version": "3.11.6"
  }
 },
 "nbformat": 4,
 "nbformat_minor": 2
}
