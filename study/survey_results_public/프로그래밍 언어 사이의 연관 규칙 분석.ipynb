{
 "cells": [
  {
   "cell_type": "code",
   "execution_count": 1,
   "id": "6915ff38",
   "metadata": {},
   "outputs": [
    {
     "name": "stdout",
     "output_type": "stream",
     "text": [
      "<class 'pandas.core.frame.DataFrame'>\n",
      "RangeIndex: 73268 entries, 0 to 73267\n",
      "Data columns (total 79 columns):\n",
      " #   Column                          Non-Null Count  Dtype  \n",
      "---  ------                          --------------  -----  \n",
      " 0   ResponseId                      73268 non-null  int64  \n",
      " 1   MainBranch                      73268 non-null  object \n",
      " 2   Employment                      71709 non-null  object \n",
      " 3   RemoteWork                      58958 non-null  object \n",
      " 4   CodingActivities                58899 non-null  object \n",
      " 5   EdLevel                         71571 non-null  object \n",
      " 6   LearnCode                       71580 non-null  object \n",
      " 7   LearnCodeOnline                 50685 non-null  object \n",
      " 8   LearnCodeCoursesCert            29389 non-null  object \n",
      " 9   YearsCode                       71331 non-null  object \n",
      " 10  YearsCodePro                    51833 non-null  object \n",
      " 11  DevType                         61302 non-null  object \n",
      " 12  OrgSize                         51039 non-null  object \n",
      " 13  PurchaseInfluence               50969 non-null  object \n",
      " 14  BuyNewTool                      67963 non-null  object \n",
      " 15  Country                         71771 non-null  object \n",
      " 16  Currency                        51264 non-null  object \n",
      " 17  CompTotal                       38422 non-null  float64\n",
      " 18  CompFreq                        44425 non-null  object \n",
      " 19  LanguageHaveWorkedWith          70975 non-null  object \n",
      " 20  LanguageWantToWorkWith          67027 non-null  object \n",
      " 21  DatabaseHaveWorkedWith          60121 non-null  object \n",
      " 22  DatabaseWantToWorkWith          51014 non-null  object \n",
      " 23  PlatformHaveWorkedWith          49924 non-null  object \n",
      " 24  PlatformWantToWorkWith          40415 non-null  object \n",
      " 25  WebframeHaveWorkedWith          53544 non-null  object \n",
      " 26  WebframeWantToWorkWith          46122 non-null  object \n",
      " 27  MiscTechHaveWorkedWith          44992 non-null  object \n",
      " 28  MiscTechWantToWorkWith          36810 non-null  object \n",
      " 29  ToolsTechHaveWorkedWith         54171 non-null  object \n",
      " 30  ToolsTechWantToWorkWith         46566 non-null  object \n",
      " 31  NEWCollabToolsHaveWorkedWith    70347 non-null  object \n",
      " 32  NEWCollabToolsWantToWorkWith    64108 non-null  object \n",
      " 33  OpSysProfessional use           65503 non-null  object \n",
      " 34  OpSysPersonal use               70963 non-null  object \n",
      " 35  VersionControlSystem            71379 non-null  object \n",
      " 36  VCInteraction                   68156 non-null  object \n",
      " 37  VCHostingPersonal use           0 non-null      float64\n",
      " 38  VCHostingProfessional use       0 non-null      float64\n",
      " 39  OfficeStackAsyncHaveWorkedWith  46223 non-null  object \n",
      " 40  OfficeStackAsyncWantToWorkWith  32072 non-null  object \n",
      " 41  OfficeStackSyncHaveWorkedWith   62128 non-null  object \n",
      " 42  OfficeStackSyncWantToWorkWith   47688 non-null  object \n",
      " 43  Blockchain                      71071 non-null  object \n",
      " 44  NEWSOSites                      71365 non-null  object \n",
      " 45  SOVisitFreq                     70961 non-null  object \n",
      " 46  SOAccount                       71572 non-null  object \n",
      " 47  SOPartFreq                      58229 non-null  object \n",
      " 48  SOComm                          71408 non-null  object \n",
      " 49  Age                             70946 non-null  object \n",
      " 50  Gender                          70853 non-null  object \n",
      " 51  Trans                           70315 non-null  object \n",
      " 52  Sexuality                       66565 non-null  object \n",
      " 53  Ethnicity                       69474 non-null  object \n",
      " 54  Accessibility                   67244 non-null  object \n",
      " 55  MentalHealth                    66447 non-null  object \n",
      " 56  TBranch                         52670 non-null  object \n",
      " 57  ICorPM                          36283 non-null  object \n",
      " 58  WorkExp                         36769 non-null  float64\n",
      " 59  Knowledge_1                     35804 non-null  object \n",
      " 60  Knowledge_2                     34973 non-null  object \n",
      " 61  Knowledge_3                     35133 non-null  object \n",
      " 62  Knowledge_4                     35097 non-null  object \n",
      " 63  Knowledge_5                     35014 non-null  object \n",
      " 64  Knowledge_6                     34991 non-null  object \n",
      " 65  Knowledge_7                     34977 non-null  object \n",
      " 66  Frequency_1                     35371 non-null  object \n",
      " 67  Frequency_2                     35344 non-null  object \n",
      " 68  Frequency_3                     34515 non-null  object \n",
      " 69  TimeSearching                   36198 non-null  object \n",
      " 70  TimeAnswering                   36022 non-null  object \n",
      " 71  Onboarding                      35679 non-null  object \n",
      " 72  ProfessionalTech                34906 non-null  object \n",
      " 73  TrueFalse_1                     35819 non-null  object \n",
      " 74  TrueFalse_2                     35715 non-null  object \n",
      " 75  TrueFalse_3                     35749 non-null  object \n",
      " 76  SurveyLength                    70444 non-null  object \n",
      " 77  SurveyEase                      70508 non-null  object \n",
      " 78  ConvertedCompYearly             38071 non-null  float64\n",
      "dtypes: float64(5), int64(1), object(73)\n",
      "memory usage: 44.2+ MB\n"
     ]
    }
   ],
   "source": [
    "# 판다스 라이브러리 탑재\n",
    "import pandas as pd\n",
    "\n",
    "# CSV 파일 읽어오기\n",
    "raw_data = pd.read_csv(r'C:\\\\sqlite\\\\mysql\\\\code\\\\수업\\\\survey_results_public\\\\data\\\\survey_results_public.csv')\n",
    "\n",
    "# 데이터프레임 정보 확인하기\n",
    "raw_data.info()"
   ]
  },
  {
   "cell_type": "code",
   "execution_count": 2,
   "id": "0aa6be80",
   "metadata": {},
   "outputs": [
    {
     "data": {
      "text/html": [
       "<div>\n",
       "<style scoped>\n",
       "    .dataframe tbody tr th:only-of-type {\n",
       "        vertical-align: middle;\n",
       "    }\n",
       "\n",
       "    .dataframe tbody tr th {\n",
       "        vertical-align: top;\n",
       "    }\n",
       "\n",
       "    .dataframe thead th {\n",
       "        text-align: right;\n",
       "    }\n",
       "</style>\n",
       "<table border=\"1\" class=\"dataframe\">\n",
       "  <thead>\n",
       "    <tr style=\"text-align: right;\">\n",
       "      <th></th>\n",
       "      <th>ResponseId</th>\n",
       "      <th>MainBranch</th>\n",
       "      <th>Employment</th>\n",
       "      <th>RemoteWork</th>\n",
       "      <th>CodingActivities</th>\n",
       "      <th>EdLevel</th>\n",
       "      <th>LearnCode</th>\n",
       "      <th>LearnCodeOnline</th>\n",
       "      <th>LearnCodeCoursesCert</th>\n",
       "      <th>YearsCode</th>\n",
       "      <th>...</th>\n",
       "      <th>TimeSearching</th>\n",
       "      <th>TimeAnswering</th>\n",
       "      <th>Onboarding</th>\n",
       "      <th>ProfessionalTech</th>\n",
       "      <th>TrueFalse_1</th>\n",
       "      <th>TrueFalse_2</th>\n",
       "      <th>TrueFalse_3</th>\n",
       "      <th>SurveyLength</th>\n",
       "      <th>SurveyEase</th>\n",
       "      <th>ConvertedCompYearly</th>\n",
       "    </tr>\n",
       "  </thead>\n",
       "  <tbody>\n",
       "    <tr>\n",
       "      <th>0</th>\n",
       "      <td>1</td>\n",
       "      <td>None of these</td>\n",
       "      <td>NaN</td>\n",
       "      <td>NaN</td>\n",
       "      <td>NaN</td>\n",
       "      <td>NaN</td>\n",
       "      <td>NaN</td>\n",
       "      <td>NaN</td>\n",
       "      <td>NaN</td>\n",
       "      <td>NaN</td>\n",
       "      <td>...</td>\n",
       "      <td>NaN</td>\n",
       "      <td>NaN</td>\n",
       "      <td>NaN</td>\n",
       "      <td>NaN</td>\n",
       "      <td>NaN</td>\n",
       "      <td>NaN</td>\n",
       "      <td>NaN</td>\n",
       "      <td>NaN</td>\n",
       "      <td>NaN</td>\n",
       "      <td>NaN</td>\n",
       "    </tr>\n",
       "    <tr>\n",
       "      <th>1</th>\n",
       "      <td>2</td>\n",
       "      <td>I am a developer by profession</td>\n",
       "      <td>Employed, full-time</td>\n",
       "      <td>Fully remote</td>\n",
       "      <td>Hobby;Contribute to open-source projects</td>\n",
       "      <td>NaN</td>\n",
       "      <td>NaN</td>\n",
       "      <td>NaN</td>\n",
       "      <td>NaN</td>\n",
       "      <td>NaN</td>\n",
       "      <td>...</td>\n",
       "      <td>NaN</td>\n",
       "      <td>NaN</td>\n",
       "      <td>NaN</td>\n",
       "      <td>NaN</td>\n",
       "      <td>NaN</td>\n",
       "      <td>NaN</td>\n",
       "      <td>NaN</td>\n",
       "      <td>Too long</td>\n",
       "      <td>Difficult</td>\n",
       "      <td>NaN</td>\n",
       "    </tr>\n",
       "    <tr>\n",
       "      <th>2</th>\n",
       "      <td>3</td>\n",
       "      <td>I am not primarily a developer, but I write co...</td>\n",
       "      <td>Employed, full-time</td>\n",
       "      <td>Hybrid (some remote, some in-person)</td>\n",
       "      <td>Hobby</td>\n",
       "      <td>Master’s degree (M.A., M.S., M.Eng., MBA, etc.)</td>\n",
       "      <td>Books / Physical media;Friend or family member...</td>\n",
       "      <td>Technical documentation;Blogs;Programming Game...</td>\n",
       "      <td>NaN</td>\n",
       "      <td>14</td>\n",
       "      <td>...</td>\n",
       "      <td>NaN</td>\n",
       "      <td>NaN</td>\n",
       "      <td>NaN</td>\n",
       "      <td>NaN</td>\n",
       "      <td>NaN</td>\n",
       "      <td>NaN</td>\n",
       "      <td>NaN</td>\n",
       "      <td>Appropriate in length</td>\n",
       "      <td>Neither easy nor difficult</td>\n",
       "      <td>40205.0</td>\n",
       "    </tr>\n",
       "    <tr>\n",
       "      <th>3</th>\n",
       "      <td>4</td>\n",
       "      <td>I am a developer by profession</td>\n",
       "      <td>Employed, full-time</td>\n",
       "      <td>Fully remote</td>\n",
       "      <td>I don’t code outside of work</td>\n",
       "      <td>Bachelor’s degree (B.A., B.S., B.Eng., etc.)</td>\n",
       "      <td>Books / Physical media;School (i.e., Universit...</td>\n",
       "      <td>NaN</td>\n",
       "      <td>NaN</td>\n",
       "      <td>20</td>\n",
       "      <td>...</td>\n",
       "      <td>NaN</td>\n",
       "      <td>NaN</td>\n",
       "      <td>NaN</td>\n",
       "      <td>NaN</td>\n",
       "      <td>NaN</td>\n",
       "      <td>NaN</td>\n",
       "      <td>NaN</td>\n",
       "      <td>Appropriate in length</td>\n",
       "      <td>Easy</td>\n",
       "      <td>215232.0</td>\n",
       "    </tr>\n",
       "    <tr>\n",
       "      <th>4</th>\n",
       "      <td>5</td>\n",
       "      <td>I am a developer by profession</td>\n",
       "      <td>Employed, full-time</td>\n",
       "      <td>Hybrid (some remote, some in-person)</td>\n",
       "      <td>Hobby</td>\n",
       "      <td>Bachelor’s degree (B.A., B.S., B.Eng., etc.)</td>\n",
       "      <td>Other online resources (e.g., videos, blogs, f...</td>\n",
       "      <td>Technical documentation;Blogs;Stack Overflow;O...</td>\n",
       "      <td>NaN</td>\n",
       "      <td>8</td>\n",
       "      <td>...</td>\n",
       "      <td>NaN</td>\n",
       "      <td>NaN</td>\n",
       "      <td>NaN</td>\n",
       "      <td>NaN</td>\n",
       "      <td>NaN</td>\n",
       "      <td>NaN</td>\n",
       "      <td>NaN</td>\n",
       "      <td>Too long</td>\n",
       "      <td>Easy</td>\n",
       "      <td>NaN</td>\n",
       "    </tr>\n",
       "  </tbody>\n",
       "</table>\n",
       "<p>5 rows × 79 columns</p>\n",
       "</div>"
      ],
      "text/plain": [
       "   ResponseId                                         MainBranch  \\\n",
       "0           1                                      None of these   \n",
       "1           2                     I am a developer by profession   \n",
       "2           3  I am not primarily a developer, but I write co...   \n",
       "3           4                     I am a developer by profession   \n",
       "4           5                     I am a developer by profession   \n",
       "\n",
       "            Employment                            RemoteWork  \\\n",
       "0                  NaN                                   NaN   \n",
       "1  Employed, full-time                          Fully remote   \n",
       "2  Employed, full-time  Hybrid (some remote, some in-person)   \n",
       "3  Employed, full-time                          Fully remote   \n",
       "4  Employed, full-time  Hybrid (some remote, some in-person)   \n",
       "\n",
       "                           CodingActivities  \\\n",
       "0                                       NaN   \n",
       "1  Hobby;Contribute to open-source projects   \n",
       "2                                     Hobby   \n",
       "3              I don’t code outside of work   \n",
       "4                                     Hobby   \n",
       "\n",
       "                                           EdLevel  \\\n",
       "0                                              NaN   \n",
       "1                                              NaN   \n",
       "2  Master’s degree (M.A., M.S., M.Eng., MBA, etc.)   \n",
       "3     Bachelor’s degree (B.A., B.S., B.Eng., etc.)   \n",
       "4     Bachelor’s degree (B.A., B.S., B.Eng., etc.)   \n",
       "\n",
       "                                           LearnCode  \\\n",
       "0                                                NaN   \n",
       "1                                                NaN   \n",
       "2  Books / Physical media;Friend or family member...   \n",
       "3  Books / Physical media;School (i.e., Universit...   \n",
       "4  Other online resources (e.g., videos, blogs, f...   \n",
       "\n",
       "                                     LearnCodeOnline LearnCodeCoursesCert  \\\n",
       "0                                                NaN                  NaN   \n",
       "1                                                NaN                  NaN   \n",
       "2  Technical documentation;Blogs;Programming Game...                  NaN   \n",
       "3                                                NaN                  NaN   \n",
       "4  Technical documentation;Blogs;Stack Overflow;O...                  NaN   \n",
       "\n",
       "  YearsCode  ... TimeSearching TimeAnswering Onboarding ProfessionalTech  \\\n",
       "0       NaN  ...           NaN           NaN        NaN              NaN   \n",
       "1       NaN  ...           NaN           NaN        NaN              NaN   \n",
       "2        14  ...           NaN           NaN        NaN              NaN   \n",
       "3        20  ...           NaN           NaN        NaN              NaN   \n",
       "4         8  ...           NaN           NaN        NaN              NaN   \n",
       "\n",
       "  TrueFalse_1 TrueFalse_2 TrueFalse_3           SurveyLength  \\\n",
       "0         NaN         NaN         NaN                    NaN   \n",
       "1         NaN         NaN         NaN               Too long   \n",
       "2         NaN         NaN         NaN  Appropriate in length   \n",
       "3         NaN         NaN         NaN  Appropriate in length   \n",
       "4         NaN         NaN         NaN               Too long   \n",
       "\n",
       "                   SurveyEase ConvertedCompYearly  \n",
       "0                         NaN                 NaN  \n",
       "1                   Difficult                 NaN  \n",
       "2  Neither easy nor difficult             40205.0  \n",
       "3                        Easy            215232.0  \n",
       "4                        Easy                 NaN  \n",
       "\n",
       "[5 rows x 79 columns]"
      ]
     },
     "execution_count": 2,
     "metadata": {},
     "output_type": "execute_result"
    }
   ],
   "source": [
    "# 일부 데이터 확안하기\n",
    "raw_data.head()"
   ]
  },
  {
   "cell_type": "code",
   "execution_count": 3,
   "id": "2cbcfeaf",
   "metadata": {},
   "outputs": [
    {
     "data": {
      "text/plain": [
       "0                                                      NaN\n",
       "1                                                      NaN\n",
       "2        Data scientist or machine learning specialist;...\n",
       "3                                    Developer, full-stack\n",
       "4        Developer, front-end;Developer, full-stack;Dev...\n",
       "                               ...                        \n",
       "73263                                  Developer, back-end\n",
       "73264        Data scientist or machine learning specialist\n",
       "73265    Developer, full-stack;Developer, desktop or en...\n",
       "73266    Developer, front-end;Developer, desktop or ent...\n",
       "73267    Developer, front-end;Engineer, data;Engineer, ...\n",
       "Name: DevType, Length: 73268, dtype: object"
      ]
     },
     "execution_count": 3,
     "metadata": {},
     "output_type": "execute_result"
    }
   ],
   "source": [
    "# 개발자 타입 열 데이터 확인하기\n",
    "raw_data['DevType']"
   ]
  },
  {
   "cell_type": "code",
   "execution_count": 4,
   "id": "0fbfff24",
   "metadata": {
    "scrolled": true
   },
   "outputs": [
    {
     "data": {
      "text/plain": [
       "0                                                      NaN\n",
       "1                                                      NaN\n",
       "2        [Data scientist or machine learning specialist...\n",
       "3                                  [Developer, full-stack]\n",
       "4        [Developer, front-end, Developer, full-stack, ...\n",
       "                               ...                        \n",
       "73263                                [Developer, back-end]\n",
       "73264      [Data scientist or machine learning specialist]\n",
       "73265    [Developer, full-stack, Developer, desktop or ...\n",
       "73266    [Developer, front-end, Developer, desktop or e...\n",
       "73267    [Developer, front-end, Engineer, data, Enginee...\n",
       "Name: DevType, Length: 73268, dtype: object"
      ]
     },
     "execution_count": 4,
     "metadata": {},
     "output_type": "execute_result"
    }
   ],
   "source": [
    "# 문자열을 리스트로 변환\n",
    "dev_type = raw_data['DevType'].str.split(';')\n",
    "dev_type"
   ]
  },
  {
   "cell_type": "code",
   "execution_count": 5,
   "id": "d6d61d09",
   "metadata": {},
   "outputs": [
    {
     "data": {
      "text/plain": [
       "2        [Data scientist or machine learning specialist...\n",
       "3                                  [Developer, full-stack]\n",
       "4        [Developer, front-end, Developer, full-stack, ...\n",
       "7                         [Developer, full-stack, Student]\n",
       "8                                    [Developer, back-end]\n",
       "                               ...                        \n",
       "73263                                [Developer, back-end]\n",
       "73264      [Data scientist or machine learning specialist]\n",
       "73265    [Developer, full-stack, Developer, desktop or ...\n",
       "73266    [Developer, front-end, Developer, desktop or e...\n",
       "73267    [Developer, front-end, Engineer, data, Enginee...\n",
       "Name: DevType, Length: 61302, dtype: object"
      ]
     },
     "execution_count": 5,
     "metadata": {},
     "output_type": "execute_result"
    }
   ],
   "source": [
    "# 결손치 제거\n",
    "dev_type.dropna(inplace=True)\n",
    "dev_type"
   ]
  },
  {
   "cell_type": "code",
   "execution_count": 6,
   "id": "1e40597b",
   "metadata": {},
   "outputs": [
    {
     "data": {
      "text/plain": [
       "2        Data scientist or machine learning specialist\n",
       "2                                 Developer, front-end\n",
       "2                                       Engineer, data\n",
       "2                           Engineer, site reliability\n",
       "3                                Developer, full-stack\n",
       "                             ...                      \n",
       "73267                         Data or business analyst\n",
       "73267                                         Designer\n",
       "73267                                        Scientist\n",
       "73267                                  Product manager\n",
       "73267                             System administrator\n",
       "Name: DevType, Length: 164790, dtype: object"
      ]
     },
     "execution_count": 6,
     "metadata": {},
     "output_type": "execute_result"
    }
   ],
   "source": [
    "# 리스트 항목을 각 열로 나누기\n",
    "exploded_dev_type = dev_type.explode()\n",
    "exploded_dev_type"
   ]
  },
  {
   "cell_type": "code",
   "execution_count": 7,
   "id": "277825e0",
   "metadata": {},
   "outputs": [
    {
     "data": {
      "text/plain": [
       "array(['Data scientist or machine learning specialist',\n",
       "       'Developer, front-end', 'Engineer, data',\n",
       "       'Engineer, site reliability', 'Developer, full-stack',\n",
       "       'Developer, back-end',\n",
       "       'Developer, desktop or enterprise applications',\n",
       "       'Developer, QA or test', 'Student', 'Developer, mobile',\n",
       "       'Educator', 'Engineering manager', 'Database administrator',\n",
       "       'Academic researcher', 'DevOps specialist',\n",
       "       'Other (please specify):',\n",
       "       'Developer, embedded applications or devices',\n",
       "       'Developer, game or graphics', 'Project manager',\n",
       "       'Cloud infrastructure engineer', 'Data or business analyst',\n",
       "       'Designer', 'Scientist', 'Product manager',\n",
       "       'Senior Executive (C-Suite, VP, etc.)', 'System administrator',\n",
       "       'Blockchain', 'Marketing or sales professional',\n",
       "       'Security professional'], dtype=object)"
      ]
     },
     "execution_count": 7,
     "metadata": {},
     "output_type": "execute_result"
    }
   ],
   "source": [
    "# 유일한 값 확인하기\n",
    "exploded_dev_type.unique()"
   ]
  },
  {
   "cell_type": "code",
   "execution_count": 8,
   "id": "920607b5",
   "metadata": {},
   "outputs": [
    {
     "data": {
      "text/plain": [
       "240                           Data or business analyst\n",
       "400                           Data or business analyst\n",
       "463      Data scientist or machine learning specialist\n",
       "1089     Data scientist or machine learning specialist\n",
       "1704     Data scientist or machine learning specialist\n",
       "                             ...                      \n",
       "73053                         Data or business analyst\n",
       "73054                         Data or business analyst\n",
       "73064    Data scientist or machine learning specialist\n",
       "73204                         Data or business analyst\n",
       "73264    Data scientist or machine learning specialist\n",
       "Name: DevType, Length: 742, dtype: object"
      ]
     },
     "execution_count": 8,
     "metadata": {},
     "output_type": "execute_result"
    }
   ],
   "source": [
    "# 데이터 분석가 데이터만 추출하기\n",
    "data_analyst_data = raw_data[raw_data['DevType'].isin(['Data scientist or machine learning specialist', 'Data or business analyst'])]\n",
    "data_analyst_data['DevType']"
   ]
  },
  {
   "cell_type": "code",
   "execution_count": 9,
   "id": "d278e839",
   "metadata": {},
   "outputs": [
    {
     "data": {
      "text/plain": [
       "240                   HTML/CSS;Python;Ruby;SQL;VBA\n",
       "400                      Bash/Shell;C++;Python;SQL\n",
       "463                          Bash/Shell;Python;SQL\n",
       "1089                                        Python\n",
       "1704             Elixir;Python;Rust;SQL;TypeScript\n",
       "                           ...                    \n",
       "73053                        PowerShell;Python;SQL\n",
       "73054                                            R\n",
       "73064                        Java;Python;Scala;SQL\n",
       "73204          Bash/Shell;HTML/CSS;Julia;R;SQL;VBA\n",
       "73264    Bash/Shell;HTML/CSS;JavaScript;Python;SQL\n",
       "Name: LanguageHaveWorkedWith, Length: 742, dtype: object"
      ]
     },
     "execution_count": 9,
     "metadata": {},
     "output_type": "execute_result"
    }
   ],
   "source": [
    "# 프로그래밍 언어 데이터 추출\n",
    "languages = data_analyst_data['LanguageHaveWorkedWith']\n",
    "# 데이터 확인\n",
    "languages"
   ]
  },
  {
   "cell_type": "code",
   "execution_count": 10,
   "id": "ce1416f9",
   "metadata": {},
   "outputs": [
    {
     "data": {
      "text/plain": [
       "240                   [HTML/CSS, Python, Ruby, SQL, VBA]\n",
       "400                       [Bash/Shell, C++, Python, SQL]\n",
       "463                            [Bash/Shell, Python, SQL]\n",
       "1089                                            [Python]\n",
       "1704             [Elixir, Python, Rust, SQL, TypeScript]\n",
       "                              ...                       \n",
       "73053                          [PowerShell, Python, SQL]\n",
       "73054                                                [R]\n",
       "73064                         [Java, Python, Scala, SQL]\n",
       "73204         [Bash/Shell, HTML/CSS, Julia, R, SQL, VBA]\n",
       "73264    [Bash/Shell, HTML/CSS, JavaScript, Python, SQL]\n",
       "Name: LanguageHaveWorkedWith, Length: 742, dtype: object"
      ]
     },
     "execution_count": 10,
     "metadata": {},
     "output_type": "execute_result"
    }
   ],
   "source": [
    "# 데이터 문자열 변환 후 구분자(;)로 구분\n",
    "languages = languages.str.split(';')\n",
    "\n",
    "# 데이터 확인\n",
    "languages"
   ]
  },
  {
   "cell_type": "code",
   "execution_count": 11,
   "id": "f1c1123c",
   "metadata": {},
   "outputs": [
    {
     "data": {
      "text/plain": [
       "240        HTML/CSS\n",
       "240          Python\n",
       "240            Ruby\n",
       "240             SQL\n",
       "240             VBA\n",
       "            ...    \n",
       "73264    Bash/Shell\n",
       "73264      HTML/CSS\n",
       "73264    JavaScript\n",
       "73264        Python\n",
       "73264           SQL\n",
       "Name: LanguageHaveWorkedWith, Length: 2566, dtype: object"
      ]
     },
     "execution_count": 11,
     "metadata": {},
     "output_type": "execute_result"
    }
   ],
   "source": [
    "# 리스트 항목을 행으로 나누기\n",
    "exploded_languages = languages.explode()\n",
    "\n",
    "# 데이터 확인\n",
    "exploded_languages"
   ]
  },
  {
   "cell_type": "code",
   "execution_count": 12,
   "id": "ef0b8ac2",
   "metadata": {},
   "outputs": [
    {
     "data": {
      "text/plain": [
       "LanguageHaveWorkedWith\n",
       "Python         624\n",
       "SQL            440\n",
       "R              213\n",
       "Bash/Shell     174\n",
       "JavaScript     169\n",
       "HTML/CSS       147\n",
       "C++            113\n",
       "Java            85\n",
       "VBA             70\n",
       "C               66\n",
       "C#              50\n",
       "PowerShell      46\n",
       "TypeScript      41\n",
       "MATLAB          41\n",
       "Julia           39\n",
       "SAS             33\n",
       "Scala           29\n",
       "Go              22\n",
       "Rust            22\n",
       "PHP             16\n",
       "Kotlin          10\n",
       "Swift           10\n",
       "Dart             9\n",
       "Ruby             9\n",
       "Assembly         8\n",
       "Lua              8\n",
       "Haskell          8\n",
       "LISP             7\n",
       "Perl             7\n",
       "Clojure          6\n",
       "APL              5\n",
       "Objective-C      5\n",
       "Groovy           4\n",
       "Solidity         4\n",
       "Fortran          3\n",
       "Delphi           2\n",
       "F#               2\n",
       "Elixir           2\n",
       "Crystal          1\n",
       "OCaml            1\n",
       "COBOL            1\n",
       "Erlang           1\n",
       "Name: LanguageHaveWorkedWith, dtype: int64"
      ]
     },
     "execution_count": 12,
     "metadata": {},
     "output_type": "execute_result"
    }
   ],
   "source": [
    "# 프로그래밍 별 응답 수 구하기\n",
    "size_by_languages = exploded_languages.groupby(exploded_languages).size()\n",
    "\n",
    "# 데이터 빈도 역순으로 정렬\n",
    "size_by_languages.sort_values(ascending=False, inplace=True)\n",
    "size_by_languages"
   ]
  },
  {
   "cell_type": "code",
   "execution_count": 13,
   "id": "5d4695fc",
   "metadata": {},
   "outputs": [
    {
     "data": {
      "text/html": [
       "<div>\n",
       "<style scoped>\n",
       "    .dataframe tbody tr th:only-of-type {\n",
       "        vertical-align: middle;\n",
       "    }\n",
       "\n",
       "    .dataframe tbody tr th {\n",
       "        vertical-align: top;\n",
       "    }\n",
       "\n",
       "    .dataframe thead th {\n",
       "        text-align: right;\n",
       "    }\n",
       "</style>\n",
       "<table border=\"1\" class=\"dataframe\">\n",
       "  <thead>\n",
       "    <tr style=\"text-align: right;\">\n",
       "      <th></th>\n",
       "      <th>language</th>\n",
       "      <th>count</th>\n",
       "    </tr>\n",
       "  </thead>\n",
       "  <tbody>\n",
       "    <tr>\n",
       "      <th>0</th>\n",
       "      <td>Python</td>\n",
       "      <td>624</td>\n",
       "    </tr>\n",
       "    <tr>\n",
       "      <th>1</th>\n",
       "      <td>SQL</td>\n",
       "      <td>440</td>\n",
       "    </tr>\n",
       "    <tr>\n",
       "      <th>2</th>\n",
       "      <td>R</td>\n",
       "      <td>213</td>\n",
       "    </tr>\n",
       "    <tr>\n",
       "      <th>3</th>\n",
       "      <td>Bash/Shell</td>\n",
       "      <td>174</td>\n",
       "    </tr>\n",
       "    <tr>\n",
       "      <th>4</th>\n",
       "      <td>JavaScript</td>\n",
       "      <td>169</td>\n",
       "    </tr>\n",
       "    <tr>\n",
       "      <th>5</th>\n",
       "      <td>HTML/CSS</td>\n",
       "      <td>147</td>\n",
       "    </tr>\n",
       "    <tr>\n",
       "      <th>6</th>\n",
       "      <td>C++</td>\n",
       "      <td>113</td>\n",
       "    </tr>\n",
       "    <tr>\n",
       "      <th>7</th>\n",
       "      <td>Java</td>\n",
       "      <td>85</td>\n",
       "    </tr>\n",
       "    <tr>\n",
       "      <th>8</th>\n",
       "      <td>VBA</td>\n",
       "      <td>70</td>\n",
       "    </tr>\n",
       "    <tr>\n",
       "      <th>9</th>\n",
       "      <td>C</td>\n",
       "      <td>66</td>\n",
       "    </tr>\n",
       "  </tbody>\n",
       "</table>\n",
       "</div>"
      ],
      "text/plain": [
       "     language  count\n",
       "0      Python    624\n",
       "1         SQL    440\n",
       "2           R    213\n",
       "3  Bash/Shell    174\n",
       "4  JavaScript    169\n",
       "5    HTML/CSS    147\n",
       "6         C++    113\n",
       "7        Java     85\n",
       "8         VBA     70\n",
       "9           C     66"
      ]
     },
     "execution_count": 13,
     "metadata": {},
     "output_type": "execute_result"
    }
   ],
   "source": [
    "# 데이터프레임 만들기 위한 딕셔너리 만들기\n",
    "frame = {'language': size_by_languages.index, 'count': size_by_languages.values}\n",
    "\n",
    "# 데이터프레임 만들기\n",
    "size_by_languages_df = pd.DataFrame(frame)\n",
    "size_by_languages_df.head(10)"
   ]
  },
  {
   "cell_type": "code",
   "execution_count": 14,
   "id": "26a7f379",
   "metadata": {},
   "outputs": [],
   "source": [
    "# 매트플랏립 라이브러리 탑재\n",
    "import matplotlib.pyplot as plt\n",
    "\n",
    "# Wordcloud 라이브러리 탑재\n",
    "from wordcloud import WordCloud"
   ]
  },
  {
   "cell_type": "code",
   "execution_count": 15,
   "id": "a26ddc13",
   "metadata": {
    "scrolled": false
   },
   "outputs": [
    {
     "data": {
      "text/plain": [
       "{'Python': 624,\n",
       " 'SQL': 440,\n",
       " 'R': 213,\n",
       " 'Bash/Shell': 174,\n",
       " 'JavaScript': 169,\n",
       " 'HTML/CSS': 147,\n",
       " 'C++': 113,\n",
       " 'Java': 85,\n",
       " 'VBA': 70,\n",
       " 'C': 66,\n",
       " 'C#': 50,\n",
       " 'PowerShell': 46,\n",
       " 'TypeScript': 41,\n",
       " 'MATLAB': 41,\n",
       " 'Julia': 39,\n",
       " 'SAS': 33,\n",
       " 'Scala': 29,\n",
       " 'Go': 22,\n",
       " 'Rust': 22,\n",
       " 'PHP': 16,\n",
       " 'Kotlin': 10,\n",
       " 'Swift': 10,\n",
       " 'Dart': 9,\n",
       " 'Ruby': 9,\n",
       " 'Assembly': 8,\n",
       " 'Lua': 8,\n",
       " 'Haskell': 8,\n",
       " 'LISP': 7,\n",
       " 'Perl': 7,\n",
       " 'Clojure': 6,\n",
       " 'APL': 5,\n",
       " 'Objective-C': 5,\n",
       " 'Groovy': 4,\n",
       " 'Solidity': 4,\n",
       " 'Fortran': 3,\n",
       " 'Delphi': 2,\n",
       " 'F#': 2,\n",
       " 'Elixir': 2,\n",
       " 'Crystal': 1,\n",
       " 'OCaml': 1,\n",
       " 'COBOL': 1,\n",
       " 'Erlang': 1}"
      ]
     },
     "execution_count": 15,
     "metadata": {},
     "output_type": "execute_result"
    }
   ],
   "source": [
    "# 데이터프레임을 딕셔너리로 변경하기\n",
    "size_by_languages.to_dict()"
   ]
  },
  {
   "cell_type": "code",
   "execution_count": 16,
   "id": "8001ea98",
   "metadata": {},
   "outputs": [
    {
     "data": {
      "text/plain": [
       "<wordcloud.wordcloud.WordCloud at 0x2096a616150>"
      ]
     },
     "execution_count": 16,
     "metadata": {},
     "output_type": "execute_result"
    }
   ],
   "source": [
    "# 워드클라우드 만들기\n",
    "wordcloud = WordCloud(background_color = 'white').generate_from_frequencies(size_by_languages.to_dict())\n",
    "wordcloud"
   ]
  },
  {
   "cell_type": "code",
   "execution_count": 17,
   "id": "ab0ae68d",
   "metadata": {
    "scrolled": false
   },
   "outputs": [
    {
     "data": {
      "image/png": "[encoded data removed]",
      "text/plain": [
       "<Figure size 1000x1000 with 1 Axes>"
      ]
     },
     "metadata": {},
     "output_type": "display_data"
    }
   ],
   "source": [
    "# 워드 클라우드 그리기\n",
    "plt.rcParams['figure.figsize'] = (10, 10)\n",
    "plt.imshow(wordcloud)\n",
    "plt.axis('off')\n",
    "plt.show()"
   ]
  },
  {
   "cell_type": "code",
   "execution_count": 18,
   "id": "4c66fab4",
   "metadata": {},
   "outputs": [
    {
     "data": {
      "application/vnd.plotly.v1+json": {
       "config": {
        "plotlyServerURL": "https://plot.ly"
       },
       "data": [
        {
         "branchvalues": "total",
         "domain": {
          "x": [
           0,
           1
          ],
          "y": [
           0,
           1
          ]
         },
         "hovertemplate": "labels=%{label}<br>count=%{value}<br>parent=%{parent}<br>id=%{id}<extra></extra>",
         "ids": [
          "APL",
          "Assembly",
          "Bash/Shell",
          "C",
          "C#",
          "C++",
          "COBOL",
          "Clojure",
          "Crystal",
          "Dart",
          "Delphi",
          "Elixir",
          "Erlang",
          "F#",
          "Fortran",
          "Go",
          "Groovy",
          "HTML/CSS",
          "Haskell",
          "Java",
          "JavaScript",
          "Julia",
          "Kotlin",
          "LISP",
          "Lua",
          "MATLAB",
          "OCaml",
          "Objective-C",
          "PHP",
          "Perl",
          "PowerShell",
          "Python",
          "R",
          "Ruby",
          "Rust",
          "SAS",
          "SQL",
          "Scala",
          "Solidity",
          "Swift",
          "TypeScript",
          "VBA"
         ],
         "labels": [
          "APL",
          "Assembly",
          "Bash/Shell",
          "C",
          "C#",
          "C++",
          "COBOL",
          "Clojure",
          "Crystal",
          "Dart",
          "Delphi",
          "Elixir",
          "Erlang",
          "F#",
          "Fortran",
          "Go",
          "Groovy",
          "HTML/CSS",
          "Haskell",
          "Java",
          "JavaScript",
          "Julia",
          "Kotlin",
          "LISP",
          "Lua",
          "MATLAB",
          "OCaml",
          "Objective-C",
          "PHP",
          "Perl",
          "PowerShell",
          "Python",
          "R",
          "Ruby",
          "Rust",
          "SAS",
          "SQL",
          "Scala",
          "Solidity",
          "Swift",
          "TypeScript",
          "VBA"
         ],
         "name": "",
         "parents": [
          "",
          "",
          "",
          "",
          "",
          "",
          "",
          "",
          "",
          "",
          "",
          "",
          "",
          "",
          "",
          "",
          "",
          "",
          "",
          "",
          "",
          "",
          "",
          "",
          "",
          "",
          "",
          "",
          "",
          "",
          "",
          "",
          "",
          "",
          "",
          "",
          "",
          "",
          "",
          "",
          "",
          ""
         ],
         "type": "treemap",
         "values": [
          5,
          8,
          174,
          66,
          50,
          113,
          1,
          6,
          1,
          9,
          2,
          2,
          1,
          2,
          3,
          22,
          4,
          147,
          8,
          85,
          169,
          39,
          10,
          7,
          8,
          41,
          1,
          5,
          16,
          7,
          46,
          624,
          213,
          9,
          22,
          33,
          440,
          29,
          4,
          10,
          41,
          70
         ]
        }
       ],
       "layout": {
        "legend": {
         "tracegroupgap": 0
        },
        "margin": {
         "t": 60
        },
        "template": {
         "data": {
          "bar": [
           {
            "error_x": {
             "color": "#2a3f5f"
            },
            "error_y": {
             "color": "#2a3f5f"
            },
            "marker": {
             "line": {
              "color": "#E5ECF6",
              "width": 0.5
             },
             "pattern": {
              "fillmode": "overlay",
              "size": 10,
              "solidity": 0.2
             }
            },
            "type": "bar"
           }
          ],
          "barpolar": [
           {
            "marker": {
             "line": {
              "color": "#E5ECF6",
              "width": 0.5
             },
             "pattern": {
              "fillmode": "overlay",
              "size": 10,
              "solidity": 0.2
             }
            },
            "type": "barpolar"
           }
          ],
          "carpet": [
           {
            "aaxis": {
             "endlinecolor": "#2a3f5f",
             "gridcolor": "white",
             "linecolor": "white",
             "minorgridcolor": "white",
             "startlinecolor": "#2a3f5f"
            },
            "baxis": {
             "endlinecolor": "#2a3f5f",
             "gridcolor": "white",
             "linecolor": "white",
             "minorgridcolor": "white",
             "startlinecolor": "#2a3f5f"
            },
            "type": "carpet"
           }
          ],
          "choropleth": [
           {
            "colorbar": {
             "outlinewidth": 0,
             "ticks": ""
            },
            "type": "choropleth"
           }
          ],
          "contour": [
           {
            "colorbar": {
             "outlinewidth": 0,
             "ticks": ""
            },
            "colorscale": [
             [
              0,
              "#0d0887"
             ],
             [
              0.1111111111111111,
              "#46039f"
             ],
             [
              0.2222222222222222,
              "#7201a8"
             ],
             [
              0.3333333333333333,
              "#9c179e"
             ],
             [
              0.4444444444444444,
              "#bd3786"
             ],
             [
              0.5555555555555556,
              "#d8576b"
             ],
             [
              0.6666666666666666,
              "#ed7953"
             ],
             [
              0.7777777777777778,
              "#fb9f3a"
             ],
             [
              0.8888888888888888,
              "#fdca26"
             ],
             [
              1,
              "#f0f921"
             ]
            ],
            "type": "contour"
           }
          ],
          "contourcarpet": [
           {
            "colorbar": {
             "outlinewidth": 0,
             "ticks": ""
            },
            "type": "contourcarpet"
           }
          ],
          "heatmap": [
           {
            "colorbar": {
             "outlinewidth": 0,
             "ticks": ""
            },
            "colorscale": [
             [
              0,
              "#0d0887"
             ],
             [
              0.1111111111111111,
              "#46039f"
             ],
             [
              0.2222222222222222,
              "#7201a8"
             ],
             [
              0.3333333333333333,
              "#9c179e"
             ],
             [
              0.4444444444444444,
              "#bd3786"
             ],
             [
              0.5555555555555556,
              "#d8576b"
             ],
             [
              0.6666666666666666,
              "#ed7953"
             ],
             [
              0.7777777777777778,
              "#fb9f3a"
             ],
             [
              0.8888888888888888,
              "#fdca26"
             ],
             [
              1,
              "#f0f921"
             ]
            ],
            "type": "heatmap"
           }
          ],
          "heatmapgl": [
           {
            "colorbar": {
             "outlinewidth": 0,
             "ticks": ""
            },
            "colorscale": [
             [
              0,
              "#0d0887"
             ],
             [
              0.1111111111111111,
              "#46039f"
             ],
             [
              0.2222222222222222,
              "#7201a8"
             ],
             [
              0.3333333333333333,
              "#9c179e"
             ],
             [
              0.4444444444444444,
              "#bd3786"
             ],
             [
              0.5555555555555556,
              "#d8576b"
             ],
             [
              0.6666666666666666,
              "#ed7953"
             ],
             [
              0.7777777777777778,
              "#fb9f3a"
             ],
             [
              0.8888888888888888,
              "#fdca26"
             ],
             [
              1,
              "#f0f921"
             ]
            ],
            "type": "heatmapgl"
           }
          ],
          "histogram": [
           {
            "marker": {
             "pattern": {
              "fillmode": "overlay",
              "size": 10,
              "solidity": 0.2
             }
            },
            "type": "histogram"
           }
          ],
          "histogram2d": [
           {
            "colorbar": {
             "outlinewidth": 0,
             "ticks": ""
            },
            "colorscale": [
             [
              0,
              "#0d0887"
             ],
             [
              0.1111111111111111,
              "#46039f"
             ],
             [
              0.2222222222222222,
              "#7201a8"
             ],
             [
              0.3333333333333333,
              "#9c179e"
             ],
             [
              0.4444444444444444,
              "#bd3786"
             ],
             [
              0.5555555555555556,
              "#d8576b"
             ],
             [
              0.6666666666666666,
              "#ed7953"
             ],
             [
              0.7777777777777778,
              "#fb9f3a"
             ],
             [
              0.8888888888888888,
              "#fdca26"
             ],
             [
              1,
              "#f0f921"
             ]
            ],
            "type": "histogram2d"
           }
          ],
          "histogram2dcontour": [
           {
            "colorbar": {
             "outlinewidth": 0,
             "ticks": ""
            },
            "colorscale": [
             [
              0,
              "#0d0887"
             ],
             [
              0.1111111111111111,
              "#46039f"
             ],
             [
              0.2222222222222222,
              "#7201a8"
             ],
             [
              0.3333333333333333,
              "#9c179e"
             ],
             [
              0.4444444444444444,
              "#bd3786"
             ],
             [
              0.5555555555555556,
              "#d8576b"
             ],
             [
              0.6666666666666666,
              "#ed7953"
             ],
             [
              0.7777777777777778,
              "#fb9f3a"
             ],
             [
              0.8888888888888888,
              "#fdca26"
             ],
             [
              1,
              "#f0f921"
             ]
            ],
            "type": "histogram2dcontour"
           }
          ],
          "mesh3d": [
           {
            "colorbar": {
             "outlinewidth": 0,
             "ticks": ""
            },
            "type": "mesh3d"
           }
          ],
          "parcoords": [
           {
            "line": {
             "colorbar": {
              "outlinewidth": 0,
              "ticks": ""
             }
            },
            "type": "parcoords"
           }
          ],
          "pie": [
           {
            "automargin": true,
            "type": "pie"
           }
          ],
          "scatter": [
           {
            "fillpattern": {
             "fillmode": "overlay",
             "size": 10,
             "solidity": 0.2
            },
            "type": "scatter"
           }
          ],
          "scatter3d": [
           {
            "line": {
             "colorbar": {
              "outlinewidth": 0,
              "ticks": ""
             }
            },
            "marker": {
             "colorbar": {
              "outlinewidth": 0,
              "ticks": ""
             }
            },
            "type": "scatter3d"
           }
          ],
          "scattercarpet": [
           {
            "marker": {
             "colorbar": {
              "outlinewidth": 0,
              "ticks": ""
             }
            },
            "type": "scattercarpet"
           }
          ],
          "scattergeo": [
           {
            "marker": {
             "colorbar": {
              "outlinewidth": 0,
              "ticks": ""
             }
            },
            "type": "scattergeo"
           }
          ],
          "scattergl": [
           {
            "marker": {
             "colorbar": {
              "outlinewidth": 0,
              "ticks": ""
             }
            },
            "type": "scattergl"
           }
          ],
          "scattermapbox": [
           {
            "marker": {
             "colorbar": {
              "outlinewidth": 0,
              "ticks": ""
             }
            },
            "type": "scattermapbox"
           }
          ],
          "scatterpolar": [
           {
            "marker": {
             "colorbar": {
              "outlinewidth": 0,
              "ticks": ""
             }
            },
            "type": "scatterpolar"
           }
          ],
          "scatterpolargl": [
           {
            "marker": {
             "colorbar": {
              "outlinewidth": 0,
              "ticks": ""
             }
            },
            "type": "scatterpolargl"
           }
          ],
          "scatterternary": [
           {
            "marker": {
             "colorbar": {
              "outlinewidth": 0,
              "ticks": ""
             }
            },
            "type": "scatterternary"
           }
          ],
          "surface": [
           {
            "colorbar": {
             "outlinewidth": 0,
             "ticks": ""
            },
            "colorscale": [
             [
              0,
              "#0d0887"
             ],
             [
              0.1111111111111111,
              "#46039f"
             ],
             [
              0.2222222222222222,
              "#7201a8"
             ],
             [
              0.3333333333333333,
              "#9c179e"
             ],
             [
              0.4444444444444444,
              "#bd3786"
             ],
             [
              0.5555555555555556,
              "#d8576b"
             ],
             [
              0.6666666666666666,
              "#ed7953"
             ],
             [
              0.7777777777777778,
              "#fb9f3a"
             ],
             [
              0.8888888888888888,
              "#fdca26"
             ],
             [
              1,
              "#f0f921"
             ]
            ],
            "type": "surface"
           }
          ],
          "table": [
           {
            "cells": {
             "fill": {
              "color": "#EBF0F8"
             },
             "line": {
              "color": "white"
             }
            },
            "header": {
             "fill": {
              "color": "#C8D4E3"
             },
             "line": {
              "color": "white"
             }
            },
            "type": "table"
           }
          ]
         },
         "layout": {
          "annotationdefaults": {
           "arrowcolor": "#2a3f5f",
           "arrowhead": 0,
           "arrowwidth": 1
          },
          "autotypenumbers": "strict",
          "coloraxis": {
           "colorbar": {
            "outlinewidth": 0,
            "ticks": ""
           }
          },
          "colorscale": {
           "diverging": [
            [
             0,
             "#8e0152"
            ],
            [
             0.1,
             "#c51b7d"
            ],
            [
             0.2,
             "#de77ae"
            ],
            [
             0.3,
             "#f1b6da"
            ],
            [
             0.4,
             "#fde0ef"
            ],
            [
             0.5,
             "#f7f7f7"
            ],
            [
             0.6,
             "#e6f5d0"
            ],
            [
             0.7,
             "#b8e186"
            ],
            [
             0.8,
             "#7fbc41"
            ],
            [
             0.9,
             "#4d9221"
            ],
            [
             1,
             "#276419"
            ]
           ],
           "sequential": [
            [
             0,
             "#0d0887"
            ],
            [
             0.1111111111111111,
             "#46039f"
            ],
            [
             0.2222222222222222,
             "#7201a8"
            ],
            [
             0.3333333333333333,
             "#9c179e"
            ],
            [
             0.4444444444444444,
             "#bd3786"
            ],
            [
             0.5555555555555556,
             "#d8576b"
            ],
            [
             0.6666666666666666,
             "#ed7953"
            ],
            [
             0.7777777777777778,
             "#fb9f3a"
            ],
            [
             0.8888888888888888,
             "#fdca26"
            ],
            [
             1,
             "#f0f921"
            ]
           ],
           "sequentialminus": [
            [
             0,
             "#0d0887"
            ],
            [
             0.1111111111111111,
             "#46039f"
            ],
            [
             0.2222222222222222,
             "#7201a8"
            ],
            [
             0.3333333333333333,
             "#9c179e"
            ],
            [
             0.4444444444444444,
             "#bd3786"
            ],
            [
             0.5555555555555556,
             "#d8576b"
            ],
            [
             0.6666666666666666,
             "#ed7953"
            ],
            [
             0.7777777777777778,
             "#fb9f3a"
            ],
            [
             0.8888888888888888,
             "#fdca26"
            ],
            [
             1,
             "#f0f921"
            ]
           ]
          },
          "colorway": [
           "#636efa",
           "#EF553B",
           "#00cc96",
           "#ab63fa",
           "#FFA15A",
           "#19d3f3",
           "#FF6692",
           "#B6E880",
           "#FF97FF",
           "#FECB52"
          ],
          "font": {
           "color": "#2a3f5f"
          },
          "geo": {
           "bgcolor": "white",
           "lakecolor": "white",
           "landcolor": "#E5ECF6",
           "showlakes": true,
           "showland": true,
           "subunitcolor": "white"
          },
          "hoverlabel": {
           "align": "left"
          },
          "hovermode": "closest",
          "mapbox": {
           "style": "light"
          },
          "paper_bgcolor": "white",
          "plot_bgcolor": "#E5ECF6",
          "polar": {
           "angularaxis": {
            "gridcolor": "white",
            "linecolor": "white",
            "ticks": ""
           },
           "bgcolor": "#E5ECF6",
           "radialaxis": {
            "gridcolor": "white",
            "linecolor": "white",
            "ticks": ""
           }
          },
          "scene": {
           "xaxis": {
            "backgroundcolor": "#E5ECF6",
            "gridcolor": "white",
            "gridwidth": 2,
            "linecolor": "white",
            "showbackground": true,
            "ticks": "",
            "zerolinecolor": "white"
           },
           "yaxis": {
            "backgroundcolor": "#E5ECF6",
            "gridcolor": "white",
            "gridwidth": 2,
            "linecolor": "white",
            "showbackground": true,
            "ticks": "",
            "zerolinecolor": "white"
           },
           "zaxis": {
            "backgroundcolor": "#E5ECF6",
            "gridcolor": "white",
            "gridwidth": 2,
            "linecolor": "white",
            "showbackground": true,
            "ticks": "",
            "zerolinecolor": "white"
           }
          },
          "shapedefaults": {
           "line": {
            "color": "#2a3f5f"
           }
          },
          "ternary": {
           "aaxis": {
            "gridcolor": "white",
            "linecolor": "white",
            "ticks": ""
           },
           "baxis": {
            "gridcolor": "white",
            "linecolor": "white",
            "ticks": ""
           },
           "bgcolor": "#E5ECF6",
           "caxis": {
            "gridcolor": "white",
            "linecolor": "white",
            "ticks": ""
           }
          },
          "title": {
           "x": 0.05
          },
          "xaxis": {
           "automargin": true,
           "gridcolor": "white",
           "linecolor": "white",
           "ticks": "",
           "title": {
            "standoff": 15
           },
           "zerolinecolor": "white",
           "zerolinewidth": 2
          },
          "yaxis": {
           "automargin": true,
           "gridcolor": "white",
           "linecolor": "white",
           "ticks": "",
           "title": {
            "standoff": 15
           },
           "zerolinecolor": "white",
           "zerolinewidth": 2
          }
         }
        }
       }
      }
     },
     "metadata": {},
     "output_type": "display_data"
    }
   ],
   "source": [
    "# plotly.express 모듈 탑재\n",
    "import plotly.express as px\n",
    "\n",
    "# 트리맵 그리기\n",
    "fig = px.treemap(size_by_languages_df, path=['language'], values='count')\n",
    "fig.show()"
   ]
  },
  {
   "cell_type": "code",
   "execution_count": 19,
   "id": "c3cba3ea",
   "metadata": {
    "scrolled": false
   },
   "outputs": [
    {
     "data": {
      "text/plain": [
       "[['HTML/CSS', 'Python', 'Ruby', 'SQL', 'VBA'],\n",
       " ['Bash/Shell', 'C++', 'Python', 'SQL'],\n",
       " ['Bash/Shell', 'Python', 'SQL'],\n",
       " ['Python'],\n",
       " ['Elixir', 'Python', 'Rust', 'SQL', 'TypeScript'],\n",
       " ['Python'],\n",
       " ['Bash/Shell',\n",
       "  'C++',\n",
       "  'HTML/CSS',\n",
       "  'JavaScript',\n",
       "  'Python',\n",
       "  'Rust',\n",
       "  'SQL',\n",
       "  'TypeScript'],\n",
       " ['Python', 'SQL'],\n",
       " ['Bash/Shell', 'Go', 'HTML/CSS', 'Python'],\n",
       " ['Bash/Shell', 'Python', 'Rust']]"
      ]
     },
     "execution_count": 19,
     "metadata": {},
     "output_type": "execute_result"
    }
   ],
   "source": [
    "# 결손치 제거\n",
    "languages.dropna(inplace=True)\n",
    "\n",
    "# 필터링을 위한 리스트로 변환\n",
    "lang_list = languages.to_list()\n",
    "\n",
    "# 일부 값 확인\n",
    "lang_list[:10]"
   ]
  },
  {
   "cell_type": "code",
   "execution_count": 20,
   "id": "6bdd8d34",
   "metadata": {},
   "outputs": [],
   "source": [
    "# 추출 대상 프로그래밍 언어 선정\n",
    "target_langs = ['Python', 'R', 'SQL','MATLAB', 'Go', 'SAS', 'Scala', 'Julia', 'Java', 'JavaScript']"
   ]
  },
  {
   "cell_type": "code",
   "execution_count": 21,
   "id": "a7909b3c",
   "metadata": {},
   "outputs": [
    {
     "data": {
      "text/plain": [
       "[['Python', 'SQL'],\n",
       " ['Python', 'SQL'],\n",
       " ['Python', 'SQL'],\n",
       " ['Python'],\n",
       " ['Python', 'SQL'],\n",
       " ['Python'],\n",
       " ['JavaScript', 'Python', 'SQL'],\n",
       " ['Python', 'SQL'],\n",
       " ['Go', 'Python'],\n",
       " ['Python'],\n",
       " ['Python'],\n",
       " ['Go', 'Java'],\n",
       " ['JavaScript', 'Python'],\n",
       " ['Python', 'R', 'SQL'],\n",
       " ['Julia', 'Python', 'R'],\n",
       " ['Python', 'SQL'],\n",
       " ['JavaScript', 'Python'],\n",
       " ['Python', 'SQL'],\n",
       " ['Julia', 'Python', 'R', 'SQL'],\n",
       " ['Python'],\n",
       " ['Python', 'R', 'SAS', 'SQL'],\n",
       " ['Python'],\n",
       " ['JavaScript', 'Python', 'SQL'],\n",
       " ['JavaScript', 'Python', 'R', 'SAS', 'SQL'],\n",
       " ['Python', 'Scala', 'SQL'],\n",
       " ['Python', 'R'],\n",
       " ['Python', 'R'],\n",
       " ['JavaScript', 'Python', 'R', 'SQL'],\n",
       " ['Python'],\n",
       " ['Python'],\n",
       " ['Python', 'R', 'SQL'],\n",
       " ['JavaScript', 'Python'],\n",
       " ['SQL'],\n",
       " ['Python', 'R', 'SQL'],\n",
       " ['Python', 'SQL'],\n",
       " ['Python'],\n",
       " ['Python', 'R', 'SQL'],\n",
       " ['Python'],\n",
       " ['Python'],\n",
       " ['Julia', 'Python', 'R', 'SQL'],\n",
       " ['Java', 'Python'],\n",
       " ['Python'],\n",
       " ['Python'],\n",
       " ['JavaScript', 'Python', 'SQL'],\n",
       " ['Java', 'JavaScript', 'Python'],\n",
       " ['JavaScript', 'Python'],\n",
       " ['Python', 'SQL'],\n",
       " ['MATLAB', 'Python', 'R'],\n",
       " ['Java', 'JavaScript', 'Python', 'SQL'],\n",
       " ['MATLAB', 'Python', 'R', 'SQL'],\n",
       " ['Python', 'SQL'],\n",
       " ['Julia', 'Python', 'SQL'],\n",
       " ['Python'],\n",
       " ['Python'],\n",
       " ['Python', 'SQL'],\n",
       " ['Python'],\n",
       " ['Python', 'SQL'],\n",
       " ['Python', 'R', 'SQL'],\n",
       " ['SQL'],\n",
       " ['Python'],\n",
       " ['Java', 'JavaScript', 'SQL'],\n",
       " ['Python', 'SQL'],\n",
       " ['Python', 'R', 'Scala', 'SQL'],\n",
       " ['Python', 'R'],\n",
       " ['Python'],\n",
       " ['JavaScript', 'Python', 'SQL'],\n",
       " ['Python', 'R', 'SQL'],\n",
       " ['R'],\n",
       " [],\n",
       " ['Go', 'Python', 'SAS', 'SQL'],\n",
       " ['Go', 'JavaScript', 'Python', 'SQL'],\n",
       " ['Java', 'JavaScript', 'Python', 'SQL'],\n",
       " ['Java', 'JavaScript', 'Python', 'R', 'SQL'],\n",
       " ['Python', 'SQL'],\n",
       " ['Python', 'R', 'SQL'],\n",
       " ['JavaScript', 'SQL'],\n",
       " ['Python'],\n",
       " [],\n",
       " ['Python'],\n",
       " ['Python'],\n",
       " ['Java', 'JavaScript', 'MATLAB', 'Python', 'SQL'],\n",
       " ['JavaScript', 'Python', 'SQL'],\n",
       " ['JavaScript', 'Python'],\n",
       " ['Python', 'R', 'SQL'],\n",
       " ['Python'],\n",
       " ['Python'],\n",
       " ['JavaScript', 'Python', 'SQL'],\n",
       " ['Python', 'SQL'],\n",
       " ['Java', 'JavaScript', 'Python', 'R', 'SQL'],\n",
       " ['Python', 'Scala', 'SQL'],\n",
       " ['Python', 'R'],\n",
       " ['Go', 'JavaScript', 'Python'],\n",
       " ['Python', 'R'],\n",
       " ['Python', 'R', 'SAS', 'Scala', 'SQL'],\n",
       " ['JavaScript', 'Python'],\n",
       " ['MATLAB', 'Python'],\n",
       " ['Python'],\n",
       " ['Java', 'JavaScript', 'Python'],\n",
       " ['Python', 'R', 'SQL'],\n",
       " ['Python'],\n",
       " ['R'],\n",
       " ['Julia', 'SQL'],\n",
       " ['Python'],\n",
       " ['JavaScript', 'Python', 'SQL'],\n",
       " ['Python', 'SQL'],\n",
       " ['Python'],\n",
       " ['Python', 'SQL'],\n",
       " ['JavaScript', 'Julia', 'Python'],\n",
       " ['JavaScript', 'Python', 'SQL'],\n",
       " ['Python', 'R'],\n",
       " ['Python', 'SQL'],\n",
       " ['Python'],\n",
       " ['Python', 'SQL'],\n",
       " ['Python'],\n",
       " ['Python', 'R'],\n",
       " ['Python'],\n",
       " ['JavaScript', 'Python'],\n",
       " ['Java', 'MATLAB', 'Python', 'SAS', 'SQL'],\n",
       " ['Julia', 'Python'],\n",
       " ['R', 'SAS', 'SQL'],\n",
       " ['Python', 'R', 'SQL'],\n",
       " ['Python', 'R'],\n",
       " ['JavaScript', 'Python', 'R', 'SQL'],\n",
       " ['Julia', 'Python', 'R', 'SQL'],\n",
       " ['MATLAB', 'Python', 'SQL'],\n",
       " ['Python', 'SQL'],\n",
       " ['Python', 'R'],\n",
       " ['Java', 'JavaScript', 'Python', 'SAS', 'SQL'],\n",
       " [],\n",
       " ['Python', 'SAS', 'SQL'],\n",
       " ['Python', 'R', 'SAS', 'SQL'],\n",
       " ['JavaScript', 'Python'],\n",
       " ['R', 'SQL'],\n",
       " ['Python'],\n",
       " ['Python', 'SQL'],\n",
       " ['Julia', 'Python'],\n",
       " ['Julia', 'Python'],\n",
       " ['Python', 'R', 'SQL'],\n",
       " ['JavaScript', 'Python', 'SQL'],\n",
       " [],\n",
       " ['Python', 'R', 'SQL'],\n",
       " ['Python', 'R', 'SQL'],\n",
       " ['Python', 'SQL'],\n",
       " ['JavaScript', 'Julia', 'Python', 'SQL'],\n",
       " ['Julia', 'Python', 'SQL'],\n",
       " ['Python', 'R', 'SQL'],\n",
       " ['JavaScript', 'Python'],\n",
       " ['Julia', 'MATLAB', 'Python', 'R'],\n",
       " ['Julia', 'Python', 'R', 'SQL'],\n",
       " ['JavaScript', 'Python'],\n",
       " ['Python'],\n",
       " ['Python', 'R', 'SQL'],\n",
       " ['SQL'],\n",
       " ['Python', 'R', 'SAS'],\n",
       " ['Python', 'R', 'SAS', 'SQL'],\n",
       " ['Java', 'Python', 'SQL'],\n",
       " ['JavaScript', 'Python', 'R', 'SQL'],\n",
       " ['MATLAB', 'Python', 'R', 'SQL'],\n",
       " ['Python', 'R', 'SQL'],\n",
       " ['Java', 'JavaScript', 'Python', 'SQL'],\n",
       " ['Java', 'JavaScript'],\n",
       " ['Python', 'R'],\n",
       " ['Python', 'SQL'],\n",
       " ['Go', 'Python'],\n",
       " ['Julia', 'Python'],\n",
       " ['Python', 'SQL'],\n",
       " ['Java'],\n",
       " ['Python'],\n",
       " ['JavaScript', 'SQL'],\n",
       " ['JavaScript', 'Python', 'SQL'],\n",
       " ['Python', 'R', 'SQL'],\n",
       " ['Python', 'R', 'SAS', 'SQL'],\n",
       " [],\n",
       " ['MATLAB', 'Python', 'SQL'],\n",
       " ['Python', 'R'],\n",
       " ['JavaScript', 'Python'],\n",
       " ['Java', 'JavaScript', 'Python', 'Scala', 'SQL'],\n",
       " ['MATLAB', 'Python', 'R', 'SQL'],\n",
       " ['SQL'],\n",
       " ['R', 'SQL'],\n",
       " ['MATLAB', 'Python'],\n",
       " ['SQL'],\n",
       " ['Python', 'SQL'],\n",
       " ['Julia', 'Python', 'R', 'SQL'],\n",
       " ['Java', 'Python', 'R', 'SQL'],\n",
       " ['Python', 'R', 'SQL'],\n",
       " [],\n",
       " ['Python', 'SQL'],\n",
       " ['Python'],\n",
       " ['MATLAB', 'Python', 'SQL'],\n",
       " ['Java', 'SQL'],\n",
       " ['MATLAB', 'Python', 'SQL'],\n",
       " ['Python', 'R', 'SAS', 'SQL'],\n",
       " ['Julia', 'SQL'],\n",
       " ['Python'],\n",
       " ['R', 'SAS', 'SQL'],\n",
       " ['Python', 'SQL'],\n",
       " ['Python', 'SQL'],\n",
       " ['SQL'],\n",
       " ['Python'],\n",
       " ['SQL'],\n",
       " ['Python', 'SQL'],\n",
       " ['Python', 'SQL'],\n",
       " ['Python', 'SQL'],\n",
       " ['Python', 'SQL'],\n",
       " ['Java', 'JavaScript', 'Python', 'Scala', 'SQL'],\n",
       " ['Go', 'Python', 'SQL'],\n",
       " ['Python', 'R'],\n",
       " ['Python'],\n",
       " ['Julia', 'Python', 'R', 'Scala'],\n",
       " ['Go', 'JavaScript', 'Python', 'R', 'SQL'],\n",
       " ['Julia', 'Python', 'R', 'SQL'],\n",
       " ['Go', 'Python'],\n",
       " ['JavaScript', 'Julia', 'Python'],\n",
       " ['Java', 'Python', 'SQL'],\n",
       " ['Java', 'Python', 'SQL'],\n",
       " ['MATLAB', 'Python', 'SQL'],\n",
       " ['JavaScript', 'Python'],\n",
       " ['JavaScript', 'Python', 'R', 'SQL'],\n",
       " ['Python'],\n",
       " ['Python', 'SQL'],\n",
       " ['Python', 'SQL'],\n",
       " ['JavaScript', 'Python', 'SQL'],\n",
       " ['Java', 'Python', 'SQL'],\n",
       " ['Python', 'SQL'],\n",
       " ['Python'],\n",
       " ['Python', 'R', 'SQL'],\n",
       " ['Julia', 'Python', 'R', 'SQL'],\n",
       " ['JavaScript', 'Python', 'SQL'],\n",
       " ['Python'],\n",
       " ['Python', 'R', 'SQL'],\n",
       " ['Python'],\n",
       " ['Java', 'Python', 'SQL'],\n",
       " ['Python', 'R', 'SQL'],\n",
       " ['Python', 'R'],\n",
       " ['JavaScript', 'Python', 'SQL'],\n",
       " ['Python', 'R'],\n",
       " ['Python', 'R'],\n",
       " ['Python', 'SAS', 'SQL'],\n",
       " ['Java', 'JavaScript', 'MATLAB', 'Python', 'R', 'SQL'],\n",
       " ['Java'],\n",
       " ['Go', 'Python', 'Scala', 'SQL'],\n",
       " ['JavaScript', 'Python', 'SQL'],\n",
       " ['Python', 'SQL'],\n",
       " ['Python'],\n",
       " ['JavaScript', 'Python'],\n",
       " ['Python', 'SQL'],\n",
       " ['JavaScript', 'Python', 'SQL'],\n",
       " ['Python', 'SQL'],\n",
       " ['Java', 'JavaScript', 'Python', 'Scala', 'SQL'],\n",
       " ['Python'],\n",
       " ['JavaScript', 'Python'],\n",
       " ['Python', 'SQL'],\n",
       " ['JavaScript', 'Python', 'SQL'],\n",
       " ['Python', 'SQL'],\n",
       " ['Java'],\n",
       " ['Python', 'R', 'SQL'],\n",
       " ['Python'],\n",
       " ['JavaScript', 'Python'],\n",
       " ['JavaScript', 'Python'],\n",
       " ['Python', 'SQL'],\n",
       " ['Python', 'R', 'Scala'],\n",
       " ['Java', 'JavaScript', 'Python'],\n",
       " ['JavaScript', 'Python', 'SQL'],\n",
       " ['Python', 'R', 'SQL'],\n",
       " ['JavaScript', 'Python'],\n",
       " ['Python', 'R', 'SAS', 'SQL'],\n",
       " ['Go', 'Java', 'JavaScript', 'Python', 'SQL'],\n",
       " ['Python', 'R', 'SQL'],\n",
       " ['Python', 'SQL'],\n",
       " ['R'],\n",
       " ['Python', 'SQL'],\n",
       " ['Python'],\n",
       " ['Python'],\n",
       " ['R', 'SQL'],\n",
       " ['Python'],\n",
       " ['Python', 'R', 'SQL'],\n",
       " ['Python', 'SQL'],\n",
       " ['Python', 'SQL'],\n",
       " ['Java', 'JavaScript', 'Python', 'R', 'SAS', 'SQL'],\n",
       " ['R', 'SQL'],\n",
       " ['Python'],\n",
       " ['JavaScript', 'Python'],\n",
       " ['Python'],\n",
       " ['Python', 'R', 'SQL'],\n",
       " ['Python', 'SQL'],\n",
       " ['MATLAB', 'Python', 'Scala', 'SQL'],\n",
       " ['Python', 'SQL'],\n",
       " ['Java', 'JavaScript', 'Python', 'SQL'],\n",
       " ['Python'],\n",
       " ['JavaScript', 'Python', 'SQL'],\n",
       " ['Java', 'JavaScript', 'Python', 'SQL'],\n",
       " ['R'],\n",
       " ['Python'],\n",
       " ['Python'],\n",
       " ['R', 'SQL'],\n",
       " ['Python', 'R', 'SQL'],\n",
       " ['SQL'],\n",
       " ['Python', 'SQL'],\n",
       " ['Java', 'JavaScript', 'SQL'],\n",
       " ['Python'],\n",
       " ['JavaScript', 'Python'],\n",
       " ['JavaScript', 'Python', 'SQL'],\n",
       " ['Python', 'R', 'SQL'],\n",
       " ['SQL'],\n",
       " ['Python', 'SQL'],\n",
       " ['R'],\n",
       " ['Python'],\n",
       " [],\n",
       " ['Java', 'SQL'],\n",
       " ['JavaScript'],\n",
       " ['Python'],\n",
       " ['Python', 'SQL'],\n",
       " ['Python'],\n",
       " ['Python'],\n",
       " ['JavaScript', 'Python', 'SQL'],\n",
       " ['JavaScript', 'MATLAB', 'Python', 'SQL'],\n",
       " ['Python', 'R'],\n",
       " ['Python', 'SQL'],\n",
       " ['Python', 'R', 'SQL'],\n",
       " ['Java', 'JavaScript', 'Python', 'R', 'SQL'],\n",
       " ['Julia', 'Python', 'R'],\n",
       " ['Python', 'SQL'],\n",
       " ['Python'],\n",
       " ['Python'],\n",
       " ['Java', 'Python', 'R', 'SQL'],\n",
       " ['Python', 'SQL'],\n",
       " ['MATLAB', 'Python', 'R', 'SQL'],\n",
       " ['JavaScript', 'Python'],\n",
       " ['Python'],\n",
       " ['Go', 'Python'],\n",
       " ['Python', 'SQL'],\n",
       " ['MATLAB', 'Python', 'R', 'SQL'],\n",
       " ['Python', 'R'],\n",
       " ['Java', 'JavaScript', 'MATLAB', 'Python', 'SQL'],\n",
       " ['Java', 'JavaScript', 'Python'],\n",
       " ['Python', 'SQL'],\n",
       " ['R', 'SQL'],\n",
       " ['Python', 'R', 'SQL'],\n",
       " ['Python', 'SQL'],\n",
       " ['Python', 'SQL'],\n",
       " ['Python', 'SQL'],\n",
       " ['Python'],\n",
       " ['R', 'SQL'],\n",
       " ['Python', 'R', 'SQL'],\n",
       " ['JavaScript', 'Julia', 'Python'],\n",
       " ['Java', 'JavaScript', 'Python'],\n",
       " ['SQL'],\n",
       " ['Python', 'R', 'SQL'],\n",
       " ['JavaScript', 'Julia', 'Python', 'R', 'SQL'],\n",
       " ['JavaScript', 'Python', 'R', 'SQL'],\n",
       " ['JavaScript', 'Python'],\n",
       " ['Python'],\n",
       " ['Java', 'Python', 'Scala'],\n",
       " ['Python', 'SQL'],\n",
       " ['Python'],\n",
       " ['SQL'],\n",
       " ['Python'],\n",
       " ['Python'],\n",
       " ['Python', 'R', 'SQL'],\n",
       " ['Python'],\n",
       " ['Java', 'Python'],\n",
       " ['JavaScript'],\n",
       " ['Python'],\n",
       " ['Python', 'SQL'],\n",
       " ['Python'],\n",
       " ['Python', 'R', 'SQL'],\n",
       " ['Python', 'R', 'SQL'],\n",
       " ['JavaScript', 'Python', 'R', 'SQL'],\n",
       " ['JavaScript', 'Julia', 'Python', 'R', 'SQL'],\n",
       " ['R'],\n",
       " ['Python', 'SQL'],\n",
       " ['Python'],\n",
       " ['JavaScript', 'Julia', 'Python'],\n",
       " ['Python'],\n",
       " ['Python', 'SQL'],\n",
       " ['Python', 'SQL'],\n",
       " ['Python'],\n",
       " ['R'],\n",
       " ['Python', 'R', 'SQL'],\n",
       " ['Python', 'R', 'SQL'],\n",
       " ['Python', 'SQL'],\n",
       " ['Python', 'R', 'SQL'],\n",
       " ['Python', 'SQL'],\n",
       " ['R'],\n",
       " ['Python', 'R', 'SQL'],\n",
       " ['SQL'],\n",
       " ['Python'],\n",
       " ['Python', 'SQL'],\n",
       " ['Python', 'SQL'],\n",
       " ['Python', 'R'],\n",
       " ['JavaScript', 'Python', 'SQL'],\n",
       " ['Python'],\n",
       " ['Python', 'SQL'],\n",
       " ['Python'],\n",
       " ['Java', 'SQL'],\n",
       " ['SQL'],\n",
       " ['Python', 'R', 'SQL'],\n",
       " ['JavaScript', 'Python', 'SQL'],\n",
       " ['Java', 'JavaScript', 'Python', 'Scala', 'SQL'],\n",
       " ['Python'],\n",
       " ['SAS', 'SQL'],\n",
       " ['R'],\n",
       " ['Java', 'Python'],\n",
       " ['Python', 'SQL'],\n",
       " ['Python'],\n",
       " ['Python', 'R', 'Scala', 'SQL'],\n",
       " ['Python', 'R', 'SQL'],\n",
       " ['Python', 'R', 'SQL'],\n",
       " [],\n",
       " ['JavaScript', 'Python'],\n",
       " ['JavaScript', 'Python', 'SQL'],\n",
       " ['Python', 'SQL'],\n",
       " ['JavaScript', 'Python', 'R', 'SQL'],\n",
       " ['Python', 'R', 'SQL'],\n",
       " ['Python'],\n",
       " ['Python'],\n",
       " ['Julia', 'Python', 'R', 'SQL'],\n",
       " ['Python'],\n",
       " ['Java', 'SQL'],\n",
       " ['JavaScript', 'Python', 'SQL'],\n",
       " ['Python'],\n",
       " ['MATLAB', 'Python', 'SQL'],\n",
       " ['Python'],\n",
       " ['Python'],\n",
       " ['JavaScript', 'MATLAB', 'Python', 'R', 'SQL'],\n",
       " ['Java', 'Python', 'SQL'],\n",
       " [],\n",
       " ['Julia', 'Python', 'Scala', 'SQL'],\n",
       " ['Java', 'JavaScript', 'Python'],\n",
       " ['JavaScript', 'SQL'],\n",
       " ['Go', 'Python', 'R', 'Scala', 'SQL'],\n",
       " ['Python', 'R', 'SQL'],\n",
       " ['Java', 'JavaScript', 'Python', 'R', 'SQL'],\n",
       " ['JavaScript', 'R', 'SQL'],\n",
       " ['Python', 'SQL'],\n",
       " ['Python', 'SQL'],\n",
       " ['SQL'],\n",
       " ['Python', 'SQL'],\n",
       " ['Python', 'SQL'],\n",
       " ['Python'],\n",
       " ['MATLAB', 'Python', 'R', 'SQL'],\n",
       " ['Python', 'Scala'],\n",
       " ['Python'],\n",
       " ['Java', 'Python'],\n",
       " ['Go', 'Python', 'R', 'SQL'],\n",
       " ['Python', 'SQL'],\n",
       " ['Python', 'SQL'],\n",
       " ['Python', 'SQL'],\n",
       " ['R'],\n",
       " ['Python', 'SQL'],\n",
       " ['Java', 'Python', 'SQL'],\n",
       " ['Python', 'R', 'Scala'],\n",
       " ['Python'],\n",
       " ['Java', 'JavaScript', 'Python', 'R', 'Scala', 'SQL'],\n",
       " ['Python', 'SAS', 'SQL'],\n",
       " ['Python'],\n",
       " ['Python'],\n",
       " ['Python', 'R'],\n",
       " ['MATLAB', 'Python'],\n",
       " ['Go', 'Java', 'JavaScript', 'Python'],\n",
       " ['Python', 'R', 'SQL'],\n",
       " ['Python', 'SQL'],\n",
       " ['JavaScript', 'Python', 'R', 'SQL'],\n",
       " [],\n",
       " ['Python', 'SQL'],\n",
       " ['R', 'SQL'],\n",
       " ['JavaScript', 'Python', 'SQL'],\n",
       " ['Python', 'SQL'],\n",
       " ['Python'],\n",
       " ['Java', 'Python'],\n",
       " ['Go', 'Java', 'JavaScript', 'Python'],\n",
       " ['Python', 'SQL'],\n",
       " ['Java', 'R', 'SQL'],\n",
       " ['Python'],\n",
       " ['Python', 'R', 'SQL'],\n",
       " ['Java', 'JavaScript', 'Python', 'Scala', 'SQL'],\n",
       " ['Python', 'SQL'],\n",
       " ['Python', 'SQL'],\n",
       " ['Python', 'SQL'],\n",
       " ['Python', 'R', 'SQL'],\n",
       " ['JavaScript', 'Python', 'SQL'],\n",
       " ['Python', 'SQL'],\n",
       " ['Python', 'SQL'],\n",
       " ['Python', 'SQL'],\n",
       " ['Python'],\n",
       " ['JavaScript', 'Python', 'R', 'SQL'],\n",
       " ['Python'],\n",
       " ['Python'],\n",
       " ['Julia', 'Python'],\n",
       " ['JavaScript', 'Python', 'SQL'],\n",
       " ['Python', 'SQL'],\n",
       " ['Java', 'Python', 'R'],\n",
       " ['Python'],\n",
       " ['Python'],\n",
       " ['Python', 'SQL'],\n",
       " ['Python', 'SQL'],\n",
       " ['Java', 'Python', 'SQL'],\n",
       " ['JavaScript', 'Python', 'R', 'SQL'],\n",
       " ['JavaScript', 'Python', 'R', 'SQL'],\n",
       " ['Python', 'SQL'],\n",
       " ['Java', 'JavaScript', 'Python', 'SQL'],\n",
       " ['Python', 'R', 'SQL'],\n",
       " ['Python', 'SQL'],\n",
       " ['Python', 'SQL'],\n",
       " ['Java', 'JavaScript', 'Python', 'R', 'SQL'],\n",
       " ['Python'],\n",
       " ['Java', 'JavaScript', 'Python'],\n",
       " ['SQL'],\n",
       " ['Julia', 'Python', 'R', 'SQL'],\n",
       " ['JavaScript', 'Python', 'SQL'],\n",
       " ['Java', 'Python', 'SQL'],\n",
       " ['Python', 'R', 'SQL'],\n",
       " ['Python', 'R'],\n",
       " ['Python', 'R'],\n",
       " ['Python', 'SQL'],\n",
       " ['JavaScript', 'Python', 'SQL'],\n",
       " ['Python'],\n",
       " ['Python'],\n",
       " ['Java', 'JavaScript', 'Python', 'SQL'],\n",
       " ['Python', 'SQL'],\n",
       " ['Python'],\n",
       " ['JavaScript', 'Python', 'SQL'],\n",
       " ['JavaScript', 'SQL'],\n",
       " ['SQL'],\n",
       " ['Python', 'SQL'],\n",
       " ['Python'],\n",
       " ['JavaScript', 'Python', 'SQL'],\n",
       " ['JavaScript', 'Python'],\n",
       " ['Python'],\n",
       " ['Python'],\n",
       " ['Python', 'R'],\n",
       " ['Python'],\n",
       " ['Python'],\n",
       " ['JavaScript', 'Python'],\n",
       " ['JavaScript', 'Python', 'SQL'],\n",
       " ['Python'],\n",
       " ['Julia', 'R', 'SQL'],\n",
       " ['JavaScript', 'Python'],\n",
       " ['Python'],\n",
       " ['Python', 'R', 'SQL'],\n",
       " ['Python', 'SQL'],\n",
       " ['JavaScript', 'Python', 'SAS', 'SQL'],\n",
       " ['JavaScript'],\n",
       " ['JavaScript'],\n",
       " ['JavaScript', 'Python', 'R', 'SQL'],\n",
       " ['MATLAB', 'Python', 'R', 'SAS', 'SQL'],\n",
       " ['Go', 'Java', 'Python', 'SQL'],\n",
       " ['Scala'],\n",
       " ['SQL'],\n",
       " ['Java', 'JavaScript', 'MATLAB', 'Python', 'SQL'],\n",
       " ['Python', 'R', 'SQL'],\n",
       " ['MATLAB', 'Python', 'R', 'SAS', 'Scala', 'SQL'],\n",
       " ['Python', 'SQL'],\n",
       " ['Python', 'R', 'SQL'],\n",
       " ['Python'],\n",
       " ['Java', 'Python', 'SQL'],\n",
       " ['Java', 'Python'],\n",
       " ['Python', 'SQL'],\n",
       " ['Python'],\n",
       " ['Python', 'R', 'SQL'],\n",
       " ['R', 'SAS', 'SQL'],\n",
       " ['JavaScript', 'Python', 'SQL'],\n",
       " [],\n",
       " ['Python', 'R'],\n",
       " ['Python', 'R', 'SAS', 'SQL'],\n",
       " ['Julia', 'Python'],\n",
       " ['R', 'SQL'],\n",
       " ['Go', 'JavaScript', 'Python', 'SQL'],\n",
       " ['Python', 'SQL'],\n",
       " ['Python', 'R', 'SQL'],\n",
       " ['Python'],\n",
       " ['Python', 'R', 'SAS', 'SQL'],\n",
       " ['MATLAB', 'Python', 'R', 'SAS', 'SQL'],\n",
       " [],\n",
       " ['Python'],\n",
       " ['Python', 'R'],\n",
       " ['Go', 'JavaScript', 'Julia', 'Python', 'R', 'SAS', 'SQL'],\n",
       " ['Python'],\n",
       " [],\n",
       " ['Python', 'SQL'],\n",
       " ['Python', 'SQL'],\n",
       " ['Java', 'JavaScript', 'Python', 'R', 'SQL'],\n",
       " ['Python', 'R'],\n",
       " ['R'],\n",
       " ['Java', 'JavaScript', 'Python', 'SQL'],\n",
       " ['Python'],\n",
       " ['Python'],\n",
       " ['SQL'],\n",
       " ['Java', 'Python'],\n",
       " ['JavaScript', 'Python', 'SQL'],\n",
       " ['JavaScript', 'Python', 'SQL'],\n",
       " ['MATLAB', 'Python'],\n",
       " ['Java', 'Python', 'SAS', 'SQL'],\n",
       " ['Python', 'SQL'],\n",
       " ['Python'],\n",
       " ['JavaScript', 'Python', 'SQL'],\n",
       " ['Java', 'JavaScript', 'Python', 'R', 'Scala', 'SQL'],\n",
       " ['Java', 'Python', 'R', 'Scala'],\n",
       " ['JavaScript', 'Python', 'R', 'SQL'],\n",
       " ['Python', 'R', 'SQL'],\n",
       " ['JavaScript', 'Python', 'R', 'SQL'],\n",
       " ['Python', 'SQL'],\n",
       " ['JavaScript', 'SQL'],\n",
       " ['R', 'SAS', 'SQL'],\n",
       " ['Julia', 'R'],\n",
       " ['JavaScript', 'Python', 'SQL'],\n",
       " ['Python', 'SQL'],\n",
       " ['Java', 'JavaScript', 'Python', 'SQL'],\n",
       " ['Go', 'JavaScript', 'Python', 'SQL'],\n",
       " ['Python'],\n",
       " ['R'],\n",
       " ['Python', 'R', 'SQL'],\n",
       " ['Python', 'SAS', 'SQL'],\n",
       " ['R', 'SQL'],\n",
       " ['Python'],\n",
       " ['JavaScript', 'Python', 'SQL'],\n",
       " ['Python', 'SQL'],\n",
       " ['Java', 'JavaScript', 'MATLAB', 'Python', 'SQL'],\n",
       " ['MATLAB', 'Python'],\n",
       " ['Python', 'R', 'Scala'],\n",
       " ['Python'],\n",
       " ['SAS', 'SQL'],\n",
       " ['Python', 'SQL'],\n",
       " ['Python'],\n",
       " ['JavaScript', 'Python', 'R', 'Scala', 'SQL'],\n",
       " ['Python', 'SQL'],\n",
       " ['Python'],\n",
       " ['JavaScript', 'Python', 'SQL'],\n",
       " ['JavaScript', 'Python', 'R', 'SQL'],\n",
       " ['R', 'SQL'],\n",
       " ['Python', 'R', 'SQL'],\n",
       " ['Python', 'R', 'SQL'],\n",
       " ['Python', 'R', 'SQL'],\n",
       " ['Python', 'SQL'],\n",
       " ['Python'],\n",
       " ['Python', 'SQL'],\n",
       " ['SQL'],\n",
       " ['JavaScript', 'MATLAB', 'Python', 'R', 'SQL'],\n",
       " ['Python'],\n",
       " ['MATLAB', 'Python', 'SQL'],\n",
       " ['Python'],\n",
       " ['Python', 'SQL'],\n",
       " ['JavaScript', 'Python', 'SAS', 'SQL'],\n",
       " ['Python', 'SQL'],\n",
       " ['MATLAB', 'Python'],\n",
       " ['MATLAB', 'Python', 'SQL'],\n",
       " ['Python', 'SQL'],\n",
       " ['Julia'],\n",
       " ['Python', 'SQL'],\n",
       " ['JavaScript', 'Python', 'SQL'],\n",
       " ['Python', 'SQL'],\n",
       " ['JavaScript'],\n",
       " ['Python'],\n",
       " ['Python'],\n",
       " ['Java', 'JavaScript', 'Python'],\n",
       " ['Java', 'JavaScript', 'Python'],\n",
       " ['Python'],\n",
       " ['MATLAB', 'Python'],\n",
       " ['Julia', 'R'],\n",
       " ['Python', 'SQL'],\n",
       " ['Python', 'SQL'],\n",
       " ['SQL'],\n",
       " ['Python', 'SQL'],\n",
       " ['R'],\n",
       " ['R', 'SQL'],\n",
       " ['Python'],\n",
       " ['JavaScript', 'Julia', 'Python'],\n",
       " ['JavaScript', 'SQL'],\n",
       " ['Python', 'Scala', 'SQL'],\n",
       " ['Java', 'JavaScript', 'Python', 'SQL'],\n",
       " ['Python', 'SQL'],\n",
       " ['Go', 'JavaScript', 'Python', 'R', 'SQL'],\n",
       " ['JavaScript', 'Python'],\n",
       " ['Python', 'SQL'],\n",
       " ['SQL'],\n",
       " ['Julia', 'MATLAB', 'Python', 'R', 'SAS', 'SQL'],\n",
       " ['Python', 'SQL'],\n",
       " ['Python', 'SQL'],\n",
       " ['SQL'],\n",
       " ['JavaScript', 'Python', 'SQL'],\n",
       " ['Java', 'JavaScript', 'MATLAB', 'Python'],\n",
       " ['Python'],\n",
       " ['R'],\n",
       " ['Python', 'SQL'],\n",
       " ['Python', 'SQL'],\n",
       " ['R', 'SQL'],\n",
       " ['JavaScript', 'Python', 'SQL'],\n",
       " ['Python', 'R'],\n",
       " ['Python'],\n",
       " ['Python', 'SQL'],\n",
       " ['Python', 'R'],\n",
       " ['SQL'],\n",
       " ['Java', 'Python'],\n",
       " ['Python'],\n",
       " ['Python', 'SQL'],\n",
       " ['Python', 'R', 'SQL'],\n",
       " ['Python', 'R', 'SQL'],\n",
       " ['Java', 'JavaScript', 'Python', 'SQL'],\n",
       " ['Java', 'Python'],\n",
       " ['MATLAB', 'Python', 'R'],\n",
       " ['JavaScript', 'Python', 'R', 'Scala', 'SQL'],\n",
       " ['JavaScript', 'Python'],\n",
       " ['Python', 'SQL'],\n",
       " ['Python', 'R', 'SQL'],\n",
       " ['Python', 'R'],\n",
       " ['JavaScript', 'Python', 'SQL'],\n",
       " ['Python'],\n",
       " ['Python', 'SQL'],\n",
       " ['MATLAB', 'Python', 'SQL'],\n",
       " ['Python', 'SQL'],\n",
       " ['Java', 'SQL'],\n",
       " ['Python', 'SQL'],\n",
       " ['Python'],\n",
       " ['Python', 'R', 'SQL'],\n",
       " ['JavaScript', 'Python'],\n",
       " ['Go', 'Python'],\n",
       " ['R', 'SQL'],\n",
       " ['Python', 'SQL'],\n",
       " ['Python', 'SQL'],\n",
       " ['R', 'SQL'],\n",
       " ['MATLAB', 'Python', 'R', 'SQL'],\n",
       " ['Python'],\n",
       " ['Python'],\n",
       " ['Python', 'SQL'],\n",
       " ['R'],\n",
       " ['Java', 'Python', 'Scala', 'SQL'],\n",
       " ['Julia', 'R', 'SQL'],\n",
       " ['JavaScript', 'Python', 'SQL']]"
      ]
     },
     "execution_count": 21,
     "metadata": {},
     "output_type": "execute_result"
    }
   ],
   "source": [
    "# 필터링 완료된 프로그래밍 언어를 담기 위한 리스트 생성\n",
    "revised_lang_list = []\n",
    "\n",
    "# 필터링을 위해 전체 리스트 순회\n",
    "for lang in lang_list:\n",
    "    \n",
    "    # 추출 대상 프로그래밍 언어만 필터링\n",
    "    filtered = [x for x in lang if x in target_langs]\n",
    "    \n",
    "    # 해당 리스트에 파이썬이 있는 경우에만 학습 대상 리스트에 추가\n",
    "#     if 'Python' in filtered:\n",
    "#         revised_lang_list.append(filtered)\n",
    "        \n",
    "    revised_lang_list.append(filtered)\n",
    "\n",
    "# 필터링 결과 확인\n",
    "revised_lang_list"
   ]
  },
  {
   "cell_type": "code",
   "execution_count": 22,
   "id": "ea555f1f",
   "metadata": {},
   "outputs": [
    {
     "data": {
      "text/plain": [
       "array([[False, False, False, ..., False,  True, False],\n",
       "       [False, False, False, ..., False,  True, False],\n",
       "       [False, False, False, ..., False,  True, False],\n",
       "       ...,\n",
       "       [False,  True, False, ..., False,  True,  True],\n",
       "       [False, False, False, ..., False,  True, False],\n",
       "       [False, False,  True, ..., False,  True, False]])"
      ]
     },
     "execution_count": 22,
     "metadata": {},
     "output_type": "execute_result"
    }
   ],
   "source": [
    "# 전처리 라이브러리 탑재\n",
    "from mlxtend.preprocessing import TransactionEncoder\n",
    "\n",
    "# 전처리기 생성\n",
    "te = TransactionEncoder()\n",
    "\n",
    "# 전처리 수행\n",
    "te_ary = te.fit(revised_lang_list).transform(revised_lang_list)\n",
    "te_ary"
   ]
  },
  {
   "cell_type": "code",
   "execution_count": 23,
   "id": "c132f99f",
   "metadata": {},
   "outputs": [
    {
     "data": {
      "text/html": [
       "<div>\n",
       "<style scoped>\n",
       "    .dataframe tbody tr th:only-of-type {\n",
       "        vertical-align: middle;\n",
       "    }\n",
       "\n",
       "    .dataframe tbody tr th {\n",
       "        vertical-align: top;\n",
       "    }\n",
       "\n",
       "    .dataframe thead th {\n",
       "        text-align: right;\n",
       "    }\n",
       "</style>\n",
       "<table border=\"1\" class=\"dataframe\">\n",
       "  <thead>\n",
       "    <tr style=\"text-align: right;\">\n",
       "      <th></th>\n",
       "      <th>Go</th>\n",
       "      <th>Java</th>\n",
       "      <th>JavaScript</th>\n",
       "      <th>Julia</th>\n",
       "      <th>MATLAB</th>\n",
       "      <th>Python</th>\n",
       "      <th>R</th>\n",
       "      <th>SAS</th>\n",
       "      <th>SQL</th>\n",
       "      <th>Scala</th>\n",
       "    </tr>\n",
       "  </thead>\n",
       "  <tbody>\n",
       "    <tr>\n",
       "      <th>0</th>\n",
       "      <td>False</td>\n",
       "      <td>False</td>\n",
       "      <td>False</td>\n",
       "      <td>False</td>\n",
       "      <td>False</td>\n",
       "      <td>True</td>\n",
       "      <td>False</td>\n",
       "      <td>False</td>\n",
       "      <td>True</td>\n",
       "      <td>False</td>\n",
       "    </tr>\n",
       "    <tr>\n",
       "      <th>1</th>\n",
       "      <td>False</td>\n",
       "      <td>False</td>\n",
       "      <td>False</td>\n",
       "      <td>False</td>\n",
       "      <td>False</td>\n",
       "      <td>True</td>\n",
       "      <td>False</td>\n",
       "      <td>False</td>\n",
       "      <td>True</td>\n",
       "      <td>False</td>\n",
       "    </tr>\n",
       "    <tr>\n",
       "      <th>2</th>\n",
       "      <td>False</td>\n",
       "      <td>False</td>\n",
       "      <td>False</td>\n",
       "      <td>False</td>\n",
       "      <td>False</td>\n",
       "      <td>True</td>\n",
       "      <td>False</td>\n",
       "      <td>False</td>\n",
       "      <td>True</td>\n",
       "      <td>False</td>\n",
       "    </tr>\n",
       "    <tr>\n",
       "      <th>3</th>\n",
       "      <td>False</td>\n",
       "      <td>False</td>\n",
       "      <td>False</td>\n",
       "      <td>False</td>\n",
       "      <td>False</td>\n",
       "      <td>True</td>\n",
       "      <td>False</td>\n",
       "      <td>False</td>\n",
       "      <td>False</td>\n",
       "      <td>False</td>\n",
       "    </tr>\n",
       "    <tr>\n",
       "      <th>4</th>\n",
       "      <td>False</td>\n",
       "      <td>False</td>\n",
       "      <td>False</td>\n",
       "      <td>False</td>\n",
       "      <td>False</td>\n",
       "      <td>True</td>\n",
       "      <td>False</td>\n",
       "      <td>False</td>\n",
       "      <td>True</td>\n",
       "      <td>False</td>\n",
       "    </tr>\n",
       "    <tr>\n",
       "      <th>...</th>\n",
       "      <td>...</td>\n",
       "      <td>...</td>\n",
       "      <td>...</td>\n",
       "      <td>...</td>\n",
       "      <td>...</td>\n",
       "      <td>...</td>\n",
       "      <td>...</td>\n",
       "      <td>...</td>\n",
       "      <td>...</td>\n",
       "      <td>...</td>\n",
       "    </tr>\n",
       "    <tr>\n",
       "      <th>724</th>\n",
       "      <td>False</td>\n",
       "      <td>False</td>\n",
       "      <td>False</td>\n",
       "      <td>False</td>\n",
       "      <td>False</td>\n",
       "      <td>True</td>\n",
       "      <td>False</td>\n",
       "      <td>False</td>\n",
       "      <td>True</td>\n",
       "      <td>False</td>\n",
       "    </tr>\n",
       "    <tr>\n",
       "      <th>725</th>\n",
       "      <td>False</td>\n",
       "      <td>False</td>\n",
       "      <td>False</td>\n",
       "      <td>False</td>\n",
       "      <td>False</td>\n",
       "      <td>False</td>\n",
       "      <td>True</td>\n",
       "      <td>False</td>\n",
       "      <td>False</td>\n",
       "      <td>False</td>\n",
       "    </tr>\n",
       "    <tr>\n",
       "      <th>726</th>\n",
       "      <td>False</td>\n",
       "      <td>True</td>\n",
       "      <td>False</td>\n",
       "      <td>False</td>\n",
       "      <td>False</td>\n",
       "      <td>True</td>\n",
       "      <td>False</td>\n",
       "      <td>False</td>\n",
       "      <td>True</td>\n",
       "      <td>True</td>\n",
       "    </tr>\n",
       "    <tr>\n",
       "      <th>727</th>\n",
       "      <td>False</td>\n",
       "      <td>False</td>\n",
       "      <td>False</td>\n",
       "      <td>True</td>\n",
       "      <td>False</td>\n",
       "      <td>False</td>\n",
       "      <td>True</td>\n",
       "      <td>False</td>\n",
       "      <td>True</td>\n",
       "      <td>False</td>\n",
       "    </tr>\n",
       "    <tr>\n",
       "      <th>728</th>\n",
       "      <td>False</td>\n",
       "      <td>False</td>\n",
       "      <td>True</td>\n",
       "      <td>False</td>\n",
       "      <td>False</td>\n",
       "      <td>True</td>\n",
       "      <td>False</td>\n",
       "      <td>False</td>\n",
       "      <td>True</td>\n",
       "      <td>False</td>\n",
       "    </tr>\n",
       "  </tbody>\n",
       "</table>\n",
       "<p>729 rows × 10 columns</p>\n",
       "</div>"
      ],
      "text/plain": [
       "        Go   Java  JavaScript  Julia  MATLAB  Python      R    SAS    SQL  \\\n",
       "0    False  False       False  False   False    True  False  False   True   \n",
       "1    False  False       False  False   False    True  False  False   True   \n",
       "2    False  False       False  False   False    True  False  False   True   \n",
       "3    False  False       False  False   False    True  False  False  False   \n",
       "4    False  False       False  False   False    True  False  False   True   \n",
       "..     ...    ...         ...    ...     ...     ...    ...    ...    ...   \n",
       "724  False  False       False  False   False    True  False  False   True   \n",
       "725  False  False       False  False   False   False   True  False  False   \n",
       "726  False   True       False  False   False    True  False  False   True   \n",
       "727  False  False       False   True   False   False   True  False   True   \n",
       "728  False  False        True  False   False    True  False  False   True   \n",
       "\n",
       "     Scala  \n",
       "0    False  \n",
       "1    False  \n",
       "2    False  \n",
       "3    False  \n",
       "4    False  \n",
       "..     ...  \n",
       "724  False  \n",
       "725  False  \n",
       "726   True  \n",
       "727  False  \n",
       "728  False  \n",
       "\n",
       "[729 rows x 10 columns]"
      ]
     },
     "execution_count": 23,
     "metadata": {},
     "output_type": "execute_result"
    }
   ],
   "source": [
    "# 전치리 결과를 데이터프레임으로 변환\n",
    "new_languages = pd.DataFrame(te_ary, columns=te.columns_)\n",
    "new_languages"
   ]
  },
  {
   "cell_type": "code",
   "execution_count": 24,
   "id": "e4153b3c",
   "metadata": {},
   "outputs": [
    {
     "name": "stdout",
     "output_type": "stream",
     "text": [
      "Processing 55 combinations | Sampling itemset size 54\n"
     ]
    }
   ],
   "source": [
    "# 학습 알고리즘 탑재\n",
    "from mlxtend.frequent_patterns import apriori, association_rules\n",
    "\n",
    "# 지지도 구하기\n",
    "freq_items = apriori(new_languages, min_support=0.01, use_colnames=True, verbose=1)"
   ]
  },
  {
   "cell_type": "code",
   "execution_count": 25,
   "id": "97790346",
   "metadata": {},
   "outputs": [
    {
     "data": {
      "text/html": [
       "<div>\n",
       "<style scoped>\n",
       "    .dataframe tbody tr th:only-of-type {\n",
       "        vertical-align: middle;\n",
       "    }\n",
       "\n",
       "    .dataframe tbody tr th {\n",
       "        vertical-align: top;\n",
       "    }\n",
       "\n",
       "    .dataframe thead th {\n",
       "        text-align: right;\n",
       "    }\n",
       "</style>\n",
       "<table border=\"1\" class=\"dataframe\">\n",
       "  <thead>\n",
       "    <tr style=\"text-align: right;\">\n",
       "      <th></th>\n",
       "      <th>support</th>\n",
       "      <th>itemsets</th>\n",
       "    </tr>\n",
       "  </thead>\n",
       "  <tbody>\n",
       "    <tr>\n",
       "      <th>5</th>\n",
       "      <td>0.855967</td>\n",
       "      <td>(Python)</td>\n",
       "    </tr>\n",
       "    <tr>\n",
       "      <th>8</th>\n",
       "      <td>0.603567</td>\n",
       "      <td>(SQL)</td>\n",
       "    </tr>\n",
       "    <tr>\n",
       "      <th>32</th>\n",
       "      <td>0.517147</td>\n",
       "      <td>(Python, SQL)</td>\n",
       "    </tr>\n",
       "    <tr>\n",
       "      <th>6</th>\n",
       "      <td>0.292181</td>\n",
       "      <td>(R)</td>\n",
       "    </tr>\n",
       "    <tr>\n",
       "      <th>30</th>\n",
       "      <td>0.237311</td>\n",
       "      <td>(R, Python)</td>\n",
       "    </tr>\n",
       "    <tr>\n",
       "      <th>2</th>\n",
       "      <td>0.231824</td>\n",
       "      <td>(JavaScript)</td>\n",
       "    </tr>\n",
       "    <tr>\n",
       "      <th>35</th>\n",
       "      <td>0.213992</td>\n",
       "      <td>(R, SQL)</td>\n",
       "    </tr>\n",
       "    <tr>\n",
       "      <th>20</th>\n",
       "      <td>0.211248</td>\n",
       "      <td>(Python, JavaScript)</td>\n",
       "    </tr>\n",
       "    <tr>\n",
       "      <th>64</th>\n",
       "      <td>0.182442</td>\n",
       "      <td>(R, Python, SQL)</td>\n",
       "    </tr>\n",
       "    <tr>\n",
       "      <th>22</th>\n",
       "      <td>0.160494</td>\n",
       "      <td>(JavaScript, SQL)</td>\n",
       "    </tr>\n",
       "    <tr>\n",
       "      <th>53</th>\n",
       "      <td>0.148148</td>\n",
       "      <td>(Python, JavaScript, SQL)</td>\n",
       "    </tr>\n",
       "    <tr>\n",
       "      <th>1</th>\n",
       "      <td>0.116598</td>\n",
       "      <td>(Java)</td>\n",
       "    </tr>\n",
       "    <tr>\n",
       "      <th>14</th>\n",
       "      <td>0.098765</td>\n",
       "      <td>(Python, Java)</td>\n",
       "    </tr>\n",
       "    <tr>\n",
       "      <th>16</th>\n",
       "      <td>0.076818</td>\n",
       "      <td>(SQL, Java)</td>\n",
       "    </tr>\n",
       "    <tr>\n",
       "      <th>45</th>\n",
       "      <td>0.065844</td>\n",
       "      <td>(Python, SQL, Java)</td>\n",
       "    </tr>\n",
       "    <tr>\n",
       "      <th>13</th>\n",
       "      <td>0.064472</td>\n",
       "      <td>(JavaScript, Java)</td>\n",
       "    </tr>\n",
       "    <tr>\n",
       "      <th>41</th>\n",
       "      <td>0.060357</td>\n",
       "      <td>(Python, JavaScript, Java)</td>\n",
       "    </tr>\n",
       "    <tr>\n",
       "      <th>4</th>\n",
       "      <td>0.056241</td>\n",
       "      <td>(MATLAB)</td>\n",
       "    </tr>\n",
       "    <tr>\n",
       "      <th>27</th>\n",
       "      <td>0.056241</td>\n",
       "      <td>(MATLAB, Python)</td>\n",
       "    </tr>\n",
       "    <tr>\n",
       "      <th>3</th>\n",
       "      <td>0.053498</td>\n",
       "      <td>(Julia)</td>\n",
       "    </tr>\n",
       "  </tbody>\n",
       "</table>\n",
       "</div>"
      ],
      "text/plain": [
       "     support                    itemsets\n",
       "5   0.855967                    (Python)\n",
       "8   0.603567                       (SQL)\n",
       "32  0.517147               (Python, SQL)\n",
       "6   0.292181                         (R)\n",
       "30  0.237311                 (R, Python)\n",
       "2   0.231824                (JavaScript)\n",
       "35  0.213992                    (R, SQL)\n",
       "20  0.211248        (Python, JavaScript)\n",
       "64  0.182442            (R, Python, SQL)\n",
       "22  0.160494           (JavaScript, SQL)\n",
       "53  0.148148   (Python, JavaScript, SQL)\n",
       "1   0.116598                      (Java)\n",
       "14  0.098765              (Python, Java)\n",
       "16  0.076818                 (SQL, Java)\n",
       "45  0.065844         (Python, SQL, Java)\n",
       "13  0.064472          (JavaScript, Java)\n",
       "41  0.060357  (Python, JavaScript, Java)\n",
       "4   0.056241                    (MATLAB)\n",
       "27  0.056241            (MATLAB, Python)\n",
       "3   0.053498                     (Julia)"
      ]
     },
     "execution_count": 25,
     "metadata": {},
     "output_type": "execute_result"
    }
   ],
   "source": [
    "# 학습 결과 확인하기\n",
    "freq_items.sort_values(['support'], ascending=False).head(20)"
   ]
  },
  {
   "cell_type": "code",
   "execution_count": 26,
   "id": "999d5d86",
   "metadata": {},
   "outputs": [
    {
     "data": {
      "text/html": [
       "<div>\n",
       "<style scoped>\n",
       "    .dataframe tbody tr th:only-of-type {\n",
       "        vertical-align: middle;\n",
       "    }\n",
       "\n",
       "    .dataframe tbody tr th {\n",
       "        vertical-align: top;\n",
       "    }\n",
       "\n",
       "    .dataframe thead th {\n",
       "        text-align: right;\n",
       "    }\n",
       "</style>\n",
       "<table border=\"1\" class=\"dataframe\">\n",
       "  <thead>\n",
       "    <tr style=\"text-align: right;\">\n",
       "      <th></th>\n",
       "      <th>support</th>\n",
       "      <th>itemsets</th>\n",
       "      <th>length</th>\n",
       "    </tr>\n",
       "  </thead>\n",
       "  <tbody>\n",
       "    <tr>\n",
       "      <th>0</th>\n",
       "      <td>0.030178</td>\n",
       "      <td>(Go)</td>\n",
       "      <td>1</td>\n",
       "    </tr>\n",
       "    <tr>\n",
       "      <th>1</th>\n",
       "      <td>0.116598</td>\n",
       "      <td>(Java)</td>\n",
       "      <td>1</td>\n",
       "    </tr>\n",
       "    <tr>\n",
       "      <th>2</th>\n",
       "      <td>0.231824</td>\n",
       "      <td>(JavaScript)</td>\n",
       "      <td>1</td>\n",
       "    </tr>\n",
       "    <tr>\n",
       "      <th>3</th>\n",
       "      <td>0.053498</td>\n",
       "      <td>(Julia)</td>\n",
       "      <td>1</td>\n",
       "    </tr>\n",
       "    <tr>\n",
       "      <th>4</th>\n",
       "      <td>0.056241</td>\n",
       "      <td>(MATLAB)</td>\n",
       "      <td>1</td>\n",
       "    </tr>\n",
       "    <tr>\n",
       "      <th>...</th>\n",
       "      <td>...</td>\n",
       "      <td>...</td>\n",
       "      <td>...</td>\n",
       "    </tr>\n",
       "    <tr>\n",
       "      <th>78</th>\n",
       "      <td>0.017833</td>\n",
       "      <td>(R, Julia, Python, SQL)</td>\n",
       "      <td>4</td>\n",
       "    </tr>\n",
       "    <tr>\n",
       "      <th>79</th>\n",
       "      <td>0.019204</td>\n",
       "      <td>(R, MATLAB, Python, SQL)</td>\n",
       "      <td>4</td>\n",
       "    </tr>\n",
       "    <tr>\n",
       "      <th>80</th>\n",
       "      <td>0.021948</td>\n",
       "      <td>(R, Python, SQL, SAS)</td>\n",
       "      <td>4</td>\n",
       "    </tr>\n",
       "    <tr>\n",
       "      <th>81</th>\n",
       "      <td>0.012346</td>\n",
       "      <td>(R, Python, SQL, Scala)</td>\n",
       "      <td>4</td>\n",
       "    </tr>\n",
       "    <tr>\n",
       "      <th>82</th>\n",
       "      <td>0.013717</td>\n",
       "      <td>(JavaScript, Java, Python, R, SQL)</td>\n",
       "      <td>5</td>\n",
       "    </tr>\n",
       "  </tbody>\n",
       "</table>\n",
       "<p>83 rows × 3 columns</p>\n",
       "</div>"
      ],
      "text/plain": [
       "     support                            itemsets  length\n",
       "0   0.030178                                (Go)       1\n",
       "1   0.116598                              (Java)       1\n",
       "2   0.231824                        (JavaScript)       1\n",
       "3   0.053498                             (Julia)       1\n",
       "4   0.056241                            (MATLAB)       1\n",
       "..       ...                                 ...     ...\n",
       "78  0.017833             (R, Julia, Python, SQL)       4\n",
       "79  0.019204            (R, MATLAB, Python, SQL)       4\n",
       "80  0.021948               (R, Python, SQL, SAS)       4\n",
       "81  0.012346             (R, Python, SQL, Scala)       4\n",
       "82  0.013717  (JavaScript, Java, Python, R, SQL)       5\n",
       "\n",
       "[83 rows x 3 columns]"
      ]
     },
     "execution_count": 26,
     "metadata": {},
     "output_type": "execute_result"
    }
   ],
   "source": [
    "# 항목 집합의 항목 개수 추가하기\n",
    "freq_items['length'] = freq_items['itemsets'].apply(lambda x: len(x))\n",
    "freq_items"
   ]
  },
  {
   "cell_type": "code",
   "execution_count": 27,
   "id": "b1259e49",
   "metadata": {},
   "outputs": [
    {
     "data": {
      "text/html": [
       "<div>\n",
       "<style scoped>\n",
       "    .dataframe tbody tr th:only-of-type {\n",
       "        vertical-align: middle;\n",
       "    }\n",
       "\n",
       "    .dataframe tbody tr th {\n",
       "        vertical-align: top;\n",
       "    }\n",
       "\n",
       "    .dataframe thead th {\n",
       "        text-align: right;\n",
       "    }\n",
       "</style>\n",
       "<table border=\"1\" class=\"dataframe\">\n",
       "  <thead>\n",
       "    <tr style=\"text-align: right;\">\n",
       "      <th></th>\n",
       "      <th>antecedents</th>\n",
       "      <th>consequents</th>\n",
       "      <th>antecedent support</th>\n",
       "      <th>consequent support</th>\n",
       "      <th>support</th>\n",
       "      <th>confidence</th>\n",
       "      <th>lift</th>\n",
       "      <th>leverage</th>\n",
       "      <th>conviction</th>\n",
       "      <th>zhangs_metric</th>\n",
       "    </tr>\n",
       "  </thead>\n",
       "  <tbody>\n",
       "    <tr>\n",
       "      <th>0</th>\n",
       "      <td>(JavaScript)</td>\n",
       "      <td>(Go)</td>\n",
       "      <td>0.231824</td>\n",
       "      <td>0.030178</td>\n",
       "      <td>0.013717</td>\n",
       "      <td>0.059172</td>\n",
       "      <td>1.960732</td>\n",
       "      <td>0.006721</td>\n",
       "      <td>1.030817</td>\n",
       "      <td>0.637857</td>\n",
       "    </tr>\n",
       "    <tr>\n",
       "      <th>1</th>\n",
       "      <td>(Go)</td>\n",
       "      <td>(JavaScript)</td>\n",
       "      <td>0.030178</td>\n",
       "      <td>0.231824</td>\n",
       "      <td>0.013717</td>\n",
       "      <td>0.454545</td>\n",
       "      <td>1.960732</td>\n",
       "      <td>0.006721</td>\n",
       "      <td>1.408322</td>\n",
       "      <td>0.505233</td>\n",
       "    </tr>\n",
       "    <tr>\n",
       "      <th>2</th>\n",
       "      <td>(Python)</td>\n",
       "      <td>(Go)</td>\n",
       "      <td>0.855967</td>\n",
       "      <td>0.030178</td>\n",
       "      <td>0.028807</td>\n",
       "      <td>0.033654</td>\n",
       "      <td>1.115166</td>\n",
       "      <td>0.002975</td>\n",
       "      <td>1.003597</td>\n",
       "      <td>0.717007</td>\n",
       "    </tr>\n",
       "    <tr>\n",
       "      <th>3</th>\n",
       "      <td>(Go)</td>\n",
       "      <td>(Python)</td>\n",
       "      <td>0.030178</td>\n",
       "      <td>0.855967</td>\n",
       "      <td>0.028807</td>\n",
       "      <td>0.954545</td>\n",
       "      <td>1.115166</td>\n",
       "      <td>0.002975</td>\n",
       "      <td>3.168724</td>\n",
       "      <td>0.106486</td>\n",
       "    </tr>\n",
       "    <tr>\n",
       "      <th>4</th>\n",
       "      <td>(SQL)</td>\n",
       "      <td>(Go)</td>\n",
       "      <td>0.603567</td>\n",
       "      <td>0.030178</td>\n",
       "      <td>0.017833</td>\n",
       "      <td>0.029545</td>\n",
       "      <td>0.979029</td>\n",
       "      <td>-0.000382</td>\n",
       "      <td>0.999348</td>\n",
       "      <td>-0.051263</td>\n",
       "    </tr>\n",
       "    <tr>\n",
       "      <th>...</th>\n",
       "      <td>...</td>\n",
       "      <td>...</td>\n",
       "      <td>...</td>\n",
       "      <td>...</td>\n",
       "      <td>...</td>\n",
       "      <td>...</td>\n",
       "      <td>...</td>\n",
       "      <td>...</td>\n",
       "      <td>...</td>\n",
       "      <td>...</td>\n",
       "    </tr>\n",
       "    <tr>\n",
       "      <th>437</th>\n",
       "      <td>(JavaScript)</td>\n",
       "      <td>(R, SQL, Python, Java)</td>\n",
       "      <td>0.231824</td>\n",
       "      <td>0.016461</td>\n",
       "      <td>0.013717</td>\n",
       "      <td>0.059172</td>\n",
       "      <td>3.594675</td>\n",
       "      <td>0.009901</td>\n",
       "      <td>1.045397</td>\n",
       "      <td>0.939643</td>\n",
       "    </tr>\n",
       "    <tr>\n",
       "      <th>438</th>\n",
       "      <td>(Java)</td>\n",
       "      <td>(R, SQL, Python, JavaScript)</td>\n",
       "      <td>0.116598</td>\n",
       "      <td>0.048011</td>\n",
       "      <td>0.013717</td>\n",
       "      <td>0.117647</td>\n",
       "      <td>2.450420</td>\n",
       "      <td>0.008119</td>\n",
       "      <td>1.078921</td>\n",
       "      <td>0.670031</td>\n",
       "    </tr>\n",
       "    <tr>\n",
       "      <th>439</th>\n",
       "      <td>(Python)</td>\n",
       "      <td>(R, SQL, JavaScript, Java)</td>\n",
       "      <td>0.855967</td>\n",
       "      <td>0.013717</td>\n",
       "      <td>0.013717</td>\n",
       "      <td>0.016026</td>\n",
       "      <td>1.168269</td>\n",
       "      <td>0.001976</td>\n",
       "      <td>1.002346</td>\n",
       "      <td>1.000000</td>\n",
       "    </tr>\n",
       "    <tr>\n",
       "      <th>440</th>\n",
       "      <td>(R)</td>\n",
       "      <td>(SQL, Python, JavaScript, Java)</td>\n",
       "      <td>0.292181</td>\n",
       "      <td>0.043896</td>\n",
       "      <td>0.013717</td>\n",
       "      <td>0.046948</td>\n",
       "      <td>1.069542</td>\n",
       "      <td>0.000892</td>\n",
       "      <td>1.003203</td>\n",
       "      <td>0.091860</td>\n",
       "    </tr>\n",
       "    <tr>\n",
       "      <th>441</th>\n",
       "      <td>(SQL)</td>\n",
       "      <td>(R, Python, JavaScript, Java)</td>\n",
       "      <td>0.603567</td>\n",
       "      <td>0.013717</td>\n",
       "      <td>0.013717</td>\n",
       "      <td>0.022727</td>\n",
       "      <td>1.656818</td>\n",
       "      <td>0.005438</td>\n",
       "      <td>1.009219</td>\n",
       "      <td>1.000000</td>\n",
       "    </tr>\n",
       "  </tbody>\n",
       "</table>\n",
       "<p>442 rows × 10 columns</p>\n",
       "</div>"
      ],
      "text/plain": [
       "      antecedents                      consequents  antecedent support  \\\n",
       "0    (JavaScript)                             (Go)            0.231824   \n",
       "1            (Go)                     (JavaScript)            0.030178   \n",
       "2        (Python)                             (Go)            0.855967   \n",
       "3            (Go)                         (Python)            0.030178   \n",
       "4           (SQL)                             (Go)            0.603567   \n",
       "..            ...                              ...                 ...   \n",
       "437  (JavaScript)           (R, SQL, Python, Java)            0.231824   \n",
       "438        (Java)     (R, SQL, Python, JavaScript)            0.116598   \n",
       "439      (Python)       (R, SQL, JavaScript, Java)            0.855967   \n",
       "440           (R)  (SQL, Python, JavaScript, Java)            0.292181   \n",
       "441         (SQL)    (R, Python, JavaScript, Java)            0.603567   \n",
       "\n",
       "     consequent support   support  confidence      lift  leverage  conviction  \\\n",
       "0              0.030178  0.013717    0.059172  1.960732  0.006721    1.030817   \n",
       "1              0.231824  0.013717    0.454545  1.960732  0.006721    1.408322   \n",
       "2              0.030178  0.028807    0.033654  1.115166  0.002975    1.003597   \n",
       "3              0.855967  0.028807    0.954545  1.115166  0.002975    3.168724   \n",
       "4              0.030178  0.017833    0.029545  0.979029 -0.000382    0.999348   \n",
       "..                  ...       ...         ...       ...       ...         ...   \n",
       "437            0.016461  0.013717    0.059172  3.594675  0.009901    1.045397   \n",
       "438            0.048011  0.013717    0.117647  2.450420  0.008119    1.078921   \n",
       "439            0.013717  0.013717    0.016026  1.168269  0.001976    1.002346   \n",
       "440            0.043896  0.013717    0.046948  1.069542  0.000892    1.003203   \n",
       "441            0.013717  0.013717    0.022727  1.656818  0.005438    1.009219   \n",
       "\n",
       "     zhangs_metric  \n",
       "0         0.637857  \n",
       "1         0.505233  \n",
       "2         0.717007  \n",
       "3         0.106486  \n",
       "4        -0.051263  \n",
       "..             ...  \n",
       "437       0.939643  \n",
       "438       0.670031  \n",
       "439       1.000000  \n",
       "440       0.091860  \n",
       "441       1.000000  \n",
       "\n",
       "[442 rows x 10 columns]"
      ]
     },
     "execution_count": 27,
     "metadata": {},
     "output_type": "execute_result"
    }
   ],
   "source": [
    "# 신뢰도와 향상도 구하기\n",
    "rules = association_rules(freq_items, min_threshold=0.01)\n",
    "rules"
   ]
  },
  {
   "cell_type": "code",
   "execution_count": 28,
   "id": "346abf78",
   "metadata": {},
   "outputs": [
    {
     "data": {
      "application/vnd.plotly.v1+json": {
       "config": {
        "plotlyServerURL": "https://plot.ly"
       },
       "data": [
        {
         "hovertemplate": "x=%{x}<br>index=%{y}<br>size=%{marker.size}<br>color=%{marker.color}<extra></extra>",
         "legendgroup": "",
         "marker": {
          "color": [
           1.9607315761161914,
           1.9607315761161914,
           1.115166083916084,
           1.115166083916084,
           0.9790289256198348,
           0.9790289256198348,
           2.3851722937695787,
           2.3851722937695787,
           0.9895927601809954,
           0.9895927601809955,
           0.603976801988401,
           0.603976801988401,
           1.0915508021390377,
           1.0915508021390377,
           2.9574036511156185,
           2.9574036511156185,
           0.9954483386436049,
           0.9954483386436049,
           0.9468898831000143,
           0.9468898831000144,
           1.0645766954938554,
           1.0645766954938554,
           0.7290607550629219,
           0.7290607550629219,
           1.1470279720279721,
           1.1470279720279721,
           1.3387063864517446,
           1.3387063864517443,
           0.9585798816568047,
           0.9585798816568047,
           1.8429035752979417,
           1.8429035752979415,
           0.8921328671328672,
           0.8921328671328672,
           1.1682692307692308,
           1.1682692307692308,
           1.4190999656475438,
           1.4190999656475438,
           1.2123059866962307,
           1.2123059866962307,
           0.9488759479956664,
           0.9488759479956663,
           0.9558566433566433,
           0.9558566433566433,
           1.0009943181818184,
           1.0009943181818184,
           1.1279840848806368,
           1.1279840848806366,
           2.17797695262484,
           2.17797695262484,
           1.2134443021766967,
           1.2134443021766965,
           1.6522583778533269,
           1.6522583778533269,
           1.6066115702479338,
           1.6066115702479338,
           1.1997648902821316,
           1.1997648902821318,
           2.151711924439197,
           2.054099746407439,
           1.1682692307692308,
           1.1682692307692306,
           2.0540997464074384,
           2.151711924439197,
           1.1426332288401253,
           1.0256493506493507,
           1.1682692307692308,
           1.1682692307692306,
           1.0256493506493507,
           1.1426332288401255,
           2.4504201680672266,
           2.6360946745562135,
           1.0936988543371522,
           1.0936988543371524,
           2.636094674556213,
           2.4504201680672266,
           2.3823529411764706,
           2.8757396449704142,
           0.7281989811207672,
           0.7281989811207672,
           2.8757396449704142,
           2.3823529411764706,
           2.4923076923076923,
           1.1985493230174082,
           2.6189771766694845,
           2.618977176669484,
           1.1985493230174085,
           2.492307692307693,
           0.6940496429785787,
           1.0903846153846155,
           0.665492957746479,
           0.665492957746479,
           1.0903846153846155,
           0.6940496429785787,
           1.0919644250273053,
           1.1045454545454547,
           1.0013736263736264,
           1.0013736263736264,
           1.104545454545455,
           1.0919644250273053,
           3.0630252100840334,
           1.1682692307692308,
           3.4913793103448274,
           3.4913793103448274,
           1.1682692307692306,
           3.0630252100840334,
           0.7147058823529411,
           1.435909090909091,
           0.7945171026156941,
           0.7945171026156941,
           1.435909090909091,
           0.7147058823529411,
           3.2672268907563025,
           1.3254545454545454,
           3.591133004926107,
           3.591133004926108,
           1.3254545454545454,
           3.2672268907563025,
           1.2132026627218935,
           1.1682692307692308,
           1.0924075924075924,
           1.0924075924075924,
           1.1682692307692308,
           1.2132026627218937,
           0.9468898831000143,
           1.1682692307692308,
           1.0391194171681977,
           1.0391194171681974,
           1.1682692307692308,
           0.9468898831000144,
           1.4727272727272727,
           1.1502958579881657,
           1.2157598499061912,
           1.2157598499061912,
           1.1502958579881657,
           1.4727272727272727,
           0.8726955569996921,
           1.1358173076923077,
           0.7778489116517285,
           0.7778489116517284,
           1.1358173076923077,
           0.8726955569996921,
           1.1619244391971666,
           1.2357289721093025,
           1.0784023668639053,
           1.0784023668639053,
           1.2357289721093028,
           1.1619244391971664,
           1.4690998656515897,
           1.386517328825021,
           1.1682692307692308,
           1.1682692307692308,
           1.386517328825021,
           1.4690998656515897,
           1.656818181818182,
           0.9954483386436049,
           1.0530877573131094,
           1.0530877573131094,
           0.9954483386436049,
           1.656818181818182,
           1.93368700265252,
           1.656818181818182,
           1.8486897717666948,
           1.8486897717666948,
           1.656818181818182,
           1.9336870026525197,
           1.8368163628279235,
           0.9457417582417582,
           1.8182218309859155,
           1.8182218309859157,
           0.9457417582417582,
           1.8368163628279235,
           0.8801846590909091,
           0.9457417582417582,
           0.8428892062844318,
           0.8428892062844318,
           0.9457417582417582,
           0.8801846590909093,
           1.1834415584415585,
           1.797337278106509,
           2.4446680080482897,
           2.4446680080482897,
           1.797337278106509,
           1.1834415584415585,
           1.1682692307692308,
           1.7472155646411953,
           1.4190999656475438,
           1.4190999656475438,
           1.7472155646411953,
           1.1682692307692308,
           1.2123059866962307,
           1.1682692307692308,
           1.4148929287701364,
           1.4148929287701364,
           1.1682692307692308,
           1.2123059866962307,
           1.364438502673797,
           1.5956848030018764,
           1.5971830985915494,
           1.5971830985915494,
           1.5956848030018762,
           1.3644385026737968,
           2.170782974251182,
           0.9457417582417582,
           2.154929577464789,
           2.154929577464789,
           0.9457417582417582,
           2.1707829742511824,
           1.2737388334209143,
           0.9960244082840236,
           1.2074195838158928,
           1.2074195838158928,
           0.9960244082840236,
           1.2737388334209143,
           2.0342834363165236,
           1.1682692307692308,
           1.7112676056338028,
           1.7112676056338028,
           1.1682692307692308,
           2.0342834363165236,
           1.5235109717868338,
           1.5954545454545457,
           0.94921875,
           0.94921875,
           1.5954545454545457,
           1.5235109717868338,
           1.400256105369066,
           1.2426136363636364,
           1.1682692307692308,
           1.1682692307692306,
           1.2426136363636364,
           1.400256105369066,
           2.8321678321678316,
           1.577922077922078,
           2.1390845070422535,
           2.1390845070422535,
           1.577922077922078,
           2.8321678321678316,
           1.4502652519893897,
           1.0650974025974025,
           1.4668008048289738,
           1.4668008048289738,
           1.0650974025974025,
           1.4502652519893897,
           2.4504201680672266,
           3.081149619611158,
           1.1682692307692308,
           0.7778489116517285,
           0.8965686877382856,
           2.8125000000000004,
           3.1558441558441555,
           3.1558441558441555,
           2.8125000000000004,
           0.8965686877382856,
           0.7778489116517285,
           1.1682692307692306,
           3.081149619611158,
           2.450420168067227,
           2.541176470588235,
           1.2049586776859504,
           2.875739644970414,
           1.099547511312217,
           2.7050092764378473,
           1.316552852869801,
           2.769230769230769,
           2.769230769230769,
           1.3165528528698007,
           2.7050092764378473,
           1.099547511312217,
           2.875739644970414,
           1.2049586776859504,
           2.5411764705882356,
           2.3823529411764706,
           1.656818181818182,
           3.318161128812016,
           1.0066280033140016,
           3.6160714285714284,
           0.9942716857610475,
           4.153846153846154,
           4.153846153846154,
           0.9942716857610475,
           3.6160714285714284,
           1.0066280033140016,
           3.318161128812016,
           1.656818181818182,
           2.3823529411764706,
           0.7738168951791243,
           1.4201298701298701,
           1.0784023668639053,
           0.8556338028169014,
           0.902972749793559,
           0.778846153846154,
           1.546949602122016,
           1.546949602122016,
           0.778846153846154,
           0.9029727497935589,
           0.8556338028169014,
           1.0784023668639053,
           1.4201298701298704,
           0.7738168951791243,
           3.2672268907563025,
           1.3254545454545454,
           1.1682692307692308,
           4.189655172413792,
           3.71938775510204,
           3.857142857142857,
           1.5469496021220157,
           1.546949602122016,
           3.8571428571428568,
           3.71938775510204,
           4.189655172413793,
           1.1682692307692308,
           1.3254545454545454,
           3.2672268907563025,
           1.4727272727272727,
           1.1502958579881657,
           1.3170731707317072,
           1.1682692307692308,
           1.2157598499061912,
           1.2623376623376623,
           1.7188328912466844,
           1.7188328912466841,
           1.2623376623376623,
           1.2157598499061912,
           1.1682692307692308,
           1.3170731707317072,
           1.1502958579881657,
           1.4727272727272727,
           1.656818181818182,
           1.135160386172532,
           1.1358173076923077,
           1.1091549295774648,
           1.2605602489995553,
           1.879973474801061,
           1.062062937062937,
           1.062062937062937,
           1.879973474801061,
           1.2605602489995553,
           1.1091549295774648,
           1.1358173076923077,
           1.135160386172532,
           1.6568181818181817,
           2.0948275862068964,
           1.656818181818182,
           1.8486897717666948,
           1.1682692307692308,
           2.028756957328386,
           1.93368700265252,
           2.0027472527472527,
           2.0027472527472527,
           1.93368700265252,
           2.028756957328386,
           1.1682692307692308,
           1.8486897717666948,
           1.656818181818182,
           2.0948275862068964,
           1.2669786096256686,
           1.0125,
           1.8270676691729326,
           2.617232808616404,
           1.1970443349753694,
           2.6085879438480593,
           1.8984375,
           1.8984375,
           2.6085879438480593,
           1.1970443349753694,
           2.617232808616404,
           1.8270676691729324,
           1.0125,
           1.2669786096256686,
           1.364438502673797,
           1.1682692307692308,
           1.871630295250321,
           1.5971830985915494,
           1.592448119831487,
           1.9664739884393063,
           1.5956848030018764,
           1.5956848030018762,
           1.9664739884393065,
           1.5924481198314868,
           1.5971830985915494,
           1.8716302952503212,
           1.1682692307692308,
           1.3644385026737968,
           2.6575529733424466,
           1.5593582887700534,
           0.9346153846153845,
           2.1061755146262184,
           2.106936416184971,
           2.769230769230769,
           1.4732853353543007,
           1.4732853353543007,
           2.769230769230769,
           2.106936416184971,
           2.1061755146262184,
           0.9346153846153846,
           1.5593582887700534,
           2.657552973342447,
           1.7010630023334197,
           1.0650974025974025,
           1.1682692307692308,
           1.4668008048289738,
           1.8059454995871178,
           1.5020604395604393,
           1.2430845017051912,
           1.2430845017051912,
           1.5020604395604393,
           1.8059454995871178,
           1.4668008048289738,
           1.1682692307692308,
           1.0650974025974025,
           1.7010630023334197,
           1.656818181818182,
           1.0695422535211268,
           1.1682692307692308,
           2.4504201680672266,
           3.594674556213018,
           1.062062937062937,
           1.93368700265252,
           1.2393743624617477,
           3.7193877551020402,
           4.5,
           2.8125000000000004,
           4.45054945054945,
           4.21875,
           3.641358641358641,
           1.1662134058550633,
           1.1662134058550633,
           3.641358641358641,
           4.21875,
           4.45054945054945,
           2.8125000000000004,
           4.5,
           3.7193877551020402,
           1.2393743624617475,
           1.93368700265252,
           1.062062937062937,
           3.5946745562130173,
           2.450420168067227,
           1.1682692307692306,
           1.0695422535211268,
           1.656818181818182
          ],
          "coloraxis": "coloraxis",
          "size": [
           1.9607315761161914,
           1.9607315761161914,
           1.115166083916084,
           1.115166083916084,
           0.9790289256198348,
           0.9790289256198348,
           2.3851722937695787,
           2.3851722937695787,
           0.9895927601809954,
           0.9895927601809955,
           0.603976801988401,
           0.603976801988401,
           1.0915508021390377,
           1.0915508021390377,
           2.9574036511156185,
           2.9574036511156185,
           0.9954483386436049,
           0.9954483386436049,
           0.9468898831000143,
           0.9468898831000144,
           1.0645766954938554,
           1.0645766954938554,
           0.7290607550629219,
           0.7290607550629219,
           1.1470279720279721,
           1.1470279720279721,
           1.3387063864517446,
           1.3387063864517443,
           0.9585798816568047,
           0.9585798816568047,
           1.8429035752979417,
           1.8429035752979415,
           0.8921328671328672,
           0.8921328671328672,
           1.1682692307692308,
           1.1682692307692308,
           1.4190999656475438,
           1.4190999656475438,
           1.2123059866962307,
           1.2123059866962307,
           0.9488759479956664,
           0.9488759479956663,
           0.9558566433566433,
           0.9558566433566433,
           1.0009943181818184,
           1.0009943181818184,
           1.1279840848806368,
           1.1279840848806366,
           2.17797695262484,
           2.17797695262484,
           1.2134443021766967,
           1.2134443021766965,
           1.6522583778533269,
           1.6522583778533269,
           1.6066115702479338,
           1.6066115702479338,
           1.1997648902821316,
           1.1997648902821318,
           2.151711924439197,
           2.054099746407439,
           1.1682692307692308,
           1.1682692307692306,
           2.0540997464074384,
           2.151711924439197,
           1.1426332288401253,
           1.0256493506493507,
           1.1682692307692308,
           1.1682692307692306,
           1.0256493506493507,
           1.1426332288401255,
           2.4504201680672266,
           2.6360946745562135,
           1.0936988543371522,
           1.0936988543371524,
           2.636094674556213,
           2.4504201680672266,
           2.3823529411764706,
           2.8757396449704142,
           0.7281989811207672,
           0.7281989811207672,
           2.8757396449704142,
           2.3823529411764706,
           2.4923076923076923,
           1.1985493230174082,
           2.6189771766694845,
           2.618977176669484,
           1.1985493230174085,
           2.492307692307693,
           0.6940496429785787,
           1.0903846153846155,
           0.665492957746479,
           0.665492957746479,
           1.0903846153846155,
           0.6940496429785787,
           1.0919644250273053,
           1.1045454545454547,
           1.0013736263736264,
           1.0013736263736264,
           1.104545454545455,
           1.0919644250273053,
           3.0630252100840334,
           1.1682692307692308,
           3.4913793103448274,
           3.4913793103448274,
           1.1682692307692306,
           3.0630252100840334,
           0.7147058823529411,
           1.435909090909091,
           0.7945171026156941,
           0.7945171026156941,
           1.435909090909091,
           0.7147058823529411,
           3.2672268907563025,
           1.3254545454545454,
           3.591133004926107,
           3.591133004926108,
           1.3254545454545454,
           3.2672268907563025,
           1.2132026627218935,
           1.1682692307692308,
           1.0924075924075924,
           1.0924075924075924,
           1.1682692307692308,
           1.2132026627218937,
           0.9468898831000143,
           1.1682692307692308,
           1.0391194171681977,
           1.0391194171681974,
           1.1682692307692308,
           0.9468898831000144,
           1.4727272727272727,
           1.1502958579881657,
           1.2157598499061912,
           1.2157598499061912,
           1.1502958579881657,
           1.4727272727272727,
           0.8726955569996921,
           1.1358173076923077,
           0.7778489116517285,
           0.7778489116517284,
           1.1358173076923077,
           0.8726955569996921,
           1.1619244391971666,
           1.2357289721093025,
           1.0784023668639053,
           1.0784023668639053,
           1.2357289721093028,
           1.1619244391971664,
           1.4690998656515897,
           1.386517328825021,
           1.1682692307692308,
           1.1682692307692308,
           1.386517328825021,
           1.4690998656515897,
           1.656818181818182,
           0.9954483386436049,
           1.0530877573131094,
           1.0530877573131094,
           0.9954483386436049,
           1.656818181818182,
           1.93368700265252,
           1.656818181818182,
           1.8486897717666948,
           1.8486897717666948,
           1.656818181818182,
           1.9336870026525197,
           1.8368163628279235,
           0.9457417582417582,
           1.8182218309859155,
           1.8182218309859157,
           0.9457417582417582,
           1.8368163628279235,
           0.8801846590909091,
           0.9457417582417582,
           0.8428892062844318,
           0.8428892062844318,
           0.9457417582417582,
           0.8801846590909093,
           1.1834415584415585,
           1.797337278106509,
           2.4446680080482897,
           2.4446680080482897,
           1.797337278106509,
           1.1834415584415585,
           1.1682692307692308,
           1.7472155646411953,
           1.4190999656475438,
           1.4190999656475438,
           1.7472155646411953,
           1.1682692307692308,
           1.2123059866962307,
           1.1682692307692308,
           1.4148929287701364,
           1.4148929287701364,
           1.1682692307692308,
           1.2123059866962307,
           1.364438502673797,
           1.5956848030018764,
           1.5971830985915494,
           1.5971830985915494,
           1.5956848030018762,
           1.3644385026737968,
           2.170782974251182,
           0.9457417582417582,
           2.154929577464789,
           2.154929577464789,
           0.9457417582417582,
           2.1707829742511824,
           1.2737388334209143,
           0.9960244082840236,
           1.2074195838158928,
           1.2074195838158928,
           0.9960244082840236,
           1.2737388334209143,
           2.0342834363165236,
           1.1682692307692308,
           1.7112676056338028,
           1.7112676056338028,
           1.1682692307692308,
           2.0342834363165236,
           1.5235109717868338,
           1.5954545454545457,
           0.94921875,
           0.94921875,
           1.5954545454545457,
           1.5235109717868338,
           1.400256105369066,
           1.2426136363636364,
           1.1682692307692308,
           1.1682692307692306,
           1.2426136363636364,
           1.400256105369066,
           2.8321678321678316,
           1.577922077922078,
           2.1390845070422535,
           2.1390845070422535,
           1.577922077922078,
           2.8321678321678316,
           1.4502652519893897,
           1.0650974025974025,
           1.4668008048289738,
           1.4668008048289738,
           1.0650974025974025,
           1.4502652519893897,
           2.4504201680672266,
           3.081149619611158,
           1.1682692307692308,
           0.7778489116517285,
           0.8965686877382856,
           2.8125000000000004,
           3.1558441558441555,
           3.1558441558441555,
           2.8125000000000004,
           0.8965686877382856,
           0.7778489116517285,
           1.1682692307692306,
           3.081149619611158,
           2.450420168067227,
           2.541176470588235,
           1.2049586776859504,
           2.875739644970414,
           1.099547511312217,
           2.7050092764378473,
           1.316552852869801,
           2.769230769230769,
           2.769230769230769,
           1.3165528528698007,
           2.7050092764378473,
           1.099547511312217,
           2.875739644970414,
           1.2049586776859504,
           2.5411764705882356,
           2.3823529411764706,
           1.656818181818182,
           3.318161128812016,
           1.0066280033140016,
           3.6160714285714284,
           0.9942716857610475,
           4.153846153846154,
           4.153846153846154,
           0.9942716857610475,
           3.6160714285714284,
           1.0066280033140016,
           3.318161128812016,
           1.656818181818182,
           2.3823529411764706,
           0.7738168951791243,
           1.4201298701298701,
           1.0784023668639053,
           0.8556338028169014,
           0.902972749793559,
           0.778846153846154,
           1.546949602122016,
           1.546949602122016,
           0.778846153846154,
           0.9029727497935589,
           0.8556338028169014,
           1.0784023668639053,
           1.4201298701298704,
           0.7738168951791243,
           3.2672268907563025,
           1.3254545454545454,
           1.1682692307692308,
           4.189655172413792,
           3.71938775510204,
           3.857142857142857,
           1.5469496021220157,
           1.546949602122016,
           3.8571428571428568,
           3.71938775510204,
           4.189655172413793,
           1.1682692307692308,
           1.3254545454545454,
           3.2672268907563025,
           1.4727272727272727,
           1.1502958579881657,
           1.3170731707317072,
           1.1682692307692308,
           1.2157598499061912,
           1.2623376623376623,
           1.7188328912466844,
           1.7188328912466841,
           1.2623376623376623,
           1.2157598499061912,
           1.1682692307692308,
           1.3170731707317072,
           1.1502958579881657,
           1.4727272727272727,
           1.656818181818182,
           1.135160386172532,
           1.1358173076923077,
           1.1091549295774648,
           1.2605602489995553,
           1.879973474801061,
           1.062062937062937,
           1.062062937062937,
           1.879973474801061,
           1.2605602489995553,
           1.1091549295774648,
           1.1358173076923077,
           1.135160386172532,
           1.6568181818181817,
           2.0948275862068964,
           1.656818181818182,
           1.8486897717666948,
           1.1682692307692308,
           2.028756957328386,
           1.93368700265252,
           2.0027472527472527,
           2.0027472527472527,
           1.93368700265252,
           2.028756957328386,
           1.1682692307692308,
           1.8486897717666948,
           1.656818181818182,
           2.0948275862068964,
           1.2669786096256686,
           1.0125,
           1.8270676691729326,
           2.617232808616404,
           1.1970443349753694,
           2.6085879438480593,
           1.8984375,
           1.8984375,
           2.6085879438480593,
           1.1970443349753694,
           2.617232808616404,
           1.8270676691729324,
           1.0125,
           1.2669786096256686,
           1.364438502673797,
           1.1682692307692308,
           1.871630295250321,
           1.5971830985915494,
           1.592448119831487,
           1.9664739884393063,
           1.5956848030018764,
           1.5956848030018762,
           1.9664739884393065,
           1.5924481198314868,
           1.5971830985915494,
           1.8716302952503212,
           1.1682692307692308,
           1.3644385026737968,
           2.6575529733424466,
           1.5593582887700534,
           0.9346153846153845,
           2.1061755146262184,
           2.106936416184971,
           2.769230769230769,
           1.4732853353543007,
           1.4732853353543007,
           2.769230769230769,
           2.106936416184971,
           2.1061755146262184,
           0.9346153846153846,
           1.5593582887700534,
           2.657552973342447,
           1.7010630023334197,
           1.0650974025974025,
           1.1682692307692308,
           1.4668008048289738,
           1.8059454995871178,
           1.5020604395604393,
           1.2430845017051912,
           1.2430845017051912,
           1.5020604395604393,
           1.8059454995871178,
           1.4668008048289738,
           1.1682692307692308,
           1.0650974025974025,
           1.7010630023334197,
           1.656818181818182,
           1.0695422535211268,
           1.1682692307692308,
           2.4504201680672266,
           3.594674556213018,
           1.062062937062937,
           1.93368700265252,
           1.2393743624617477,
           3.7193877551020402,
           4.5,
           2.8125000000000004,
           4.45054945054945,
           4.21875,
           3.641358641358641,
           1.1662134058550633,
           1.1662134058550633,
           3.641358641358641,
           4.21875,
           4.45054945054945,
           2.8125000000000004,
           4.5,
           3.7193877551020402,
           1.2393743624617475,
           1.93368700265252,
           1.062062937062937,
           3.5946745562130173,
           2.450420168067227,
           1.1682692307692306,
           1.0695422535211268,
           1.656818181818182
          ],
          "sizemode": "area",
          "sizeref": 0.01125,
          "symbol": "circle"
         },
         "mode": "markers",
         "name": "",
         "orientation": "h",
         "showlegend": false,
         "type": "scatter",
         "x": [
          0.05917159763313609,
          0.45454545454545453,
          0.03365384615384615,
          0.9545454545454546,
          0.02954545454545455,
          0.5909090909090909,
          0.2781065088757396,
          0.5529411764705882,
          0.11538461538461538,
          0.8470588235294118,
          0.07042253521126761,
          0.17647058823529413,
          0.1272727272727273,
          0.6588235294117648,
          0.3448275862068965,
          0.11764705882352941,
          0.23076923076923075,
          0.05325443786982249,
          0.2195121951219512,
          0.05325443786982249,
          0.2467948717948718,
          0.9112426035502958,
          0.16901408450704225,
          0.21301775147928995,
          0.6923076923076923,
          0.26590909090909093,
          0.05325443786982249,
          0.31034482758620685,
          0.05128205128205128,
          0.8205128205128205,
          0.09859154929577466,
          0.5384615384615384,
          0.5384615384615384,
          0.04772727272727273,
          1,
          0.06570512820512821,
          0.07981220657276995,
          0.4146341463414634,
          0.7317073170731707,
          0.06818181818181819,
          0.8122065727699531,
          0.27724358974358976,
          0.04326923076923077,
          0.8181818181818181,
          0.6041666666666667,
          0.8568181818181819,
          0.04487179487179488,
          0.9655172413793104,
          0.09859154929577466,
          0.6363636363636364,
          0.7323943661971831,
          0.35454545454545455,
          0.06572769953051644,
          0.4827586206896552,
          0.07272727272727272,
          0.9696969696969696,
          0.04772727272727273,
          0.7241379310344828,
          0.06493506493506493,
          0.47619047619047616,
          1,
          0.016025641025641024,
          0.05917159763313609,
          0.45454545454545453,
          0.034482758620689655,
          0.6190476190476191,
          1,
          0.020833333333333332,
          0.02954545454545455,
          0.5909090909090909,
          0.2857142857142857,
          0.6111111111111112,
          0.9361702127659575,
          0.07051282051282051,
          0.2603550295857988,
          0.5176470588235293,
          0.2777777777777778,
          0.6666666666666666,
          0.2127659574468085,
          0.046948356807511735,
          0.05917159763313609,
          0.11764705882352941,
          0.2905982905982906,
          0.723404255319149,
          0.6071428571428571,
          0.20118343195266272,
          0.07727272727272728,
          0.4,
          0.08092485549132948,
          0.9333333333333335,
          0.19444444444444448,
          0.06572769953051644,
          0.02243589743589744,
          0.1647058823529412,
          0.1273209549071618,
          0.6666666666666667,
          0.8571428571428571,
          0.07692307692307693,
          0.10909090909090911,
          0.5647058823529412,
          0.3571428571428571,
          1,
          0.1388888888888889,
          0.3448275862068965,
          0.016025641025641024,
          0.11764705882352941,
          0.08333333333333333,
          0.8666666666666667,
          0.23214285714285712,
          0.06103286384976526,
          0.02954545454545455,
          0.15294117647058822,
          0.38095238095238093,
          0.7999999999999999,
          0.14285714285714282,
          0.27586206896551724,
          0.01818181818181818,
          0.09411764705882353,
          0.28125,
          1,
          0.05844155844155844,
          0.23076923076923075,
          0.014423076923076922,
          0.05325443786982249,
          0.2195121951219512,
          1,
          0.05844155844155844,
          0.2195121951219512,
          0.014423076923076922,
          0.05325443786982249,
          0.8888888888888888,
          0.26666666666666666,
          0.06837606837606837,
          0.19512195121951217,
          0.047337278106508875,
          0.01818181818181818,
          0.20231213872832368,
          0.9722222222222222,
          0.22727272727272727,
          0.16431924882629106,
          0.05608974358974359,
          0.20710059171597633,
          0.7012987012987013,
          0.286472148541114,
          0.9230769230769231,
          0.17307692307692307,
          0.6390532544378699,
          0.24545454545454545,
          0.05844155844155844,
          0.3214285714285714,
          1,
          0.014423076923076922,
          0.05325443786982249,
          0.31034482758620685,
          1,
          0.23076923076923075,
          0.3076923076923077,
          0.16901408450704225,
          0.21301775147928995,
          0.08181818181818182,
          0.07692307692307693,
          1,
          0.42857142857142855,
          0.05325443786982249,
          0.020454545454545454,
          0.31034482758620685,
          0.09826589595375722,
          0.8095238095238095,
          0.53125,
          0.07981220657276995,
          0.027243589743589744,
          0.4358974358974359,
          0.53125,
          0.8095238095238095,
          0.04509283819628647,
          0.4358974358974359,
          0.027243589743589744,
          0.03863636363636364,
          0.7142857142857143,
          0.09615384615384616,
          0.7142857142857143,
          0.07042253521126761,
          0.38461538461538464,
          0.034090909090909095,
          1,
          0.09826589595375722,
          0.4146341463414634,
          0.07981220657276995,
          0.4146341463414634,
          0.027243589743589744,
          0.7317073170731707,
          1,
          0.07957559681697612,
          0.7317073170731707,
          0.04807692307692308,
          0.06818181818181819,
          0.823529411764706,
          0.08974358974358976,
          0.46666666666666673,
          0.06572769953051644,
          0.34146341463414637,
          0.03181818181818182,
          0.09826589595375722,
          0.8095238095238095,
          0.6296296296296297,
          0.07981220657276995,
          0.027243589743589744,
          0.5151515151515151,
          0.76878612716763,
          0.8525641025641025,
          0.35278514588859416,
          0.6244131455399061,
          0.21314102564102563,
          0.3022727272727273,
          0.08092485549132948,
          1,
          0.5,
          0.06572769953051644,
          0.02243589743589744,
          0.4827586206896552,
          0.06896551724137931,
          0.962962962962963,
          0.8125,
          0.041666666666666664,
          0.0590909090909091,
          0.7878787878787878,
          0.05570291777188329,
          0.75,
          1,
          0.03365384615384615,
          0.04772727272727273,
          0.7241379310344828,
          0.1282051282051282,
          0.9523809523809523,
          0.625,
          0.09389671361502347,
          0.045454545454545456,
          0.606060606060606,
          0.05769230769230769,
          0.6428571428571428,
          0.42857142857142855,
          0.04225352112676056,
          0.020454545454545454,
          0.31034482758620685,
          0.2857142857142857,
          0.7142857142857142,
          1,
          0.22727272727272727,
          0.05780346820809248,
          0.2777777777777778,
          0.6666666666666666,
          0.06493506493506493,
          0.1388888888888889,
          0.2127659574468085,
          0.046948356807511735,
          0.016025641025641024,
          0.05917159763313609,
          0.11764705882352941,
          0.2962962962962963,
          0.7272727272727273,
          0.6666666666666665,
          0.9411764705882352,
          0.20779220779220778,
          0.08488063660477453,
          0.4444444444444444,
          0.2735042735042735,
          0.6808510638297872,
          0.5714285714285713,
          0.05128205128205128,
          0.1893491124260355,
          0.07272727272727272,
          0.3764705882352941,
          0.2777777777777778,
          1,
          0.7692307692307692,
          0.29411764705882354,
          0.2777777777777778,
          0.0641025641025641,
          0.6666666666666666,
          0.08547008547008547,
          0.2127659574468085,
          0.17857142857142855,
          0.046948356807511735,
          0.05917159763313609,
          0.022727272727272728,
          0.11764705882352941,
          0.09022556390977444,
          0.8571428571428571,
          0.9230769230769231,
          0.25,
          0.06936416184971099,
          0.07692307692307693,
          0.8,
          0.03183023872679045,
          0.16666666666666669,
          0.21428571428571427,
          0.056338028169014086,
          0.019230769230769232,
          0.02727272727272728,
          0.1411764705882353,
          0.38095238095238093,
          0.7999999999999999,
          1,
          0.16666666666666663,
          0.28571428571428564,
          0.38095238095238093,
          0.7999999999999999,
          0.021220159151193633,
          0.1111111111111111,
          0.14285714285714282,
          0.27586206896551724,
          0.01282051282051282,
          0.01818181818181818,
          0.09411764705882353,
          0.8888888888888888,
          0.26666666666666666,
          0.07407407407407407,
          1,
          0.19512195121951217,
          0.051948051948051945,
          0.021220159151193633,
          0.8888888888888888,
          0.26666666666666666,
          0.06837606837606837,
          0.01282051282051282,
          0.19512195121951217,
          0.047337278106508875,
          0.01818181818181818,
          1,
          0.2631578947368421,
          0.9722222222222222,
          0.32407407407407407,
          0.20231213872832368,
          0.9722222222222222,
          0.22435897435897437,
          0.22727272727272727,
          0.09283819628647215,
          0.29914529914529914,
          0.16431924882629106,
          0.05608974358974359,
          0.20710059171597633,
          0.07954545454545454,
          0.08333333333333333,
          1,
          0.42857142857142855,
          1,
          0.05844155844155844,
          0.023872679045092837,
          0.3214285714285714,
          0.07692307692307693,
          1,
          0.42857142857142855,
          0.014423076923076922,
          0.05325443786982249,
          0.020454545454545454,
          0.31034482758620685,
          0.7647058823529411,
          0.8666666666666667,
          0.09774436090225565,
          0.7647058823529411,
          0.6190476190476191,
          0.07514450867052022,
          0.08333333333333333,
          0.40625,
          0.6190476190476191,
          0.034482758620689655,
          0.06103286384976526,
          0.3333333333333333,
          0.020833333333333332,
          0.02954545454545455,
          0.823529411764706,
          1,
          0.10526315789473685,
          0.46666666666666673,
          0.823529411764706,
          0.08092485549132948,
          0.08974358974358976,
          0.34146341463414637,
          0.46666666666666673,
          0.03713527851458886,
          0.06572769953051644,
          0.34146341463414637,
          0.02243589743589744,
          0.03181818181818182,
          0.12030075187969924,
          0.9411764705882352,
          0.7999999999999999,
          0.6153846153846153,
          0.09248554913294797,
          0.10256410256410256,
          0.7619047619047619,
          0.042440318302387266,
          0.5925925925925926,
          0.5,
          0.07511737089201877,
          0.02564102564102564,
          0.03636363636363636,
          0.4848484848484848,
          0.06766917293233082,
          0.6428571428571428,
          1,
          0.42857142857142855,
          0.05202312138728323,
          0.05769230769230769,
          0.6428571428571428,
          0.023872679045092837,
          0.3214285714285714,
          0.42857142857142855,
          0.04225352112676056,
          0.014423076923076922,
          0.020454545454545454,
          0.31034482758620685,
          1,
          0.3125,
          1,
          0.2857142857142857,
          0.8333333333333333,
          0.22727272727272727,
          1,
          0.29411764705882354,
          0.2857142857142857,
          0.09259259259259259,
          0.2777777777777778,
          0.7142857142857142,
          0.20833333333333331,
          0.7692307692307692,
          0.07518796992481203,
          0.2127659574468085,
          0.06493506493506493,
          0.2777777777777778,
          0.08547008547008547,
          0.1388888888888889,
          0.6666666666666666,
          0.17857142857142855,
          0.05780346820809248,
          0.02652519893899204,
          0.0641025641025641,
          0.05917159763313609,
          0.11764705882352941,
          0.016025641025641024,
          0.046948356807511735,
          0.022727272727272728
         ],
         "xaxis": "x",
         "y": [
          0,
          1,
          2,
          3,
          4,
          5,
          6,
          7,
          8,
          9,
          10,
          11,
          12,
          13,
          14,
          15,
          16,
          17,
          18,
          19,
          20,
          21,
          22,
          23,
          24,
          25,
          26,
          27,
          28,
          29,
          30,
          31,
          32,
          33,
          34,
          35,
          36,
          37,
          38,
          39,
          40,
          41,
          42,
          43,
          44,
          45,
          46,
          47,
          48,
          49,
          50,
          51,
          52,
          53,
          54,
          55,
          56,
          57,
          58,
          59,
          60,
          61,
          62,
          63,
          64,
          65,
          66,
          67,
          68,
          69,
          70,
          71,
          72,
          73,
          74,
          75,
          76,
          77,
          78,
          79,
          80,
          81,
          82,
          83,
          84,
          85,
          86,
          87,
          88,
          89,
          90,
          91,
          92,
          93,
          94,
          95,
          96,
          97,
          98,
          99,
          100,
          101,
          102,
          103,
          104,
          105,
          106,
          107,
          108,
          109,
          110,
          111,
          112,
          113,
          114,
          115,
          116,
          117,
          118,
          119,
          120,
          121,
          122,
          123,
          124,
          125,
          126,
          127,
          128,
          129,
          130,
          131,
          132,
          133,
          134,
          135,
          136,
          137,
          138,
          139,
          140,
          141,
          142,
          143,
          144,
          145,
          146,
          147,
          148,
          149,
          150,
          151,
          152,
          153,
          154,
          155,
          156,
          157,
          158,
          159,
          160,
          161,
          162,
          163,
          164,
          165,
          166,
          167,
          168,
          169,
          170,
          171,
          172,
          173,
          174,
          175,
          176,
          177,
          178,
          179,
          180,
          181,
          182,
          183,
          184,
          185,
          186,
          187,
          188,
          189,
          190,
          191,
          192,
          193,
          194,
          195,
          196,
          197,
          198,
          199,
          200,
          201,
          202,
          203,
          204,
          205,
          206,
          207,
          208,
          209,
          210,
          211,
          212,
          213,
          214,
          215,
          216,
          217,
          218,
          219,
          220,
          221,
          222,
          223,
          224,
          225,
          226,
          227,
          228,
          229,
          230,
          231,
          232,
          233,
          234,
          235,
          236,
          237,
          238,
          239,
          240,
          241,
          242,
          243,
          244,
          245,
          246,
          247,
          248,
          249,
          250,
          251,
          252,
          253,
          254,
          255,
          256,
          257,
          258,
          259,
          260,
          261,
          262,
          263,
          264,
          265,
          266,
          267,
          268,
          269,
          270,
          271,
          272,
          273,
          274,
          275,
          276,
          277,
          278,
          279,
          280,
          281,
          282,
          283,
          284,
          285,
          286,
          287,
          288,
          289,
          290,
          291,
          292,
          293,
          294,
          295,
          296,
          297,
          298,
          299,
          300,
          301,
          302,
          303,
          304,
          305,
          306,
          307,
          308,
          309,
          310,
          311,
          312,
          313,
          314,
          315,
          316,
          317,
          318,
          319,
          320,
          321,
          322,
          323,
          324,
          325,
          326,
          327,
          328,
          329,
          330,
          331,
          332,
          333,
          334,
          335,
          336,
          337,
          338,
          339,
          340,
          341,
          342,
          343,
          344,
          345,
          346,
          347,
          348,
          349,
          350,
          351,
          352,
          353,
          354,
          355,
          356,
          357,
          358,
          359,
          360,
          361,
          362,
          363,
          364,
          365,
          366,
          367,
          368,
          369,
          370,
          371,
          372,
          373,
          374,
          375,
          376,
          377,
          378,
          379,
          380,
          381,
          382,
          383,
          384,
          385,
          386,
          387,
          388,
          389,
          390,
          391,
          392,
          393,
          394,
          395,
          396,
          397,
          398,
          399,
          400,
          401,
          402,
          403,
          404,
          405,
          406,
          407,
          408,
          409,
          410,
          411,
          412,
          413,
          414,
          415,
          416,
          417,
          418,
          419,
          420,
          421,
          422,
          423,
          424,
          425,
          426,
          427,
          428,
          429,
          430,
          431,
          432,
          433,
          434,
          435,
          436,
          437,
          438,
          439,
          440,
          441
         ],
         "yaxis": "y"
        }
       ],
       "layout": {
        "coloraxis": {
         "colorbar": {
          "title": {
           "text": "color"
          }
         },
         "colorscale": [
          [
           0,
           "#0d0887"
          ],
          [
           0.1111111111111111,
           "#46039f"
          ],
          [
           0.2222222222222222,
           "#7201a8"
          ],
          [
           0.3333333333333333,
           "#9c179e"
          ],
          [
           0.4444444444444444,
           "#bd3786"
          ],
          [
           0.5555555555555556,
           "#d8576b"
          ],
          [
           0.6666666666666666,
           "#ed7953"
          ],
          [
           0.7777777777777778,
           "#fb9f3a"
          ],
          [
           0.8888888888888888,
           "#fdca26"
          ],
          [
           1,
           "#f0f921"
          ]
         ]
        },
        "font": {
         "color": "blue",
         "family": "Courier New"
        },
        "legend": {
         "itemsizing": "constant",
         "tracegroupgap": 0
        },
        "margin": {
         "t": 60
        },
        "template": {
         "data": {
          "bar": [
           {
            "error_x": {
             "color": "#2a3f5f"
            },
            "error_y": {
             "color": "#2a3f5f"
            },
            "marker": {
             "line": {
              "color": "#E5ECF6",
              "width": 0.5
             },
             "pattern": {
              "fillmode": "overlay",
              "size": 10,
              "solidity": 0.2
             }
            },
            "type": "bar"
           }
          ],
          "barpolar": [
           {
            "marker": {
             "line": {
              "color": "#E5ECF6",
              "width": 0.5
             },
             "pattern": {
              "fillmode": "overlay",
              "size": 10,
              "solidity": 0.2
             }
            },
            "type": "barpolar"
           }
          ],
          "carpet": [
           {
            "aaxis": {
             "endlinecolor": "#2a3f5f",
             "gridcolor": "white",
             "linecolor": "white",
             "minorgridcolor": "white",
             "startlinecolor": "#2a3f5f"
            },
            "baxis": {
             "endlinecolor": "#2a3f5f",
             "gridcolor": "white",
             "linecolor": "white",
             "minorgridcolor": "white",
             "startlinecolor": "#2a3f5f"
            },
            "type": "carpet"
           }
          ],
          "choropleth": [
           {
            "colorbar": {
             "outlinewidth": 0,
             "ticks": ""
            },
            "type": "choropleth"
           }
          ],
          "contour": [
           {
            "colorbar": {
             "outlinewidth": 0,
             "ticks": ""
            },
            "colorscale": [
             [
              0,
              "#0d0887"
             ],
             [
              0.1111111111111111,
              "#46039f"
             ],
             [
              0.2222222222222222,
              "#7201a8"
             ],
             [
              0.3333333333333333,
              "#9c179e"
             ],
             [
              0.4444444444444444,
              "#bd3786"
             ],
             [
              0.5555555555555556,
              "#d8576b"
             ],
             [
              0.6666666666666666,
              "#ed7953"
             ],
             [
              0.7777777777777778,
              "#fb9f3a"
             ],
             [
              0.8888888888888888,
              "#fdca26"
             ],
             [
              1,
              "#f0f921"
             ]
            ],
            "type": "contour"
           }
          ],
          "contourcarpet": [
           {
            "colorbar": {
             "outlinewidth": 0,
             "ticks": ""
            },
            "type": "contourcarpet"
           }
          ],
          "heatmap": [
           {
            "colorbar": {
             "outlinewidth": 0,
             "ticks": ""
            },
            "colorscale": [
             [
              0,
              "#0d0887"
             ],
             [
              0.1111111111111111,
              "#46039f"
             ],
             [
              0.2222222222222222,
              "#7201a8"
             ],
             [
              0.3333333333333333,
              "#9c179e"
             ],
             [
              0.4444444444444444,
              "#bd3786"
             ],
             [
              0.5555555555555556,
              "#d8576b"
             ],
             [
              0.6666666666666666,
              "#ed7953"
             ],
             [
              0.7777777777777778,
              "#fb9f3a"
             ],
             [
              0.8888888888888888,
              "#fdca26"
             ],
             [
              1,
              "#f0f921"
             ]
            ],
            "type": "heatmap"
           }
          ],
          "heatmapgl": [
           {
            "colorbar": {
             "outlinewidth": 0,
             "ticks": ""
            },
            "colorscale": [
             [
              0,
              "#0d0887"
             ],
             [
              0.1111111111111111,
              "#46039f"
             ],
             [
              0.2222222222222222,
              "#7201a8"
             ],
             [
              0.3333333333333333,
              "#9c179e"
             ],
             [
              0.4444444444444444,
              "#bd3786"
             ],
             [
              0.5555555555555556,
              "#d8576b"
             ],
             [
              0.6666666666666666,
              "#ed7953"
             ],
             [
              0.7777777777777778,
              "#fb9f3a"
             ],
             [
              0.8888888888888888,
              "#fdca26"
             ],
             [
              1,
              "#f0f921"
             ]
            ],
            "type": "heatmapgl"
           }
          ],
          "histogram": [
           {
            "marker": {
             "pattern": {
              "fillmode": "overlay",
              "size": 10,
              "solidity": 0.2
             }
            },
            "type": "histogram"
           }
          ],
          "histogram2d": [
           {
            "colorbar": {
             "outlinewidth": 0,
             "ticks": ""
            },
            "colorscale": [
             [
              0,
              "#0d0887"
             ],
             [
              0.1111111111111111,
              "#46039f"
             ],
             [
              0.2222222222222222,
              "#7201a8"
             ],
             [
              0.3333333333333333,
              "#9c179e"
             ],
             [
              0.4444444444444444,
              "#bd3786"
             ],
             [
              0.5555555555555556,
              "#d8576b"
             ],
             [
              0.6666666666666666,
              "#ed7953"
             ],
             [
              0.7777777777777778,
              "#fb9f3a"
             ],
             [
              0.8888888888888888,
              "#fdca26"
             ],
             [
              1,
              "#f0f921"
             ]
            ],
            "type": "histogram2d"
           }
          ],
          "histogram2dcontour": [
           {
            "colorbar": {
             "outlinewidth": 0,
             "ticks": ""
            },
            "colorscale": [
             [
              0,
              "#0d0887"
             ],
             [
              0.1111111111111111,
              "#46039f"
             ],
             [
              0.2222222222222222,
              "#7201a8"
             ],
             [
              0.3333333333333333,
              "#9c179e"
             ],
             [
              0.4444444444444444,
              "#bd3786"
             ],
             [
              0.5555555555555556,
              "#d8576b"
             ],
             [
              0.6666666666666666,
              "#ed7953"
             ],
             [
              0.7777777777777778,
              "#fb9f3a"
             ],
             [
              0.8888888888888888,
              "#fdca26"
             ],
             [
              1,
              "#f0f921"
             ]
            ],
            "type": "histogram2dcontour"
           }
          ],
          "mesh3d": [
           {
            "colorbar": {
             "outlinewidth": 0,
             "ticks": ""
            },
            "type": "mesh3d"
           }
          ],
          "parcoords": [
           {
            "line": {
             "colorbar": {
              "outlinewidth": 0,
              "ticks": ""
             }
            },
            "type": "parcoords"
           }
          ],
          "pie": [
           {
            "automargin": true,
            "type": "pie"
           }
          ],
          "scatter": [
           {
            "fillpattern": {
             "fillmode": "overlay",
             "size": 10,
             "solidity": 0.2
            },
            "type": "scatter"
           }
          ],
          "scatter3d": [
           {
            "line": {
             "colorbar": {
              "outlinewidth": 0,
              "ticks": ""
             }
            },
            "marker": {
             "colorbar": {
              "outlinewidth": 0,
              "ticks": ""
             }
            },
            "type": "scatter3d"
           }
          ],
          "scattercarpet": [
           {
            "marker": {
             "colorbar": {
              "outlinewidth": 0,
              "ticks": ""
             }
            },
            "type": "scattercarpet"
           }
          ],
          "scattergeo": [
           {
            "marker": {
             "colorbar": {
              "outlinewidth": 0,
              "ticks": ""
             }
            },
            "type": "scattergeo"
           }
          ],
          "scattergl": [
           {
            "marker": {
             "colorbar": {
              "outlinewidth": 0,
              "ticks": ""
             }
            },
            "type": "scattergl"
           }
          ],
          "scattermapbox": [
           {
            "marker": {
             "colorbar": {
              "outlinewidth": 0,
              "ticks": ""
             }
            },
            "type": "scattermapbox"
           }
          ],
          "scatterpolar": [
           {
            "marker": {
             "colorbar": {
              "outlinewidth": 0,
              "ticks": ""
             }
            },
            "type": "scatterpolar"
           }
          ],
          "scatterpolargl": [
           {
            "marker": {
             "colorbar": {
              "outlinewidth": 0,
              "ticks": ""
             }
            },
            "type": "scatterpolargl"
           }
          ],
          "scatterternary": [
           {
            "marker": {
             "colorbar": {
              "outlinewidth": 0,
              "ticks": ""
             }
            },
            "type": "scatterternary"
           }
          ],
          "surface": [
           {
            "colorbar": {
             "outlinewidth": 0,
             "ticks": ""
            },
            "colorscale": [
             [
              0,
              "#0d0887"
             ],
             [
              0.1111111111111111,
              "#46039f"
             ],
             [
              0.2222222222222222,
              "#7201a8"
             ],
             [
              0.3333333333333333,
              "#9c179e"
             ],
             [
              0.4444444444444444,
              "#bd3786"
             ],
             [
              0.5555555555555556,
              "#d8576b"
             ],
             [
              0.6666666666666666,
              "#ed7953"
             ],
             [
              0.7777777777777778,
              "#fb9f3a"
             ],
             [
              0.8888888888888888,
              "#fdca26"
             ],
             [
              1,
              "#f0f921"
             ]
            ],
            "type": "surface"
           }
          ],
          "table": [
           {
            "cells": {
             "fill": {
              "color": "#EBF0F8"
             },
             "line": {
              "color": "white"
             }
            },
            "header": {
             "fill": {
              "color": "#C8D4E3"
             },
             "line": {
              "color": "white"
             }
            },
            "type": "table"
           }
          ]
         },
         "layout": {
          "annotationdefaults": {
           "arrowcolor": "#2a3f5f",
           "arrowhead": 0,
           "arrowwidth": 1
          },
          "autotypenumbers": "strict",
          "coloraxis": {
           "colorbar": {
            "outlinewidth": 0,
            "ticks": ""
           }
          },
          "colorscale": {
           "diverging": [
            [
             0,
             "#8e0152"
            ],
            [
             0.1,
             "#c51b7d"
            ],
            [
             0.2,
             "#de77ae"
            ],
            [
             0.3,
             "#f1b6da"
            ],
            [
             0.4,
             "#fde0ef"
            ],
            [
             0.5,
             "#f7f7f7"
            ],
            [
             0.6,
             "#e6f5d0"
            ],
            [
             0.7,
             "#b8e186"
            ],
            [
             0.8,
             "#7fbc41"
            ],
            [
             0.9,
             "#4d9221"
            ],
            [
             1,
             "#276419"
            ]
           ],
           "sequential": [
            [
             0,
             "#0d0887"
            ],
            [
             0.1111111111111111,
             "#46039f"
            ],
            [
             0.2222222222222222,
             "#7201a8"
            ],
            [
             0.3333333333333333,
             "#9c179e"
            ],
            [
             0.4444444444444444,
             "#bd3786"
            ],
            [
             0.5555555555555556,
             "#d8576b"
            ],
            [
             0.6666666666666666,
             "#ed7953"
            ],
            [
             0.7777777777777778,
             "#fb9f3a"
            ],
            [
             0.8888888888888888,
             "#fdca26"
            ],
            [
             1,
             "#f0f921"
            ]
           ],
           "sequentialminus": [
            [
             0,
             "#0d0887"
            ],
            [
             0.1111111111111111,
             "#46039f"
            ],
            [
             0.2222222222222222,
             "#7201a8"
            ],
            [
             0.3333333333333333,
             "#9c179e"
            ],
            [
             0.4444444444444444,
             "#bd3786"
            ],
            [
             0.5555555555555556,
             "#d8576b"
            ],
            [
             0.6666666666666666,
             "#ed7953"
            ],
            [
             0.7777777777777778,
             "#fb9f3a"
            ],
            [
             0.8888888888888888,
             "#fdca26"
            ],
            [
             1,
             "#f0f921"
            ]
           ]
          },
          "colorway": [
           "#636efa",
           "#EF553B",
           "#00cc96",
           "#ab63fa",
           "#FFA15A",
           "#19d3f3",
           "#FF6692",
           "#B6E880",
           "#FF97FF",
           "#FECB52"
          ],
          "font": {
           "color": "#2a3f5f"
          },
          "geo": {
           "bgcolor": "white",
           "lakecolor": "white",
           "landcolor": "#E5ECF6",
           "showlakes": true,
           "showland": true,
           "subunitcolor": "white"
          },
          "hoverlabel": {
           "align": "left"
          },
          "hovermode": "closest",
          "mapbox": {
           "style": "light"
          },
          "paper_bgcolor": "white",
          "plot_bgcolor": "#E5ECF6",
          "polar": {
           "angularaxis": {
            "gridcolor": "white",
            "linecolor": "white",
            "ticks": ""
           },
           "bgcolor": "#E5ECF6",
           "radialaxis": {
            "gridcolor": "white",
            "linecolor": "white",
            "ticks": ""
           }
          },
          "scene": {
           "xaxis": {
            "backgroundcolor": "#E5ECF6",
            "gridcolor": "white",
            "gridwidth": 2,
            "linecolor": "white",
            "showbackground": true,
            "ticks": "",
            "zerolinecolor": "white"
           },
           "yaxis": {
            "backgroundcolor": "#E5ECF6",
            "gridcolor": "white",
            "gridwidth": 2,
            "linecolor": "white",
            "showbackground": true,
            "ticks": "",
            "zerolinecolor": "white"
           },
           "zaxis": {
            "backgroundcolor": "#E5ECF6",
            "gridcolor": "white",
            "gridwidth": 2,
            "linecolor": "white",
            "showbackground": true,
            "ticks": "",
            "zerolinecolor": "white"
           }
          },
          "shapedefaults": {
           "line": {
            "color": "#2a3f5f"
           }
          },
          "ternary": {
           "aaxis": {
            "gridcolor": "white",
            "linecolor": "white",
            "ticks": ""
           },
           "baxis": {
            "gridcolor": "white",
            "linecolor": "white",
            "ticks": ""
           },
           "bgcolor": "#E5ECF6",
           "caxis": {
            "gridcolor": "white",
            "linecolor": "white",
            "ticks": ""
           }
          },
          "title": {
           "x": 0.05
          },
          "xaxis": {
           "automargin": true,
           "gridcolor": "white",
           "linecolor": "white",
           "ticks": "",
           "title": {
            "standoff": 15
           },
           "zerolinecolor": "white",
           "zerolinewidth": 2
          },
          "yaxis": {
           "automargin": true,
           "gridcolor": "white",
           "linecolor": "white",
           "ticks": "",
           "title": {
            "standoff": 15
           },
           "zerolinecolor": "white",
           "zerolinewidth": 2
          }
         }
        },
        "title": {
         "text": "Support vs Confidence"
        },
        "xaxis": {
         "anchor": "y",
         "domain": [
          0,
          1
         ],
         "title": {
          "text": "support"
         }
        },
        "yaxis": {
         "anchor": "x",
         "domain": [
          0,
          1
         ],
         "title": {
          "text": "confidence"
         }
        }
       }
      }
     },
     "metadata": {},
     "output_type": "display_data"
    }
   ],
   "source": [
    "# 산점도 그래프 그리기\n",
    "fig=px.scatter(\n",
    "    rules['support'], \n",
    "    rules['confidence'], \n",
    "    size=rules['lift'], \n",
    "    color=rules['lift']\n",
    ")\n",
    "\n",
    "# 그래프 레이아웃 설정\n",
    "fig.update_layout(\n",
    "    xaxis_title='support',\n",
    "    yaxis_title='confidence',\n",
    "    font_family='Courier New',\n",
    "    font_color='blue',\n",
    "    title_font_family='Times New Roman',\n",
    "    title_font_color='red',\n",
    "    title=('Support vs Confidence')\n",
    "    \n",
    ")\n",
    "\n",
    "# 그래프 출력\n",
    "fig.show()"
   ]
  },
  {
   "cell_type": "code",
   "execution_count": 29,
   "id": "2056bf68",
   "metadata": {},
   "outputs": [
    {
     "data": {
      "text/html": [
       "<div>\n",
       "<style scoped>\n",
       "    .dataframe tbody tr th:only-of-type {\n",
       "        vertical-align: middle;\n",
       "    }\n",
       "\n",
       "    .dataframe tbody tr th {\n",
       "        vertical-align: top;\n",
       "    }\n",
       "\n",
       "    .dataframe thead th {\n",
       "        text-align: right;\n",
       "    }\n",
       "</style>\n",
       "<table border=\"1\" class=\"dataframe\">\n",
       "  <thead>\n",
       "    <tr style=\"text-align: right;\">\n",
       "      <th></th>\n",
       "      <th>antecedents</th>\n",
       "      <th>consequents</th>\n",
       "      <th>antecedent support</th>\n",
       "      <th>consequent support</th>\n",
       "      <th>support</th>\n",
       "      <th>confidence</th>\n",
       "      <th>lift</th>\n",
       "      <th>leverage</th>\n",
       "      <th>conviction</th>\n",
       "      <th>zhangs_metric</th>\n",
       "      <th>antecedents_str</th>\n",
       "      <th>consequents_str</th>\n",
       "    </tr>\n",
       "  </thead>\n",
       "  <tbody>\n",
       "    <tr>\n",
       "      <th>0</th>\n",
       "      <td>(JavaScript)</td>\n",
       "      <td>(Go)</td>\n",
       "      <td>0.231824</td>\n",
       "      <td>0.030178</td>\n",
       "      <td>0.013717</td>\n",
       "      <td>0.059172</td>\n",
       "      <td>1.960732</td>\n",
       "      <td>0.006721</td>\n",
       "      <td>1.030817</td>\n",
       "      <td>0.637857</td>\n",
       "      <td>JavaScript</td>\n",
       "      <td>Go</td>\n",
       "    </tr>\n",
       "    <tr>\n",
       "      <th>1</th>\n",
       "      <td>(Go)</td>\n",
       "      <td>(JavaScript)</td>\n",
       "      <td>0.030178</td>\n",
       "      <td>0.231824</td>\n",
       "      <td>0.013717</td>\n",
       "      <td>0.454545</td>\n",
       "      <td>1.960732</td>\n",
       "      <td>0.006721</td>\n",
       "      <td>1.408322</td>\n",
       "      <td>0.505233</td>\n",
       "      <td>Go</td>\n",
       "      <td>JavaScript</td>\n",
       "    </tr>\n",
       "    <tr>\n",
       "      <th>2</th>\n",
       "      <td>(Python)</td>\n",
       "      <td>(Go)</td>\n",
       "      <td>0.855967</td>\n",
       "      <td>0.030178</td>\n",
       "      <td>0.028807</td>\n",
       "      <td>0.033654</td>\n",
       "      <td>1.115166</td>\n",
       "      <td>0.002975</td>\n",
       "      <td>1.003597</td>\n",
       "      <td>0.717007</td>\n",
       "      <td>Python</td>\n",
       "      <td>Go</td>\n",
       "    </tr>\n",
       "    <tr>\n",
       "      <th>3</th>\n",
       "      <td>(Go)</td>\n",
       "      <td>(Python)</td>\n",
       "      <td>0.030178</td>\n",
       "      <td>0.855967</td>\n",
       "      <td>0.028807</td>\n",
       "      <td>0.954545</td>\n",
       "      <td>1.115166</td>\n",
       "      <td>0.002975</td>\n",
       "      <td>3.168724</td>\n",
       "      <td>0.106486</td>\n",
       "      <td>Go</td>\n",
       "      <td>Python</td>\n",
       "    </tr>\n",
       "    <tr>\n",
       "      <th>4</th>\n",
       "      <td>(SQL)</td>\n",
       "      <td>(Go)</td>\n",
       "      <td>0.603567</td>\n",
       "      <td>0.030178</td>\n",
       "      <td>0.017833</td>\n",
       "      <td>0.029545</td>\n",
       "      <td>0.979029</td>\n",
       "      <td>-0.000382</td>\n",
       "      <td>0.999348</td>\n",
       "      <td>-0.051263</td>\n",
       "      <td>SQL</td>\n",
       "      <td>Go</td>\n",
       "    </tr>\n",
       "    <tr>\n",
       "      <th>...</th>\n",
       "      <td>...</td>\n",
       "      <td>...</td>\n",
       "      <td>...</td>\n",
       "      <td>...</td>\n",
       "      <td>...</td>\n",
       "      <td>...</td>\n",
       "      <td>...</td>\n",
       "      <td>...</td>\n",
       "      <td>...</td>\n",
       "      <td>...</td>\n",
       "      <td>...</td>\n",
       "      <td>...</td>\n",
       "    </tr>\n",
       "    <tr>\n",
       "      <th>437</th>\n",
       "      <td>(JavaScript)</td>\n",
       "      <td>(R, SQL, Python, Java)</td>\n",
       "      <td>0.231824</td>\n",
       "      <td>0.016461</td>\n",
       "      <td>0.013717</td>\n",
       "      <td>0.059172</td>\n",
       "      <td>3.594675</td>\n",
       "      <td>0.009901</td>\n",
       "      <td>1.045397</td>\n",
       "      <td>0.939643</td>\n",
       "      <td>JavaScript</td>\n",
       "      <td>R,SQL,Python,Java</td>\n",
       "    </tr>\n",
       "    <tr>\n",
       "      <th>438</th>\n",
       "      <td>(Java)</td>\n",
       "      <td>(R, SQL, Python, JavaScript)</td>\n",
       "      <td>0.116598</td>\n",
       "      <td>0.048011</td>\n",
       "      <td>0.013717</td>\n",
       "      <td>0.117647</td>\n",
       "      <td>2.450420</td>\n",
       "      <td>0.008119</td>\n",
       "      <td>1.078921</td>\n",
       "      <td>0.670031</td>\n",
       "      <td>Java</td>\n",
       "      <td>R,SQL,Python,JavaScript</td>\n",
       "    </tr>\n",
       "    <tr>\n",
       "      <th>439</th>\n",
       "      <td>(Python)</td>\n",
       "      <td>(R, SQL, JavaScript, Java)</td>\n",
       "      <td>0.855967</td>\n",
       "      <td>0.013717</td>\n",
       "      <td>0.013717</td>\n",
       "      <td>0.016026</td>\n",
       "      <td>1.168269</td>\n",
       "      <td>0.001976</td>\n",
       "      <td>1.002346</td>\n",
       "      <td>1.000000</td>\n",
       "      <td>Python</td>\n",
       "      <td>R,SQL,JavaScript,Java</td>\n",
       "    </tr>\n",
       "    <tr>\n",
       "      <th>440</th>\n",
       "      <td>(R)</td>\n",
       "      <td>(SQL, Python, JavaScript, Java)</td>\n",
       "      <td>0.292181</td>\n",
       "      <td>0.043896</td>\n",
       "      <td>0.013717</td>\n",
       "      <td>0.046948</td>\n",
       "      <td>1.069542</td>\n",
       "      <td>0.000892</td>\n",
       "      <td>1.003203</td>\n",
       "      <td>0.091860</td>\n",
       "      <td>R</td>\n",
       "      <td>SQL,Python,JavaScript,Java</td>\n",
       "    </tr>\n",
       "    <tr>\n",
       "      <th>441</th>\n",
       "      <td>(SQL)</td>\n",
       "      <td>(R, Python, JavaScript, Java)</td>\n",
       "      <td>0.603567</td>\n",
       "      <td>0.013717</td>\n",
       "      <td>0.013717</td>\n",
       "      <td>0.022727</td>\n",
       "      <td>1.656818</td>\n",
       "      <td>0.005438</td>\n",
       "      <td>1.009219</td>\n",
       "      <td>1.000000</td>\n",
       "      <td>SQL</td>\n",
       "      <td>R,Python,JavaScript,Java</td>\n",
       "    </tr>\n",
       "  </tbody>\n",
       "</table>\n",
       "<p>442 rows × 12 columns</p>\n",
       "</div>"
      ],
      "text/plain": [
       "      antecedents                      consequents  antecedent support  \\\n",
       "0    (JavaScript)                             (Go)            0.231824   \n",
       "1            (Go)                     (JavaScript)            0.030178   \n",
       "2        (Python)                             (Go)            0.855967   \n",
       "3            (Go)                         (Python)            0.030178   \n",
       "4           (SQL)                             (Go)            0.603567   \n",
       "..            ...                              ...                 ...   \n",
       "437  (JavaScript)           (R, SQL, Python, Java)            0.231824   \n",
       "438        (Java)     (R, SQL, Python, JavaScript)            0.116598   \n",
       "439      (Python)       (R, SQL, JavaScript, Java)            0.855967   \n",
       "440           (R)  (SQL, Python, JavaScript, Java)            0.292181   \n",
       "441         (SQL)    (R, Python, JavaScript, Java)            0.603567   \n",
       "\n",
       "     consequent support   support  confidence      lift  leverage  conviction  \\\n",
       "0              0.030178  0.013717    0.059172  1.960732  0.006721    1.030817   \n",
       "1              0.231824  0.013717    0.454545  1.960732  0.006721    1.408322   \n",
       "2              0.030178  0.028807    0.033654  1.115166  0.002975    1.003597   \n",
       "3              0.855967  0.028807    0.954545  1.115166  0.002975    3.168724   \n",
       "4              0.030178  0.017833    0.029545  0.979029 -0.000382    0.999348   \n",
       "..                  ...       ...         ...       ...       ...         ...   \n",
       "437            0.016461  0.013717    0.059172  3.594675  0.009901    1.045397   \n",
       "438            0.048011  0.013717    0.117647  2.450420  0.008119    1.078921   \n",
       "439            0.013717  0.013717    0.016026  1.168269  0.001976    1.002346   \n",
       "440            0.043896  0.013717    0.046948  1.069542  0.000892    1.003203   \n",
       "441            0.013717  0.013717    0.022727  1.656818  0.005438    1.009219   \n",
       "\n",
       "     zhangs_metric antecedents_str             consequents_str  \n",
       "0         0.637857      JavaScript                          Go  \n",
       "1         0.505233              Go                  JavaScript  \n",
       "2         0.717007          Python                          Go  \n",
       "3         0.106486              Go                      Python  \n",
       "4        -0.051263             SQL                          Go  \n",
       "..             ...             ...                         ...  \n",
       "437       0.939643      JavaScript           R,SQL,Python,Java  \n",
       "438       0.670031            Java     R,SQL,Python,JavaScript  \n",
       "439       1.000000          Python       R,SQL,JavaScript,Java  \n",
       "440       0.091860               R  SQL,Python,JavaScript,Java  \n",
       "441       1.000000             SQL    R,Python,JavaScript,Java  \n",
       "\n",
       "[442 rows x 12 columns]"
      ]
     },
     "execution_count": 29,
     "metadata": {},
     "output_type": "execute_result"
    }
   ],
   "source": [
    "# frozenset 데이터를 문자열로 변환하여 열 추가\n",
    "rules['antecedents_str'] = rules['antecedents'].apply(lambda x: ','.join(list(x)))\n",
    "rules['consequents_str'] = rules['consequents'].apply(lambda x: ','.join(list(x)))\n",
    "rules"
   ]
  },
  {
   "cell_type": "code",
   "execution_count": 30,
   "id": "a486ee91",
   "metadata": {
    "scrolled": false
   },
   "outputs": [
    {
     "ename": "SyntaxError",
     "evalue": "invalid syntax. Perhaps you forgot a comma? (40893574.py, line 3)",
     "output_type": "error",
     "traceback": [
      "\u001b[1;36m  Cell \u001b[1;32mIn[30], line 3\u001b[1;36m\u001b[0m\n\u001b[1;33m    rules\u001b[0m\n\u001b[1;37m    ^\u001b[0m\n\u001b[1;31mSyntaxError\u001b[0m\u001b[1;31m:\u001b[0m invalid syntax. Perhaps you forgot a comma?\n"
     ]
    }
   ],
   "source": [
    "# 산점도 그래프 그리기\n",
    "fig=px.scatter(\n",
    "    rules\n",
    "    x='support', \n",
    "    y='confidence', \n",
    "    size='lift', \n",
    "    color='lift',\n",
    "    hover_data=['antecedents_str', 'consequents_str']\n",
    ")\n",
    "\n",
    "# 그래프 레이아웃 설정\n",
    "fig.update_layout(\n",
    "    xaxis_title='support',\n",
    "    yaxis_title='confidence',\n",
    "    font_family='Courier New',\n",
    "    font_color='blue',\n",
    "    title_font_family='Times New Roman',\n",
    "    title_font_color='red',\n",
    "    title=('Support vs Confidence')\n",
    "    \n",
    ")\n",
    "\n",
    "# 그래프 출력\n",
    "fig.show()"
   ]
  },
  {
   "cell_type": "code",
   "execution_count": null,
   "id": "972ead49",
   "metadata": {},
   "outputs": [],
   "source": [
    "# 항목이 하나인 값만 필터링하기\n",
    "rules_for_single = rules[rules.apply(lambda x: (len(x['antecedents']) == 1 and len(x['consequents']) == 1), axis=1)]\n",
    "rules_for_single.head(20)"
   ]
  },
  {
   "cell_type": "code",
   "execution_count": null,
   "id": "2d73df72",
   "metadata": {},
   "outputs": [],
   "source": [
    "# 프로그래밍 언어 문자열로 추출\n",
    "rules_for_single_df = pd.DataFrame(rules_for_single['antecedents'].apply(lambda x: list(x)[0]))\n",
    "rules_for_single_df['consequents'] = rules_for_single['consequents'].apply(lambda x: list(x)[0])\n",
    "rules_for_single_df['confidence'] = rules_for_single['confidence']\n",
    "\n",
    "rules_for_single_df.head(20)"
   ]
  },
  {
   "cell_type": "code",
   "execution_count": null,
   "id": "bd43edbb",
   "metadata": {
    "scrolled": true
   },
   "outputs": [],
   "source": [
    "# 히트맵용 데이터프레임 생성, 색인은 대상 프로그래밍 언어로 설정\n",
    "revised_rules_df = pd.DataFrame(index=target_langs)\n",
    "\n",
    "# 대상 프로그래밍 언어 순회\n",
    "for col in target_langs:\n",
    "    \n",
    "    # 열 설정을 위한 빈 리스트 생성\n",
    "    col_conf = []\n",
    "    for row in target_langs:\n",
    "        \n",
    "        # 신뢰도 확보, 조건 언어는 줄, 결과 언어는 행으로 설정\n",
    "        confidence = rules_for_single_df[rules_for_single_df['antecedents'] == row][rules_for_single_df['consequents'] == col]['confidence']\n",
    "        \n",
    "        # 신뢰도 값이 존재하는 경우에만 행에 값 추가\n",
    "        if len(confidence.values) > 0:\n",
    "            col_conf.append(confidence.values[0])\n",
    "            \n",
    "        # 그렇지 않은 경우 0 설정\n",
    "        else:\n",
    "            col_conf.append(0)\n",
    "            \n",
    "    # 완성된 열을 데이터프레임에 추가\n",
    "    revised_rules_df[col] = col_conf\n",
    "        \n",
    "# 최종 데이터프레임 값 확인\n",
    "revised_rules_df"
   ]
  },
  {
   "cell_type": "code",
   "execution_count": null,
   "id": "5c3fedab",
   "metadata": {},
   "outputs": [],
   "source": [
    "# Seaborn 라이브러리 탑재\n",
    "import seaborn as sns\n",
    "\n",
    "# 히트맵 크기 설정\n",
    "plt.figure(figsize=(15, 5))\n",
    "\n",
    "# 히트맵 그리기\n",
    "heatmap = sns.heatmap(revised_rules_df, annot=True)"
   ]
  }
 ],
 "metadata": {
  "kernelspec": {
   "display_name": "Python 3 (ipykernel)",
   "language": "python",
   "name": "python3"
  },
  "language_info": {
   "codemirror_mode": {
    "name": "ipython",
    "version": 3
   },
   "file_extension": ".py",
   "mimetype": "text/x-python",
   "name": "python",
   "nbconvert_exporter": "python",
   "pygments_lexer": "ipython3",
   "version": "3.11.6"
  }
 },
 "nbformat": 4,
 "nbformat_minor": 5
}
