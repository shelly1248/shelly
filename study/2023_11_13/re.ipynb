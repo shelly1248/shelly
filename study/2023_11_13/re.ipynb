{
 "cells": [
  {
   "cell_type": "code",
   "execution_count": 1,
   "metadata": {},
   "outputs": [],
   "source": [
    "import re\n",
    "# 정규표현식 : 특정한 문자의 규칙을 찾고 가공하는방법"
   ]
  },
  {
   "cell_type": "code",
   "execution_count": 2,
   "metadata": {},
   "outputs": [
    {
     "data": {
      "text/plain": [
       "<re.Match object; span=(0, 4), match='life'>"
      ]
     },
     "execution_count": 2,
     "metadata": {},
     "output_type": "execute_result"
    }
   ],
   "source": [
    "# match 메서드 - 문자열 도입에서 패턴 찾기\n",
    "# re.match (패턴, 문자열)\n",
    "pattern = r'life'\n",
    "script = 'life'\n",
    "re.match(pattern, script)"
   ]
  },
  {
   "cell_type": "code",
   "execution_count": 3,
   "metadata": {},
   "outputs": [
    {
     "data": {
      "text/plain": [
       "'life'"
      ]
     },
     "execution_count": 3,
     "metadata": {},
     "output_type": "execute_result"
    }
   ],
   "source": [
    "re.match(pattern, script).group()"
   ]
  },
  {
   "cell_type": "code",
   "execution_count": 4,
   "metadata": {},
   "outputs": [
    {
     "ename": "AttributeError",
     "evalue": "'NoneType' object has no attribute 'group'",
     "output_type": "error",
     "traceback": [
      "\u001b[1;31m---------------------------------------------------------------------------\u001b[0m",
      "\u001b[1;31mAttributeError\u001b[0m                            Traceback (most recent call last)",
      "\u001b[1;32mc:\\sqlite\\mysql\\shelly\\code\\수업\\2023_11_13\\re.ipynb 셀 4\u001b[0m line \u001b[0;36m1\n\u001b[1;32m----> <a href='vscode-notebook-cell:/c%3A/sqlite/mysql/shelly/code/%EC%88%98%EC%97%85/2023_11_13/re.ipynb#W3sZmlsZQ%3D%3D?line=0'>1</a>\u001b[0m re\u001b[39m.\u001b[39;49mmatch(\u001b[39mr\u001b[39;49m\u001b[39m'\u001b[39;49m\u001b[39mlife\u001b[39;49m\u001b[39m'\u001b[39;49m, \u001b[39m'\u001b[39;49m\u001b[39mnaimal\u001b[39;49m\u001b[39m'\u001b[39;49m)\u001b[39m.\u001b[39;49mgroup()\n",
      "\u001b[1;31mAttributeError\u001b[0m: 'NoneType' object has no attribute 'group'"
     ]
    }
   ],
   "source": [
    "re.match(r'life', 'naimal').group()\n",
    "# 안맞아서 에러발생"
   ]
  },
  {
   "cell_type": "code",
   "execution_count": 5,
   "metadata": {},
   "outputs": [],
   "source": [
    "def refinder(pattern, script):\n",
    "    if re.match(pattern, script):\n",
    "        print('match !')\n",
    "    else:\n",
    "        print('not match!')"
   ]
  },
  {
   "cell_type": "code",
   "execution_count": 6,
   "metadata": {},
   "outputs": [
    {
     "name": "stdout",
     "output_type": "stream",
     "text": [
      "match !\n"
     ]
    }
   ],
   "source": [
    "pattern = r\"Life\"\n",
    "scripts = 'Life is so cool'\n",
    "refinder(pattern, scripts)"
   ]
  },
  {
   "cell_type": "code",
   "execution_count": 9,
   "metadata": {},
   "outputs": [
    {
     "name": "stdout",
     "output_type": "stream",
     "text": [
      "match !\n"
     ]
    }
   ],
   "source": [
    "pattern = r\"Life\"\n",
    "script = 'Life is so cool'\n",
    "refinder(pattern, script)"
   ]
  },
  {
   "cell_type": "code",
   "execution_count": 10,
   "metadata": {},
   "outputs": [
    {
     "data": {
      "text/plain": [
       "'Life'"
      ]
     },
     "execution_count": 10,
     "metadata": {},
     "output_type": "execute_result"
    }
   ],
   "source": [
    "# is를 찾을 수 없습니다. mathc 가 문자열의 시작부터 매칭되는지 찾는 함수이기 때문이다\n",
    "# 때문에 텍스트 중간에 있는 패턴을 찾지 못한다\n",
    "# search 메서드 : 문자열 전체에서 패턴 찾기 re.search(패턴, 문자열)\n",
    "re.search(r'Life', script).group()"
   ]
  },
  {
   "cell_type": "code",
   "execution_count": 8,
   "metadata": {},
   "outputs": [
    {
     "data": {
      "text/plain": [
       "['511223', '521012']"
      ]
     },
     "execution_count": 8,
     "metadata": {},
     "output_type": "execute_result"
    }
   ],
   "source": [
    "# re.findall(패턴, 찾으려는 문자열)\n",
    "number = 'My number is 511223-1****** and yours is 521012-2******'\n",
    "re.findall(r'\\d{6}', number)"
   ]
  },
  {
   "cell_type": "code",
   "execution_count": 11,
   "metadata": {},
   "outputs": [],
   "source": [
    "# 제너레이터는 itertator 객체의 한 종류이다. 함수를 기반으로 제너레이터를 만든 예는 다음과 같다\n",
    "# 함수 몸체에서 yield가 하나라도 보이면 단순한 함수의 정의가 아닌 제너레이터 함수의 정의가 된다 @@@@@@@@@중요@@@@@@@@\n",
    "# 제너레이터의 정체 : 함수의 몸체 부분을 실행하는것\n",
    "\n",
    "def gen_num():\n",
    "    print('first number')\n",
    "    yield 1\n",
    "    print('second number')\n",
    "    yield 2\n",
    "    print('third number')\n",
    "    yield 3\n",
    "    print('fourth number')\n",
    "\n",
    "gen = gen_num()"
   ]
  },
  {
   "cell_type": "code",
   "execution_count": 12,
   "metadata": {},
   "outputs": [
    {
     "name": "stdout",
     "output_type": "stream",
     "text": [
      "first number\n"
     ]
    },
    {
     "data": {
      "text/plain": [
       "1"
      ]
     },
     "execution_count": 12,
     "metadata": {},
     "output_type": "execute_result"
    }
   ],
   "source": [
    "next(gen)"
   ]
  },
  {
   "cell_type": "code",
   "execution_count": 13,
   "metadata": {},
   "outputs": [
    {
     "name": "stdout",
     "output_type": "stream",
     "text": [
      "second number\n"
     ]
    },
    {
     "data": {
      "text/plain": [
       "2"
      ]
     },
     "execution_count": 13,
     "metadata": {},
     "output_type": "execute_result"
    }
   ],
   "source": [
    "next(gen)"
   ]
  },
  {
   "cell_type": "code",
   "execution_count": 14,
   "metadata": {},
   "outputs": [
    {
     "name": "stdout",
     "output_type": "stream",
     "text": [
      "third number\n"
     ]
    },
    {
     "data": {
      "text/plain": [
       "3"
      ]
     },
     "execution_count": 14,
     "metadata": {},
     "output_type": "execute_result"
    }
   ],
   "source": [
    "next(gen)\n",
    "# 이렇듯 함수 호출 이후에 그 실행의 흐름을 next함수가 호출될 때까지 미루는 특성을 가리켜 lazy evaluation 이라 한다"
   ]
  },
  {
   "cell_type": "code",
   "execution_count": null,
   "metadata": {},
   "outputs": [],
   "source": []
  },
  {
   "cell_type": "code",
   "execution_count": null,
   "metadata": {},
   "outputs": [],
   "source": []
  },
  {
   "cell_type": "code",
   "execution_count": null,
   "metadata": {},
   "outputs": [],
   "source": []
  },
  {
   "cell_type": "code",
   "execution_count": null,
   "metadata": {},
   "outputs": [],
   "source": []
  },
  {
   "cell_type": "code",
   "execution_count": null,
   "metadata": {},
   "outputs": [],
   "source": []
  }
 ],
 "metadata": {
  "kernelspec": {
   "display_name": "Python 3",
   "language": "python",
   "name": "python3"
  },
  "language_info": {
   "codemirror_mode": {
    "name": "ipython",
    "version": 3
   },
   "file_extension": ".py",
   "mimetype": "text/x-python",
   "name": "python",
   "nbconvert_exporter": "python",
   "pygments_lexer": "ipython3",
   "version": "3.11.6"
  }
 },
 "nbformat": 4,
 "nbformat_minor": 2
}
