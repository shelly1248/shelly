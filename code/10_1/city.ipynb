{
 "cells": [
  {
   "cell_type": "code",
   "execution_count": 34,
   "metadata": {},
   "outputs": [
    {
     "data": {
      "text/html": [
       "<div>\n",
       "<style scoped>\n",
       "    .dataframe tbody tr th:only-of-type {\n",
       "        vertical-align: middle;\n",
       "    }\n",
       "\n",
       "    .dataframe tbody tr th {\n",
       "        vertical-align: top;\n",
       "    }\n",
       "\n",
       "    .dataframe thead th {\n",
       "        text-align: right;\n",
       "    }\n",
       "</style>\n",
       "<table border=\"1\" class=\"dataframe\">\n",
       "  <thead>\n",
       "    <tr style=\"text-align: right;\">\n",
       "      <th></th>\n",
       "      <th>dt</th>\n",
       "      <th>AverageTemperature</th>\n",
       "      <th>City</th>\n",
       "      <th>Latitude</th>\n",
       "      <th>Longitude</th>\n",
       "    </tr>\n",
       "  </thead>\n",
       "  <tbody>\n",
       "    <tr>\n",
       "      <th>0</th>\n",
       "      <td>1849-01-01</td>\n",
       "      <td>26.704</td>\n",
       "      <td>Abidjan</td>\n",
       "      <td>5.63N</td>\n",
       "      <td>3.23W</td>\n",
       "    </tr>\n",
       "    <tr>\n",
       "      <th>1</th>\n",
       "      <td>1849-02-01</td>\n",
       "      <td>27.434</td>\n",
       "      <td>Abidjan</td>\n",
       "      <td>5.63N</td>\n",
       "      <td>3.23W</td>\n",
       "    </tr>\n",
       "    <tr>\n",
       "      <th>2</th>\n",
       "      <td>1849-03-01</td>\n",
       "      <td>28.101</td>\n",
       "      <td>Abidjan</td>\n",
       "      <td>5.63N</td>\n",
       "      <td>3.23W</td>\n",
       "    </tr>\n",
       "    <tr>\n",
       "      <th>3</th>\n",
       "      <td>1849-04-01</td>\n",
       "      <td>26.140</td>\n",
       "      <td>Abidjan</td>\n",
       "      <td>5.63N</td>\n",
       "      <td>3.23W</td>\n",
       "    </tr>\n",
       "    <tr>\n",
       "      <th>4</th>\n",
       "      <td>1849-05-01</td>\n",
       "      <td>25.427</td>\n",
       "      <td>Abidjan</td>\n",
       "      <td>5.63N</td>\n",
       "      <td>3.23W</td>\n",
       "    </tr>\n",
       "    <tr>\n",
       "      <th>...</th>\n",
       "      <td>...</td>\n",
       "      <td>...</td>\n",
       "      <td>...</td>\n",
       "      <td>...</td>\n",
       "      <td>...</td>\n",
       "    </tr>\n",
       "    <tr>\n",
       "      <th>239172</th>\n",
       "      <td>2013-05-01</td>\n",
       "      <td>18.979</td>\n",
       "      <td>Xian</td>\n",
       "      <td>34.56N</td>\n",
       "      <td>108.97E</td>\n",
       "    </tr>\n",
       "    <tr>\n",
       "      <th>239173</th>\n",
       "      <td>2013-06-01</td>\n",
       "      <td>23.522</td>\n",
       "      <td>Xian</td>\n",
       "      <td>34.56N</td>\n",
       "      <td>108.97E</td>\n",
       "    </tr>\n",
       "    <tr>\n",
       "      <th>239174</th>\n",
       "      <td>2013-07-01</td>\n",
       "      <td>25.251</td>\n",
       "      <td>Xian</td>\n",
       "      <td>34.56N</td>\n",
       "      <td>108.97E</td>\n",
       "    </tr>\n",
       "    <tr>\n",
       "      <th>239175</th>\n",
       "      <td>2013-08-01</td>\n",
       "      <td>24.528</td>\n",
       "      <td>Xian</td>\n",
       "      <td>34.56N</td>\n",
       "      <td>108.97E</td>\n",
       "    </tr>\n",
       "    <tr>\n",
       "      <th>239176</th>\n",
       "      <td>2013-09-01</td>\n",
       "      <td>NaN</td>\n",
       "      <td>Xian</td>\n",
       "      <td>34.56N</td>\n",
       "      <td>108.97E</td>\n",
       "    </tr>\n",
       "  </tbody>\n",
       "</table>\n",
       "<p>239177 rows × 5 columns</p>\n",
       "</div>"
      ],
      "text/plain": [
       "                dt  AverageTemperature     City Latitude Longitude\n",
       "0       1849-01-01              26.704  Abidjan    5.63N     3.23W\n",
       "1       1849-02-01              27.434  Abidjan    5.63N     3.23W\n",
       "2       1849-03-01              28.101  Abidjan    5.63N     3.23W\n",
       "3       1849-04-01              26.140  Abidjan    5.63N     3.23W\n",
       "4       1849-05-01              25.427  Abidjan    5.63N     3.23W\n",
       "...            ...                 ...      ...      ...       ...\n",
       "239172  2013-05-01              18.979     Xian   34.56N   108.97E\n",
       "239173  2013-06-01              23.522     Xian   34.56N   108.97E\n",
       "239174  2013-07-01              25.251     Xian   34.56N   108.97E\n",
       "239175  2013-08-01              24.528     Xian   34.56N   108.97E\n",
       "239176  2013-09-01                 NaN     Xian   34.56N   108.97E\n",
       "\n",
       "[239177 rows x 5 columns]"
      ]
     },
     "execution_count": 34,
     "metadata": {},
     "output_type": "execute_result"
    }
   ],
   "source": [
    "import pandas as pd\n",
    "filename = r'C:\\\\sqlite\\\\mysql\\\\code\\\\10_1\\\\city.csv'\n",
    "df = pd.read_csv(filename, encoding='cp949')\n",
    "df"
   ]
  },
  {
   "cell_type": "code",
   "execution_count": 35,
   "metadata": {},
   "outputs": [],
   "source": [
    "df['dt'] = pd.to_datetime(df['dt'])"
   ]
  },
  {
   "cell_type": "code",
   "execution_count": 36,
   "metadata": {},
   "outputs": [
    {
     "data": {
      "text/plain": [
       "0         Abidjan\n",
       "1         Abidjan\n",
       "2         Abidjan\n",
       "3         Abidjan\n",
       "4         Abidjan\n",
       "           ...   \n",
       "239172       Xian\n",
       "239173       Xian\n",
       "239174       Xian\n",
       "239175       Xian\n",
       "239176       Xian\n",
       "Name: City, Length: 239177, dtype: object"
      ]
     },
     "execution_count": 36,
     "metadata": {},
     "output_type": "execute_result"
    }
   ],
   "source": [
    "df['City'].fillna(df['City'].mode()[0])"
   ]
  },
  {
   "cell_type": "code",
   "execution_count": 37,
   "metadata": {},
   "outputs": [],
   "source": [
    "df['AverageTemperature'].fillna(df['AverageTemperature'].mean(),inplace=True)"
   ]
  },
  {
   "cell_type": "code",
   "execution_count": 38,
   "metadata": {},
   "outputs": [
    {
     "data": {
      "text/plain": [
       "dt                    0\n",
       "AverageTemperature    0\n",
       "City                  0\n",
       "Latitude              0\n",
       "Longitude             0\n",
       "dtype: int64"
      ]
     },
     "execution_count": 38,
     "metadata": {},
     "output_type": "execute_result"
    }
   ],
   "source": [
    "df.isnull().sum()"
   ]
  },
  {
   "cell_type": "code",
   "execution_count": 39,
   "metadata": {},
   "outputs": [
    {
     "data": {
      "text/plain": [
       "{'whiskers': [<matplotlib.lines.Line2D at 0x20308007f50>,\n",
       "  <matplotlib.lines.Line2D at 0x20308014bd0>],\n",
       " 'caps': [<matplotlib.lines.Line2D at 0x20308015810>,\n",
       "  <matplotlib.lines.Line2D at 0x20308016310>],\n",
       " 'boxes': [<matplotlib.lines.Line2D at 0x20308007510>],\n",
       " 'medians': [<matplotlib.lines.Line2D at 0x20307cf23d0>],\n",
       " 'fliers': [<matplotlib.lines.Line2D at 0x20308016b50>],\n",
       " 'means': []}"
      ]
     },
     "execution_count": 39,
     "metadata": {},
     "output_type": "execute_result"
    },
    {
     "data": {
      "image/png": "[encoded data removed]",
      "text/plain": [
       "<Figure size 1000x500 with 1 Axes>"
      ]
     },
     "metadata": {},
     "output_type": "display_data"
    }
   ],
   "source": [
    "import matplotlib.pyplot as plt\n",
    "plt.figure(figsize=(10,5))\n",
    "plt.boxplot(df['AverageTemperature'])\n"
   ]
  },
  {
   "cell_type": "code",
   "execution_count": 41,
   "metadata": {},
   "outputs": [
    {
     "data": {
      "text/plain": [
       "{'whiskers': [<matplotlib.lines.Line2D at 0x203080e1050>,\n",
       "  <matplotlib.lines.Line2D at 0x203080e1c50>],\n",
       " 'caps': [<matplotlib.lines.Line2D at 0x203080e2910>,\n",
       "  <matplotlib.lines.Line2D at 0x203080e3390>],\n",
       " 'boxes': [<matplotlib.lines.Line2D at 0x203080e0690>],\n",
       " 'medians': [<matplotlib.lines.Line2D at 0x203080e3e10>],\n",
       " 'fliers': [<matplotlib.lines.Line2D at 0x203080f08d0>],\n",
       " 'means': []}"
      ]
     },
     "execution_count": 41,
     "metadata": {},
     "output_type": "execute_result"
    },
    {
     "data": {
      "image/png": "[encoded data removed]",
      "text/plain": [
       "<Figure size 1000x500 with 1 Axes>"
      ]
     },
     "metadata": {},
     "output_type": "display_data"
    }
   ],
   "source": [
    "df=df[df.AverageTemperature>=0]\n",
    "plt.figure(figsize=(10,5))\n",
    "plt.boxplot(df['AverageTemperature'])"
   ]
  },
  {
   "cell_type": "code",
   "execution_count": 48,
   "metadata": {},
   "outputs": [],
   "source": [
    "df['year'] = df['dt'].dt.year #연도\n",
    "df['month'] = df['dt'].dt.month #월\n",
    "df['day'] = df['dt'].dt.day #일"
   ]
  },
  {
   "cell_type": "code",
   "execution_count": null,
   "metadata": {},
   "outputs": [],
   "source": []
  },
  {
   "cell_type": "code",
   "execution_count": null,
   "metadata": {},
   "outputs": [],
   "source": []
  },
  {
   "cell_type": "code",
   "execution_count": null,
   "metadata": {},
   "outputs": [],
   "source": []
  },
  {
   "cell_type": "code",
   "execution_count": null,
   "metadata": {},
   "outputs": [],
   "source": []
  },
  {
   "cell_type": "code",
   "execution_count": null,
   "metadata": {},
   "outputs": [],
   "source": []
  },
  {
   "cell_type": "code",
   "execution_count": null,
   "metadata": {},
   "outputs": [],
   "source": []
  },
  {
   "cell_type": "code",
   "execution_count": null,
   "metadata": {},
   "outputs": [],
   "source": []
  }
 ],
 "metadata": {
  "kernelspec": {
   "display_name": "Python 3",
   "language": "python",
   "name": "python3"
  },
  "language_info": {
   "codemirror_mode": {
    "name": "ipython",
    "version": 3
   },
   "file_extension": ".py",
   "mimetype": "text/x-python",
   "name": "python",
   "nbconvert_exporter": "python",
   "pygments_lexer": "ipython3",
   "version": "3.11.6"
  }
 },
 "nbformat": 4,
 "nbformat_minor": 2
}
