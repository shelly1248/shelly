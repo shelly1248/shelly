{
  "cells": [
    {
      "cell_type": "code",
      "execution_count": 4,
      "metadata": {
        "colab": {
          "base_uri": "https://localhost:8080/"
        },
        "id": "fcjrPQ8-uYjp",
        "outputId": "7cc5e39b-c1d4-4bc2-fdc5-6f04aceb04a7"
      },
      "outputs": [
        {
          "data": {
            "text/plain": [
              "0    95\n",
              "1    90\n",
              "2    85\n",
              "3    90\n",
              "4    95\n",
              "dtype: int64"
            ]
          },
          "execution_count": 4,
          "metadata": {},
          "output_type": "execute_result"
        }
      ],
      "source": [
        "# 정수형\n",
        "import pandas as pd\n",
        "s= pd.Series([95, 90, 85, 90, 95])\n",
        "s"
      ]
    },
    {
      "cell_type": "code",
      "execution_count": 5,
      "metadata": {
        "colab": {
          "base_uri": "https://localhost:8080/"
        },
        "id": "D0inUIFjyPMi",
        "outputId": "737f891f-96d1-4c4f-ef87-0f1ff5d68695"
      },
      "outputs": [
        {
          "data": {
            "text/plain": [
              "0    4.0\n",
              "1    3.5\n",
              "2    3.8\n",
              "3    3.0\n",
              "4    3.7\n",
              "dtype: float64"
            ]
          },
          "execution_count": 5,
          "metadata": {},
          "output_type": "execute_result"
        }
      ],
      "source": [
        "# 실수형\n",
        "s = pd.Series([4, 3.5, 3.8, 3, 3.7])\n",
        "s"
      ]
    },
    {
      "cell_type": "code",
      "execution_count": 6,
      "metadata": {
        "colab": {
          "base_uri": "https://localhost:8080/"
        },
        "id": "HiORkKKhzUYB",
        "outputId": "e410afe6-af16-439b-d913-ae0e49d8067d"
      },
      "outputs": [
        {
          "data": {
            "text/plain": [
              "A    90\n",
              "B    80\n",
              "C    95\n",
              "dtype: int64"
            ]
          },
          "execution_count": 6,
          "metadata": {},
          "output_type": "execute_result"
        }
      ],
      "source": [
        "# 인덱스지정하기\n",
        "s=pd.Series([90,80,95],index=['A','B','C'])\n",
        "s"
      ]
    },
    {
      "cell_type": "code",
      "execution_count": 7,
      "metadata": {
        "colab": {
          "base_uri": "https://localhost:8080/"
        },
        "id": "V5GPYFo60a2Y",
        "outputId": "c2dbba50-0764-4587-93bb-f47e56678ae8"
      },
      "outputs": [
        {
          "name": "stdout",
          "output_type": "stream",
          "text": [
            "[[ 0  1  2]\n",
            " [ 3  4  5]\n",
            " [ 6  7  8]\n",
            " [ 9 10 11]]\n",
            "\n",
            "   0   1   2\n",
            "0  0   1   2\n",
            "1  3   4   5\n",
            "2  6   7   8\n",
            "3  9  10  11\n"
          ]
        }
      ],
      "source": [
        "# 넘파이로 배열생성하기\n",
        "import numpy as np\n",
        "import pandas as pd\n",
        "arr = np.arange(12).reshape(4,3)\n",
        "print(arr)\n",
        "print()\n",
        "df = pd.DataFrame(arr)\n",
        "print(df)"
      ]
    },
    {
      "cell_type": "code",
      "execution_count": 8,
      "metadata": {
        "colab": {
          "base_uri": "https://localhost:8080/",
          "height": 143
        },
        "id": "stmRC2IW2Yzc",
        "outputId": "03dc4949-41d0-4f7c-af5c-033be8f7c376"
      },
      "outputs": [
        {
          "data": {
            "text/html": [
              "<div>\n",
              "<style scoped>\n",
              "    .dataframe tbody tr th:only-of-type {\n",
              "        vertical-align: middle;\n",
              "    }\n",
              "\n",
              "    .dataframe tbody tr th {\n",
              "        vertical-align: top;\n",
              "    }\n",
              "\n",
              "    .dataframe thead th {\n",
              "        text-align: right;\n",
              "    }\n",
              "</style>\n",
              "<table border=\"1\" class=\"dataframe\">\n",
              "  <thead>\n",
              "    <tr style=\"text-align: right;\">\n",
              "      <th></th>\n",
              "      <th>name</th>\n",
              "      <th>score</th>\n",
              "      <th>dept</th>\n",
              "    </tr>\n",
              "  </thead>\n",
              "  <tbody>\n",
              "    <tr>\n",
              "      <th>0</th>\n",
              "      <td>장은실</td>\n",
              "      <td>90</td>\n",
              "      <td>com</td>\n",
              "    </tr>\n",
              "    <tr>\n",
              "      <th>1</th>\n",
              "      <td>오경선</td>\n",
              "      <td>80</td>\n",
              "      <td>eng</td>\n",
              "    </tr>\n",
              "    <tr>\n",
              "      <th>2</th>\n",
              "      <td>양숙희</td>\n",
              "      <td>95</td>\n",
              "      <td>math</td>\n",
              "    </tr>\n",
              "  </tbody>\n",
              "</table>\n",
              "</div>"
            ],
            "text/plain": [
              "  name  score  dept\n",
              "0  장은실     90   com\n",
              "1  오경선     80   eng\n",
              "2  양숙희     95  math"
            ]
          },
          "execution_count": 8,
          "metadata": {},
          "output_type": "execute_result"
        }
      ],
      "source": [
        "# 딕셔너리로 배열생성하기\n",
        "df = pd.DataFrame({'name':['장은실','오경선','양숙희'],\n",
        "                    'score':[90,80,95],\n",
        "                    'dept':['com','eng','math']})\n",
        "df"
      ]
    },
    {
      "cell_type": "code",
      "execution_count": 9,
      "metadata": {
        "colab": {
          "base_uri": "https://localhost:8080/",
          "height": 174
        },
        "id": "lKWAYLzj6LgH",
        "outputId": "4f5324e7-99b6-447d-853b-784ab4721be0"
      },
      "outputs": [
        {
          "data": {
            "text/html": [
              "<div>\n",
              "<style scoped>\n",
              "    .dataframe tbody tr th:only-of-type {\n",
              "        vertical-align: middle;\n",
              "    }\n",
              "\n",
              "    .dataframe tbody tr th {\n",
              "        vertical-align: top;\n",
              "    }\n",
              "\n",
              "    .dataframe thead th {\n",
              "        text-align: right;\n",
              "    }\n",
              "</style>\n",
              "<table border=\"1\" class=\"dataframe\">\n",
              "  <thead>\n",
              "    <tr style=\"text-align: right;\">\n",
              "      <th></th>\n",
              "      <th>Brand</th>\n",
              "      <th>Color</th>\n",
              "      <th>price</th>\n",
              "    </tr>\n",
              "  </thead>\n",
              "  <tbody>\n",
              "    <tr>\n",
              "      <th>0</th>\n",
              "      <td>Samsung</td>\n",
              "      <td>Black</td>\n",
              "      <td>100</td>\n",
              "    </tr>\n",
              "    <tr>\n",
              "      <th>1</th>\n",
              "      <td>LG</td>\n",
              "      <td>Gold</td>\n",
              "      <td>70</td>\n",
              "    </tr>\n",
              "    <tr>\n",
              "      <th>2</th>\n",
              "      <td>Apple</td>\n",
              "      <td>Silver</td>\n",
              "      <td>150</td>\n",
              "    </tr>\n",
              "    <tr>\n",
              "      <th>3</th>\n",
              "      <td>Apple</td>\n",
              "      <td>Gray</td>\n",
              "      <td>120</td>\n",
              "    </tr>\n",
              "  </tbody>\n",
              "</table>\n",
              "</div>"
            ],
            "text/plain": [
              "     Brand   Color  price\n",
              "0  Samsung   Black    100\n",
              "1       LG    Gold     70\n",
              "2    Apple  Silver    150\n",
              "3    Apple    Gray    120"
            ]
          },
          "execution_count": 9,
          "metadata": {},
          "output_type": "execute_result"
        }
      ],
      "source": [
        "#csv파일 불러오기\n",
        "filename='C:\\\\sqlite\\\\mysql\\\\code\\\\Code11\\\\1023_file\\\\mobile.csv'\n",
        "df = pd.read_csv(filename)\n",
        "df"
      ]
    },
    {
      "cell_type": "code",
      "execution_count": 10,
      "metadata": {
        "colab": {
          "base_uri": "https://localhost:8080/",
          "height": 206
        },
        "id": "Gw0IIMVe7HbL",
        "outputId": "25ae155e-fb63-43c0-faef-0cd812b25b29"
      },
      "outputs": [
        {
          "data": {
            "text/html": [
              "<div>\n",
              "<style scoped>\n",
              "    .dataframe tbody tr th:only-of-type {\n",
              "        vertical-align: middle;\n",
              "    }\n",
              "\n",
              "    .dataframe tbody tr th {\n",
              "        vertical-align: top;\n",
              "    }\n",
              "\n",
              "    .dataframe thead th {\n",
              "        text-align: right;\n",
              "    }\n",
              "</style>\n",
              "<table border=\"1\" class=\"dataframe\">\n",
              "  <thead>\n",
              "    <tr style=\"text-align: right;\">\n",
              "      <th></th>\n",
              "      <th>Color</th>\n",
              "      <th>price</th>\n",
              "    </tr>\n",
              "    <tr>\n",
              "      <th>Brand</th>\n",
              "      <th></th>\n",
              "      <th></th>\n",
              "    </tr>\n",
              "  </thead>\n",
              "  <tbody>\n",
              "    <tr>\n",
              "      <th>Samsung</th>\n",
              "      <td>Black</td>\n",
              "      <td>100</td>\n",
              "    </tr>\n",
              "    <tr>\n",
              "      <th>LG</th>\n",
              "      <td>Gold</td>\n",
              "      <td>70</td>\n",
              "    </tr>\n",
              "    <tr>\n",
              "      <th>Apple</th>\n",
              "      <td>Silver</td>\n",
              "      <td>150</td>\n",
              "    </tr>\n",
              "    <tr>\n",
              "      <th>Apple</th>\n",
              "      <td>Gray</td>\n",
              "      <td>120</td>\n",
              "    </tr>\n",
              "  </tbody>\n",
              "</table>\n",
              "</div>"
            ],
            "text/plain": [
              "          Color  price\n",
              "Brand                 \n",
              "Samsung   Black    100\n",
              "LG         Gold     70\n",
              "Apple    Silver    150\n",
              "Apple      Gray    120"
            ]
          },
          "execution_count": 10,
          "metadata": {},
          "output_type": "execute_result"
        }
      ],
      "source": [
        "#filename='/content/drive/MyDrive/mobile.csv'\n",
        "df = pd.read_csv(filename, index_col=0)\n",
        "df"
      ]
    },
    {
      "cell_type": "code",
      "execution_count": 11,
      "metadata": {
        "colab": {
          "base_uri": "https://localhost:8080/",
          "height": 423
        },
        "id": "wY6QgQPs78Ox",
        "outputId": "3d72fa7c-1a2c-46c5-93e7-ccb77a64c770"
      },
      "outputs": [
        {
          "data": {
            "text/html": [
              "<div>\n",
              "<style scoped>\n",
              "    .dataframe tbody tr th:only-of-type {\n",
              "        vertical-align: middle;\n",
              "    }\n",
              "\n",
              "    .dataframe tbody tr th {\n",
              "        vertical-align: top;\n",
              "    }\n",
              "\n",
              "    .dataframe thead th {\n",
              "        text-align: right;\n",
              "    }\n",
              "</style>\n",
              "<table border=\"1\" class=\"dataframe\">\n",
              "  <thead>\n",
              "    <tr style=\"text-align: right;\">\n",
              "      <th></th>\n",
              "      <th>date</th>\n",
              "      <th>temp</th>\n",
              "      <th>max_wind</th>\n",
              "      <th>mean_wind</th>\n",
              "    </tr>\n",
              "  </thead>\n",
              "  <tbody>\n",
              "    <tr>\n",
              "      <th>0</th>\n",
              "      <td>2010-08-01</td>\n",
              "      <td>28.7</td>\n",
              "      <td>8.3</td>\n",
              "      <td>3.4</td>\n",
              "    </tr>\n",
              "    <tr>\n",
              "      <th>1</th>\n",
              "      <td>2010-08-02</td>\n",
              "      <td>25.2</td>\n",
              "      <td>8.7</td>\n",
              "      <td>3.8</td>\n",
              "    </tr>\n",
              "    <tr>\n",
              "      <th>2</th>\n",
              "      <td>2010-08-03</td>\n",
              "      <td>22.1</td>\n",
              "      <td>6.3</td>\n",
              "      <td>2.9</td>\n",
              "    </tr>\n",
              "    <tr>\n",
              "      <th>3</th>\n",
              "      <td>2010-08-04</td>\n",
              "      <td>25.3</td>\n",
              "      <td>6.6</td>\n",
              "      <td>4.2</td>\n",
              "    </tr>\n",
              "    <tr>\n",
              "      <th>4</th>\n",
              "      <td>2010-08-05</td>\n",
              "      <td>27.2</td>\n",
              "      <td>9.1</td>\n",
              "      <td>5.6</td>\n",
              "    </tr>\n",
              "    <tr>\n",
              "      <th>...</th>\n",
              "      <td>...</td>\n",
              "      <td>...</td>\n",
              "      <td>...</td>\n",
              "      <td>...</td>\n",
              "    </tr>\n",
              "    <tr>\n",
              "      <th>3648</th>\n",
              "      <td>2020-07-27</td>\n",
              "      <td>22.1</td>\n",
              "      <td>4.2</td>\n",
              "      <td>1.7</td>\n",
              "    </tr>\n",
              "    <tr>\n",
              "      <th>3649</th>\n",
              "      <td>2020-07-28</td>\n",
              "      <td>21.9</td>\n",
              "      <td>4.5</td>\n",
              "      <td>1.6</td>\n",
              "    </tr>\n",
              "    <tr>\n",
              "      <th>3650</th>\n",
              "      <td>2020-07-29</td>\n",
              "      <td>21.6</td>\n",
              "      <td>3.2</td>\n",
              "      <td>1.0</td>\n",
              "    </tr>\n",
              "    <tr>\n",
              "      <th>3651</th>\n",
              "      <td>2020-07-30</td>\n",
              "      <td>22.9</td>\n",
              "      <td>9.7</td>\n",
              "      <td>2.4</td>\n",
              "    </tr>\n",
              "    <tr>\n",
              "      <th>3652</th>\n",
              "      <td>2020-07-31</td>\n",
              "      <td>25.7</td>\n",
              "      <td>4.8</td>\n",
              "      <td>2.5</td>\n",
              "    </tr>\n",
              "  </tbody>\n",
              "</table>\n",
              "<p>3653 rows × 4 columns</p>\n",
              "</div>"
            ],
            "text/plain": [
              "            date  temp  max_wind  mean_wind\n",
              "0     2010-08-01  28.7       8.3        3.4\n",
              "1     2010-08-02  25.2       8.7        3.8\n",
              "2     2010-08-03  22.1       6.3        2.9\n",
              "3     2010-08-04  25.3       6.6        4.2\n",
              "4     2010-08-05  27.2       9.1        5.6\n",
              "...          ...   ...       ...        ...\n",
              "3648  2020-07-27  22.1       4.2        1.7\n",
              "3649  2020-07-28  21.9       4.5        1.6\n",
              "3650  2020-07-29  21.6       3.2        1.0\n",
              "3651  2020-07-30  22.9       9.7        2.4\n",
              "3652  2020-07-31  25.7       4.8        2.5\n",
              "\n",
              "[3653 rows x 4 columns]"
            ]
          },
          "execution_count": 11,
          "metadata": {},
          "output_type": "execute_result"
        }
      ],
      "source": [
        "filename='C:\\\\sqlite\\\\mysql\\\\code\\\\Code11\\\\1023_file\\\\weather.csv'\n",
        "df = pd.read_csv(filename)\n",
        "df"
      ]
    },
    {
      "cell_type": "code",
      "execution_count": 12,
      "metadata": {
        "colab": {
          "base_uri": "https://localhost:8080/"
        },
        "id": "3rQSmY3LDr9Y",
        "outputId": "3ccdf62f-e152-4427-e0a6-cf51f4d60a4f"
      },
      "outputs": [
        {
          "data": {
            "text/plain": [
              "(3653, 4)"
            ]
          },
          "execution_count": 12,
          "metadata": {},
          "output_type": "execute_result"
        }
      ],
      "source": [
        "df.shape"
      ]
    },
    {
      "cell_type": "code",
      "execution_count": 13,
      "metadata": {
        "colab": {
          "base_uri": "https://localhost:8080/",
          "height": 206
        },
        "id": "jYXvJ7oO_3gx",
        "outputId": "9c221f90-8c4e-4ba0-fbba-b4dc50bc8e96"
      },
      "outputs": [
        {
          "data": {
            "text/html": [
              "<div>\n",
              "<style scoped>\n",
              "    .dataframe tbody tr th:only-of-type {\n",
              "        vertical-align: middle;\n",
              "    }\n",
              "\n",
              "    .dataframe tbody tr th {\n",
              "        vertical-align: top;\n",
              "    }\n",
              "\n",
              "    .dataframe thead th {\n",
              "        text-align: right;\n",
              "    }\n",
              "</style>\n",
              "<table border=\"1\" class=\"dataframe\">\n",
              "  <thead>\n",
              "    <tr style=\"text-align: right;\">\n",
              "      <th></th>\n",
              "      <th>date</th>\n",
              "      <th>temp</th>\n",
              "      <th>max_wind</th>\n",
              "      <th>mean_wind</th>\n",
              "    </tr>\n",
              "  </thead>\n",
              "  <tbody>\n",
              "    <tr>\n",
              "      <th>0</th>\n",
              "      <td>2010-08-01</td>\n",
              "      <td>28.7</td>\n",
              "      <td>8.3</td>\n",
              "      <td>3.4</td>\n",
              "    </tr>\n",
              "    <tr>\n",
              "      <th>1</th>\n",
              "      <td>2010-08-02</td>\n",
              "      <td>25.2</td>\n",
              "      <td>8.7</td>\n",
              "      <td>3.8</td>\n",
              "    </tr>\n",
              "    <tr>\n",
              "      <th>2</th>\n",
              "      <td>2010-08-03</td>\n",
              "      <td>22.1</td>\n",
              "      <td>6.3</td>\n",
              "      <td>2.9</td>\n",
              "    </tr>\n",
              "    <tr>\n",
              "      <th>3</th>\n",
              "      <td>2010-08-04</td>\n",
              "      <td>25.3</td>\n",
              "      <td>6.6</td>\n",
              "      <td>4.2</td>\n",
              "    </tr>\n",
              "    <tr>\n",
              "      <th>4</th>\n",
              "      <td>2010-08-05</td>\n",
              "      <td>27.2</td>\n",
              "      <td>9.1</td>\n",
              "      <td>5.6</td>\n",
              "    </tr>\n",
              "  </tbody>\n",
              "</table>\n",
              "</div>"
            ],
            "text/plain": [
              "         date  temp  max_wind  mean_wind\n",
              "0  2010-08-01  28.7       8.3        3.4\n",
              "1  2010-08-02  25.2       8.7        3.8\n",
              "2  2010-08-03  22.1       6.3        2.9\n",
              "3  2010-08-04  25.3       6.6        4.2\n",
              "4  2010-08-05  27.2       9.1        5.6"
            ]
          },
          "execution_count": 13,
          "metadata": {},
          "output_type": "execute_result"
        }
      ],
      "source": [
        "df.head()"
      ]
    },
    {
      "cell_type": "code",
      "execution_count": 14,
      "metadata": {
        "colab": {
          "base_uri": "https://localhost:8080/",
          "height": 143
        },
        "id": "1nODZoJIAk9N",
        "outputId": "d5e9d9c8-4883-4898-df40-06a983ccc8b8"
      },
      "outputs": [
        {
          "data": {
            "text/html": [
              "<div>\n",
              "<style scoped>\n",
              "    .dataframe tbody tr th:only-of-type {\n",
              "        vertical-align: middle;\n",
              "    }\n",
              "\n",
              "    .dataframe tbody tr th {\n",
              "        vertical-align: top;\n",
              "    }\n",
              "\n",
              "    .dataframe thead th {\n",
              "        text-align: right;\n",
              "    }\n",
              "</style>\n",
              "<table border=\"1\" class=\"dataframe\">\n",
              "  <thead>\n",
              "    <tr style=\"text-align: right;\">\n",
              "      <th></th>\n",
              "      <th>date</th>\n",
              "      <th>temp</th>\n",
              "      <th>max_wind</th>\n",
              "      <th>mean_wind</th>\n",
              "    </tr>\n",
              "  </thead>\n",
              "  <tbody>\n",
              "    <tr>\n",
              "      <th>3650</th>\n",
              "      <td>2020-07-29</td>\n",
              "      <td>21.6</td>\n",
              "      <td>3.2</td>\n",
              "      <td>1.0</td>\n",
              "    </tr>\n",
              "    <tr>\n",
              "      <th>3651</th>\n",
              "      <td>2020-07-30</td>\n",
              "      <td>22.9</td>\n",
              "      <td>9.7</td>\n",
              "      <td>2.4</td>\n",
              "    </tr>\n",
              "    <tr>\n",
              "      <th>3652</th>\n",
              "      <td>2020-07-31</td>\n",
              "      <td>25.7</td>\n",
              "      <td>4.8</td>\n",
              "      <td>2.5</td>\n",
              "    </tr>\n",
              "  </tbody>\n",
              "</table>\n",
              "</div>"
            ],
            "text/plain": [
              "            date  temp  max_wind  mean_wind\n",
              "3650  2020-07-29  21.6       3.2        1.0\n",
              "3651  2020-07-30  22.9       9.7        2.4\n",
              "3652  2020-07-31  25.7       4.8        2.5"
            ]
          },
          "execution_count": 14,
          "metadata": {},
          "output_type": "execute_result"
        }
      ],
      "source": [
        "df.tail(3)"
      ]
    },
    {
      "cell_type": "code",
      "execution_count": 15,
      "metadata": {
        "colab": {
          "base_uri": "https://localhost:8080/"
        },
        "id": "LgEnsYAGBGPo",
        "outputId": "4d24e57f-118e-49c1-f627-303de1fa03b7"
      },
      "outputs": [
        {
          "data": {
            "text/plain": [
              "RangeIndex(start=0, stop=3653, step=1)"
            ]
          },
          "execution_count": 15,
          "metadata": {},
          "output_type": "execute_result"
        }
      ],
      "source": [
        "df.index"
      ]
    },
    {
      "cell_type": "code",
      "execution_count": 17,
      "metadata": {
        "colab": {
          "base_uri": "https://localhost:8080/"
        },
        "id": "omTwMtfRBaK3",
        "outputId": "e994d4e1-4be1-4bfc-8ba9-4923b8795b90"
      },
      "outputs": [
        {
          "data": {
            "text/plain": [
              "Index(['date', 'temp', 'max_wind', 'mean_wind'], dtype='object')"
            ]
          },
          "execution_count": 17,
          "metadata": {},
          "output_type": "execute_result"
        }
      ],
      "source": [
        "df.columns"
      ]
    },
    {
      "cell_type": "code",
      "execution_count": 18,
      "metadata": {
        "colab": {
          "base_uri": "https://localhost:8080/",
          "height": 300
        },
        "id": "Ab0eto0tE-xW",
        "outputId": "a2b6bda4-0042-4569-bc0e-a95bdc6ce64f"
      },
      "outputs": [
        {
          "data": {
            "text/html": [
              "<div>\n",
              "<style scoped>\n",
              "    .dataframe tbody tr th:only-of-type {\n",
              "        vertical-align: middle;\n",
              "    }\n",
              "\n",
              "    .dataframe tbody tr th {\n",
              "        vertical-align: top;\n",
              "    }\n",
              "\n",
              "    .dataframe thead th {\n",
              "        text-align: right;\n",
              "    }\n",
              "</style>\n",
              "<table border=\"1\" class=\"dataframe\">\n",
              "  <thead>\n",
              "    <tr style=\"text-align: right;\">\n",
              "      <th></th>\n",
              "      <th>temp</th>\n",
              "      <th>max_wind</th>\n",
              "      <th>mean_wind</th>\n",
              "    </tr>\n",
              "  </thead>\n",
              "  <tbody>\n",
              "    <tr>\n",
              "      <th>count</th>\n",
              "      <td>3653.000000</td>\n",
              "      <td>3649.000000</td>\n",
              "      <td>3647.000000</td>\n",
              "    </tr>\n",
              "    <tr>\n",
              "      <th>mean</th>\n",
              "      <td>12.942102</td>\n",
              "      <td>7.911099</td>\n",
              "      <td>3.936441</td>\n",
              "    </tr>\n",
              "    <tr>\n",
              "      <th>std</th>\n",
              "      <td>8.538507</td>\n",
              "      <td>3.029862</td>\n",
              "      <td>1.888473</td>\n",
              "    </tr>\n",
              "    <tr>\n",
              "      <th>min</th>\n",
              "      <td>-9.000000</td>\n",
              "      <td>2.000000</td>\n",
              "      <td>0.200000</td>\n",
              "    </tr>\n",
              "    <tr>\n",
              "      <th>25%</th>\n",
              "      <td>5.400000</td>\n",
              "      <td>5.700000</td>\n",
              "      <td>2.500000</td>\n",
              "    </tr>\n",
              "    <tr>\n",
              "      <th>50%</th>\n",
              "      <td>13.800000</td>\n",
              "      <td>7.600000</td>\n",
              "      <td>3.600000</td>\n",
              "    </tr>\n",
              "    <tr>\n",
              "      <th>75%</th>\n",
              "      <td>20.100000</td>\n",
              "      <td>9.700000</td>\n",
              "      <td>5.000000</td>\n",
              "    </tr>\n",
              "    <tr>\n",
              "      <th>max</th>\n",
              "      <td>31.300000</td>\n",
              "      <td>26.000000</td>\n",
              "      <td>14.900000</td>\n",
              "    </tr>\n",
              "  </tbody>\n",
              "</table>\n",
              "</div>"
            ],
            "text/plain": [
              "              temp     max_wind    mean_wind\n",
              "count  3653.000000  3649.000000  3647.000000\n",
              "mean     12.942102     7.911099     3.936441\n",
              "std       8.538507     3.029862     1.888473\n",
              "min      -9.000000     2.000000     0.200000\n",
              "25%       5.400000     5.700000     2.500000\n",
              "50%      13.800000     7.600000     3.600000\n",
              "75%      20.100000     9.700000     5.000000\n",
              "max      31.300000    26.000000    14.900000"
            ]
          },
          "execution_count": 18,
          "metadata": {},
          "output_type": "execute_result"
        }
      ],
      "source": [
        "df.describe()"
      ]
    },
    {
      "cell_type": "code",
      "execution_count": 19,
      "metadata": {
        "colab": {
          "base_uri": "https://localhost:8080/"
        },
        "id": "zloYticOFilR",
        "outputId": "23034355-f0c8-4864-d526-c8ef9d904371"
      },
      "outputs": [
        {
          "data": {
            "text/plain": [
              "12.942102381604162"
            ]
          },
          "execution_count": 19,
          "metadata": {},
          "output_type": "execute_result"
        }
      ],
      "source": [
        "#기온(temp) 컬럼의 평균 출력하기\n",
        "df['temp'].mean()"
      ]
    },
    {
      "cell_type": "code",
      "execution_count": 20,
      "metadata": {
        "colab": {
          "base_uri": "https://localhost:8080/",
          "height": 423
        },
        "id": "yVYUHzdSGsh9",
        "outputId": "4eb9e9db-d7b4-4567-8ab2-1f0287ab9270"
      },
      "outputs": [
        {
          "data": {
            "text/html": [
              "<div>\n",
              "<style scoped>\n",
              "    .dataframe tbody tr th:only-of-type {\n",
              "        vertical-align: middle;\n",
              "    }\n",
              "\n",
              "    .dataframe tbody tr th {\n",
              "        vertical-align: top;\n",
              "    }\n",
              "\n",
              "    .dataframe thead th {\n",
              "        text-align: right;\n",
              "    }\n",
              "</style>\n",
              "<table border=\"1\" class=\"dataframe\">\n",
              "  <thead>\n",
              "    <tr style=\"text-align: right;\">\n",
              "      <th></th>\n",
              "      <th>date</th>\n",
              "      <th>temp</th>\n",
              "      <th>max_wind</th>\n",
              "      <th>mean_wind</th>\n",
              "    </tr>\n",
              "  </thead>\n",
              "  <tbody>\n",
              "    <tr>\n",
              "      <th>1514</th>\n",
              "      <td>2014-09-23</td>\n",
              "      <td>20.7</td>\n",
              "      <td>2.0</td>\n",
              "      <td>1.0</td>\n",
              "    </tr>\n",
              "    <tr>\n",
              "      <th>1134</th>\n",
              "      <td>2013-09-08</td>\n",
              "      <td>20.4</td>\n",
              "      <td>2.1</td>\n",
              "      <td>0.8</td>\n",
              "    </tr>\n",
              "    <tr>\n",
              "      <th>421</th>\n",
              "      <td>2011-09-26</td>\n",
              "      <td>18.7</td>\n",
              "      <td>2.1</td>\n",
              "      <td>0.3</td>\n",
              "    </tr>\n",
              "    <tr>\n",
              "      <th>1512</th>\n",
              "      <td>2014-09-21</td>\n",
              "      <td>20.4</td>\n",
              "      <td>2.2</td>\n",
              "      <td>1.2</td>\n",
              "    </tr>\n",
              "    <tr>\n",
              "      <th>1005</th>\n",
              "      <td>2013-05-02</td>\n",
              "      <td>7.1</td>\n",
              "      <td>2.2</td>\n",
              "      <td>0.8</td>\n",
              "    </tr>\n",
              "    <tr>\n",
              "      <th>...</th>\n",
              "      <td>...</td>\n",
              "      <td>...</td>\n",
              "      <td>...</td>\n",
              "      <td>...</td>\n",
              "    </tr>\n",
              "    <tr>\n",
              "      <th>2988</th>\n",
              "      <td>2018-10-06</td>\n",
              "      <td>19.4</td>\n",
              "      <td>26.0</td>\n",
              "      <td>7.0</td>\n",
              "    </tr>\n",
              "    <tr>\n",
              "      <th>559</th>\n",
              "      <td>2012-02-11</td>\n",
              "      <td>-0.7</td>\n",
              "      <td>NaN</td>\n",
              "      <td>NaN</td>\n",
              "    </tr>\n",
              "    <tr>\n",
              "      <th>560</th>\n",
              "      <td>2012-02-12</td>\n",
              "      <td>0.4</td>\n",
              "      <td>NaN</td>\n",
              "      <td>NaN</td>\n",
              "    </tr>\n",
              "    <tr>\n",
              "      <th>561</th>\n",
              "      <td>2012-02-13</td>\n",
              "      <td>4.0</td>\n",
              "      <td>NaN</td>\n",
              "      <td>NaN</td>\n",
              "    </tr>\n",
              "    <tr>\n",
              "      <th>3183</th>\n",
              "      <td>2019-04-19</td>\n",
              "      <td>7.8</td>\n",
              "      <td>NaN</td>\n",
              "      <td>2.3</td>\n",
              "    </tr>\n",
              "  </tbody>\n",
              "</table>\n",
              "<p>3653 rows × 4 columns</p>\n",
              "</div>"
            ],
            "text/plain": [
              "            date  temp  max_wind  mean_wind\n",
              "1514  2014-09-23  20.7       2.0        1.0\n",
              "1134  2013-09-08  20.4       2.1        0.8\n",
              "421   2011-09-26  18.7       2.1        0.3\n",
              "1512  2014-09-21  20.4       2.2        1.2\n",
              "1005  2013-05-02   7.1       2.2        0.8\n",
              "...          ...   ...       ...        ...\n",
              "2988  2018-10-06  19.4      26.0        7.0\n",
              "559   2012-02-11  -0.7       NaN        NaN\n",
              "560   2012-02-12   0.4       NaN        NaN\n",
              "561   2012-02-13   4.0       NaN        NaN\n",
              "3183  2019-04-19   7.8       NaN        2.3\n",
              "\n",
              "[3653 rows x 4 columns]"
            ]
          },
          "execution_count": 20,
          "metadata": {},
          "output_type": "execute_result"
        }
      ],
      "source": [
        "df.sort_values(by='max_wind')"
      ]
    },
    {
      "cell_type": "code",
      "execution_count": 21,
      "metadata": {
        "colab": {
          "base_uri": "https://localhost:8080/",
          "height": 423
        },
        "id": "fFsAwQ6ZHtYY",
        "outputId": "8ad28f80-f845-4eba-b706-b2db7379ee6f"
      },
      "outputs": [
        {
          "data": {
            "text/html": [
              "<div>\n",
              "<style scoped>\n",
              "    .dataframe tbody tr th:only-of-type {\n",
              "        vertical-align: middle;\n",
              "    }\n",
              "\n",
              "    .dataframe tbody tr th {\n",
              "        vertical-align: top;\n",
              "    }\n",
              "\n",
              "    .dataframe thead th {\n",
              "        text-align: right;\n",
              "    }\n",
              "</style>\n",
              "<table border=\"1\" class=\"dataframe\">\n",
              "  <thead>\n",
              "    <tr style=\"text-align: right;\">\n",
              "      <th></th>\n",
              "      <th>date</th>\n",
              "      <th>temp</th>\n",
              "      <th>max_wind</th>\n",
              "      <th>mean_wind</th>\n",
              "    </tr>\n",
              "  </thead>\n",
              "  <tbody>\n",
              "    <tr>\n",
              "      <th>2988</th>\n",
              "      <td>2018-10-06</td>\n",
              "      <td>19.4</td>\n",
              "      <td>26.0</td>\n",
              "      <td>7.0</td>\n",
              "    </tr>\n",
              "    <tr>\n",
              "      <th>3340</th>\n",
              "      <td>2019-09-23</td>\n",
              "      <td>15.0</td>\n",
              "      <td>25.8</td>\n",
              "      <td>11.0</td>\n",
              "    </tr>\n",
              "    <tr>\n",
              "      <th>1850</th>\n",
              "      <td>2015-08-25</td>\n",
              "      <td>20.1</td>\n",
              "      <td>25.3</td>\n",
              "      <td>14.9</td>\n",
              "    </tr>\n",
              "    <tr>\n",
              "      <th>3339</th>\n",
              "      <td>2019-09-22</td>\n",
              "      <td>15.7</td>\n",
              "      <td>23.1</td>\n",
              "      <td>11.9</td>\n",
              "    </tr>\n",
              "    <tr>\n",
              "      <th>1851</th>\n",
              "      <td>2015-08-26</td>\n",
              "      <td>17.4</td>\n",
              "      <td>22.6</td>\n",
              "      <td>8.1</td>\n",
              "    </tr>\n",
              "    <tr>\n",
              "      <th>...</th>\n",
              "      <td>...</td>\n",
              "      <td>...</td>\n",
              "      <td>...</td>\n",
              "      <td>...</td>\n",
              "    </tr>\n",
              "    <tr>\n",
              "      <th>1514</th>\n",
              "      <td>2014-09-23</td>\n",
              "      <td>20.7</td>\n",
              "      <td>2.0</td>\n",
              "      <td>1.0</td>\n",
              "    </tr>\n",
              "    <tr>\n",
              "      <th>559</th>\n",
              "      <td>2012-02-11</td>\n",
              "      <td>-0.7</td>\n",
              "      <td>NaN</td>\n",
              "      <td>NaN</td>\n",
              "    </tr>\n",
              "    <tr>\n",
              "      <th>560</th>\n",
              "      <td>2012-02-12</td>\n",
              "      <td>0.4</td>\n",
              "      <td>NaN</td>\n",
              "      <td>NaN</td>\n",
              "    </tr>\n",
              "    <tr>\n",
              "      <th>561</th>\n",
              "      <td>2012-02-13</td>\n",
              "      <td>4.0</td>\n",
              "      <td>NaN</td>\n",
              "      <td>NaN</td>\n",
              "    </tr>\n",
              "    <tr>\n",
              "      <th>3183</th>\n",
              "      <td>2019-04-19</td>\n",
              "      <td>7.8</td>\n",
              "      <td>NaN</td>\n",
              "      <td>2.3</td>\n",
              "    </tr>\n",
              "  </tbody>\n",
              "</table>\n",
              "<p>3653 rows × 4 columns</p>\n",
              "</div>"
            ],
            "text/plain": [
              "            date  temp  max_wind  mean_wind\n",
              "2988  2018-10-06  19.4      26.0        7.0\n",
              "3340  2019-09-23  15.0      25.8       11.0\n",
              "1850  2015-08-25  20.1      25.3       14.9\n",
              "3339  2019-09-22  15.7      23.1       11.9\n",
              "1851  2015-08-26  17.4      22.6        8.1\n",
              "...          ...   ...       ...        ...\n",
              "1514  2014-09-23  20.7       2.0        1.0\n",
              "559   2012-02-11  -0.7       NaN        NaN\n",
              "560   2012-02-12   0.4       NaN        NaN\n",
              "561   2012-02-13   4.0       NaN        NaN\n",
              "3183  2019-04-19   7.8       NaN        2.3\n",
              "\n",
              "[3653 rows x 4 columns]"
            ]
          },
          "execution_count": 21,
          "metadata": {},
          "output_type": "execute_result"
        }
      ],
      "source": [
        "df.sort_values(by='max_wind', ascending=False) # 내림차순"
      ]
    },
    {
      "cell_type": "code",
      "execution_count": 28,
      "metadata": {
        "colab": {
          "base_uri": "https://localhost:8080/"
        },
        "id": "j3P-eCfPQg1Z",
        "outputId": "45795984-ff98-4b3e-b331-04cdb54373e4"
      },
      "outputs": [
        {
          "data": {
            "text/plain": [
              "job\n",
              "student           153\n",
              "housemaid         208\n",
              "unemployed        223\n",
              "entrepreneur      239\n",
              "self-employed     256\n",
              "retired           351\n",
              "services          661\n",
              "admin.            834\n",
              "technician       1206\n",
              "blue-collar      1499\n",
              "management       1560\n",
              "Name: count, dtype: int64"
            ]
          },
          "execution_count": 28,
          "metadata": {},
          "output_type": "execute_result"
        }
      ],
      "source": [
        "import pandas as pd\n",
        "filename='C:\\\\sqlite\\\\mysql\\\\code\\\\Code11\\\\1023_file\\\\bank.csv'\n",
        "bank=pd.read_csv(filename)\n",
        "bank['job'].value_counts()\n",
        "bank['job'].value_counts(ascending=True)"
      ]
    },
    {
      "cell_type": "code",
      "execution_count": 29,
      "metadata": {
        "colab": {
          "base_uri": "https://localhost:8080/"
        },
        "id": "y_ds2YhvTBqk",
        "outputId": "d5339616-afbe-43af-cbe9-c2a8cebd5b2a"
      },
      "outputs": [
        {
          "data": {
            "text/plain": [
              "array(['management', 'technician', 'blue-collar', 'retired', 'services',\n",
              "       'admin.', 'entrepreneur', 'self-employed', 'unemployed', 'student',\n",
              "       nan, 'housemaid'], dtype=object)"
            ]
          },
          "execution_count": 29,
          "metadata": {},
          "output_type": "execute_result"
        }
      ],
      "source": [
        "bank['job'].unique()"
      ]
    },
    {
      "cell_type": "code",
      "execution_count": 22,
      "metadata": {
        "colab": {
          "base_uri": "https://localhost:8080/"
        },
        "id": "wJOBx0jVK8Ob",
        "outputId": "46837a06-b256-4237-c99e-1f8b4170cce2"
      },
      "outputs": [
        {
          "data": {
            "text/plain": [
              "pandas.core.series.Series"
            ]
          },
          "execution_count": 22,
          "metadata": {},
          "output_type": "execute_result"
        }
      ],
      "source": [
        "df['temp'] # df.temp\n",
        "type(df['temp'])"
      ]
    },
    {
      "cell_type": "code",
      "execution_count": 31,
      "metadata": {
        "colab": {
          "base_uri": "https://localhost:8080/",
          "height": 423
        },
        "id": "xVgU7EDXQh30",
        "outputId": "f42f6d42-836b-423b-964d-56fafa743c92"
      },
      "outputs": [
        {
          "data": {
            "text/html": [
              "<div>\n",
              "<style scoped>\n",
              "    .dataframe tbody tr th:only-of-type {\n",
              "        vertical-align: middle;\n",
              "    }\n",
              "\n",
              "    .dataframe tbody tr th {\n",
              "        vertical-align: top;\n",
              "    }\n",
              "\n",
              "    .dataframe thead th {\n",
              "        text-align: right;\n",
              "    }\n",
              "</style>\n",
              "<table border=\"1\" class=\"dataframe\">\n",
              "  <thead>\n",
              "    <tr style=\"text-align: right;\">\n",
              "      <th></th>\n",
              "      <th>date</th>\n",
              "      <th>temp</th>\n",
              "    </tr>\n",
              "  </thead>\n",
              "  <tbody>\n",
              "    <tr>\n",
              "      <th>0</th>\n",
              "      <td>2010-08-01</td>\n",
              "      <td>28.7</td>\n",
              "    </tr>\n",
              "    <tr>\n",
              "      <th>1</th>\n",
              "      <td>2010-08-02</td>\n",
              "      <td>25.2</td>\n",
              "    </tr>\n",
              "    <tr>\n",
              "      <th>2</th>\n",
              "      <td>2010-08-03</td>\n",
              "      <td>22.1</td>\n",
              "    </tr>\n",
              "    <tr>\n",
              "      <th>3</th>\n",
              "      <td>2010-08-04</td>\n",
              "      <td>25.3</td>\n",
              "    </tr>\n",
              "    <tr>\n",
              "      <th>4</th>\n",
              "      <td>2010-08-05</td>\n",
              "      <td>27.2</td>\n",
              "    </tr>\n",
              "    <tr>\n",
              "      <th>...</th>\n",
              "      <td>...</td>\n",
              "      <td>...</td>\n",
              "    </tr>\n",
              "    <tr>\n",
              "      <th>3648</th>\n",
              "      <td>2020-07-27</td>\n",
              "      <td>22.1</td>\n",
              "    </tr>\n",
              "    <tr>\n",
              "      <th>3649</th>\n",
              "      <td>2020-07-28</td>\n",
              "      <td>21.9</td>\n",
              "    </tr>\n",
              "    <tr>\n",
              "      <th>3650</th>\n",
              "      <td>2020-07-29</td>\n",
              "      <td>21.6</td>\n",
              "    </tr>\n",
              "    <tr>\n",
              "      <th>3651</th>\n",
              "      <td>2020-07-30</td>\n",
              "      <td>22.9</td>\n",
              "    </tr>\n",
              "    <tr>\n",
              "      <th>3652</th>\n",
              "      <td>2020-07-31</td>\n",
              "      <td>25.7</td>\n",
              "    </tr>\n",
              "  </tbody>\n",
              "</table>\n",
              "<p>3653 rows × 2 columns</p>\n",
              "</div>"
            ],
            "text/plain": [
              "            date  temp\n",
              "0     2010-08-01  28.7\n",
              "1     2010-08-02  25.2\n",
              "2     2010-08-03  22.1\n",
              "3     2010-08-04  25.3\n",
              "4     2010-08-05  27.2\n",
              "...          ...   ...\n",
              "3648  2020-07-27  22.1\n",
              "3649  2020-07-28  21.9\n",
              "3650  2020-07-29  21.6\n",
              "3651  2020-07-30  22.9\n",
              "3652  2020-07-31  25.7\n",
              "\n",
              "[3653 rows x 2 columns]"
            ]
          },
          "execution_count": 31,
          "metadata": {},
          "output_type": "execute_result"
        }
      ],
      "source": [
        "df[['date','temp']]"
      ]
    },
    {
      "cell_type": "code",
      "execution_count": 32,
      "metadata": {
        "colab": {
          "base_uri": "https://localhost:8080/",
          "height": 423
        },
        "id": "Zu9sStoPROYx",
        "outputId": "9dfd9153-265e-4acb-a8fd-e58af2e0aac7"
      },
      "outputs": [
        {
          "data": {
            "text/html": [
              "<div>\n",
              "<style scoped>\n",
              "    .dataframe tbody tr th:only-of-type {\n",
              "        vertical-align: middle;\n",
              "    }\n",
              "\n",
              "    .dataframe tbody tr th {\n",
              "        vertical-align: top;\n",
              "    }\n",
              "\n",
              "    .dataframe thead th {\n",
              "        text-align: right;\n",
              "    }\n",
              "</style>\n",
              "<table border=\"1\" class=\"dataframe\">\n",
              "  <thead>\n",
              "    <tr style=\"text-align: right;\">\n",
              "      <th></th>\n",
              "      <th>date</th>\n",
              "      <th>temp</th>\n",
              "    </tr>\n",
              "  </thead>\n",
              "  <tbody>\n",
              "    <tr>\n",
              "      <th>0</th>\n",
              "      <td>2010-08-01</td>\n",
              "      <td>28.7</td>\n",
              "    </tr>\n",
              "    <tr>\n",
              "      <th>1</th>\n",
              "      <td>2010-08-02</td>\n",
              "      <td>25.2</td>\n",
              "    </tr>\n",
              "    <tr>\n",
              "      <th>2</th>\n",
              "      <td>2010-08-03</td>\n",
              "      <td>22.1</td>\n",
              "    </tr>\n",
              "    <tr>\n",
              "      <th>3</th>\n",
              "      <td>2010-08-04</td>\n",
              "      <td>25.3</td>\n",
              "    </tr>\n",
              "    <tr>\n",
              "      <th>4</th>\n",
              "      <td>2010-08-05</td>\n",
              "      <td>27.2</td>\n",
              "    </tr>\n",
              "    <tr>\n",
              "      <th>...</th>\n",
              "      <td>...</td>\n",
              "      <td>...</td>\n",
              "    </tr>\n",
              "    <tr>\n",
              "      <th>3648</th>\n",
              "      <td>2020-07-27</td>\n",
              "      <td>22.1</td>\n",
              "    </tr>\n",
              "    <tr>\n",
              "      <th>3649</th>\n",
              "      <td>2020-07-28</td>\n",
              "      <td>21.9</td>\n",
              "    </tr>\n",
              "    <tr>\n",
              "      <th>3650</th>\n",
              "      <td>2020-07-29</td>\n",
              "      <td>21.6</td>\n",
              "    </tr>\n",
              "    <tr>\n",
              "      <th>3651</th>\n",
              "      <td>2020-07-30</td>\n",
              "      <td>22.9</td>\n",
              "    </tr>\n",
              "    <tr>\n",
              "      <th>3652</th>\n",
              "      <td>2020-07-31</td>\n",
              "      <td>25.7</td>\n",
              "    </tr>\n",
              "  </tbody>\n",
              "</table>\n",
              "<p>3653 rows × 2 columns</p>\n",
              "</div>"
            ],
            "text/plain": [
              "            date  temp\n",
              "0     2010-08-01  28.7\n",
              "1     2010-08-02  25.2\n",
              "2     2010-08-03  22.1\n",
              "3     2010-08-04  25.3\n",
              "4     2010-08-05  27.2\n",
              "...          ...   ...\n",
              "3648  2020-07-27  22.1\n",
              "3649  2020-07-28  21.9\n",
              "3650  2020-07-29  21.6\n",
              "3651  2020-07-30  22.9\n",
              "3652  2020-07-31  25.7\n",
              "\n",
              "[3653 rows x 2 columns]"
            ]
          },
          "execution_count": 32,
          "metadata": {},
          "output_type": "execute_result"
        }
      ],
      "source": [
        "df.loc[:,['date','temp']]"
      ]
    },
    {
      "cell_type": "code",
      "execution_count": 33,
      "metadata": {
        "colab": {
          "base_uri": "https://localhost:8080/",
          "height": 423
        },
        "id": "jQHozTxoR3uU",
        "outputId": "cd129600-7949-4852-b09c-2ab4926ed8d1"
      },
      "outputs": [
        {
          "data": {
            "text/html": [
              "<div>\n",
              "<style scoped>\n",
              "    .dataframe tbody tr th:only-of-type {\n",
              "        vertical-align: middle;\n",
              "    }\n",
              "\n",
              "    .dataframe tbody tr th {\n",
              "        vertical-align: top;\n",
              "    }\n",
              "\n",
              "    .dataframe thead th {\n",
              "        text-align: right;\n",
              "    }\n",
              "</style>\n",
              "<table border=\"1\" class=\"dataframe\">\n",
              "  <thead>\n",
              "    <tr style=\"text-align: right;\">\n",
              "      <th></th>\n",
              "      <th>date</th>\n",
              "      <th>temp</th>\n",
              "    </tr>\n",
              "  </thead>\n",
              "  <tbody>\n",
              "    <tr>\n",
              "      <th>0</th>\n",
              "      <td>2010-08-01</td>\n",
              "      <td>28.7</td>\n",
              "    </tr>\n",
              "    <tr>\n",
              "      <th>1</th>\n",
              "      <td>2010-08-02</td>\n",
              "      <td>25.2</td>\n",
              "    </tr>\n",
              "    <tr>\n",
              "      <th>2</th>\n",
              "      <td>2010-08-03</td>\n",
              "      <td>22.1</td>\n",
              "    </tr>\n",
              "    <tr>\n",
              "      <th>3</th>\n",
              "      <td>2010-08-04</td>\n",
              "      <td>25.3</td>\n",
              "    </tr>\n",
              "    <tr>\n",
              "      <th>4</th>\n",
              "      <td>2010-08-05</td>\n",
              "      <td>27.2</td>\n",
              "    </tr>\n",
              "    <tr>\n",
              "      <th>...</th>\n",
              "      <td>...</td>\n",
              "      <td>...</td>\n",
              "    </tr>\n",
              "    <tr>\n",
              "      <th>3648</th>\n",
              "      <td>2020-07-27</td>\n",
              "      <td>22.1</td>\n",
              "    </tr>\n",
              "    <tr>\n",
              "      <th>3649</th>\n",
              "      <td>2020-07-28</td>\n",
              "      <td>21.9</td>\n",
              "    </tr>\n",
              "    <tr>\n",
              "      <th>3650</th>\n",
              "      <td>2020-07-29</td>\n",
              "      <td>21.6</td>\n",
              "    </tr>\n",
              "    <tr>\n",
              "      <th>3651</th>\n",
              "      <td>2020-07-30</td>\n",
              "      <td>22.9</td>\n",
              "    </tr>\n",
              "    <tr>\n",
              "      <th>3652</th>\n",
              "      <td>2020-07-31</td>\n",
              "      <td>25.7</td>\n",
              "    </tr>\n",
              "  </tbody>\n",
              "</table>\n",
              "<p>3653 rows × 2 columns</p>\n",
              "</div>"
            ],
            "text/plain": [
              "            date  temp\n",
              "0     2010-08-01  28.7\n",
              "1     2010-08-02  25.2\n",
              "2     2010-08-03  22.1\n",
              "3     2010-08-04  25.3\n",
              "4     2010-08-05  27.2\n",
              "...          ...   ...\n",
              "3648  2020-07-27  22.1\n",
              "3649  2020-07-28  21.9\n",
              "3650  2020-07-29  21.6\n",
              "3651  2020-07-30  22.9\n",
              "3652  2020-07-31  25.7\n",
              "\n",
              "[3653 rows x 2 columns]"
            ]
          },
          "execution_count": 33,
          "metadata": {},
          "output_type": "execute_result"
        }
      ],
      "source": [
        "df.iloc[:,[0,1]]"
      ]
    },
    {
      "cell_type": "code",
      "execution_count": 34,
      "metadata": {
        "colab": {
          "base_uri": "https://localhost:8080/",
          "height": 174
        },
        "id": "GX33SwfWTOW3",
        "outputId": "33dbed31-30ca-48b1-9bd3-35256fa8b39a"
      },
      "outputs": [
        {
          "data": {
            "text/html": [
              "<div>\n",
              "<style scoped>\n",
              "    .dataframe tbody tr th:only-of-type {\n",
              "        vertical-align: middle;\n",
              "    }\n",
              "\n",
              "    .dataframe tbody tr th {\n",
              "        vertical-align: top;\n",
              "    }\n",
              "\n",
              "    .dataframe thead th {\n",
              "        text-align: right;\n",
              "    }\n",
              "</style>\n",
              "<table border=\"1\" class=\"dataframe\">\n",
              "  <thead>\n",
              "    <tr style=\"text-align: right;\">\n",
              "      <th></th>\n",
              "      <th>date</th>\n",
              "      <th>temp</th>\n",
              "      <th>max_wind</th>\n",
              "      <th>mean_wind</th>\n",
              "    </tr>\n",
              "  </thead>\n",
              "  <tbody>\n",
              "    <tr>\n",
              "      <th>0</th>\n",
              "      <td>2010-08-01</td>\n",
              "      <td>28.7</td>\n",
              "      <td>8.3</td>\n",
              "      <td>3.4</td>\n",
              "    </tr>\n",
              "    <tr>\n",
              "      <th>1</th>\n",
              "      <td>2010-08-02</td>\n",
              "      <td>25.2</td>\n",
              "      <td>8.7</td>\n",
              "      <td>3.8</td>\n",
              "    </tr>\n",
              "    <tr>\n",
              "      <th>2</th>\n",
              "      <td>2010-08-03</td>\n",
              "      <td>22.1</td>\n",
              "      <td>6.3</td>\n",
              "      <td>2.9</td>\n",
              "    </tr>\n",
              "  </tbody>\n",
              "</table>\n",
              "</div>"
            ],
            "text/plain": [
              "         date  temp  max_wind  mean_wind\n",
              "0  2010-08-01  28.7       8.3        3.4\n",
              "1  2010-08-02  25.2       8.7        3.8\n",
              "2  2010-08-03  22.1       6.3        2.9"
            ]
          },
          "execution_count": 34,
          "metadata": {},
          "output_type": "execute_result"
        }
      ],
      "source": [
        "df[0:3]"
      ]
    },
    {
      "cell_type": "code",
      "execution_count": 35,
      "metadata": {
        "colab": {
          "base_uri": "https://localhost:8080/"
        },
        "id": "6i2y6StsUo42",
        "outputId": "6ee4eb0d-71e4-4f40-fef9-798bdc292410"
      },
      "outputs": [
        {
          "data": {
            "text/plain": [
              "temp         28.7\n",
              "mean_wind     3.4\n",
              "Name: 2010-08-01, dtype: object"
            ]
          },
          "execution_count": 35,
          "metadata": {},
          "output_type": "execute_result"
        }
      ],
      "source": [
        "df.index=df['date']\n",
        "df.loc['2010-08-01',['temp','mean_wind']]"
      ]
    },
    {
      "cell_type": "code",
      "execution_count": 36,
      "metadata": {
        "colab": {
          "base_uri": "https://localhost:8080/"
        },
        "id": "81i63Vu6WMur",
        "outputId": "191b229d-5bf5-4686-f33b-a71241585aab"
      },
      "outputs": [
        {
          "data": {
            "text/plain": [
              "date         2010-08-04\n",
              "temp               25.3\n",
              "max_wind            6.6\n",
              "mean_wind           4.2\n",
              "Name: 2010-08-04, dtype: object"
            ]
          },
          "execution_count": 36,
          "metadata": {},
          "output_type": "execute_result"
        }
      ],
      "source": [
        "df.iloc[3]"
      ]
    },
    {
      "cell_type": "code",
      "execution_count": 37,
      "metadata": {
        "colab": {
          "base_uri": "https://localhost:8080/",
          "height": 143
        },
        "id": "KooUWt3LW8_i",
        "outputId": "bba82887-f716-4519-f61f-03fb82a72545"
      },
      "outputs": [
        {
          "data": {
            "text/html": [
              "<div>\n",
              "<style scoped>\n",
              "    .dataframe tbody tr th:only-of-type {\n",
              "        vertical-align: middle;\n",
              "    }\n",
              "\n",
              "    .dataframe tbody tr th {\n",
              "        vertical-align: top;\n",
              "    }\n",
              "\n",
              "    .dataframe thead th {\n",
              "        text-align: right;\n",
              "    }\n",
              "</style>\n",
              "<table border=\"1\" class=\"dataframe\">\n",
              "  <thead>\n",
              "    <tr style=\"text-align: right;\">\n",
              "      <th></th>\n",
              "      <th>date</th>\n",
              "      <th>temp</th>\n",
              "    </tr>\n",
              "    <tr>\n",
              "      <th>date</th>\n",
              "      <th></th>\n",
              "      <th></th>\n",
              "    </tr>\n",
              "  </thead>\n",
              "  <tbody>\n",
              "    <tr>\n",
              "      <th>2010-08-02</th>\n",
              "      <td>2010-08-02</td>\n",
              "      <td>25.2</td>\n",
              "    </tr>\n",
              "    <tr>\n",
              "      <th>2010-08-03</th>\n",
              "      <td>2010-08-03</td>\n",
              "      <td>22.1</td>\n",
              "    </tr>\n",
              "  </tbody>\n",
              "</table>\n",
              "</div>"
            ],
            "text/plain": [
              "                  date  temp\n",
              "date                        \n",
              "2010-08-02  2010-08-02  25.2\n",
              "2010-08-03  2010-08-03  22.1"
            ]
          },
          "execution_count": 37,
          "metadata": {},
          "output_type": "execute_result"
        }
      ],
      "source": [
        "df.iloc[1:3,0:2]"
      ]
    },
    {
      "cell_type": "code",
      "execution_count": 38,
      "metadata": {
        "colab": {
          "base_uri": "https://localhost:8080/",
          "height": 237
        },
        "id": "BC4Do4kiaGiL",
        "outputId": "ab4d3f1c-9001-4059-cdc2-43ff59904535"
      },
      "outputs": [
        {
          "data": {
            "text/html": [
              "<div>\n",
              "<style scoped>\n",
              "    .dataframe tbody tr th:only-of-type {\n",
              "        vertical-align: middle;\n",
              "    }\n",
              "\n",
              "    .dataframe tbody tr th {\n",
              "        vertical-align: top;\n",
              "    }\n",
              "\n",
              "    .dataframe thead th {\n",
              "        text-align: right;\n",
              "    }\n",
              "</style>\n",
              "<table border=\"1\" class=\"dataframe\">\n",
              "  <thead>\n",
              "    <tr style=\"text-align: right;\">\n",
              "      <th></th>\n",
              "      <th>date</th>\n",
              "      <th>temp</th>\n",
              "      <th>max_wind</th>\n",
              "      <th>mean_wind</th>\n",
              "    </tr>\n",
              "    <tr>\n",
              "      <th>date</th>\n",
              "      <th></th>\n",
              "      <th></th>\n",
              "      <th></th>\n",
              "      <th></th>\n",
              "    </tr>\n",
              "  </thead>\n",
              "  <tbody>\n",
              "    <tr>\n",
              "      <th>2013-08-08</th>\n",
              "      <td>2013-08-08</td>\n",
              "      <td>31.3</td>\n",
              "      <td>7.8</td>\n",
              "      <td>4.6</td>\n",
              "    </tr>\n",
              "    <tr>\n",
              "      <th>2013-08-09</th>\n",
              "      <td>2013-08-09</td>\n",
              "      <td>30.6</td>\n",
              "      <td>9.9</td>\n",
              "      <td>6.4</td>\n",
              "    </tr>\n",
              "    <tr>\n",
              "      <th>2013-08-10</th>\n",
              "      <td>2013-08-10</td>\n",
              "      <td>30.6</td>\n",
              "      <td>7.4</td>\n",
              "      <td>3.8</td>\n",
              "    </tr>\n",
              "    <tr>\n",
              "      <th>2018-07-23</th>\n",
              "      <td>2018-07-23</td>\n",
              "      <td>30.5</td>\n",
              "      <td>6.5</td>\n",
              "      <td>1.6</td>\n",
              "    </tr>\n",
              "    <tr>\n",
              "      <th>2018-08-04</th>\n",
              "      <td>2018-08-04</td>\n",
              "      <td>30.3</td>\n",
              "      <td>5.8</td>\n",
              "      <td>3.0</td>\n",
              "    </tr>\n",
              "  </tbody>\n",
              "</table>\n",
              "</div>"
            ],
            "text/plain": [
              "                  date  temp  max_wind  mean_wind\n",
              "date                                             \n",
              "2013-08-08  2013-08-08  31.3       7.8        4.6\n",
              "2013-08-09  2013-08-09  30.6       9.9        6.4\n",
              "2013-08-10  2013-08-10  30.6       7.4        3.8\n",
              "2018-07-23  2018-07-23  30.5       6.5        1.6\n",
              "2018-08-04  2018-08-04  30.3       5.8        3.0"
            ]
          },
          "execution_count": 38,
          "metadata": {},
          "output_type": "execute_result"
        }
      ],
      "source": [
        "w=df['temp']>=30\n",
        "df[w]"
      ]
    },
    {
      "cell_type": "code",
      "execution_count": 39,
      "metadata": {
        "colab": {
          "base_uri": "https://localhost:8080/",
          "height": 112
        },
        "id": "kKP0zm0xoZwF",
        "outputId": "e6f90767-86ed-4287-b235-d960506d2734"
      },
      "outputs": [
        {
          "data": {
            "text/html": [
              "<div>\n",
              "<style scoped>\n",
              "    .dataframe tbody tr th:only-of-type {\n",
              "        vertical-align: middle;\n",
              "    }\n",
              "\n",
              "    .dataframe tbody tr th {\n",
              "        vertical-align: top;\n",
              "    }\n",
              "\n",
              "    .dataframe thead th {\n",
              "        text-align: right;\n",
              "    }\n",
              "</style>\n",
              "<table border=\"1\" class=\"dataframe\">\n",
              "  <thead>\n",
              "    <tr style=\"text-align: right;\">\n",
              "      <th></th>\n",
              "      <th>date</th>\n",
              "      <th>temp</th>\n",
              "      <th>max_wind</th>\n",
              "      <th>mean_wind</th>\n",
              "    </tr>\n",
              "    <tr>\n",
              "      <th>date</th>\n",
              "      <th></th>\n",
              "      <th></th>\n",
              "      <th></th>\n",
              "      <th></th>\n",
              "    </tr>\n",
              "  </thead>\n",
              "  <tbody>\n",
              "    <tr>\n",
              "      <th>2013-08-09</th>\n",
              "      <td>2013-08-09</td>\n",
              "      <td>30.6</td>\n",
              "      <td>9.9</td>\n",
              "      <td>6.4</td>\n",
              "    </tr>\n",
              "  </tbody>\n",
              "</table>\n",
              "</div>"
            ],
            "text/plain": [
              "                  date  temp  max_wind  mean_wind\n",
              "date                                             \n",
              "2013-08-09  2013-08-09  30.6       9.9        6.4"
            ]
          },
          "execution_count": 39,
          "metadata": {},
          "output_type": "execute_result"
        }
      ],
      "source": [
        "w=(df['temp']>=30) & (df['max_wind']>=9)\n",
        "df[w]"
      ]
    },
    {
      "cell_type": "code",
      "execution_count": 40,
      "metadata": {
        "colab": {
          "base_uri": "https://localhost:8080/",
          "height": 112
        },
        "id": "ByfmUbctcn4i",
        "outputId": "c2a65ead-83de-4fae-ce82-6efb0ac0aadd"
      },
      "outputs": [
        {
          "data": {
            "text/html": [
              "<div>\n",
              "<style scoped>\n",
              "    .dataframe tbody tr th:only-of-type {\n",
              "        vertical-align: middle;\n",
              "    }\n",
              "\n",
              "    .dataframe tbody tr th {\n",
              "        vertical-align: top;\n",
              "    }\n",
              "\n",
              "    .dataframe thead th {\n",
              "        text-align: right;\n",
              "    }\n",
              "</style>\n",
              "<table border=\"1\" class=\"dataframe\">\n",
              "  <thead>\n",
              "    <tr style=\"text-align: right;\">\n",
              "      <th></th>\n",
              "      <th>date</th>\n",
              "      <th>temp</th>\n",
              "      <th>max_wind</th>\n",
              "      <th>mean_wind</th>\n",
              "    </tr>\n",
              "    <tr>\n",
              "      <th>date</th>\n",
              "      <th></th>\n",
              "      <th></th>\n",
              "      <th></th>\n",
              "      <th></th>\n",
              "    </tr>\n",
              "  </thead>\n",
              "  <tbody>\n",
              "    <tr>\n",
              "      <th>2013-08-08</th>\n",
              "      <td>2013-08-08</td>\n",
              "      <td>31.3</td>\n",
              "      <td>7.8</td>\n",
              "      <td>4.6</td>\n",
              "    </tr>\n",
              "  </tbody>\n",
              "</table>\n",
              "</div>"
            ],
            "text/plain": [
              "                  date  temp  max_wind  mean_wind\n",
              "date                                             \n",
              "2013-08-08  2013-08-08  31.3       7.8        4.6"
            ]
          },
          "execution_count": 40,
          "metadata": {},
          "output_type": "execute_result"
        }
      ],
      "source": [
        "w=df['temp']==df['temp'].max()\n",
        "df[w]"
      ]
    },
    {
      "cell_type": "code",
      "execution_count": 23,
      "metadata": {
        "colab": {
          "base_uri": "https://localhost:8080/",
          "height": 206
        },
        "id": "k1loB4JWfbDK",
        "outputId": "d96d9953-6efa-4987-9aa1-11d066f143da"
      },
      "outputs": [
        {
          "data": {
            "text/html": [
              "<div>\n",
              "<style scoped>\n",
              "    .dataframe tbody tr th:only-of-type {\n",
              "        vertical-align: middle;\n",
              "    }\n",
              "\n",
              "    .dataframe tbody tr th {\n",
              "        vertical-align: top;\n",
              "    }\n",
              "\n",
              "    .dataframe thead th {\n",
              "        text-align: right;\n",
              "    }\n",
              "</style>\n",
              "<table border=\"1\" class=\"dataframe\">\n",
              "  <thead>\n",
              "    <tr style=\"text-align: right;\">\n",
              "      <th></th>\n",
              "      <th>date</th>\n",
              "      <th>temp</th>\n",
              "      <th>max_wind</th>\n",
              "      <th>mean_wind</th>\n",
              "    </tr>\n",
              "  </thead>\n",
              "  <tbody>\n",
              "    <tr>\n",
              "      <th>559</th>\n",
              "      <td>2012-02-11</td>\n",
              "      <td>-0.7</td>\n",
              "      <td>NaN</td>\n",
              "      <td>NaN</td>\n",
              "    </tr>\n",
              "    <tr>\n",
              "      <th>560</th>\n",
              "      <td>2012-02-12</td>\n",
              "      <td>0.4</td>\n",
              "      <td>NaN</td>\n",
              "      <td>NaN</td>\n",
              "    </tr>\n",
              "    <tr>\n",
              "      <th>561</th>\n",
              "      <td>2012-02-13</td>\n",
              "      <td>4.0</td>\n",
              "      <td>NaN</td>\n",
              "      <td>NaN</td>\n",
              "    </tr>\n",
              "    <tr>\n",
              "      <th>3183</th>\n",
              "      <td>2019-04-19</td>\n",
              "      <td>7.8</td>\n",
              "      <td>NaN</td>\n",
              "      <td>2.3</td>\n",
              "    </tr>\n",
              "  </tbody>\n",
              "</table>\n",
              "</div>"
            ],
            "text/plain": [
              "            date  temp  max_wind  mean_wind\n",
              "559   2012-02-11  -0.7       NaN        NaN\n",
              "560   2012-02-12   0.4       NaN        NaN\n",
              "561   2012-02-13   4.0       NaN        NaN\n",
              "3183  2019-04-19   7.8       NaN        2.3"
            ]
          },
          "execution_count": 23,
          "metadata": {},
          "output_type": "execute_result"
        }
      ],
      "source": [
        "df[df['max_wind'].isna()]"
      ]
    },
    {
      "cell_type": "code",
      "execution_count": 24,
      "metadata": {
        "colab": {
          "base_uri": "https://localhost:8080/"
        },
        "id": "F16i01G4gxlY",
        "outputId": "ae392313-97f5-4b07-ff7c-635b903d8231"
      },
      "outputs": [
        {
          "data": {
            "text/plain": [
              "date         0\n",
              "temp         0\n",
              "max_wind     4\n",
              "mean_wind    6\n",
              "dtype: int64"
            ]
          },
          "execution_count": 24,
          "metadata": {},
          "output_type": "execute_result"
        }
      ],
      "source": [
        "# 결측데이터 컬럼별 확인\n",
        "df.isnull().sum()"
      ]
    },
    {
      "cell_type": "code",
      "execution_count": 25,
      "metadata": {
        "colab": {
          "base_uri": "https://localhost:8080/"
        },
        "id": "QjoYITprmb09",
        "outputId": "702fa062-576f-4e13-ce85-d2078a231047"
      },
      "outputs": [
        {
          "data": {
            "text/plain": [
              "date         0\n",
              "temp         0\n",
              "max_wind     0\n",
              "mean_wind    0\n",
              "dtype: int64"
            ]
          },
          "execution_count": 25,
          "metadata": {},
          "output_type": "execute_result"
        }
      ],
      "source": [
        "df2=df.dropna()\n",
        "df2.isnull().sum()"
      ]
    },
    {
      "cell_type": "code",
      "execution_count": 26,
      "metadata": {
        "colab": {
          "base_uri": "https://localhost:8080/"
        },
        "id": "52ksdHUbiDW2",
        "outputId": "af4357ce-10f5-4661-a90b-bc460334587e"
      },
      "outputs": [
        {
          "ename": "TypeError",
          "evalue": "Could not convert ['2010-08-012010-08-022010-08-032010-08-042010-08-052010-08-062010-08-072010-08-082010-08-092010-08-102010-08-112010-08-122010-08-132010-08-142010-08-152010-08-162010-08-172010-08-182010-08-192010-08-202010-08-212010-08-222010-08-232010-08-242010-08-252010-08-262010-08-272010-08-282010-08-292010-08-302010-08-312010-09-012010-09-022010-09-032010-09-042010-09-052010-09-062010-09-072010-09-082010-09-092010-09-102010-09-112010-09-122010-09-132010-09-142010-09-152010-09-162010-09-172010-09-182010-09-192010-09-202010-09-212010-09-222010-09-232010-09-242010-09-252010-09-262010-09-272010-09-282010-09-292010-09-302010-10-012010-10-022010-10-032010-10-042010-10-052010-10-062010-10-072010-10-082010-10-092010-10-102010-10-112010-10-122010-10-132010-10-142010-10-152010-10-162010-10-172010-10-182010-10-192010-10-202010-10-212010-10-222010-10-232010-10-242010-10-252010-10-262010-10-272010-10-282010-10-292010-10-302010-10-312010-11-012010-11-022010-11-032010-11-042010-11-052010-11-062010-11-072010-11-082010-11-092010-11-102010-11-112010-11-122010-11-132010-11-142010-11-152010-11-162010-11-172010-11-182010-11-192010-11-202010-11-212010-11-222010-11-232010-11-242010-11-252010-11-262010-11-272010-11-282010-11-292010-11-302010-12-012010-12-022010-12-032010-12-042010-12-052010-12-062010-12-072010-12-082010-12-092010-12-102010-12-112010-12-122010-12-132010-12-142010-12-152010-12-162010-12-172010-12-182010-12-192010-12-202010-12-212010-12-222010-12-232010-12-242010-12-252010-12-262010-12-272010-12-282010-12-292010-12-302010-12-312011-01-012011-01-022011-01-032011-01-042011-01-052011-01-062011-01-072011-01-082011-01-092011-01-102011-01-112011-01-122011-01-132011-01-142011-01-152011-01-162011-01-172011-01-182011-01-192011-01-202011-01-212011-01-222011-01-232011-01-242011-01-252011-01-262011-01-272011-01-282011-01-292011-01-302011-01-312011-02-012011-02-022011-02-032011-02-042011-02-052011-02-062011-02-072011-02-082011-02-092011-02-102011-02-112011-02-122011-02-132011-02-142011-02-152011-02-162011-02-172011-02-182011-02-192011-02-202011-02-212011-02-222011-02-232011-02-242011-02-252011-02-262011-02-272011-02-282011-03-012011-03-022011-03-032011-03-042011-03-052011-03-062011-03-072011-03-082011-03-092011-03-102011-03-112011-03-122011-03-132011-03-142011-03-152011-03-162011-03-172011-03-182011-03-192011-03-202011-03-212011-03-222011-03-232011-03-242011-03-252011-03-262011-03-272011-03-282011-03-292011-03-302011-03-312011-04-012011-04-022011-04-032011-04-042011-04-052011-04-062011-04-072011-04-082011-04-092011-04-102011-04-112011-04-122011-04-132011-04-142011-04-152011-04-162011-04-172011-04-182011-04-192011-04-202011-04-212011-04-222011-04-232011-04-242011-04-252011-04-262011-04-272011-04-282011-04-292011-04-302011-05-012011-05-022011-05-032011-05-042011-05-052011-05-062011-05-072011-05-082011-05-092011-05-102011-05-112011-05-122011-05-132011-05-142011-05-152011-05-162011-05-172011-05-182011-05-192011-05-202011-05-212011-05-222011-05-232011-05-242011-05-252011-05-262011-05-272011-05-282011-05-292011-05-302011-05-312011-06-012011-06-022011-06-032011-06-042011-06-052011-06-062011-06-072011-06-082011-06-092011-06-102011-06-112011-06-122011-06-132011-06-142011-06-152011-06-162011-06-172011-06-182011-06-192011-06-202011-06-212011-06-222011-06-232011-06-242011-06-252011-06-262011-06-272011-06-282011-06-292011-06-302011-07-012011-07-022011-07-032011-07-042011-07-052011-07-062011-07-072011-07-082011-07-092011-07-102011-07-112011-07-122011-07-132011-07-142011-07-152011-07-162011-07-172011-07-182011-07-192011-07-202011-07-212011-07-222011-07-232011-07-242011-07-252011-07-262011-07-272011-07-282011-07-292011-07-302011-07-312011-08-012011-08-022011-08-032011-08-042011-08-052011-08-062011-08-072011-08-082011-08-092011-08-102011-08-112011-08-122011-08-132011-08-142011-08-152011-08-162011-08-172011-08-182011-08-192011-08-202011-08-212011-08-222011-08-232011-08-242011-08-252011-08-262011-08-272011-08-282011-08-292011-08-302011-08-312011-09-012011-09-022011-09-032011-09-042011-09-052011-09-062011-09-072011-09-082011-09-092011-09-102011-09-112011-09-122011-09-132011-09-142011-09-152011-09-162011-09-172011-09-182011-09-192011-09-202011-09-212011-09-222011-09-232011-09-242011-09-252011-09-262011-09-272011-09-282011-09-292011-09-302011-10-012011-10-022011-10-032011-10-042011-10-052011-10-062011-10-072011-10-082011-10-092011-10-102011-10-112011-10-122011-10-132011-10-142011-10-152011-10-162011-10-172011-10-182011-10-192011-10-202011-10-212011-10-222011-10-232011-10-242011-10-252011-10-262011-10-272011-10-282011-10-292011-10-302011-10-312011-11-012011-11-022011-11-032011-11-042011-11-052011-11-062011-11-072011-11-082011-11-092011-11-102011-11-112011-11-122011-11-132011-11-142011-11-152011-11-162011-11-172011-11-182011-11-192011-11-202011-11-212011-11-222011-11-232011-11-242011-11-252011-11-262011-11-272011-11-282011-11-292011-11-302011-12-012011-12-022011-12-032011-12-042011-12-052011-12-062011-12-072011-12-082011-12-092011-12-102011-12-112011-12-122011-12-132011-12-142011-12-152011-12-162011-12-172011-12-182011-12-192011-12-202011-12-212011-12-222011-12-232011-12-242011-12-252011-12-262011-12-272011-12-282011-12-292011-12-302011-12-312012-01-012012-01-022012-01-032012-01-042012-01-052012-01-062012-01-072012-01-082012-01-092012-01-102012-01-112012-01-122012-01-132012-01-142012-01-152012-01-162012-01-172012-01-182012-01-192012-01-202012-01-212012-01-222012-01-232012-01-242012-01-252012-01-262012-01-272012-01-282012-01-292012-01-302012-01-312012-02-012012-02-022012-02-032012-02-042012-02-052012-02-062012-02-072012-02-082012-02-092012-02-102012-02-112012-02-122012-02-132012-02-142012-02-152012-02-162012-02-172012-02-182012-02-192012-02-202012-02-212012-02-222012-02-232012-02-242012-02-252012-02-262012-02-272012-02-282012-02-292012-03-012012-03-022012-03-032012-03-042012-03-052012-03-062012-03-072012-03-082012-03-092012-03-102012-03-112012-03-122012-03-132012-03-142012-03-152012-03-162012-03-172012-03-182012-03-192012-03-202012-03-212012-03-222012-03-232012-03-242012-03-252012-03-262012-03-272012-03-282012-03-292012-03-302012-03-312012-04-012012-04-022012-04-032012-04-042012-04-052012-04-062012-04-072012-04-082012-04-092012-04-102012-04-112012-04-122012-04-132012-04-142012-04-152012-04-162012-04-172012-04-182012-04-192012-04-202012-04-212012-04-222012-04-232012-04-242012-04-252012-04-262012-04-272012-04-282012-04-292012-04-302012-05-012012-05-022012-05-032012-05-042012-05-052012-05-062012-05-072012-05-082012-05-092012-05-102012-05-112012-05-122012-05-132012-05-142012-05-152012-05-162012-05-172012-05-182012-05-192012-05-202012-05-212012-05-222012-05-232012-05-242012-05-252012-05-262012-05-272012-05-282012-05-292012-05-302012-05-312012-06-012012-06-022012-06-032012-06-042012-06-052012-06-062012-06-072012-06-082012-06-092012-06-102012-06-112012-06-122012-06-132012-06-142012-06-152012-06-162012-06-172012-06-182012-06-192012-06-202012-06-212012-06-222012-06-232012-06-242012-06-252012-06-262012-06-272012-06-282012-06-292012-06-302012-07-012012-07-022012-07-032012-07-042012-07-052012-07-062012-07-072012-07-082012-07-092012-07-102012-07-112012-07-122012-07-132012-07-142012-07-152012-07-162012-07-172012-07-182012-07-192012-07-202012-07-212012-07-222012-07-232012-07-242012-07-252012-07-262012-07-272012-07-282012-07-292012-07-302012-07-312012-08-012012-08-022012-08-032012-08-042012-08-052012-08-062012-08-072012-08-082012-08-092012-08-102012-08-112012-08-122012-08-132012-08-142012-08-152012-08-162012-08-172012-08-182012-08-192012-08-202012-08-212012-08-222012-08-232012-08-242012-08-252012-08-262012-08-272012-08-282012-08-292012-08-302012-08-312012-09-012012-09-022012-09-032012-09-042012-09-052012-09-062012-09-072012-09-082012-09-092012-09-102012-09-112012-09-122012-09-132012-09-142012-09-152012-09-162012-09-172012-09-182012-09-192012-09-202012-09-212012-09-222012-09-232012-09-242012-09-252012-09-262012-09-272012-09-282012-09-292012-09-302012-10-012012-10-022012-10-032012-10-042012-10-052012-10-062012-10-072012-10-082012-10-092012-10-102012-10-112012-10-122012-10-132012-10-142012-10-152012-10-162012-10-172012-10-182012-10-192012-10-202012-10-212012-10-222012-10-232012-10-242012-10-252012-10-262012-10-272012-10-282012-10-292012-10-302012-10-312012-11-012012-11-022012-11-032012-11-042012-11-052012-11-062012-11-072012-11-082012-11-092012-11-102012-11-112012-11-122012-11-132012-11-142012-11-152012-11-162012-11-172012-11-182012-11-192012-11-202012-11-212012-11-222012-11-232012-11-242012-11-252012-11-262012-11-272012-11-282012-11-292012-11-302012-12-012012-12-022012-12-032012-12-042012-12-052012-12-062012-12-072012-12-082012-12-092012-12-102012-12-112012-12-122012-12-132012-12-142012-12-152012-12-162012-12-172012-12-182012-12-192012-12-202012-12-212012-12-222012-12-232012-12-242012-12-252012-12-262012-12-272012-12-282012-12-292012-12-302012-12-312013-01-012013-01-022013-01-032013-01-042013-01-052013-01-062013-01-072013-01-082013-01-092013-01-102013-01-112013-01-122013-01-132013-01-142013-01-152013-01-162013-01-172013-01-182013-01-192013-01-202013-01-212013-01-222013-01-232013-01-242013-01-252013-01-262013-01-272013-01-282013-01-292013-01-302013-01-312013-02-012013-02-022013-02-032013-02-042013-02-052013-02-062013-02-072013-02-082013-02-092013-02-102013-02-112013-02-122013-02-132013-02-142013-02-152013-02-162013-02-172013-02-182013-02-192013-02-202013-02-212013-02-222013-02-232013-02-242013-02-252013-02-262013-02-272013-02-282013-03-012013-03-022013-03-032013-03-042013-03-052013-03-062013-03-072013-03-082013-03-092013-03-102013-03-112013-03-122013-03-132013-03-142013-03-152013-03-162013-03-172013-03-182013-03-192013-03-202013-03-212013-03-222013-03-232013-03-242013-03-252013-03-262013-03-272013-03-282013-03-292013-03-302013-03-312013-04-012013-04-022013-04-032013-04-042013-04-052013-04-062013-04-072013-04-082013-04-092013-04-102013-04-112013-04-122013-04-132013-04-142013-04-152013-04-162013-04-172013-04-182013-04-192013-04-202013-04-212013-04-222013-04-232013-04-242013-04-252013-04-262013-04-272013-04-282013-04-292013-04-302013-05-012013-05-022013-05-032013-05-042013-05-052013-05-062013-05-072013-05-082013-05-092013-05-102013-05-112013-05-122013-05-132013-05-142013-05-152013-05-162013-05-172013-05-182013-05-192013-05-202013-05-212013-05-222013-05-232013-05-242013-05-252013-05-262013-05-272013-05-282013-05-292013-05-302013-05-312013-06-012013-06-022013-06-032013-06-042013-06-052013-06-062013-06-072013-06-082013-06-092013-06-102013-06-112013-06-122013-06-132013-06-142013-06-152013-06-162013-06-172013-06-182013-06-192013-06-202013-06-212013-06-222013-06-232013-06-242013-06-252013-06-262013-06-272013-06-282013-06-292013-06-302013-07-012013-07-022013-07-032013-07-042013-07-052013-07-062013-07-072013-07-082013-07-092013-07-102013-07-112013-07-122013-07-132013-07-142013-07-152013-07-162013-07-172013-07-182013-07-192013-07-202013-07-212013-07-222013-07-232013-07-242013-07-252013-07-262013-07-272013-07-282013-07-292013-07-302013-07-312013-08-012013-08-022013-08-032013-08-042013-08-052013-08-062013-08-072013-08-082013-08-092013-08-102013-08-112013-08-122013-08-132013-08-142013-08-152013-08-162013-08-172013-08-182013-08-192013-08-202013-08-212013-08-222013-08-232013-08-242013-08-252013-08-262013-08-272013-08-282013-08-292013-08-302013-08-312013-09-012013-09-022013-09-032013-09-042013-09-052013-09-062013-09-072013-09-082013-09-092013-09-102013-09-112013-09-122013-09-132013-09-142013-09-152013-09-162013-09-172013-09-182013-09-192013-09-202013-09-212013-09-222013-09-232013-09-242013-09-252013-09-262013-09-272013-09-282013-09-292013-09-302013-10-012013-10-022013-10-032013-10-042013-10-052013-10-062013-10-072013-10-082013-10-092013-10-102013-10-112013-10-122013-10-132013-10-142013-10-152013-10-162013-10-172013-10-182013-10-192013-10-202013-10-212013-10-222013-10-232013-10-242013-10-252013-10-262013-10-272013-10-282013-10-292013-10-302013-10-312013-11-012013-11-022013-11-032013-11-042013-11-052013-11-062013-11-072013-11-082013-11-092013-11-102013-11-112013-11-122013-11-132013-11-142013-11-152013-11-162013-11-172013-11-182013-11-192013-11-202013-11-212013-11-222013-11-232013-11-242013-11-252013-11-262013-11-272013-11-282013-11-292013-11-302013-12-012013-12-022013-12-032013-12-042013-12-052013-12-062013-12-072013-12-082013-12-092013-12-102013-12-112013-12-122013-12-132013-12-142013-12-152013-12-162013-12-172013-12-182013-12-192013-12-202013-12-212013-12-222013-12-232013-12-242013-12-252013-12-262013-12-272013-12-282013-12-292013-12-302013-12-312014-01-012014-01-022014-01-032014-01-042014-01-052014-01-062014-01-072014-01-082014-01-092014-01-102014-01-112014-01-122014-01-132014-01-142014-01-152014-01-162014-01-172014-01-182014-01-192014-01-202014-01-212014-01-222014-01-232014-01-242014-01-252014-01-262014-01-272014-01-282014-01-292014-01-302014-01-312014-02-012014-02-022014-02-032014-02-042014-02-052014-02-062014-02-072014-02-082014-02-092014-02-102014-02-112014-02-122014-02-132014-02-142014-02-152014-02-162014-02-172014-02-182014-02-192014-02-202014-02-212014-02-222014-02-232014-02-242014-02-252014-02-262014-02-272014-02-282014-03-012014-03-022014-03-032014-03-042014-03-052014-03-062014-03-072014-03-082014-03-092014-03-102014-03-112014-03-122014-03-132014-03-142014-03-152014-03-162014-03-172014-03-182014-03-192014-03-202014-03-212014-03-222014-03-232014-03-242014-03-252014-03-262014-03-272014-03-282014-03-292014-03-302014-03-312014-04-012014-04-022014-04-032014-04-042014-04-052014-04-062014-04-072014-04-082014-04-092014-04-102014-04-112014-04-122014-04-132014-04-142014-04-152014-04-162014-04-172014-04-182014-04-192014-04-202014-04-212014-04-222014-04-232014-04-242014-04-252014-04-262014-04-272014-04-282014-04-292014-04-302014-05-012014-05-022014-05-032014-05-042014-05-052014-05-062014-05-072014-05-082014-05-092014-05-102014-05-112014-05-122014-05-132014-05-142014-05-152014-05-162014-05-172014-05-182014-05-192014-05-202014-05-212014-05-222014-05-232014-05-242014-05-252014-05-262014-05-272014-05-282014-05-292014-05-302014-05-312014-06-012014-06-022014-06-032014-06-042014-06-052014-06-062014-06-072014-06-082014-06-092014-06-102014-06-112014-06-122014-06-132014-06-142014-06-152014-06-162014-06-172014-06-182014-06-192014-06-202014-06-212014-06-222014-06-232014-06-242014-06-252014-06-262014-06-272014-06-282014-06-292014-06-302014-07-012014-07-022014-07-032014-07-042014-07-052014-07-062014-07-072014-07-082014-07-092014-07-102014-07-112014-07-122014-07-132014-07-142014-07-152014-07-162014-07-172014-07-182014-07-192014-07-202014-07-212014-07-222014-07-232014-07-242014-07-252014-07-262014-07-272014-07-282014-07-292014-07-302014-07-312014-08-012014-08-022014-08-032014-08-042014-08-052014-08-062014-08-072014-08-082014-08-092014-08-102014-08-112014-08-122014-08-132014-08-142014-08-152014-08-162014-08-172014-08-182014-08-192014-08-202014-08-212014-08-222014-08-232014-08-242014-08-252014-08-262014-08-272014-08-282014-08-292014-08-302014-08-312014-09-012014-09-022014-09-032014-09-042014-09-052014-09-062014-09-072014-09-082014-09-092014-09-102014-09-112014-09-122014-09-132014-09-142014-09-152014-09-162014-09-172014-09-182014-09-192014-09-202014-09-212014-09-222014-09-232014-09-242014-09-252014-09-262014-09-272014-09-282014-09-292014-09-302014-10-012014-10-022014-10-032014-10-042014-10-052014-10-062014-10-072014-10-082014-10-092014-10-102014-10-112014-10-122014-10-132014-10-142014-10-152014-10-162014-10-172014-10-182014-10-192014-10-202014-10-212014-10-222014-10-232014-10-242014-10-252014-10-262014-10-272014-10-282014-10-292014-10-302014-10-312014-11-012014-11-022014-11-032014-11-042014-11-052014-11-062014-11-072014-11-082014-11-092014-11-102014-11-112014-11-122014-11-132014-11-142014-11-152014-11-162014-11-172014-11-182014-11-192014-11-202014-11-212014-11-222014-11-232014-11-242014-11-252014-11-262014-11-272014-11-282014-11-292014-11-302014-12-012014-12-022014-12-032014-12-042014-12-052014-12-062014-12-072014-12-082014-12-092014-12-102014-12-112014-12-122014-12-132014-12-142014-12-152014-12-162014-12-172014-12-182014-12-192014-12-202014-12-212014-12-222014-12-232014-12-242014-12-252014-12-262014-12-272014-12-282014-12-292014-12-302014-12-312015-01-012015-01-022015-01-032015-01-042015-01-052015-01-062015-01-072015-01-082015-01-092015-01-102015-01-112015-01-122015-01-132015-01-142015-01-152015-01-162015-01-172015-01-182015-01-192015-01-202015-01-212015-01-222015-01-232015-01-242015-01-252015-01-262015-01-272015-01-282015-01-292015-01-302015-01-312015-02-012015-02-022015-02-032015-02-042015-02-052015-02-062015-02-072015-02-082015-02-092015-02-102015-02-112015-02-122015-02-132015-02-142015-02-152015-02-162015-02-172015-02-182015-02-192015-02-202015-02-212015-02-222015-02-232015-02-242015-02-252015-02-262015-02-272015-02-282015-03-012015-03-022015-03-032015-03-042015-03-052015-03-062015-03-072015-03-082015-03-092015-03-102015-03-112015-03-122015-03-132015-03-142015-03-152015-03-162015-03-172015-03-182015-03-192015-03-202015-03-212015-03-222015-03-232015-03-242015-03-252015-03-262015-03-272015-03-282015-03-292015-03-302015-03-312015-04-012015-04-022015-04-032015-04-042015-04-052015-04-062015-04-072015-04-082015-04-092015-04-102015-04-112015-04-122015-04-132015-04-142015-04-152015-04-162015-04-172015-04-182015-04-192015-04-202015-04-212015-04-222015-04-232015-04-242015-04-252015-04-262015-04-272015-04-282015-04-292015-04-302015-05-012015-05-022015-05-032015-05-042015-05-052015-05-062015-05-072015-05-082015-05-092015-05-102015-05-112015-05-122015-05-132015-05-142015-05-152015-05-162015-05-172015-05-182015-05-192015-05-202015-05-212015-05-222015-05-232015-05-242015-05-252015-05-262015-05-272015-05-282015-05-292015-05-302015-05-312015-06-012015-06-022015-06-032015-06-042015-06-052015-06-062015-06-072015-06-082015-06-092015-06-102015-06-112015-06-122015-06-132015-06-142015-06-152015-06-162015-06-172015-06-182015-06-192015-06-202015-06-212015-06-222015-06-232015-06-242015-06-252015-06-262015-06-272015-06-282015-06-292015-06-302015-07-012015-07-022015-07-032015-07-042015-07-052015-07-062015-07-072015-07-082015-07-092015-07-102015-07-112015-07-122015-07-132015-07-142015-07-152015-07-162015-07-172015-07-182015-07-192015-07-202015-07-212015-07-222015-07-232015-07-242015-07-252015-07-262015-07-272015-07-282015-07-292015-07-302015-07-312015-08-012015-08-022015-08-032015-08-042015-08-052015-08-062015-08-072015-08-082015-08-092015-08-102015-08-112015-08-122015-08-132015-08-142015-08-152015-08-162015-08-172015-08-182015-08-192015-08-202015-08-212015-08-222015-08-232015-08-242015-08-252015-08-262015-08-272015-08-282015-08-292015-08-302015-08-312015-09-012015-09-022015-09-032015-09-042015-09-052015-09-062015-09-072015-09-082015-09-092015-09-102015-09-112015-09-122015-09-132015-09-142015-09-152015-09-162015-09-172015-09-182015-09-192015-09-202015-09-212015-09-222015-09-232015-09-242015-09-252015-09-262015-09-272015-09-282015-09-292015-09-302015-10-012015-10-022015-10-032015-10-042015-10-052015-10-062015-10-072015-10-082015-10-092015-10-102015-10-112015-10-122015-10-132015-10-142015-10-152015-10-162015-10-172015-10-182015-10-192015-10-202015-10-212015-10-222015-10-232015-10-242015-10-252015-10-262015-10-272015-10-282015-10-292015-10-302015-10-312015-11-012015-11-022015-11-032015-11-042015-11-052015-11-062015-11-072015-11-082015-11-092015-11-102015-11-112015-11-122015-11-132015-11-142015-11-152015-11-162015-11-172015-11-182015-11-192015-11-202015-11-212015-11-222015-11-232015-11-242015-11-252015-11-262015-11-272015-11-282015-11-292015-11-302015-12-012015-12-022015-12-032015-12-042015-12-052015-12-062015-12-072015-12-082015-12-092015-12-102015-12-112015-12-122015-12-132015-12-142015-12-152015-12-162015-12-172015-12-182015-12-192015-12-202015-12-212015-12-222015-12-232015-12-242015-12-252015-12-262015-12-272015-12-282015-12-292015-12-302015-12-312016-01-012016-01-022016-01-032016-01-042016-01-052016-01-062016-01-072016-01-082016-01-092016-01-102016-01-112016-01-122016-01-132016-01-142016-01-152016-01-162016-01-172016-01-182016-01-192016-01-202016-01-212016-01-222016-01-232016-01-242016-01-252016-01-262016-01-272016-01-282016-01-292016-01-302016-01-312016-02-012016-02-022016-02-032016-02-042016-02-052016-02-062016-02-072016-02-082016-02-092016-02-102016-02-112016-02-122016-02-132016-02-142016-02-152016-02-162016-02-172016-02-182016-02-192016-02-202016-02-212016-02-222016-02-232016-02-242016-02-252016-02-262016-02-272016-02-282016-02-292016-03-012016-03-022016-03-032016-03-042016-03-052016-03-062016-03-072016-03-082016-03-092016-03-102016-03-112016-03-122016-03-132016-03-142016-03-152016-03-162016-03-172016-03-182016-03-192016-03-202016-03-212016-03-222016-03-232016-03-242016-03-252016-03-262016-03-272016-03-282016-03-292016-03-302016-03-312016-04-012016-04-022016-04-032016-04-042016-04-052016-04-062016-04-072016-04-082016-04-092016-04-102016-04-112016-04-122016-04-132016-04-142016-04-152016-04-162016-04-172016-04-182016-04-192016-04-202016-04-212016-04-222016-04-232016-04-242016-04-252016-04-262016-04-272016-04-282016-04-292016-04-302016-05-012016-05-022016-05-032016-05-042016-05-052016-05-062016-05-072016-05-082016-05-092016-05-102016-05-112016-05-122016-05-132016-05-142016-05-152016-05-162016-05-172016-05-182016-05-192016-05-202016-05-212016-05-222016-05-232016-05-242016-05-252016-05-262016-05-272016-05-282016-05-292016-05-302016-05-312016-06-012016-06-022016-06-032016-06-042016-06-052016-06-062016-06-072016-06-082016-06-092016-06-102016-06-112016-06-122016-06-132016-06-142016-06-152016-06-162016-06-172016-06-182016-06-192016-06-202016-06-212016-06-222016-06-232016-06-242016-06-252016-06-262016-06-272016-06-282016-06-292016-06-302016-07-012016-07-022016-07-032016-07-042016-07-052016-07-062016-07-072016-07-082016-07-092016-07-102016-07-112016-07-122016-07-132016-07-142016-07-152016-07-162016-07-172016-07-182016-07-192016-07-202016-07-212016-07-222016-07-232016-07-242016-07-252016-07-262016-07-272016-07-282016-07-292016-07-302016-07-312016-08-012016-08-022016-08-032016-08-042016-08-052016-08-062016-08-072016-08-082016-08-092016-08-102016-08-112016-08-122016-08-132016-08-142016-08-152016-08-162016-08-172016-08-182016-08-192016-08-202016-08-212016-08-222016-08-232016-08-242016-08-252016-08-262016-08-272016-08-282016-08-292016-08-302016-08-312016-09-012016-09-022016-09-032016-09-042016-09-052016-09-062016-09-072016-09-082016-09-092016-09-102016-09-112016-09-122016-09-132016-09-142016-09-152016-09-162016-09-172016-09-182016-09-192016-09-202016-09-212016-09-222016-09-232016-09-242016-09-252016-09-262016-09-272016-09-282016-09-292016-09-302016-10-012016-10-022016-10-032016-10-042016-10-052016-10-062016-10-072016-10-082016-10-092016-10-102016-10-112016-10-122016-10-132016-10-142016-10-152016-10-162016-10-172016-10-182016-10-192016-10-202016-10-212016-10-222016-10-232016-10-242016-10-252016-10-262016-10-272016-10-282016-10-292016-10-302016-10-312016-11-012016-11-022016-11-032016-11-042016-11-052016-11-062016-11-072016-11-082016-11-092016-11-102016-11-112016-11-122016-11-132016-11-142016-11-152016-11-162016-11-172016-11-182016-11-192016-11-202016-11-212016-11-222016-11-232016-11-242016-11-252016-11-262016-11-272016-11-282016-11-292016-11-302016-12-012016-12-022016-12-032016-12-042016-12-052016-12-062016-12-072016-12-082016-12-092016-12-102016-12-112016-12-122016-12-132016-12-142016-12-152016-12-162016-12-172016-12-182016-12-192016-12-202016-12-212016-12-222016-12-232016-12-242016-12-252016-12-262016-12-272016-12-282016-12-292016-12-302016-12-312017-01-012017-01-022017-01-032017-01-042017-01-052017-01-062017-01-072017-01-082017-01-092017-01-102017-01-112017-01-122017-01-132017-01-142017-01-152017-01-162017-01-172017-01-182017-01-192017-01-202017-01-212017-01-222017-01-232017-01-242017-01-252017-01-262017-01-272017-01-282017-01-292017-01-302017-01-312017-02-012017-02-022017-02-032017-02-042017-02-052017-02-062017-02-072017-02-082017-02-092017-02-102017-02-112017-02-122017-02-132017-02-142017-02-152017-02-162017-02-172017-02-182017-02-192017-02-202017-02-212017-02-222017-02-232017-02-242017-02-252017-02-262017-02-272017-02-282017-03-012017-03-022017-03-032017-03-042017-03-052017-03-062017-03-072017-03-082017-03-092017-03-102017-03-112017-03-122017-03-132017-03-142017-03-152017-03-162017-03-172017-03-182017-03-192017-03-202017-03-212017-03-222017-03-232017-03-242017-03-252017-03-262017-03-272017-03-282017-03-292017-03-302017-03-312017-04-012017-04-022017-04-032017-04-042017-04-052017-04-062017-04-072017-04-082017-04-092017-04-102017-04-112017-04-122017-04-132017-04-142017-04-152017-04-162017-04-172017-04-182017-04-192017-04-202017-04-212017-04-222017-04-232017-04-242017-04-252017-04-262017-04-272017-04-282017-04-292017-04-302017-05-012017-05-022017-05-032017-05-042017-05-052017-05-062017-05-072017-05-082017-05-092017-05-102017-05-112017-05-122017-05-132017-05-142017-05-152017-05-162017-05-172017-05-182017-05-192017-05-202017-05-212017-05-222017-05-232017-05-242017-05-252017-05-262017-05-272017-05-282017-05-292017-05-302017-05-312017-06-012017-06-022017-06-032017-06-042017-06-052017-06-062017-06-072017-06-082017-06-092017-06-102017-06-112017-06-122017-06-132017-06-142017-06-152017-06-162017-06-172017-06-182017-06-192017-06-202017-06-212017-06-222017-06-232017-06-242017-06-252017-06-262017-06-272017-06-282017-06-292017-06-302017-07-012017-07-022017-07-032017-07-042017-07-052017-07-062017-07-072017-07-082017-07-092017-07-102017-07-112017-07-122017-07-132017-07-142017-07-152017-07-162017-07-172017-07-182017-07-192017-07-202017-07-212017-07-222017-07-232017-07-242017-07-252017-07-262017-07-272017-07-282017-07-292017-07-302017-07-312017-08-012017-08-022017-08-032017-08-042017-08-052017-08-062017-08-072017-08-082017-08-092017-08-102017-08-112017-08-122017-08-132017-08-142017-08-152017-08-162017-08-172017-08-182017-08-192017-08-202017-08-212017-08-222017-08-232017-08-242017-08-252017-08-262017-08-272017-08-282017-08-292017-08-302017-08-312017-09-012017-09-022017-09-032017-09-042017-09-052017-09-062017-09-072017-09-082017-09-092017-09-102017-09-112017-09-122017-09-132017-09-142017-09-152017-09-162017-09-172017-09-182017-09-192017-09-202017-09-212017-09-222017-09-232017-09-242017-09-252017-09-262017-09-272017-09-282017-09-292017-09-302017-10-012017-10-022017-10-032017-10-042017-10-052017-10-062017-10-072017-10-082017-10-092017-10-102017-10-112017-10-122017-10-132017-10-142017-10-152017-10-162017-10-172017-10-182017-10-192017-10-202017-10-212017-10-222017-10-232017-10-242017-10-252017-10-262017-10-272017-10-282017-10-292017-10-302017-10-312017-11-012017-11-022017-11-032017-11-042017-11-052017-11-062017-11-072017-11-082017-11-092017-11-102017-11-112017-11-122017-11-132017-11-142017-11-152017-11-162017-11-172017-11-182017-11-192017-11-202017-11-212017-11-222017-11-232017-11-242017-11-252017-11-262017-11-272017-11-282017-11-292017-11-302017-12-012017-12-022017-12-032017-12-042017-12-052017-12-062017-12-072017-12-082017-12-092017-12-102017-12-112017-12-122017-12-132017-12-142017-12-152017-12-162017-12-172017-12-182017-12-192017-12-202017-12-212017-12-222017-12-232017-12-242017-12-252017-12-262017-12-272017-12-282017-12-292017-12-302017-12-312018-01-012018-01-022018-01-032018-01-042018-01-052018-01-062018-01-072018-01-082018-01-092018-01-102018-01-112018-01-122018-01-132018-01-142018-01-152018-01-162018-01-172018-01-182018-01-192018-01-202018-01-212018-01-222018-01-232018-01-242018-01-252018-01-262018-01-272018-01-282018-01-292018-01-302018-01-312018-02-012018-02-022018-02-032018-02-042018-02-052018-02-062018-02-072018-02-082018-02-092018-02-102018-02-112018-02-122018-02-132018-02-142018-02-152018-02-162018-02-172018-02-182018-02-192018-02-202018-02-212018-02-222018-02-232018-02-242018-02-252018-02-262018-02-272018-02-282018-03-012018-03-022018-03-032018-03-042018-03-052018-03-062018-03-072018-03-082018-03-092018-03-102018-03-112018-03-122018-03-132018-03-142018-03-152018-03-162018-03-172018-03-182018-03-192018-03-202018-03-212018-03-222018-03-232018-03-242018-03-252018-03-262018-03-272018-03-282018-03-292018-03-302018-03-312018-04-012018-04-022018-04-032018-04-042018-04-052018-04-062018-04-072018-04-082018-04-092018-04-102018-04-112018-04-122018-04-132018-04-142018-04-152018-04-162018-04-172018-04-182018-04-192018-04-202018-04-212018-04-222018-04-232018-04-242018-04-252018-04-262018-04-272018-04-282018-04-292018-04-302018-05-012018-05-022018-05-032018-05-042018-05-052018-05-062018-05-072018-05-082018-05-092018-05-102018-05-112018-05-122018-05-132018-05-142018-05-152018-05-162018-05-172018-05-182018-05-192018-05-202018-05-212018-05-222018-05-232018-05-242018-05-252018-05-262018-05-272018-05-282018-05-292018-05-302018-05-312018-06-012018-06-022018-06-032018-06-042018-06-052018-06-062018-06-072018-06-082018-06-092018-06-102018-06-112018-06-122018-06-132018-06-142018-06-152018-06-162018-06-172018-06-182018-06-192018-06-202018-06-212018-06-222018-06-232018-06-242018-06-252018-06-262018-06-272018-06-282018-06-292018-06-302018-07-012018-07-022018-07-032018-07-042018-07-052018-07-062018-07-072018-07-082018-07-092018-07-102018-07-112018-07-122018-07-132018-07-142018-07-152018-07-162018-07-172018-07-182018-07-192018-07-202018-07-212018-07-222018-07-232018-07-242018-07-252018-07-262018-07-272018-07-282018-07-292018-07-302018-07-312018-08-012018-08-022018-08-032018-08-042018-08-052018-08-062018-08-072018-08-082018-08-092018-08-102018-08-112018-08-122018-08-132018-08-142018-08-152018-08-162018-08-172018-08-182018-08-192018-08-202018-08-212018-08-222018-08-232018-08-242018-08-252018-08-262018-08-272018-08-282018-08-292018-08-302018-08-312018-09-012018-09-022018-09-032018-09-042018-09-052018-09-062018-09-072018-09-082018-09-092018-09-102018-09-112018-09-122018-09-132018-09-142018-09-152018-09-162018-09-172018-09-182018-09-192018-09-202018-09-212018-09-222018-09-232018-09-242018-09-252018-09-262018-09-272018-09-282018-09-292018-09-302018-10-012018-10-022018-10-032018-10-042018-10-052018-10-062018-10-072018-10-082018-10-092018-10-102018-10-112018-10-122018-10-132018-10-142018-10-152018-10-162018-10-172018-10-182018-10-192018-10-202018-10-212018-10-222018-10-232018-10-242018-10-252018-10-262018-10-272018-10-282018-10-292018-10-302018-10-312018-11-012018-11-022018-11-032018-11-042018-11-052018-11-062018-11-072018-11-082018-11-092018-11-102018-11-112018-11-122018-11-132018-11-142018-11-152018-11-162018-11-172018-11-182018-11-192018-11-202018-11-212018-11-222018-11-232018-11-242018-11-252018-11-262018-11-272018-11-282018-11-292018-11-302018-12-012018-12-022018-12-032018-12-042018-12-052018-12-062018-12-072018-12-082018-12-092018-12-102018-12-112018-12-122018-12-132018-12-142018-12-152018-12-162018-12-172018-12-182018-12-192018-12-202018-12-212018-12-222018-12-232018-12-242018-12-252018-12-262018-12-272018-12-282018-12-292018-12-302018-12-312019-01-012019-01-022019-01-032019-01-042019-01-052019-01-062019-01-072019-01-082019-01-092019-01-102019-01-112019-01-122019-01-132019-01-142019-01-152019-01-162019-01-172019-01-182019-01-192019-01-202019-01-212019-01-222019-01-232019-01-242019-01-252019-01-262019-01-272019-01-282019-01-292019-01-302019-01-312019-02-012019-02-022019-02-032019-02-042019-02-052019-02-062019-02-072019-02-082019-02-092019-02-102019-02-112019-02-122019-02-132019-02-142019-02-152019-02-162019-02-172019-02-182019-02-192019-02-202019-02-212019-02-222019-02-232019-02-242019-02-252019-02-262019-02-272019-02-282019-03-012019-03-022019-03-032019-03-042019-03-052019-03-062019-03-072019-03-082019-03-092019-03-102019-03-112019-03-122019-03-132019-03-142019-03-152019-03-162019-03-172019-03-182019-03-192019-03-202019-03-212019-03-222019-03-232019-03-242019-03-252019-03-262019-03-272019-03-282019-03-292019-03-302019-03-312019-04-012019-04-022019-04-032019-04-042019-04-052019-04-062019-04-072019-04-082019-04-092019-04-102019-04-112019-04-122019-04-132019-04-142019-04-152019-04-162019-04-172019-04-182019-04-192019-04-202019-04-212019-04-222019-04-232019-04-242019-04-252019-04-262019-04-272019-04-282019-04-292019-04-302019-05-012019-05-022019-05-032019-05-042019-05-052019-05-062019-05-072019-05-082019-05-092019-05-102019-05-112019-05-122019-05-132019-05-142019-05-152019-05-162019-05-172019-05-182019-05-192019-05-202019-05-212019-05-222019-05-232019-05-242019-05-252019-05-262019-05-272019-05-282019-05-292019-05-302019-05-312019-06-012019-06-022019-06-032019-06-042019-06-052019-06-062019-06-072019-06-082019-06-092019-06-102019-06-112019-06-122019-06-132019-06-142019-06-152019-06-162019-06-172019-06-182019-06-192019-06-202019-06-212019-06-222019-06-232019-06-242019-06-252019-06-262019-06-272019-06-282019-06-292019-06-302019-07-012019-07-022019-07-032019-07-042019-07-052019-07-062019-07-072019-07-082019-07-092019-07-102019-07-112019-07-122019-07-132019-07-142019-07-152019-07-162019-07-172019-07-182019-07-192019-07-202019-07-212019-07-222019-07-232019-07-242019-07-252019-07-262019-07-272019-07-282019-07-292019-07-302019-07-312019-08-012019-08-022019-08-032019-08-042019-08-052019-08-062019-08-072019-08-082019-08-092019-08-102019-08-112019-08-122019-08-132019-08-142019-08-152019-08-162019-08-172019-08-182019-08-192019-08-202019-08-212019-08-222019-08-232019-08-242019-08-252019-08-262019-08-272019-08-282019-08-292019-08-302019-08-312019-09-012019-09-022019-09-032019-09-042019-09-052019-09-062019-09-072019-09-082019-09-092019-09-102019-09-112019-09-122019-09-132019-09-142019-09-152019-09-162019-09-172019-09-182019-09-192019-09-202019-09-212019-09-222019-09-232019-09-242019-09-252019-09-262019-09-272019-09-282019-09-292019-09-302019-10-012019-10-022019-10-032019-10-042019-10-052019-10-062019-10-072019-10-082019-10-092019-10-102019-10-112019-10-122019-10-132019-10-142019-10-152019-10-162019-10-172019-10-182019-10-192019-10-202019-10-212019-10-222019-10-232019-10-242019-10-252019-10-262019-10-272019-10-282019-10-292019-10-302019-10-312019-11-012019-11-022019-11-032019-11-042019-11-052019-11-062019-11-072019-11-082019-11-092019-11-102019-11-112019-11-122019-11-132019-11-142019-11-152019-11-162019-11-172019-11-182019-11-192019-11-202019-11-212019-11-222019-11-232019-11-242019-11-252019-11-262019-11-272019-11-282019-11-292019-11-302019-12-012019-12-022019-12-032019-12-042019-12-052019-12-062019-12-072019-12-082019-12-092019-12-102019-12-112019-12-122019-12-132019-12-142019-12-152019-12-162019-12-172019-12-182019-12-192019-12-202019-12-212019-12-222019-12-232019-12-242019-12-252019-12-262019-12-272019-12-282019-12-292019-12-302019-12-312020-01-012020-01-022020-01-032020-01-042020-01-052020-01-062020-01-072020-01-082020-01-092020-01-102020-01-112020-01-122020-01-132020-01-142020-01-152020-01-162020-01-172020-01-182020-01-192020-01-202020-01-212020-01-222020-01-232020-01-242020-01-252020-01-262020-01-272020-01-282020-01-292020-01-302020-01-312020-02-012020-02-022020-02-032020-02-042020-02-052020-02-062020-02-072020-02-082020-02-092020-02-102020-02-112020-02-122020-02-132020-02-142020-02-152020-02-162020-02-172020-02-182020-02-192020-02-202020-02-212020-02-222020-02-232020-02-242020-02-252020-02-262020-02-272020-02-282020-02-292020-03-012020-03-022020-03-032020-03-042020-03-052020-03-062020-03-072020-03-082020-03-092020-03-102020-03-112020-03-122020-03-132020-03-142020-03-152020-03-162020-03-172020-03-182020-03-192020-03-202020-03-212020-03-222020-03-232020-03-242020-03-252020-03-262020-03-272020-03-282020-03-292020-03-302020-03-312020-04-012020-04-022020-04-032020-04-042020-04-052020-04-062020-04-072020-04-082020-04-092020-04-102020-04-112020-04-122020-04-132020-04-142020-04-152020-04-162020-04-172020-04-182020-04-192020-04-202020-04-212020-04-222020-04-232020-04-242020-04-252020-04-262020-04-272020-04-282020-04-292020-04-302020-05-012020-05-022020-05-032020-05-042020-05-052020-05-062020-05-072020-05-082020-05-092020-05-102020-05-112020-05-122020-05-132020-05-142020-05-152020-05-162020-05-172020-05-182020-05-192020-05-202020-05-212020-05-222020-05-232020-05-242020-05-252020-05-262020-05-272020-05-282020-05-292020-05-302020-05-312020-06-012020-06-022020-06-032020-06-042020-06-052020-06-062020-06-072020-06-082020-06-092020-06-102020-06-112020-06-122020-06-132020-06-142020-06-152020-06-162020-06-172020-06-182020-06-192020-06-202020-06-212020-06-222020-06-232020-06-242020-06-252020-06-262020-06-272020-06-282020-06-292020-06-302020-07-012020-07-022020-07-032020-07-042020-07-052020-07-062020-07-072020-07-082020-07-092020-07-102020-07-112020-07-122020-07-132020-07-142020-07-152020-07-162020-07-172020-07-182020-07-192020-07-202020-07-212020-07-222020-07-232020-07-242020-07-252020-07-262020-07-272020-07-282020-07-292020-07-302020-07-31'] to numeric",
          "output_type": "error",
          "traceback": [
            "\u001b[1;31m---------------------------------------------------------------------------\u001b[0m",
            "\u001b[1;31mTypeError\u001b[0m                                 Traceback (most recent call last)",
            "\u001b[1;32mc:\\sqlite\\mysql\\code\\Code11\\1023_file\\1023_판다스_수업화일.ipynb 셀 34\u001b[0m line \u001b[0;36m2\n\u001b[0;32m      <a href='vscode-notebook-cell:/c%3A/sqlite/mysql/code/Code11/1023_file/1023_%ED%8C%90%EB%8B%A4%EC%8A%A4_%EC%88%98%EC%97%85%ED%99%94%EC%9D%BC.ipynb#X45sZmlsZQ%3D%3D?line=0'>1</a>\u001b[0m \u001b[39m# 결측 데이터 대체\u001b[39;00m\n\u001b[1;32m----> <a href='vscode-notebook-cell:/c%3A/sqlite/mysql/code/Code11/1023_file/1023_%ED%8C%90%EB%8B%A4%EC%8A%A4_%EC%88%98%EC%97%85%ED%99%94%EC%9D%BC.ipynb#X45sZmlsZQ%3D%3D?line=1'>2</a>\u001b[0m df\u001b[39m.\u001b[39mfillna(df\u001b[39m.\u001b[39;49mmean(),inplace\u001b[39m=\u001b[39m\u001b[39mTrue\u001b[39;00m)\n",
            "File \u001b[1;32m~\\AppData\\Local\\Packages\\PythonSoftwareFoundation.Python.3.11_qbz5n2kfra8p0\\LocalCache\\local-packages\\Python311\\site-packages\\pandas\\core\\frame.py:11338\u001b[0m, in \u001b[0;36mDataFrame.mean\u001b[1;34m(self, axis, skipna, numeric_only, **kwargs)\u001b[0m\n\u001b[0;32m  11330\u001b[0m \u001b[39m@doc\u001b[39m(make_doc(\u001b[39m\"\u001b[39m\u001b[39mmean\u001b[39m\u001b[39m\"\u001b[39m, ndim\u001b[39m=\u001b[39m\u001b[39m2\u001b[39m))\n\u001b[0;32m  11331\u001b[0m \u001b[39mdef\u001b[39;00m \u001b[39mmean\u001b[39m(\n\u001b[0;32m  11332\u001b[0m     \u001b[39mself\u001b[39m,\n\u001b[1;32m   (...)\u001b[0m\n\u001b[0;32m  11336\u001b[0m     \u001b[39m*\u001b[39m\u001b[39m*\u001b[39mkwargs,\n\u001b[0;32m  11337\u001b[0m ):\n\u001b[1;32m> 11338\u001b[0m     result \u001b[39m=\u001b[39m \u001b[39msuper\u001b[39;49m()\u001b[39m.\u001b[39;49mmean(axis, skipna, numeric_only, \u001b[39m*\u001b[39;49m\u001b[39m*\u001b[39;49mkwargs)\n\u001b[0;32m  11339\u001b[0m     \u001b[39mif\u001b[39;00m \u001b[39misinstance\u001b[39m(result, Series):\n\u001b[0;32m  11340\u001b[0m         result \u001b[39m=\u001b[39m result\u001b[39m.\u001b[39m__finalize__(\u001b[39mself\u001b[39m, method\u001b[39m=\u001b[39m\u001b[39m\"\u001b[39m\u001b[39mmean\u001b[39m\u001b[39m\"\u001b[39m)\n",
            "File \u001b[1;32m~\\AppData\\Local\\Packages\\PythonSoftwareFoundation.Python.3.11_qbz5n2kfra8p0\\LocalCache\\local-packages\\Python311\\site-packages\\pandas\\core\\generic.py:11978\u001b[0m, in \u001b[0;36mNDFrame.mean\u001b[1;34m(self, axis, skipna, numeric_only, **kwargs)\u001b[0m\n\u001b[0;32m  11971\u001b[0m \u001b[39mdef\u001b[39;00m \u001b[39mmean\u001b[39m(\n\u001b[0;32m  11972\u001b[0m     \u001b[39mself\u001b[39m,\n\u001b[0;32m  11973\u001b[0m     axis: Axis \u001b[39m|\u001b[39m \u001b[39mNone\u001b[39;00m \u001b[39m=\u001b[39m \u001b[39m0\u001b[39m,\n\u001b[1;32m   (...)\u001b[0m\n\u001b[0;32m  11976\u001b[0m     \u001b[39m*\u001b[39m\u001b[39m*\u001b[39mkwargs,\n\u001b[0;32m  11977\u001b[0m ) \u001b[39m-\u001b[39m\u001b[39m>\u001b[39m Series \u001b[39m|\u001b[39m \u001b[39mfloat\u001b[39m:\n\u001b[1;32m> 11978\u001b[0m     \u001b[39mreturn\u001b[39;00m \u001b[39mself\u001b[39;49m\u001b[39m.\u001b[39;49m_stat_function(\n\u001b[0;32m  11979\u001b[0m         \u001b[39m\"\u001b[39;49m\u001b[39mmean\u001b[39;49m\u001b[39m\"\u001b[39;49m, nanops\u001b[39m.\u001b[39;49mnanmean, axis, skipna, numeric_only, \u001b[39m*\u001b[39;49m\u001b[39m*\u001b[39;49mkwargs\n\u001b[0;32m  11980\u001b[0m     )\n",
            "File \u001b[1;32m~\\AppData\\Local\\Packages\\PythonSoftwareFoundation.Python.3.11_qbz5n2kfra8p0\\LocalCache\\local-packages\\Python311\\site-packages\\pandas\\core\\generic.py:11935\u001b[0m, in \u001b[0;36mNDFrame._stat_function\u001b[1;34m(self, name, func, axis, skipna, numeric_only, **kwargs)\u001b[0m\n\u001b[0;32m  11931\u001b[0m nv\u001b[39m.\u001b[39mvalidate_func(name, (), kwargs)\n\u001b[0;32m  11933\u001b[0m validate_bool_kwarg(skipna, \u001b[39m\"\u001b[39m\u001b[39mskipna\u001b[39m\u001b[39m\"\u001b[39m, none_allowed\u001b[39m=\u001b[39m\u001b[39mFalse\u001b[39;00m)\n\u001b[1;32m> 11935\u001b[0m \u001b[39mreturn\u001b[39;00m \u001b[39mself\u001b[39;49m\u001b[39m.\u001b[39;49m_reduce(\n\u001b[0;32m  11936\u001b[0m     func, name\u001b[39m=\u001b[39;49mname, axis\u001b[39m=\u001b[39;49maxis, skipna\u001b[39m=\u001b[39;49mskipna, numeric_only\u001b[39m=\u001b[39;49mnumeric_only\n\u001b[0;32m  11937\u001b[0m )\n",
            "File \u001b[1;32m~\\AppData\\Local\\Packages\\PythonSoftwareFoundation.Python.3.11_qbz5n2kfra8p0\\LocalCache\\local-packages\\Python311\\site-packages\\pandas\\core\\frame.py:11207\u001b[0m, in \u001b[0;36mDataFrame._reduce\u001b[1;34m(self, op, name, axis, skipna, numeric_only, filter_type, **kwds)\u001b[0m\n\u001b[0;32m  11203\u001b[0m     df \u001b[39m=\u001b[39m df\u001b[39m.\u001b[39mT\n\u001b[0;32m  11205\u001b[0m \u001b[39m# After possibly _get_data and transposing, we are now in the\u001b[39;00m\n\u001b[0;32m  11206\u001b[0m \u001b[39m#  simple case where we can use BlockManager.reduce\u001b[39;00m\n\u001b[1;32m> 11207\u001b[0m res \u001b[39m=\u001b[39m df\u001b[39m.\u001b[39;49m_mgr\u001b[39m.\u001b[39;49mreduce(blk_func)\n\u001b[0;32m  11208\u001b[0m out \u001b[39m=\u001b[39m df\u001b[39m.\u001b[39m_constructor_from_mgr(res, axes\u001b[39m=\u001b[39mres\u001b[39m.\u001b[39maxes)\u001b[39m.\u001b[39miloc[\u001b[39m0\u001b[39m]\n\u001b[0;32m  11209\u001b[0m \u001b[39mif\u001b[39;00m out_dtype \u001b[39mis\u001b[39;00m \u001b[39mnot\u001b[39;00m \u001b[39mNone\u001b[39;00m \u001b[39mand\u001b[39;00m out\u001b[39m.\u001b[39mdtype \u001b[39m!=\u001b[39m \u001b[39m\"\u001b[39m\u001b[39mboolean\u001b[39m\u001b[39m\"\u001b[39m:\n",
            "File \u001b[1;32m~\\AppData\\Local\\Packages\\PythonSoftwareFoundation.Python.3.11_qbz5n2kfra8p0\\LocalCache\\local-packages\\Python311\\site-packages\\pandas\\core\\internals\\managers.py:1459\u001b[0m, in \u001b[0;36mBlockManager.reduce\u001b[1;34m(self, func)\u001b[0m\n\u001b[0;32m   1457\u001b[0m res_blocks: \u001b[39mlist\u001b[39m[Block] \u001b[39m=\u001b[39m []\n\u001b[0;32m   1458\u001b[0m \u001b[39mfor\u001b[39;00m blk \u001b[39min\u001b[39;00m \u001b[39mself\u001b[39m\u001b[39m.\u001b[39mblocks:\n\u001b[1;32m-> 1459\u001b[0m     nbs \u001b[39m=\u001b[39m blk\u001b[39m.\u001b[39;49mreduce(func)\n\u001b[0;32m   1460\u001b[0m     res_blocks\u001b[39m.\u001b[39mextend(nbs)\n\u001b[0;32m   1462\u001b[0m index \u001b[39m=\u001b[39m Index([\u001b[39mNone\u001b[39;00m])  \u001b[39m# placeholder\u001b[39;00m\n",
            "File \u001b[1;32m~\\AppData\\Local\\Packages\\PythonSoftwareFoundation.Python.3.11_qbz5n2kfra8p0\\LocalCache\\local-packages\\Python311\\site-packages\\pandas\\core\\internals\\blocks.py:377\u001b[0m, in \u001b[0;36mBlock.reduce\u001b[1;34m(self, func)\u001b[0m\n\u001b[0;32m    371\u001b[0m \u001b[39m@final\u001b[39m\n\u001b[0;32m    372\u001b[0m \u001b[39mdef\u001b[39;00m \u001b[39mreduce\u001b[39m(\u001b[39mself\u001b[39m, func) \u001b[39m-\u001b[39m\u001b[39m>\u001b[39m \u001b[39mlist\u001b[39m[Block]:\n\u001b[0;32m    373\u001b[0m     \u001b[39m# We will apply the function and reshape the result into a single-row\u001b[39;00m\n\u001b[0;32m    374\u001b[0m     \u001b[39m#  Block with the same mgr_locs; squeezing will be done at a higher level\u001b[39;00m\n\u001b[0;32m    375\u001b[0m     \u001b[39massert\u001b[39;00m \u001b[39mself\u001b[39m\u001b[39m.\u001b[39mndim \u001b[39m==\u001b[39m \u001b[39m2\u001b[39m\n\u001b[1;32m--> 377\u001b[0m     result \u001b[39m=\u001b[39m func(\u001b[39mself\u001b[39;49m\u001b[39m.\u001b[39;49mvalues)\n\u001b[0;32m    379\u001b[0m     \u001b[39mif\u001b[39;00m \u001b[39mself\u001b[39m\u001b[39m.\u001b[39mvalues\u001b[39m.\u001b[39mndim \u001b[39m==\u001b[39m \u001b[39m1\u001b[39m:\n\u001b[0;32m    380\u001b[0m         res_values \u001b[39m=\u001b[39m result\n",
            "File \u001b[1;32m~\\AppData\\Local\\Packages\\PythonSoftwareFoundation.Python.3.11_qbz5n2kfra8p0\\LocalCache\\local-packages\\Python311\\site-packages\\pandas\\core\\frame.py:11139\u001b[0m, in \u001b[0;36mDataFrame._reduce.<locals>.blk_func\u001b[1;34m(values, axis)\u001b[0m\n\u001b[0;32m  11137\u001b[0m         \u001b[39mreturn\u001b[39;00m np\u001b[39m.\u001b[39marray([result])\n\u001b[0;32m  11138\u001b[0m \u001b[39melse\u001b[39;00m:\n\u001b[1;32m> 11139\u001b[0m     \u001b[39mreturn\u001b[39;00m op(values, axis\u001b[39m=\u001b[39;49maxis, skipna\u001b[39m=\u001b[39;49mskipna, \u001b[39m*\u001b[39;49m\u001b[39m*\u001b[39;49mkwds)\n",
            "File \u001b[1;32m~\\AppData\\Local\\Packages\\PythonSoftwareFoundation.Python.3.11_qbz5n2kfra8p0\\LocalCache\\local-packages\\Python311\\site-packages\\pandas\\core\\nanops.py:147\u001b[0m, in \u001b[0;36mbottleneck_switch.__call__.<locals>.f\u001b[1;34m(values, axis, skipna, **kwds)\u001b[0m\n\u001b[0;32m    145\u001b[0m         result \u001b[39m=\u001b[39m alt(values, axis\u001b[39m=\u001b[39maxis, skipna\u001b[39m=\u001b[39mskipna, \u001b[39m*\u001b[39m\u001b[39m*\u001b[39mkwds)\n\u001b[0;32m    146\u001b[0m \u001b[39melse\u001b[39;00m:\n\u001b[1;32m--> 147\u001b[0m     result \u001b[39m=\u001b[39m alt(values, axis\u001b[39m=\u001b[39;49maxis, skipna\u001b[39m=\u001b[39;49mskipna, \u001b[39m*\u001b[39;49m\u001b[39m*\u001b[39;49mkwds)\n\u001b[0;32m    149\u001b[0m \u001b[39mreturn\u001b[39;00m result\n",
            "File \u001b[1;32m~\\AppData\\Local\\Packages\\PythonSoftwareFoundation.Python.3.11_qbz5n2kfra8p0\\LocalCache\\local-packages\\Python311\\site-packages\\pandas\\core\\nanops.py:404\u001b[0m, in \u001b[0;36m_datetimelike_compat.<locals>.new_func\u001b[1;34m(values, axis, skipna, mask, **kwargs)\u001b[0m\n\u001b[0;32m    401\u001b[0m \u001b[39mif\u001b[39;00m datetimelike \u001b[39mand\u001b[39;00m mask \u001b[39mis\u001b[39;00m \u001b[39mNone\u001b[39;00m:\n\u001b[0;32m    402\u001b[0m     mask \u001b[39m=\u001b[39m isna(values)\n\u001b[1;32m--> 404\u001b[0m result \u001b[39m=\u001b[39m func(values, axis\u001b[39m=\u001b[39;49maxis, skipna\u001b[39m=\u001b[39;49mskipna, mask\u001b[39m=\u001b[39;49mmask, \u001b[39m*\u001b[39;49m\u001b[39m*\u001b[39;49mkwargs)\n\u001b[0;32m    406\u001b[0m \u001b[39mif\u001b[39;00m datetimelike:\n\u001b[0;32m    407\u001b[0m     result \u001b[39m=\u001b[39m _wrap_results(result, orig_values\u001b[39m.\u001b[39mdtype, fill_value\u001b[39m=\u001b[39miNaT)\n",
            "File \u001b[1;32m~\\AppData\\Local\\Packages\\PythonSoftwareFoundation.Python.3.11_qbz5n2kfra8p0\\LocalCache\\local-packages\\Python311\\site-packages\\pandas\\core\\nanops.py:720\u001b[0m, in \u001b[0;36mnanmean\u001b[1;34m(values, axis, skipna, mask)\u001b[0m\n\u001b[0;32m    718\u001b[0m count \u001b[39m=\u001b[39m _get_counts(values\u001b[39m.\u001b[39mshape, mask, axis, dtype\u001b[39m=\u001b[39mdtype_count)\n\u001b[0;32m    719\u001b[0m the_sum \u001b[39m=\u001b[39m values\u001b[39m.\u001b[39msum(axis, dtype\u001b[39m=\u001b[39mdtype_sum)\n\u001b[1;32m--> 720\u001b[0m the_sum \u001b[39m=\u001b[39m _ensure_numeric(the_sum)\n\u001b[0;32m    722\u001b[0m \u001b[39mif\u001b[39;00m axis \u001b[39mis\u001b[39;00m \u001b[39mnot\u001b[39;00m \u001b[39mNone\u001b[39;00m \u001b[39mand\u001b[39;00m \u001b[39mgetattr\u001b[39m(the_sum, \u001b[39m\"\u001b[39m\u001b[39mndim\u001b[39m\u001b[39m\"\u001b[39m, \u001b[39mFalse\u001b[39;00m):\n\u001b[0;32m    723\u001b[0m     count \u001b[39m=\u001b[39m cast(np\u001b[39m.\u001b[39mndarray, count)\n",
            "File \u001b[1;32m~\\AppData\\Local\\Packages\\PythonSoftwareFoundation.Python.3.11_qbz5n2kfra8p0\\LocalCache\\local-packages\\Python311\\site-packages\\pandas\\core\\nanops.py:1678\u001b[0m, in \u001b[0;36m_ensure_numeric\u001b[1;34m(x)\u001b[0m\n\u001b[0;32m   1675\u001b[0m inferred \u001b[39m=\u001b[39m lib\u001b[39m.\u001b[39minfer_dtype(x)\n\u001b[0;32m   1676\u001b[0m \u001b[39mif\u001b[39;00m inferred \u001b[39min\u001b[39;00m [\u001b[39m\"\u001b[39m\u001b[39mstring\u001b[39m\u001b[39m\"\u001b[39m, \u001b[39m\"\u001b[39m\u001b[39mmixed\u001b[39m\u001b[39m\"\u001b[39m]:\n\u001b[0;32m   1677\u001b[0m     \u001b[39m# GH#44008, GH#36703 avoid casting e.g. strings to numeric\u001b[39;00m\n\u001b[1;32m-> 1678\u001b[0m     \u001b[39mraise\u001b[39;00m \u001b[39mTypeError\u001b[39;00m(\u001b[39mf\u001b[39m\u001b[39m\"\u001b[39m\u001b[39mCould not convert \u001b[39m\u001b[39m{\u001b[39;00mx\u001b[39m}\u001b[39;00m\u001b[39m to numeric\u001b[39m\u001b[39m\"\u001b[39m)\n\u001b[0;32m   1679\u001b[0m \u001b[39mtry\u001b[39;00m:\n\u001b[0;32m   1680\u001b[0m     x \u001b[39m=\u001b[39m x\u001b[39m.\u001b[39mastype(np\u001b[39m.\u001b[39mcomplex128)\n",
            "\u001b[1;31mTypeError\u001b[0m: Could not convert ['2010-08-012010-08-022010-08-032010-08-042010-08-052010-08-062010-08-072010-08-082010-08-092010-08-102010-08-112010-08-122010-08-132010-08-142010-08-152010-08-162010-08-172010-08-182010-08-192010-08-202010-08-212010-08-222010-08-232010-08-242010-08-252010-08-262010-08-272010-08-282010-08-292010-08-302010-08-312010-09-012010-09-022010-09-032010-09-042010-09-052010-09-062010-09-072010-09-082010-09-092010-09-102010-09-112010-09-122010-09-132010-09-142010-09-152010-09-162010-09-172010-09-182010-09-192010-09-202010-09-212010-09-222010-09-232010-09-242010-09-252010-09-262010-09-272010-09-282010-09-292010-09-302010-10-012010-10-022010-10-032010-10-042010-10-052010-10-062010-10-072010-10-082010-10-092010-10-102010-10-112010-10-122010-10-132010-10-142010-10-152010-10-162010-10-172010-10-182010-10-192010-10-202010-10-212010-10-222010-10-232010-10-242010-10-252010-10-262010-10-272010-10-282010-10-292010-10-302010-10-312010-11-012010-11-022010-11-032010-11-042010-11-052010-11-062010-11-072010-11-082010-11-092010-11-102010-11-112010-11-122010-11-132010-11-142010-11-152010-11-162010-11-172010-11-182010-11-192010-11-202010-11-212010-11-222010-11-232010-11-242010-11-252010-11-262010-11-272010-11-282010-11-292010-11-302010-12-012010-12-022010-12-032010-12-042010-12-052010-12-062010-12-072010-12-082010-12-092010-12-102010-12-112010-12-122010-12-132010-12-142010-12-152010-12-162010-12-172010-12-182010-12-192010-12-202010-12-212010-12-222010-12-232010-12-242010-12-252010-12-262010-12-272010-12-282010-12-292010-12-302010-12-312011-01-012011-01-022011-01-032011-01-042011-01-052011-01-062011-01-072011-01-082011-01-092011-01-102011-01-112011-01-122011-01-132011-01-142011-01-152011-01-162011-01-172011-01-182011-01-192011-01-202011-01-212011-01-222011-01-232011-01-242011-01-252011-01-262011-01-272011-01-282011-01-292011-01-302011-01-312011-02-012011-02-022011-02-032011-02-042011-02-052011-02-062011-02-072011-02-082011-02-092011-02-102011-02-112011-02-122011-02-132011-02-142011-02-152011-02-162011-02-172011-02-182011-02-192011-02-202011-02-212011-02-222011-02-232011-02-242011-02-252011-02-262011-02-272011-02-282011-03-012011-03-022011-03-032011-03-042011-03-052011-03-062011-03-072011-03-082011-03-092011-03-102011-03-112011-03-122011-03-132011-03-142011-03-152011-03-162011-03-172011-03-182011-03-192011-03-202011-03-212011-03-222011-03-232011-03-242011-03-252011-03-262011-03-272011-03-282011-03-292011-03-302011-03-312011-04-012011-04-022011-04-032011-04-042011-04-052011-04-062011-04-072011-04-082011-04-092011-04-102011-04-112011-04-122011-04-132011-04-142011-04-152011-04-162011-04-172011-04-182011-04-192011-04-202011-04-212011-04-222011-04-232011-04-242011-04-252011-04-262011-04-272011-04-282011-04-292011-04-302011-05-012011-05-022011-05-032011-05-042011-05-052011-05-062011-05-072011-05-082011-05-092011-05-102011-05-112011-05-122011-05-132011-05-142011-05-152011-05-162011-05-172011-05-182011-05-192011-05-202011-05-212011-05-222011-05-232011-05-242011-05-252011-05-262011-05-272011-05-282011-05-292011-05-302011-05-312011-06-012011-06-022011-06-032011-06-042011-06-052011-06-062011-06-072011-06-082011-06-092011-06-102011-06-112011-06-122011-06-132011-06-142011-06-152011-06-162011-06-172011-06-182011-06-192011-06-202011-06-212011-06-222011-06-232011-06-242011-06-252011-06-262011-06-272011-06-282011-06-292011-06-302011-07-012011-07-022011-07-032011-07-042011-07-052011-07-062011-07-072011-07-082011-07-092011-07-102011-07-112011-07-122011-07-132011-07-142011-07-152011-07-162011-07-172011-07-182011-07-192011-07-202011-07-212011-07-222011-07-232011-07-242011-07-252011-07-262011-07-272011-07-282011-07-292011-07-302011-07-312011-08-012011-08-022011-08-032011-08-042011-08-052011-08-062011-08-072011-08-082011-08-092011-08-102011-08-112011-08-122011-08-132011-08-142011-08-152011-08-162011-08-172011-08-182011-08-192011-08-202011-08-212011-08-222011-08-232011-08-242011-08-252011-08-262011-08-272011-08-282011-08-292011-08-302011-08-312011-09-012011-09-022011-09-032011-09-042011-09-052011-09-062011-09-072011-09-082011-09-092011-09-102011-09-112011-09-122011-09-132011-09-142011-09-152011-09-162011-09-172011-09-182011-09-192011-09-202011-09-212011-09-222011-09-232011-09-242011-09-252011-09-262011-09-272011-09-282011-09-292011-09-302011-10-012011-10-022011-10-032011-10-042011-10-052011-10-062011-10-072011-10-082011-10-092011-10-102011-10-112011-10-122011-10-132011-10-142011-10-152011-10-162011-10-172011-10-182011-10-192011-10-202011-10-212011-10-222011-10-232011-10-242011-10-252011-10-262011-10-272011-10-282011-10-292011-10-302011-10-312011-11-012011-11-022011-11-032011-11-042011-11-052011-11-062011-11-072011-11-082011-11-092011-11-102011-11-112011-11-122011-11-132011-11-142011-11-152011-11-162011-11-172011-11-182011-11-192011-11-202011-11-212011-11-222011-11-232011-11-242011-11-252011-11-262011-11-272011-11-282011-11-292011-11-302011-12-012011-12-022011-12-032011-12-042011-12-052011-12-062011-12-072011-12-082011-12-092011-12-102011-12-112011-12-122011-12-132011-12-142011-12-152011-12-162011-12-172011-12-182011-12-192011-12-202011-12-212011-12-222011-12-232011-12-242011-12-252011-12-262011-12-272011-12-282011-12-292011-12-302011-12-312012-01-012012-01-022012-01-032012-01-042012-01-052012-01-062012-01-072012-01-082012-01-092012-01-102012-01-112012-01-122012-01-132012-01-142012-01-152012-01-162012-01-172012-01-182012-01-192012-01-202012-01-212012-01-222012-01-232012-01-242012-01-252012-01-262012-01-272012-01-282012-01-292012-01-302012-01-312012-02-012012-02-022012-02-032012-02-042012-02-052012-02-062012-02-072012-02-082012-02-092012-02-102012-02-112012-02-122012-02-132012-02-142012-02-152012-02-162012-02-172012-02-182012-02-192012-02-202012-02-212012-02-222012-02-232012-02-242012-02-252012-02-262012-02-272012-02-282012-02-292012-03-012012-03-022012-03-032012-03-042012-03-052012-03-062012-03-072012-03-082012-03-092012-03-102012-03-112012-03-122012-03-132012-03-142012-03-152012-03-162012-03-172012-03-182012-03-192012-03-202012-03-212012-03-222012-03-232012-03-242012-03-252012-03-262012-03-272012-03-282012-03-292012-03-302012-03-312012-04-012012-04-022012-04-032012-04-042012-04-052012-04-062012-04-072012-04-082012-04-092012-04-102012-04-112012-04-122012-04-132012-04-142012-04-152012-04-162012-04-172012-04-182012-04-192012-04-202012-04-212012-04-222012-04-232012-04-242012-04-252012-04-262012-04-272012-04-282012-04-292012-04-302012-05-012012-05-022012-05-032012-05-042012-05-052012-05-062012-05-072012-05-082012-05-092012-05-102012-05-112012-05-122012-05-132012-05-142012-05-152012-05-162012-05-172012-05-182012-05-192012-05-202012-05-212012-05-222012-05-232012-05-242012-05-252012-05-262012-05-272012-05-282012-05-292012-05-302012-05-312012-06-012012-06-022012-06-032012-06-042012-06-052012-06-062012-06-072012-06-082012-06-092012-06-102012-06-112012-06-122012-06-132012-06-142012-06-152012-06-162012-06-172012-06-182012-06-192012-06-202012-06-212012-06-222012-06-232012-06-242012-06-252012-06-262012-06-272012-06-282012-06-292012-06-302012-07-012012-07-022012-07-032012-07-042012-07-052012-07-062012-07-072012-07-082012-07-092012-07-102012-07-112012-07-122012-07-132012-07-142012-07-152012-07-162012-07-172012-07-182012-07-192012-07-202012-07-212012-07-222012-07-232012-07-242012-07-252012-07-262012-07-272012-07-282012-07-292012-07-302012-07-312012-08-012012-08-022012-08-032012-08-042012-08-052012-08-062012-08-072012-08-082012-08-092012-08-102012-08-112012-08-122012-08-132012-08-142012-08-152012-08-162012-08-172012-08-182012-08-192012-08-202012-08-212012-08-222012-08-232012-08-242012-08-252012-08-262012-08-272012-08-282012-08-292012-08-302012-08-312012-09-012012-09-022012-09-032012-09-042012-09-052012-09-062012-09-072012-09-082012-09-092012-09-102012-09-112012-09-122012-09-132012-09-142012-09-152012-09-162012-09-172012-09-182012-09-192012-09-202012-09-212012-09-222012-09-232012-09-242012-09-252012-09-262012-09-272012-09-282012-09-292012-09-302012-10-012012-10-022012-10-032012-10-042012-10-052012-10-062012-10-072012-10-082012-10-092012-10-102012-10-112012-10-122012-10-132012-10-142012-10-152012-10-162012-10-172012-10-182012-10-192012-10-202012-10-212012-10-222012-10-232012-10-242012-10-252012-10-262012-10-272012-10-282012-10-292012-10-302012-10-312012-11-012012-11-022012-11-032012-11-042012-11-052012-11-062012-11-072012-11-082012-11-092012-11-102012-11-112012-11-122012-11-132012-11-142012-11-152012-11-162012-11-172012-11-182012-11-192012-11-202012-11-212012-11-222012-11-232012-11-242012-11-252012-11-262012-11-272012-11-282012-11-292012-11-302012-12-012012-12-022012-12-032012-12-042012-12-052012-12-062012-12-072012-12-082012-12-092012-12-102012-12-112012-12-122012-12-132012-12-142012-12-152012-12-162012-12-172012-12-182012-12-192012-12-202012-12-212012-12-222012-12-232012-12-242012-12-252012-12-262012-12-272012-12-282012-12-292012-12-302012-12-312013-01-012013-01-022013-01-032013-01-042013-01-052013-01-062013-01-072013-01-082013-01-092013-01-102013-01-112013-01-122013-01-132013-01-142013-01-152013-01-162013-01-172013-01-182013-01-192013-01-202013-01-212013-01-222013-01-232013-01-242013-01-252013-01-262013-01-272013-01-282013-01-292013-01-302013-01-312013-02-012013-02-022013-02-032013-02-042013-02-052013-02-062013-02-072013-02-082013-02-092013-02-102013-02-112013-02-122013-02-132013-02-142013-02-152013-02-162013-02-172013-02-182013-02-192013-02-202013-02-212013-02-222013-02-232013-02-242013-02-252013-02-262013-02-272013-02-282013-03-012013-03-022013-03-032013-03-042013-03-052013-03-062013-03-072013-03-082013-03-092013-03-102013-03-112013-03-122013-03-132013-03-142013-03-152013-03-162013-03-172013-03-182013-03-192013-03-202013-03-212013-03-222013-03-232013-03-242013-03-252013-03-262013-03-272013-03-282013-03-292013-03-302013-03-312013-04-012013-04-022013-04-032013-04-042013-04-052013-04-062013-04-072013-04-082013-04-092013-04-102013-04-112013-04-122013-04-132013-04-142013-04-152013-04-162013-04-172013-04-182013-04-192013-04-202013-04-212013-04-222013-04-232013-04-242013-04-252013-04-262013-04-272013-04-282013-04-292013-04-302013-05-012013-05-022013-05-032013-05-042013-05-052013-05-062013-05-072013-05-082013-05-092013-05-102013-05-112013-05-122013-05-132013-05-142013-05-152013-05-162013-05-172013-05-182013-05-192013-05-202013-05-212013-05-222013-05-232013-05-242013-05-252013-05-262013-05-272013-05-282013-05-292013-05-302013-05-312013-06-012013-06-022013-06-032013-06-042013-06-052013-06-062013-06-072013-06-082013-06-092013-06-102013-06-112013-06-122013-06-132013-06-142013-06-152013-06-162013-06-172013-06-182013-06-192013-06-202013-06-212013-06-222013-06-232013-06-242013-06-252013-06-262013-06-272013-06-282013-06-292013-06-302013-07-012013-07-022013-07-032013-07-042013-07-052013-07-062013-07-072013-07-082013-07-092013-07-102013-07-112013-07-122013-07-132013-07-142013-07-152013-07-162013-07-172013-07-182013-07-192013-07-202013-07-212013-07-222013-07-232013-07-242013-07-252013-07-262013-07-272013-07-282013-07-292013-07-302013-07-312013-08-012013-08-022013-08-032013-08-042013-08-052013-08-062013-08-072013-08-082013-08-092013-08-102013-08-112013-08-122013-08-132013-08-142013-08-152013-08-162013-08-172013-08-182013-08-192013-08-202013-08-212013-08-222013-08-232013-08-242013-08-252013-08-262013-08-272013-08-282013-08-292013-08-302013-08-312013-09-012013-09-022013-09-032013-09-042013-09-052013-09-062013-09-072013-09-082013-09-092013-09-102013-09-112013-09-122013-09-132013-09-142013-09-152013-09-162013-09-172013-09-182013-09-192013-09-202013-09-212013-09-222013-09-232013-09-242013-09-252013-09-262013-09-272013-09-282013-09-292013-09-302013-10-012013-10-022013-10-032013-10-042013-10-052013-10-062013-10-072013-10-082013-10-092013-10-102013-10-112013-10-122013-10-132013-10-142013-10-152013-10-162013-10-172013-10-182013-10-192013-10-202013-10-212013-10-222013-10-232013-10-242013-10-252013-10-262013-10-272013-10-282013-10-292013-10-302013-10-312013-11-012013-11-022013-11-032013-11-042013-11-052013-11-062013-11-072013-11-082013-11-092013-11-102013-11-112013-11-122013-11-132013-11-142013-11-152013-11-162013-11-172013-11-182013-11-192013-11-202013-11-212013-11-222013-11-232013-11-242013-11-252013-11-262013-11-272013-11-282013-11-292013-11-302013-12-012013-12-022013-12-032013-12-042013-12-052013-12-062013-12-072013-12-082013-12-092013-12-102013-12-112013-12-122013-12-132013-12-142013-12-152013-12-162013-12-172013-12-182013-12-192013-12-202013-12-212013-12-222013-12-232013-12-242013-12-252013-12-262013-12-272013-12-282013-12-292013-12-302013-12-312014-01-012014-01-022014-01-032014-01-042014-01-052014-01-062014-01-072014-01-082014-01-092014-01-102014-01-112014-01-122014-01-132014-01-142014-01-152014-01-162014-01-172014-01-182014-01-192014-01-202014-01-212014-01-222014-01-232014-01-242014-01-252014-01-262014-01-272014-01-282014-01-292014-01-302014-01-312014-02-012014-02-022014-02-032014-02-042014-02-052014-02-062014-02-072014-02-082014-02-092014-02-102014-02-112014-02-122014-02-132014-02-142014-02-152014-02-162014-02-172014-02-182014-02-192014-02-202014-02-212014-02-222014-02-232014-02-242014-02-252014-02-262014-02-272014-02-282014-03-012014-03-022014-03-032014-03-042014-03-052014-03-062014-03-072014-03-082014-03-092014-03-102014-03-112014-03-122014-03-132014-03-142014-03-152014-03-162014-03-172014-03-182014-03-192014-03-202014-03-212014-03-222014-03-232014-03-242014-03-252014-03-262014-03-272014-03-282014-03-292014-03-302014-03-312014-04-012014-04-022014-04-032014-04-042014-04-052014-04-062014-04-072014-04-082014-04-092014-04-102014-04-112014-04-122014-04-132014-04-142014-04-152014-04-162014-04-172014-04-182014-04-192014-04-202014-04-212014-04-222014-04-232014-04-242014-04-252014-04-262014-04-272014-04-282014-04-292014-04-302014-05-012014-05-022014-05-032014-05-042014-05-052014-05-062014-05-072014-05-082014-05-092014-05-102014-05-112014-05-122014-05-132014-05-142014-05-152014-05-162014-05-172014-05-182014-05-192014-05-202014-05-212014-05-222014-05-232014-05-242014-05-252014-05-262014-05-272014-05-282014-05-292014-05-302014-05-312014-06-012014-06-022014-06-032014-06-042014-06-052014-06-062014-06-072014-06-082014-06-092014-06-102014-06-112014-06-122014-06-132014-06-142014-06-152014-06-162014-06-172014-06-182014-06-192014-06-202014-06-212014-06-222014-06-232014-06-242014-06-252014-06-262014-06-272014-06-282014-06-292014-06-302014-07-012014-07-022014-07-032014-07-042014-07-052014-07-062014-07-072014-07-082014-07-092014-07-102014-07-112014-07-122014-07-132014-07-142014-07-152014-07-162014-07-172014-07-182014-07-192014-07-202014-07-212014-07-222014-07-232014-07-242014-07-252014-07-262014-07-272014-07-282014-07-292014-07-302014-07-312014-08-012014-08-022014-08-032014-08-042014-08-052014-08-062014-08-072014-08-082014-08-092014-08-102014-08-112014-08-122014-08-132014-08-142014-08-152014-08-162014-08-172014-08-182014-08-192014-08-202014-08-212014-08-222014-08-232014-08-242014-08-252014-08-262014-08-272014-08-282014-08-292014-08-302014-08-312014-09-012014-09-022014-09-032014-09-042014-09-052014-09-062014-09-072014-09-082014-09-092014-09-102014-09-112014-09-122014-09-132014-09-142014-09-152014-09-162014-09-172014-09-182014-09-192014-09-202014-09-212014-09-222014-09-232014-09-242014-09-252014-09-262014-09-272014-09-282014-09-292014-09-302014-10-012014-10-022014-10-032014-10-042014-10-052014-10-062014-10-072014-10-082014-10-092014-10-102014-10-112014-10-122014-10-132014-10-142014-10-152014-10-162014-10-172014-10-182014-10-192014-10-202014-10-212014-10-222014-10-232014-10-242014-10-252014-10-262014-10-272014-10-282014-10-292014-10-302014-10-312014-11-012014-11-022014-11-032014-11-042014-11-052014-11-062014-11-072014-11-082014-11-092014-11-102014-11-112014-11-122014-11-132014-11-142014-11-152014-11-162014-11-172014-11-182014-11-192014-11-202014-11-212014-11-222014-11-232014-11-242014-11-252014-11-262014-11-272014-11-282014-11-292014-11-302014-12-012014-12-022014-12-032014-12-042014-12-052014-12-062014-12-072014-12-082014-12-092014-12-102014-12-112014-12-122014-12-132014-12-142014-12-152014-12-162014-12-172014-12-182014-12-192014-12-202014-12-212014-12-222014-12-232014-12-242014-12-252014-12-262014-12-272014-12-282014-12-292014-12-302014-12-312015-01-012015-01-022015-01-032015-01-042015-01-052015-01-062015-01-072015-01-082015-01-092015-01-102015-01-112015-01-122015-01-132015-01-142015-01-152015-01-162015-01-172015-01-182015-01-192015-01-202015-01-212015-01-222015-01-232015-01-242015-01-252015-01-262015-01-272015-01-282015-01-292015-01-302015-01-312015-02-012015-02-022015-02-032015-02-042015-02-052015-02-062015-02-072015-02-082015-02-092015-02-102015-02-112015-02-122015-02-132015-02-142015-02-152015-02-162015-02-172015-02-182015-02-192015-02-202015-02-212015-02-222015-02-232015-02-242015-02-252015-02-262015-02-272015-02-282015-03-012015-03-022015-03-032015-03-042015-03-052015-03-062015-03-072015-03-082015-03-092015-03-102015-03-112015-03-122015-03-132015-03-142015-03-152015-03-162015-03-172015-03-182015-03-192015-03-202015-03-212015-03-222015-03-232015-03-242015-03-252015-03-262015-03-272015-03-282015-03-292015-03-302015-03-312015-04-012015-04-022015-04-032015-04-042015-04-052015-04-062015-04-072015-04-082015-04-092015-04-102015-04-112015-04-122015-04-132015-04-142015-04-152015-04-162015-04-172015-04-182015-04-192015-04-202015-04-212015-04-222015-04-232015-04-242015-04-252015-04-262015-04-272015-04-282015-04-292015-04-302015-05-012015-05-022015-05-032015-05-042015-05-052015-05-062015-05-072015-05-082015-05-092015-05-102015-05-112015-05-122015-05-132015-05-142015-05-152015-05-162015-05-172015-05-182015-05-192015-05-202015-05-212015-05-222015-05-232015-05-242015-05-252015-05-262015-05-272015-05-282015-05-292015-05-302015-05-312015-06-012015-06-022015-06-032015-06-042015-06-052015-06-062015-06-072015-06-082015-06-092015-06-102015-06-112015-06-122015-06-132015-06-142015-06-152015-06-162015-06-172015-06-182015-06-192015-06-202015-06-212015-06-222015-06-232015-06-242015-06-252015-06-262015-06-272015-06-282015-06-292015-06-302015-07-012015-07-022015-07-032015-07-042015-07-052015-07-062015-07-072015-07-082015-07-092015-07-102015-07-112015-07-122015-07-132015-07-142015-07-152015-07-162015-07-172015-07-182015-07-192015-07-202015-07-212015-07-222015-07-232015-07-242015-07-252015-07-262015-07-272015-07-282015-07-292015-07-302015-07-312015-08-012015-08-022015-08-032015-08-042015-08-052015-08-062015-08-072015-08-082015-08-092015-08-102015-08-112015-08-122015-08-132015-08-142015-08-152015-08-162015-08-172015-08-182015-08-192015-08-202015-08-212015-08-222015-08-232015-08-242015-08-252015-08-262015-08-272015-08-282015-08-292015-08-302015-08-312015-09-012015-09-022015-09-032015-09-042015-09-052015-09-062015-09-072015-09-082015-09-092015-09-102015-09-112015-09-122015-09-132015-09-142015-09-152015-09-162015-09-172015-09-182015-09-192015-09-202015-09-212015-09-222015-09-232015-09-242015-09-252015-09-262015-09-272015-09-282015-09-292015-09-302015-10-012015-10-022015-10-032015-10-042015-10-052015-10-062015-10-072015-10-082015-10-092015-10-102015-10-112015-10-122015-10-132015-10-142015-10-152015-10-162015-10-172015-10-182015-10-192015-10-202015-10-212015-10-222015-10-232015-10-242015-10-252015-10-262015-10-272015-10-282015-10-292015-10-302015-10-312015-11-012015-11-022015-11-032015-11-042015-11-052015-11-062015-11-072015-11-082015-11-092015-11-102015-11-112015-11-122015-11-132015-11-142015-11-152015-11-162015-11-172015-11-182015-11-192015-11-202015-11-212015-11-222015-11-232015-11-242015-11-252015-11-262015-11-272015-11-282015-11-292015-11-302015-12-012015-12-022015-12-032015-12-042015-12-052015-12-062015-12-072015-12-082015-12-092015-12-102015-12-112015-12-122015-12-132015-12-142015-12-152015-12-162015-12-172015-12-182015-12-192015-12-202015-12-212015-12-222015-12-232015-12-242015-12-252015-12-262015-12-272015-12-282015-12-292015-12-302015-12-312016-01-012016-01-022016-01-032016-01-042016-01-052016-01-062016-01-072016-01-082016-01-092016-01-102016-01-112016-01-122016-01-132016-01-142016-01-152016-01-162016-01-172016-01-182016-01-192016-01-202016-01-212016-01-222016-01-232016-01-242016-01-252016-01-262016-01-272016-01-282016-01-292016-01-302016-01-312016-02-012016-02-022016-02-032016-02-042016-02-052016-02-062016-02-072016-02-082016-02-092016-02-102016-02-112016-02-122016-02-132016-02-142016-02-152016-02-162016-02-172016-02-182016-02-192016-02-202016-02-212016-02-222016-02-232016-02-242016-02-252016-02-262016-02-272016-02-282016-02-292016-03-012016-03-022016-03-032016-03-042016-03-052016-03-062016-03-072016-03-082016-03-092016-03-102016-03-112016-03-122016-03-132016-03-142016-03-152016-03-162016-03-172016-03-182016-03-192016-03-202016-03-212016-03-222016-03-232016-03-242016-03-252016-03-262016-03-272016-03-282016-03-292016-03-302016-03-312016-04-012016-04-022016-04-032016-04-042016-04-052016-04-062016-04-072016-04-082016-04-092016-04-102016-04-112016-04-122016-04-132016-04-142016-04-152016-04-162016-04-172016-04-182016-04-192016-04-202016-04-212016-04-222016-04-232016-04-242016-04-252016-04-262016-04-272016-04-282016-04-292016-04-302016-05-012016-05-022016-05-032016-05-042016-05-052016-05-062016-05-072016-05-082016-05-092016-05-102016-05-112016-05-122016-05-132016-05-142016-05-152016-05-162016-05-172016-05-182016-05-192016-05-202016-05-212016-05-222016-05-232016-05-242016-05-252016-05-262016-05-272016-05-282016-05-292016-05-302016-05-312016-06-012016-06-022016-06-032016-06-042016-06-052016-06-062016-06-072016-06-082016-06-092016-06-102016-06-112016-06-122016-06-132016-06-142016-06-152016-06-162016-06-172016-06-182016-06-192016-06-202016-06-212016-06-222016-06-232016-06-242016-06-252016-06-262016-06-272016-06-282016-06-292016-06-302016-07-012016-07-022016-07-032016-07-042016-07-052016-07-062016-07-072016-07-082016-07-092016-07-102016-07-112016-07-122016-07-132016-07-142016-07-152016-07-162016-07-172016-07-182016-07-192016-07-202016-07-212016-07-222016-07-232016-07-242016-07-252016-07-262016-07-272016-07-282016-07-292016-07-302016-07-312016-08-012016-08-022016-08-032016-08-042016-08-052016-08-062016-08-072016-08-082016-08-092016-08-102016-08-112016-08-122016-08-132016-08-142016-08-152016-08-162016-08-172016-08-182016-08-192016-08-202016-08-212016-08-222016-08-232016-08-242016-08-252016-08-262016-08-272016-08-282016-08-292016-08-302016-08-312016-09-012016-09-022016-09-032016-09-042016-09-052016-09-062016-09-072016-09-082016-09-092016-09-102016-09-112016-09-122016-09-132016-09-142016-09-152016-09-162016-09-172016-09-182016-09-192016-09-202016-09-212016-09-222016-09-232016-09-242016-09-252016-09-262016-09-272016-09-282016-09-292016-09-302016-10-012016-10-022016-10-032016-10-042016-10-052016-10-062016-10-072016-10-082016-10-092016-10-102016-10-112016-10-122016-10-132016-10-142016-10-152016-10-162016-10-172016-10-182016-10-192016-10-202016-10-212016-10-222016-10-232016-10-242016-10-252016-10-262016-10-272016-10-282016-10-292016-10-302016-10-312016-11-012016-11-022016-11-032016-11-042016-11-052016-11-062016-11-072016-11-082016-11-092016-11-102016-11-112016-11-122016-11-132016-11-142016-11-152016-11-162016-11-172016-11-182016-11-192016-11-202016-11-212016-11-222016-11-232016-11-242016-11-252016-11-262016-11-272016-11-282016-11-292016-11-302016-12-012016-12-022016-12-032016-12-042016-12-052016-12-062016-12-072016-12-082016-12-092016-12-102016-12-112016-12-122016-12-132016-12-142016-12-152016-12-162016-12-172016-12-182016-12-192016-12-202016-12-212016-12-222016-12-232016-12-242016-12-252016-12-262016-12-272016-12-282016-12-292016-12-302016-12-312017-01-012017-01-022017-01-032017-01-042017-01-052017-01-062017-01-072017-01-082017-01-092017-01-102017-01-112017-01-122017-01-132017-01-142017-01-152017-01-162017-01-172017-01-182017-01-192017-01-202017-01-212017-01-222017-01-232017-01-242017-01-252017-01-262017-01-272017-01-282017-01-292017-01-302017-01-312017-02-012017-02-022017-02-032017-02-042017-02-052017-02-062017-02-072017-02-082017-02-092017-02-102017-02-112017-02-122017-02-132017-02-142017-02-152017-02-162017-02-172017-02-182017-02-192017-02-202017-02-212017-02-222017-02-232017-02-242017-02-252017-02-262017-02-272017-02-282017-03-012017-03-022017-03-032017-03-042017-03-052017-03-062017-03-072017-03-082017-03-092017-03-102017-03-112017-03-122017-03-132017-03-142017-03-152017-03-162017-03-172017-03-182017-03-192017-03-202017-03-212017-03-222017-03-232017-03-242017-03-252017-03-262017-03-272017-03-282017-03-292017-03-302017-03-312017-04-012017-04-022017-04-032017-04-042017-04-052017-04-062017-04-072017-04-082017-04-092017-04-102017-04-112017-04-122017-04-132017-04-142017-04-152017-04-162017-04-172017-04-182017-04-192017-04-202017-04-212017-04-222017-04-232017-04-242017-04-252017-04-262017-04-272017-04-282017-04-292017-04-302017-05-012017-05-022017-05-032017-05-042017-05-052017-05-062017-05-072017-05-082017-05-092017-05-102017-05-112017-05-122017-05-132017-05-142017-05-152017-05-162017-05-172017-05-182017-05-192017-05-202017-05-212017-05-222017-05-232017-05-242017-05-252017-05-262017-05-272017-05-282017-05-292017-05-302017-05-312017-06-012017-06-022017-06-032017-06-042017-06-052017-06-062017-06-072017-06-082017-06-092017-06-102017-06-112017-06-122017-06-132017-06-142017-06-152017-06-162017-06-172017-06-182017-06-192017-06-202017-06-212017-06-222017-06-232017-06-242017-06-252017-06-262017-06-272017-06-282017-06-292017-06-302017-07-012017-07-022017-07-032017-07-042017-07-052017-07-062017-07-072017-07-082017-07-092017-07-102017-07-112017-07-122017-07-132017-07-142017-07-152017-07-162017-07-172017-07-182017-07-192017-07-202017-07-212017-07-222017-07-232017-07-242017-07-252017-07-262017-07-272017-07-282017-07-292017-07-302017-07-312017-08-012017-08-022017-08-032017-08-042017-08-052017-08-062017-08-072017-08-082017-08-092017-08-102017-08-112017-08-122017-08-132017-08-142017-08-152017-08-162017-08-172017-08-182017-08-192017-08-202017-08-212017-08-222017-08-232017-08-242017-08-252017-08-262017-08-272017-08-282017-08-292017-08-302017-08-312017-09-012017-09-022017-09-032017-09-042017-09-052017-09-062017-09-072017-09-082017-09-092017-09-102017-09-112017-09-122017-09-132017-09-142017-09-152017-09-162017-09-172017-09-182017-09-192017-09-202017-09-212017-09-222017-09-232017-09-242017-09-252017-09-262017-09-272017-09-282017-09-292017-09-302017-10-012017-10-022017-10-032017-10-042017-10-052017-10-062017-10-072017-10-082017-10-092017-10-102017-10-112017-10-122017-10-132017-10-142017-10-152017-10-162017-10-172017-10-182017-10-192017-10-202017-10-212017-10-222017-10-232017-10-242017-10-252017-10-262017-10-272017-10-282017-10-292017-10-302017-10-312017-11-012017-11-022017-11-032017-11-042017-11-052017-11-062017-11-072017-11-082017-11-092017-11-102017-11-112017-11-122017-11-132017-11-142017-11-152017-11-162017-11-172017-11-182017-11-192017-11-202017-11-212017-11-222017-11-232017-11-242017-11-252017-11-262017-11-272017-11-282017-11-292017-11-302017-12-012017-12-022017-12-032017-12-042017-12-052017-12-062017-12-072017-12-082017-12-092017-12-102017-12-112017-12-122017-12-132017-12-142017-12-152017-12-162017-12-172017-12-182017-12-192017-12-202017-12-212017-12-222017-12-232017-12-242017-12-252017-12-262017-12-272017-12-282017-12-292017-12-302017-12-312018-01-012018-01-022018-01-032018-01-042018-01-052018-01-062018-01-072018-01-082018-01-092018-01-102018-01-112018-01-122018-01-132018-01-142018-01-152018-01-162018-01-172018-01-182018-01-192018-01-202018-01-212018-01-222018-01-232018-01-242018-01-252018-01-262018-01-272018-01-282018-01-292018-01-302018-01-312018-02-012018-02-022018-02-032018-02-042018-02-052018-02-062018-02-072018-02-082018-02-092018-02-102018-02-112018-02-122018-02-132018-02-142018-02-152018-02-162018-02-172018-02-182018-02-192018-02-202018-02-212018-02-222018-02-232018-02-242018-02-252018-02-262018-02-272018-02-282018-03-012018-03-022018-03-032018-03-042018-03-052018-03-062018-03-072018-03-082018-03-092018-03-102018-03-112018-03-122018-03-132018-03-142018-03-152018-03-162018-03-172018-03-182018-03-192018-03-202018-03-212018-03-222018-03-232018-03-242018-03-252018-03-262018-03-272018-03-282018-03-292018-03-302018-03-312018-04-012018-04-022018-04-032018-04-042018-04-052018-04-062018-04-072018-04-082018-04-092018-04-102018-04-112018-04-122018-04-132018-04-142018-04-152018-04-162018-04-172018-04-182018-04-192018-04-202018-04-212018-04-222018-04-232018-04-242018-04-252018-04-262018-04-272018-04-282018-04-292018-04-302018-05-012018-05-022018-05-032018-05-042018-05-052018-05-062018-05-072018-05-082018-05-092018-05-102018-05-112018-05-122018-05-132018-05-142018-05-152018-05-162018-05-172018-05-182018-05-192018-05-202018-05-212018-05-222018-05-232018-05-242018-05-252018-05-262018-05-272018-05-282018-05-292018-05-302018-05-312018-06-012018-06-022018-06-032018-06-042018-06-052018-06-062018-06-072018-06-082018-06-092018-06-102018-06-112018-06-122018-06-132018-06-142018-06-152018-06-162018-06-172018-06-182018-06-192018-06-202018-06-212018-06-222018-06-232018-06-242018-06-252018-06-262018-06-272018-06-282018-06-292018-06-302018-07-012018-07-022018-07-032018-07-042018-07-052018-07-062018-07-072018-07-082018-07-092018-07-102018-07-112018-07-122018-07-132018-07-142018-07-152018-07-162018-07-172018-07-182018-07-192018-07-202018-07-212018-07-222018-07-232018-07-242018-07-252018-07-262018-07-272018-07-282018-07-292018-07-302018-07-312018-08-012018-08-022018-08-032018-08-042018-08-052018-08-062018-08-072018-08-082018-08-092018-08-102018-08-112018-08-122018-08-132018-08-142018-08-152018-08-162018-08-172018-08-182018-08-192018-08-202018-08-212018-08-222018-08-232018-08-242018-08-252018-08-262018-08-272018-08-282018-08-292018-08-302018-08-312018-09-012018-09-022018-09-032018-09-042018-09-052018-09-062018-09-072018-09-082018-09-092018-09-102018-09-112018-09-122018-09-132018-09-142018-09-152018-09-162018-09-172018-09-182018-09-192018-09-202018-09-212018-09-222018-09-232018-09-242018-09-252018-09-262018-09-272018-09-282018-09-292018-09-302018-10-012018-10-022018-10-032018-10-042018-10-052018-10-062018-10-072018-10-082018-10-092018-10-102018-10-112018-10-122018-10-132018-10-142018-10-152018-10-162018-10-172018-10-182018-10-192018-10-202018-10-212018-10-222018-10-232018-10-242018-10-252018-10-262018-10-272018-10-282018-10-292018-10-302018-10-312018-11-012018-11-022018-11-032018-11-042018-11-052018-11-062018-11-072018-11-082018-11-092018-11-102018-11-112018-11-122018-11-132018-11-142018-11-152018-11-162018-11-172018-11-182018-11-192018-11-202018-11-212018-11-222018-11-232018-11-242018-11-252018-11-262018-11-272018-11-282018-11-292018-11-302018-12-012018-12-022018-12-032018-12-042018-12-052018-12-062018-12-072018-12-082018-12-092018-12-102018-12-112018-12-122018-12-132018-12-142018-12-152018-12-162018-12-172018-12-182018-12-192018-12-202018-12-212018-12-222018-12-232018-12-242018-12-252018-12-262018-12-272018-12-282018-12-292018-12-302018-12-312019-01-012019-01-022019-01-032019-01-042019-01-052019-01-062019-01-072019-01-082019-01-092019-01-102019-01-112019-01-122019-01-132019-01-142019-01-152019-01-162019-01-172019-01-182019-01-192019-01-202019-01-212019-01-222019-01-232019-01-242019-01-252019-01-262019-01-272019-01-282019-01-292019-01-302019-01-312019-02-012019-02-022019-02-032019-02-042019-02-052019-02-062019-02-072019-02-082019-02-092019-02-102019-02-112019-02-122019-02-132019-02-142019-02-152019-02-162019-02-172019-02-182019-02-192019-02-202019-02-212019-02-222019-02-232019-02-242019-02-252019-02-262019-02-272019-02-282019-03-012019-03-022019-03-032019-03-042019-03-052019-03-062019-03-072019-03-082019-03-092019-03-102019-03-112019-03-122019-03-132019-03-142019-03-152019-03-162019-03-172019-03-182019-03-192019-03-202019-03-212019-03-222019-03-232019-03-242019-03-252019-03-262019-03-272019-03-282019-03-292019-03-302019-03-312019-04-012019-04-022019-04-032019-04-042019-04-052019-04-062019-04-072019-04-082019-04-092019-04-102019-04-112019-04-122019-04-132019-04-142019-04-152019-04-162019-04-172019-04-182019-04-192019-04-202019-04-212019-04-222019-04-232019-04-242019-04-252019-04-262019-04-272019-04-282019-04-292019-04-302019-05-012019-05-022019-05-032019-05-042019-05-052019-05-062019-05-072019-05-082019-05-092019-05-102019-05-112019-05-122019-05-132019-05-142019-05-152019-05-162019-05-172019-05-182019-05-192019-05-202019-05-212019-05-222019-05-232019-05-242019-05-252019-05-262019-05-272019-05-282019-05-292019-05-302019-05-312019-06-012019-06-022019-06-032019-06-042019-06-052019-06-062019-06-072019-06-082019-06-092019-06-102019-06-112019-06-122019-06-132019-06-142019-06-152019-06-162019-06-172019-06-182019-06-192019-06-202019-06-212019-06-222019-06-232019-06-242019-06-252019-06-262019-06-272019-06-282019-06-292019-06-302019-07-012019-07-022019-07-032019-07-042019-07-052019-07-062019-07-072019-07-082019-07-092019-07-102019-07-112019-07-122019-07-132019-07-142019-07-152019-07-162019-07-172019-07-182019-07-192019-07-202019-07-212019-07-222019-07-232019-07-242019-07-252019-07-262019-07-272019-07-282019-07-292019-07-302019-07-312019-08-012019-08-022019-08-032019-08-042019-08-052019-08-062019-08-072019-08-082019-08-092019-08-102019-08-112019-08-122019-08-132019-08-142019-08-152019-08-162019-08-172019-08-182019-08-192019-08-202019-08-212019-08-222019-08-232019-08-242019-08-252019-08-262019-08-272019-08-282019-08-292019-08-302019-08-312019-09-012019-09-022019-09-032019-09-042019-09-052019-09-062019-09-072019-09-082019-09-092019-09-102019-09-112019-09-122019-09-132019-09-142019-09-152019-09-162019-09-172019-09-182019-09-192019-09-202019-09-212019-09-222019-09-232019-09-242019-09-252019-09-262019-09-272019-09-282019-09-292019-09-302019-10-012019-10-022019-10-032019-10-042019-10-052019-10-062019-10-072019-10-082019-10-092019-10-102019-10-112019-10-122019-10-132019-10-142019-10-152019-10-162019-10-172019-10-182019-10-192019-10-202019-10-212019-10-222019-10-232019-10-242019-10-252019-10-262019-10-272019-10-282019-10-292019-10-302019-10-312019-11-012019-11-022019-11-032019-11-042019-11-052019-11-062019-11-072019-11-082019-11-092019-11-102019-11-112019-11-122019-11-132019-11-142019-11-152019-11-162019-11-172019-11-182019-11-192019-11-202019-11-212019-11-222019-11-232019-11-242019-11-252019-11-262019-11-272019-11-282019-11-292019-11-302019-12-012019-12-022019-12-032019-12-042019-12-052019-12-062019-12-072019-12-082019-12-092019-12-102019-12-112019-12-122019-12-132019-12-142019-12-152019-12-162019-12-172019-12-182019-12-192019-12-202019-12-212019-12-222019-12-232019-12-242019-12-252019-12-262019-12-272019-12-282019-12-292019-12-302019-12-312020-01-012020-01-022020-01-032020-01-042020-01-052020-01-062020-01-072020-01-082020-01-092020-01-102020-01-112020-01-122020-01-132020-01-142020-01-152020-01-162020-01-172020-01-182020-01-192020-01-202020-01-212020-01-222020-01-232020-01-242020-01-252020-01-262020-01-272020-01-282020-01-292020-01-302020-01-312020-02-012020-02-022020-02-032020-02-042020-02-052020-02-062020-02-072020-02-082020-02-092020-02-102020-02-112020-02-122020-02-132020-02-142020-02-152020-02-162020-02-172020-02-182020-02-192020-02-202020-02-212020-02-222020-02-232020-02-242020-02-252020-02-262020-02-272020-02-282020-02-292020-03-012020-03-022020-03-032020-03-042020-03-052020-03-062020-03-072020-03-082020-03-092020-03-102020-03-112020-03-122020-03-132020-03-142020-03-152020-03-162020-03-172020-03-182020-03-192020-03-202020-03-212020-03-222020-03-232020-03-242020-03-252020-03-262020-03-272020-03-282020-03-292020-03-302020-03-312020-04-012020-04-022020-04-032020-04-042020-04-052020-04-062020-04-072020-04-082020-04-092020-04-102020-04-112020-04-122020-04-132020-04-142020-04-152020-04-162020-04-172020-04-182020-04-192020-04-202020-04-212020-04-222020-04-232020-04-242020-04-252020-04-262020-04-272020-04-282020-04-292020-04-302020-05-012020-05-022020-05-032020-05-042020-05-052020-05-062020-05-072020-05-082020-05-092020-05-102020-05-112020-05-122020-05-132020-05-142020-05-152020-05-162020-05-172020-05-182020-05-192020-05-202020-05-212020-05-222020-05-232020-05-242020-05-252020-05-262020-05-272020-05-282020-05-292020-05-302020-05-312020-06-012020-06-022020-06-032020-06-042020-06-052020-06-062020-06-072020-06-082020-06-092020-06-102020-06-112020-06-122020-06-132020-06-142020-06-152020-06-162020-06-172020-06-182020-06-192020-06-202020-06-212020-06-222020-06-232020-06-242020-06-252020-06-262020-06-272020-06-282020-06-292020-06-302020-07-012020-07-022020-07-032020-07-042020-07-052020-07-062020-07-072020-07-082020-07-092020-07-102020-07-112020-07-122020-07-132020-07-142020-07-152020-07-162020-07-172020-07-182020-07-192020-07-202020-07-212020-07-222020-07-232020-07-242020-07-252020-07-262020-07-272020-07-282020-07-292020-07-302020-07-31'] to numeric"
          ]
        }
      ],
      "source": [
        "# 결측 데이터 대체\n",
        "df.fillna(df.mean(),inplace=True)"
      ]
    },
    {
      "cell_type": "code",
      "execution_count": null,
      "metadata": {
        "colab": {
          "base_uri": "https://localhost:8080/"
        },
        "id": "nudX9Ao4nXAf",
        "outputId": "de383b86-703e-415c-db41-0c2eea6e3625"
      },
      "outputs": [],
      "source": [
        "df.isnull().sum()"
      ]
    },
    {
      "cell_type": "code",
      "execution_count": null,
      "metadata": {
        "colab": {
          "base_uri": "https://localhost:8080/",
          "height": 206
        },
        "id": "BYF_Ja9Gxe7c",
        "outputId": "84264792-8f3d-475c-c9aa-6ec8ea0e8033"
      },
      "outputs": [],
      "source": [
        "filename='/content/drive/MyDrive/dust1.xlsx'\n",
        "dust=pd.read_excel(filename)\n",
        "dust.head()"
      ]
    },
    {
      "cell_type": "code",
      "execution_count": null,
      "metadata": {
        "id": "EAuZzAz-zWFs"
      },
      "outputs": [],
      "source": [
        "# 컬럼(변수) 삭제하기\n",
        "dust=dust.drop(['지역','망','측정소코드'], axis=1)\n"
      ]
    },
    {
      "cell_type": "code",
      "execution_count": null,
      "metadata": {
        "colab": {
          "base_uri": "https://localhost:8080/",
          "height": 206
        },
        "id": "yjvX69ND0MVq",
        "outputId": "539460cd-8d5c-42a6-a73c-915fefaef81f"
      },
      "outputs": [],
      "source": [
        "dust.head()"
      ]
    },
    {
      "cell_type": "code",
      "execution_count": null,
      "metadata": {
        "id": "Q77cV1ur0fi6"
      },
      "outputs": [],
      "source": [
        "# 컬럼생성하기\n",
        "dust['city']='서울'"
      ]
    },
    {
      "cell_type": "code",
      "execution_count": null,
      "metadata": {
        "colab": {
          "base_uri": "https://localhost:8080/",
          "height": 206
        },
        "id": "cB779N7J13V7",
        "outputId": "fbc5f265-8830-468a-eee1-3f4302a0ceb0"
      },
      "outputs": [],
      "source": [
        "dust.head()"
      ]
    },
    {
      "cell_type": "code",
      "execution_count": null,
      "metadata": {
        "id": "Wwi8KF7_453H"
      },
      "outputs": [],
      "source": [
        "dust.rename(columns={'측정소명':'name',\n",
        "                     '측정일시':'date',\n",
        "                     '주소':'addr'}, inplace=True)"
      ]
    },
    {
      "cell_type": "code",
      "execution_count": null,
      "metadata": {
        "colab": {
          "base_uri": "https://localhost:8080/"
        },
        "id": "t6CuB3nq5OBl",
        "outputId": "738ad3d4-46d4-4525-bf8b-f0eba286fc3f"
      },
      "outputs": [],
      "source": [
        "dust.columns"
      ]
    },
    {
      "cell_type": "code",
      "execution_count": null,
      "metadata": {
        "colab": {
          "base_uri": "https://localhost:8080/"
        },
        "id": "9n1R4kQD58al",
        "outputId": "b52485ed-783f-426d-94c3-ea6aef392ba5"
      },
      "outputs": [],
      "source": [
        "dust.dtypes"
      ]
    },
    {
      "cell_type": "code",
      "execution_count": null,
      "metadata": {
        "colab": {
          "base_uri": "https://localhost:8080/"
        },
        "id": "d4cY-FF96xce",
        "outputId": "b98e0e40-011d-4e2f-d049-47ffbfecbb36"
      },
      "outputs": [],
      "source": [
        "# 숫자 int형을 문자열형으로 변환\n",
        "dust['date']=dust['date'].astype(str)\n",
        "dust['date']=dust['date'].str.slice(0,8)\n",
        "dust.dtypes"
      ]
    },
    {
      "cell_type": "code",
      "execution_count": null,
      "metadata": {
        "colab": {
          "base_uri": "https://localhost:8080/"
        },
        "id": "8l1FABUM8tH7",
        "outputId": "752e5f19-c1fd-4182-9095-2ebe12dcb572"
      },
      "outputs": [],
      "source": [
        "dust['date']=pd.to_datetime(dust['date'])\n",
        "dust.dtypes"
      ]
    },
    {
      "cell_type": "code",
      "execution_count": null,
      "metadata": {
        "colab": {
          "base_uri": "https://localhost:8080/",
          "height": 206
        },
        "id": "kwkZ9IB_-GfH",
        "outputId": "0aa90958-6f5e-41b0-d017-2fae27135291"
      },
      "outputs": [],
      "source": [
        "dust['year']=dust['date'].dt.year\n",
        "dust['month']=dust['date'].dt.month\n",
        "dust['day']=dust['date'].dt.day\n",
        "dust.head()"
      ]
    },
    {
      "cell_type": "code",
      "execution_count": null,
      "metadata": {
        "colab": {
          "base_uri": "https://localhost:8080/",
          "height": 237
        },
        "id": "Iq0h3GsADRFu",
        "outputId": "5cca9ccb-52d1-4b1c-ce97-da46ac7145e8"
      },
      "outputs": [],
      "source": [
        "filename='/content/drive/MyDrive/nation.xlsx'\n",
        "s1=pd.read_excel(filename)\n",
        "s1"
      ]
    },
    {
      "cell_type": "code",
      "execution_count": null,
      "metadata": {
        "colab": {
          "base_uri": "https://localhost:8080/",
          "height": 300
        },
        "id": "ykQ7lZPCDx3Z",
        "outputId": "0d1147a5-4bad-4207-a1ad-aaade9944492"
      },
      "outputs": [],
      "source": [
        "filename='/content/drive/MyDrive/code.xlsx'\n",
        "s2=pd.read_excel(filename)\n",
        "s2"
      ]
    },
    {
      "cell_type": "code",
      "execution_count": null,
      "metadata": {
        "colab": {
          "base_uri": "https://localhost:8080/",
          "height": 237
        },
        "id": "XQUHXyuYD9P0",
        "outputId": "1beda668-9977-4ba1-b592-b3b2249dfb0d"
      },
      "outputs": [],
      "source": [
        "pd.merge(s1,s2,on='국적코드')"
      ]
    }
  ],
  "metadata": {
    "colab": {
      "collapsed_sections": [],
      "name": "[교재집필] 판다스 기초.ipynb",
      "provenance": []
    },
    "kernelspec": {
      "display_name": "Python 3",
      "name": "python3"
    },
    "language_info": {
      "codemirror_mode": {
        "name": "ipython",
        "version": 3
      },
      "file_extension": ".py",
      "mimetype": "text/x-python",
      "name": "python",
      "nbconvert_exporter": "python",
      "pygments_lexer": "ipython3",
      "version": "3.11.6"
    }
  },
  "nbformat": 4,
  "nbformat_minor": 0
}
