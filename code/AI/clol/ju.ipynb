{
 "cells": [
  {
   "cell_type": "code",
   "execution_count": 6,
   "metadata": {},
   "outputs": [],
   "source": [
    "import selenium\n",
    "from selenium import webdriver as wd\n",
    "import time\n",
    "import pandas as pd\n",
    "from bs4 import BeautifulSoup\n",
    "import requests\n",
    "from itertools import repeat\n",
    "\n",
    "driver = wd.Chrome() # 경로\n",
    "driver.maximize_window() # 크기 최대\n",
    "url = 'https://www.melon.com/chart/index.htm'\n",
    "driver.get(url)\n",
    "\n",
    "# 차트파인더 클릭\n",
    "driver.find_element('xpath', '//*[@id=\"gnb_menu\"]/ul[1]/li[1]/div/div/button/span').click()\n",
    "\n",
    "# 차트선택\n",
    "driver.find_element('xpath', '//*[@id=\"d_chart_search\"]/div/h4[2]/a').click()\n",
    "time.sleep(2)\n",
    "\n",
    "# 차트선택 - 연대선택2022년대\n",
    "driver.find_element('xpath', '//*[@id=\"d_chart_search\"]/div/div/div[1]/div[1]/ul/li[1]/span/label').click()\n",
    "time.sleep(2)\n",
    "\n",
    "# 차트선택 - 연대선택2022년대 - 연도선택2023년\n",
    "driver.find_element('xpath', '//*[@id=\"d_chart_search\"]/div/div/div[2]/div[1]/ul/li[1]/span/label').click()\n",
    "time.sleep(2)\n",
    "\n",
    "# 차트선택 - 연대선택2022년대 - 연도선택2023년 - 월간선택10월\n",
    "driver.find_element('xpath', '//*[@id=\"d_chart_search\"]/div/div/div[3]/div[1]/ul/li[10]/span/label').click()\n",
    "time.sleep(2)\n",
    "\n",
    "# 차트선택 - 연대선택2022년대 - 연도선택2023년 - 월간선택10월\n",
    "driver.find_element('xpath', '//*[@id=\"d_chart_search\"]/div/div/div[5]/div[1]/ul/li[3]/span/label').click()\n",
    "time.sleep(2)\n",
    "\n",
    "# 검색 클릭\n",
    "driver.find_element('xpath', '//*[@id=\"d_srch_form\"]/div[2]/button/span/span').click()\n",
    "time.sleep(2) \n",
    "\n",
    "# html = driver.page_source\n",
    "# soup = BeautifulSoup(html, 'lxml')\n",
    "\n",
    "# for title in soup.find_all('div',attrs={'class':'ellipsis rank01'}):\n",
    "#     title.find('a').get_text()\n",
    "#     title"
   ]
  },
  {
   "cell_type": "code",
   "execution_count": null,
   "metadata": {},
   "outputs": [],
   "source": []
  },
  {
   "cell_type": "code",
   "execution_count": null,
   "metadata": {},
   "outputs": [],
   "source": []
  },
  {
   "cell_type": "code",
   "execution_count": null,
   "metadata": {},
   "outputs": [],
   "source": []
  }
 ],
 "metadata": {
  "kernelspec": {
   "display_name": "Python 3",
   "language": "python",
   "name": "python3"
  },
  "language_info": {
   "codemirror_mode": {
    "name": "ipython",
    "version": 3
   },
   "file_extension": ".py",
   "mimetype": "text/x-python",
   "name": "python",
   "nbconvert_exporter": "python",
   "pygments_lexer": "ipython3",
   "version": "3.11.6"
  }
 },
 "nbformat": 4,
 "nbformat_minor": 2
}
